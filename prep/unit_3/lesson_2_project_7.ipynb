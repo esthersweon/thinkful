{
 "cells": [
  {
   "cell_type": "markdown",
   "metadata": {},
   "source": [
    "# Evaluating Data Sources\n",
    "\n",
    "In each of the scenarios, find possible shortcomings of the data sources to answer the given question. What could be done to either adjust the analysis or reframe the question so that you can answer it accurately?\n",
    "\n",
    "### Data Source: Amsterdam availability data scraped from AirBnB on December 24th. Question: What are the popular neighborhoods in Amsterdam?\n",
    "\n",
    "This data was collected on Christmas Eve, when the number of AirBnB rentals and the neighborhoods in which they occurred are probably dramatically different from that same information collected during the rest of the year. Furthermore, AirBnB rentals are just one of the many metrics by which one could measure a neighborhood's popularity (e.g. foot traffic, hotel booking, population size, density of population, number of popular venues, rental property prices, etc.).\n",
    "\n",
    "As a result, it is difficult to answer the general question of \"What are the popular neighborhoods in Amsterdam?\" with this highly specialized and limited data. \n",
    "\n",
    "A more specifically framed question that the data could answer accurately could be \"What are the most popular neighborhoods in which to rent an AirBnB for Christmas Eve in Amsterdam?\"\n",
    "\n",
    "### Data Source: Mental health services use on September 12, 2001 in San Francisco, CA and New York City, NY. Question: How do patterns of mental health service use vary between cities?\n",
    "\n",
    "This data was collected the day after two planes crashed into NYC's Twin Towers on September 11, 2001, injuring and killing thousands of people. As a result, there is probably an anomalous spike in the number of mental health services used in NYC on September 12, 2001. Due to this irregularity, it would be difficult to compare mental health service use between these two cities, and have the resulting conclusion be indicative of  \n",
    "\n",
    "A more specifically framed, and interesting, question that the data could answer could be \"How did the people of NYC use mental health services following the events of September 11, 2011?\"\n",
    "\n",
    "### Data Source: Armenian Pub Survey. Question: What are the most common reasons Armenians visit local pubs?\n",
    "\n",
    "The survey only takes pubs in Armenia into account – the reasons that Armenians in the US visit local pubs could be vastly different, but not documented in this dataset.\n",
    "\n",
    "A more specifically framed question that the data could answer accurately could be \"What are the most common reasons that people living in Armenia visit local pubs?\""
   ]
  },
  {
   "cell_type": "code",
   "execution_count": null,
   "metadata": {},
   "outputs": [],
   "source": []
  }
 ],
 "metadata": {
  "kernelspec": {
   "display_name": "Python 3",
   "language": "python",
   "name": "python3"
  },
  "language_info": {
   "codemirror_mode": {
    "name": "ipython",
    "version": 3
   },
   "file_extension": ".py",
   "mimetype": "text/x-python",
   "name": "python",
   "nbconvert_exporter": "python",
   "pygments_lexer": "ipython3",
   "version": "3.6.4"
  }
 },
 "nbformat": 4,
 "nbformat_minor": 2
}
