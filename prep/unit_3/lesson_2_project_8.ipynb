{
 "cells": [
  {
   "cell_type": "markdown",
   "metadata": {},
   "source": [
    "# Challenge - Beware of Monty Hall\n",
    "\n",
    "You are on a game show and given the choice of whatever is behind three doors. Behind one door is a fantastic prize (some examples use a car, others use cash) while behind the other two doors is a dud (some examples say a goat, others say it's just empty). You pick a door. Then the host opens one of the other two doors to reveal a dud. But here's the wrinkle: the host now gives you the opportunity to switch your door. What should you do?"
   ]
  },
  {
   "cell_type": "code",
   "execution_count": 6,
   "metadata": {},
   "outputs": [
    {
     "name": "stdout",
     "output_type": "stream",
     "text": [
      "0.6666666666666667\n",
      "True\n"
     ]
    }
   ],
   "source": [
    "# Before host opens door\n",
    "prob_one = 1/3\n",
    "prob_two = 1/3\n",
    "prob_three = 1/3\n",
    "\n",
    "# After host opens door\n",
    "new_prob_three = 0\n",
    "new_prob_one = 1/3\n",
    "new_prob_two = 1 - (new_prob_one + new_prob_three)\n",
    "\n",
    "print(new_prob_two)"
   ]
  },
  {
   "cell_type": "markdown",
   "metadata": {},
   "source": [
    "Because the probability of the 2nd door holding the car (0.667) is larger than the probability of your original choice holding the car (0.333), it is advantageous to switch your door."
   ]
  }
 ],
 "metadata": {
  "kernelspec": {
   "display_name": "Python 3",
   "language": "python",
   "name": "python3"
  },
  "language_info": {
   "codemirror_mode": {
    "name": "ipython",
    "version": 3
   },
   "file_extension": ".py",
   "mimetype": "text/x-python",
   "name": "python",
   "nbconvert_exporter": "python",
   "pygments_lexer": "ipython3",
   "version": "3.6.4"
  }
 },
 "nbformat": 4,
 "nbformat_minor": 2
}
