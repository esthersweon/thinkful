{
 "cells": [
  {
   "cell_type": "markdown",
   "metadata": {},
   "source": [
    "# Bootcamp Prep – Unit 3, Lesson 1\n",
    "## Drill - Describing Data"
   ]
  },
  {
   "cell_type": "code",
   "execution_count": 57,
   "metadata": {},
   "outputs": [],
   "source": [
    "import numpy as np\n",
    "import pandas as pd\n",
    "import statistics"
   ]
  },
  {
   "cell_type": "markdown",
   "metadata": {},
   "source": [
    "### 1. Greg was 14, Marcia was 12, Peter was 11, Jan was 10, Bobby was 8, and Cindy was 6 when they started playing the Brady kids on The Brady Bunch. Cousin Oliver was 8 years old when he joined the show. \n",
    "\n",
    "### What are the mean, median, and mode of the kids' ages when they first appeared on the show? What are the variance, standard deviation, and standard error?"
   ]
  },
  {
   "cell_type": "code",
   "execution_count": 58,
   "metadata": {},
   "outputs": [
    {
     "name": "stdout",
     "output_type": "stream",
     "text": [
      "Mean:  9.85714285714\n",
      "Median:  10\n",
      "Mode:  8\n",
      "\n",
      "\n",
      "Variance:  6.40816326531\n",
      "Standard Deviation:  2.53143502095\n",
      "Standard Error:  0.361633574422\n"
     ]
    }
   ],
   "source": [
    "ages = np.array([14, 12, 11, 10, 8, 6, 8])\n",
    "\n",
    "try: \n",
    "    mode = statistics.mode(ages)\n",
    "except: \n",
    "    mode = None\n",
    "\n",
    "print('Mean: ', ages.mean())\n",
    "print('Median: ', statistics.median(ages))\n",
    "print('Mode: ', mode)\n",
    "print('\\n')\n",
    "\n",
    "variance = ages.var()\n",
    "std_dev = variance ** 0.5\n",
    "std_err = std_dev / len(ages)\n",
    "\n",
    "print('Variance: ', variance)\n",
    "print('Standard Deviation: ', std_dev)\n",
    "print('Standard Error: ', std_err)"
   ]
  },
  {
   "cell_type": "markdown",
   "metadata": {},
   "source": [
    "### 2. Using these estimates, if you had to choose only one estimate of central tendency and one estimate of variance to describe the data, which would you pick and why?"
   ]
  },
  {
   "cell_type": "markdown",
   "metadata": {},
   "source": [
    "There are no significant outliers in the data, as evidenced by the low variance, so mean would be a good estimate of central tendency, If there were any outliers, median could be a better choie for this estimate. \n",
    "\n",
    "???Not sure about variance???\n",
    "For the estimate of variance, I would choose ??? (all of them seem very different, so not sure why I would choose one over the other)."
   ]
  },
  {
   "cell_type": "markdown",
   "metadata": {},
   "source": [
    "### 3. Next, Cindy has a birthday. Update your estimates- what changed, and what didn't?"
   ]
  },
  {
   "cell_type": "code",
   "execution_count": 59,
   "metadata": {},
   "outputs": [
    {
     "name": "stdout",
     "output_type": "stream",
     "text": [
      "Mean:  10.0\n",
      "Median:  10\n",
      "Mode:  8\n",
      "\n",
      "\n",
      "Variance:  5.42857142857\n",
      "Standard Deviation:  2.32992949004\n",
      "Standard Error:  0.332847070006\n"
     ]
    }
   ],
   "source": [
    "new_ages = np.array([14, 12, 11, 10, 8, 7, 8])\n",
    "\n",
    "try: \n",
    "    mode = statistics.mode(new_ages)\n",
    "except: \n",
    "    mode = None\n",
    "\n",
    "print('Mean: ', new_ages.mean())\n",
    "print('Median: ', statistics.median(new_ages))\n",
    "print('Mode: ', mode)\n",
    "print('\\n')\n",
    "\n",
    "variance = new_ages.var()\n",
    "std_dev = variance ** 0.5\n",
    "std_err = std_dev / len(new_ages)\n",
    "\n",
    "print('Variance: ', variance)\n",
    "print('Standard Deviation: ', std_dev)\n",
    "print('Standard Error: ', std_err)"
   ]
  },
  {
   "cell_type": "markdown",
   "metadata": {},
   "source": [
    "Median and mode stayed the same – everything else changed. This makes sense – Cindy's new age did not surpass the next largest number in the array (8), and so the median would stay the same; her new age is also the only 7 in the array, keeping the mode at 8 (which appears twice).\n",
    "\n",
    "### 4. Nobody likes Cousin Oliver. Maybe the network should have used an even younger actor. Replace Cousin Oliver with 1-year-old Jessica, then recalculate again. Does this change your choice of central tendency or variance estimation methods?"
   ]
  },
  {
   "cell_type": "code",
   "execution_count": 60,
   "metadata": {},
   "outputs": [
    {
     "name": "stdout",
     "output_type": "stream",
     "text": [
      "Mean:  9.0\n",
      "Median:  10\n",
      "Mode:  None\n",
      "\n",
      "\n",
      "Variance:  15.4285714286\n",
      "Standard Deviation:  3.92792202425\n",
      "Standard Error:  0.56113171775\n"
     ]
    }
   ],
   "source": [
    "new_ages_2 = np.array([14, 12, 11, 10, 8, 7, 1])\n",
    "\n",
    "try: \n",
    "    mode = statistics.mode(new_ages_2)\n",
    "except: \n",
    "    mode = None\n",
    "\n",
    "print('Mean: ', new_ages_2.mean())\n",
    "print('Median: ', statistics.median(new_ages_2))\n",
    "print('Mode: ', mode)\n",
    "print('\\n')\n",
    "\n",
    "variance = new_ages_2.var()\n",
    "std_dev = variance ** 0.5\n",
    "std_err = std_dev / len(new_ages_2)\n",
    "\n",
    "print('Variance: ', variance)\n",
    "print('Standard Deviation: ', std_dev)\n",
    "print('Standard Error: ', std_err)"
   ]
  },
  {
   "cell_type": "markdown",
   "metadata": {},
   "source": [
    "Median would be a better estimate for central tendency than mean in this scenario, because median is more robust to outliers. A low outlier like 1-year-old Jessica would skew the mean to be lower than would be representative of the rest of the sample.\n",
    "\n",
    "???Not sure about variance???"
   ]
  },
  {
   "cell_type": "markdown",
   "metadata": {},
   "source": [
    "### 5. On the 50th anniversary of The Brady Bunch, four different magazines asked their readers whether they were fans of the show. The answers were: TV Guide 20% fans Entertainment Weekly 23% fans Pop Culture Today 17% fans SciPhi Phanatic 5% fans\n",
    "\n",
    "### Based on these numbers, what percentage of adult Americans would you estimate were Brady Bunch fans on the 50th anniversary of the show?"
   ]
  },
  {
   "cell_type": "code",
   "execution_count": 61,
   "metadata": {},
   "outputs": [
    {
     "name": "stdout",
     "output_type": "stream",
     "text": [
      "18.5%\n"
     ]
    }
   ],
   "source": [
    "survey_answers = np.array([20, 23, 17, 5])\n",
    "\n",
    "print(str(statistics.median(survey_answers)) + '%')"
   ]
  },
  {
   "cell_type": "markdown",
   "metadata": {},
   "source": [
    "Considering that the sample size is so small and has one significant outlier, I would get the median of the sample to estimate what percentage of the population were Brady Bunch fans."
   ]
  }
 ],
 "metadata": {
  "kernelspec": {
   "display_name": "Python 3",
   "language": "python",
   "name": "python3"
  },
  "language_info": {
   "codemirror_mode": {
    "name": "ipython",
    "version": 3
   },
   "file_extension": ".py",
   "mimetype": "text/x-python",
   "name": "python",
   "nbconvert_exporter": "python",
   "pygments_lexer": "ipython3",
   "version": "3.6.4"
  }
 },
 "nbformat": 4,
 "nbformat_minor": 2
}
