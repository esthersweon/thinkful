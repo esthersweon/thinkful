{
 "cells": [
  {
   "cell_type": "markdown",
   "metadata": {},
   "source": [
    "# Drill – Descriptive Statistics and Normality\n",
    "\n"
   ]
  },
  {
   "cell_type": "markdown",
   "metadata": {},
   "source": [
    "This notebook displays histograms graphed from randomly generated binomial, exponential, gamma, geometric, logistic, normal, and poisson distributions (each with 100 datapoints). \n",
    "\n",
    "Means and standard deviations are plotted as vertical lines (means as solid lines; standard deviations as dotted lines)."
   ]
  },
  {
   "cell_type": "code",
   "execution_count": 92,
   "metadata": {},
   "outputs": [],
   "source": [
    "import numpy as np\n",
    "import matplotlib.pyplot as plt\n",
    "import math"
   ]
  },
  {
   "cell_type": "markdown",
   "metadata": {},
   "source": [
    "## Binomial Distribution"
   ]
  },
  {
   "cell_type": "code",
   "execution_count": 93,
   "metadata": {},
   "outputs": [
    {
     "name": "stdout",
     "output_type": "stream",
     "text": [
      "Mean:  5.13\n",
      "Standard Deviation:  2.4521623111\n"
     ]
    },
    {
     "data": {
      "image/png": "[encoded data removed]",
      "text/plain": [
       "<matplotlib.figure.Figure at 0x10fb01908>"
      ]
     },
     "metadata": {},
     "output_type": "display_data"
    }
   ],
   "source": [
    "# times = 50; probability = 0.20; size = 100\n",
    "binomial = np.random.binomial(50, 0.10, 100)\n",
    "plt.hist(binomial, color = \"c\")\n",
    "\n",
    "plt.axvline(binomial.mean(), color = 'b', linestyle = 'solid', linewidth = 2)\n",
    "plt.axvline(binomial.mean() + binomial.std(), color = 'b', linestyle = 'dashed', linewidth = 2)\n",
    "plt.axvline(binomial.mean() - binomial.std(), color = 'b', linestyle = 'dashed', linewidth = 2) \n",
    "\n",
    "print('Mean: ', binomial.mean())\n",
    "print('Standard Deviation: ', binomial.std())\n",
    "plt.show()"
   ]
  },
  {
   "cell_type": "markdown",
   "metadata": {},
   "source": [
    "## Exponential Distribution"
   ]
  },
  {
   "cell_type": "code",
   "execution_count": 94,
   "metadata": {},
   "outputs": [
    {
     "name": "stdout",
     "output_type": "stream",
     "text": [
      "Mean:  10.2204829289\n",
      "Standard Deviation:  8.73188566733\n"
     ]
    },
    {
     "data": {
      "image/png": "[encoded data removed]",
      "text/plain": [
       "<matplotlib.figure.Figure at 0x10fc84be0>"
      ]
     },
     "metadata": {},
     "output_type": "display_data"
    }
   ],
   "source": [
    "# scale = 10; size = 100\n",
    "exponential = np.random.exponential(10, 100)\n",
    "plt.hist(exponential, color = 'c')\n",
    "\n",
    "plt.axvline(exponential.mean(), color = 'b', linestyle = 'solid', linewidth = 2)\n",
    "plt.axvline(exponential.mean() + exponential.std(), color = 'b', linestyle = 'dashed', linewidth = 2)\n",
    "plt.axvline(exponential.mean() - exponential.std(), color = 'b', linestyle = 'dashed', linewidth = 2) \n",
    "\n",
    "print('Mean: ', exponential.mean())\n",
    "print('Standard Deviation: ', exponential.std())\n",
    "plt.show()"
   ]
  },
  {
   "cell_type": "markdown",
   "metadata": {},
   "source": [
    "## Gamma Distribution"
   ]
  },
  {
   "cell_type": "code",
   "execution_count": 95,
   "metadata": {},
   "outputs": [
    {
     "name": "stdout",
     "output_type": "stream",
     "text": [
      "Mean:  44.3270557686\n",
      "Standard Deviation:  19.489429132\n"
     ]
    },
    {
     "data": {
      "image/png": "[encoded data removed]",
      "text/plain": [
       "<matplotlib.figure.Figure at 0x1102f5b00>"
      ]
     },
     "metadata": {},
     "output_type": "display_data"
    }
   ],
   "source": [
    "# shape = 5; scale = 1; size = 100\n",
    "gamma = np.random.gamma(5, 10, 100)\n",
    "plt.hist(gamma, color = 'c')\n",
    "\n",
    "plt.axvline(gamma.mean(), color = 'b', linestyle = 'solid', linewidth = 2)\n",
    "plt.axvline(gamma.mean() + gamma.std(), color = 'b', linestyle = 'dashed', linewidth = 2)\n",
    "plt.axvline(gamma.mean() - gamma.std(), color = 'b', linestyle = 'dashed', linewidth = 2) \n",
    "\n",
    "print('Mean: ', gamma.mean())\n",
    "print('Standard Deviation: ', gamma.std())\n",
    "plt.show()"
   ]
  },
  {
   "cell_type": "markdown",
   "metadata": {},
   "source": [
    "## Geometric Distribution"
   ]
  },
  {
   "cell_type": "code",
   "execution_count": 96,
   "metadata": {},
   "outputs": [
    {
     "name": "stdout",
     "output_type": "stream",
     "text": [
      "Mean:  5.01\n",
      "Standard Deviation:  5.26971536233\n"
     ]
    },
    {
     "data": {
      "image/png": "[encoded data removed]",
      "text/plain": [
       "<matplotlib.figure.Figure at 0x1102c3748>"
      ]
     },
     "metadata": {},
     "output_type": "display_data"
    }
   ],
   "source": [
    "# probability = 0.20; size = 100\n",
    "geometric = np.random.geometric(0.20, 100)\n",
    "plt.hist(geometric, color = 'c')\n",
    "\n",
    "plt.axvline(geometric.mean(), color = 'b', linestyle = 'solid', linewidth = 2)\n",
    "plt.axvline(geometric.mean() + geometric.std(), color = 'b', linestyle = 'dashed', linewidth = 2)\n",
    "plt.axvline(geometric.mean() - geometric.std(), color = 'b', linestyle = 'dashed', linewidth = 2) \n",
    "\n",
    "print('Mean: ', geometric.mean())\n",
    "print('Standard Deviation: ', geometric.std())\n",
    "plt.show()"
   ]
  },
  {
   "cell_type": "markdown",
   "metadata": {},
   "source": [
    "## Logistic Distribution"
   ]
  },
  {
   "cell_type": "code",
   "execution_count": 97,
   "metadata": {},
   "outputs": [
    {
     "name": "stdout",
     "output_type": "stream",
     "text": [
      "Mean:  5.02550783827\n",
      "Standard Deviation:  18.0550511793\n"
     ]
    },
    {
     "data": {
      "image/png": "[encoded data removed]",
      "text/plain": [
       "<matplotlib.figure.Figure at 0x106a15898>"
      ]
     },
     "metadata": {},
     "output_type": "display_data"
    }
   ],
   "source": [
    "# loc = 5; scale = 10; size = 100\n",
    "logistic = np.random.logistic(5, 10, 100)\n",
    "plt.hist(logistic, color = 'c')\n",
    "\n",
    "plt.axvline(logistic.mean(), color = 'b', linestyle = 'solid', linewidth = 2)\n",
    "plt.axvline(logistic.mean() + logistic.std(), color = 'b', linestyle = 'dashed', linewidth = 2)\n",
    "plt.axvline(logistic.mean() - logistic.std(), color = 'b', linestyle = 'dashed', linewidth = 2) \n",
    "\n",
    "print('Mean: ', logistic.mean())\n",
    "print('Standard Deviation: ', logistic.std())\n",
    "plt.show()"
   ]
  },
  {
   "cell_type": "markdown",
   "metadata": {},
   "source": [
    "## Normal Distribution"
   ]
  },
  {
   "cell_type": "code",
   "execution_count": 98,
   "metadata": {},
   "outputs": [
    {
     "name": "stdout",
     "output_type": "stream",
     "text": [
      "Mean:  5.6433280506\n",
      "Standard Deviation:  10.4423667641\n"
     ]
    },
    {
     "data": {
      "image/png": "[encoded data removed]",
      "text/plain": [
       "<matplotlib.figure.Figure at 0x110534e80>"
      ]
     },
     "metadata": {},
     "output_type": "display_data"
    }
   ],
   "source": [
    "# loc = 5; scale = 10; size = 100\n",
    "normal = np.random.normal(5, 10, 100)\n",
    "plt.hist(normal, color = 'c')\n",
    "\n",
    "plt.axvline(normal.mean(), color = 'b', linestyle = 'solid', linewidth = 2)\n",
    "plt.axvline(normal.mean() + normal.std(), color = 'b', linestyle = 'dashed', linewidth = 2)\n",
    "plt.axvline(normal.mean() - normal.std(), color = 'b', linestyle = 'dashed', linewidth = 2) \n",
    "\n",
    "print('Mean: ', normal.mean())\n",
    "print('Standard Deviation: ', normal.std())\n",
    "plt.show()"
   ]
  },
  {
   "cell_type": "markdown",
   "metadata": {},
   "source": [
    "## Poisson Distribution"
   ]
  },
  {
   "cell_type": "code",
   "execution_count": 99,
   "metadata": {},
   "outputs": [
    {
     "name": "stdout",
     "output_type": "stream",
     "text": [
      "Mean:  0.27\n",
      "Standard Deviation:  0.58060313468\n"
     ]
    },
    {
     "data": {
      "image/png": "[encoded data removed]",
      "text/plain": [
       "<matplotlib.figure.Figure at 0x1069726d8>"
      ]
     },
     "metadata": {},
     "output_type": "display_data"
    }
   ],
   "source": [
    "# expectation of interval = 0.20; size = 100\n",
    "poisson = np.random.poisson(0.20, 100)\n",
    "plt.hist(poisson, color = 'c')\n",
    "\n",
    "plt.axvline(poisson.mean(), color = 'b', linestyle = 'solid', linewidth = 2)\n",
    "plt.axvline(poisson.mean() + poisson.std(), color = 'b', linestyle = 'dashed', linewidth = 2)\n",
    "plt.axvline(poisson.mean() - poisson.std(), color = 'b', linestyle = 'dashed', linewidth = 2) \n",
    "\n",
    "print('Mean: ', poisson.mean())\n",
    "print('Standard Deviation: ', poisson.std())\n",
    "plt.show()"
   ]
  },
  {
   "cell_type": "markdown",
   "metadata": {},
   "source": [
    "Mean and standard deviation provided useful information for the binomial, logistic, and normal distributions. These distributions all have \"centers\":\n",
    "- Binomial – probability multiplied by the number of times the event was repeated\n",
    "- Logistic – `loc` parameter\n",
    "- Normal – `loc` parameter\n",
    "\n",
    "Mean and standard deviation proved less useful for the exponential, gamma, geometric, and poisson distributions. These distributions do not have a \"center\", and are in fact all asymmetrical distributions."
   ]
  },
  {
   "cell_type": "markdown",
   "metadata": {},
   "source": [
    "## Additional Exercises\n",
    "\n",
    "### 1. Generate two normally-distributed variables, one with a mean of 5 and standard deviation of 0.5, and the other with a mean of 10 and standard deviation of 1."
   ]
  },
  {
   "cell_type": "code",
   "execution_count": 112,
   "metadata": {},
   "outputs": [
    {
     "name": "stdout",
     "output_type": "stream",
     "text": [
      "Mean 1:  5.00060270207\n",
      "Standard Deviation 1:  0.500249032969\n",
      "Mean 2:  10.0000164269\n",
      "Standard Deviation 2:  0.997798219646\n"
     ]
    },
    {
     "data": {
      "image/png": "[encoded data removed]",
      "text/plain": [
       "<matplotlib.figure.Figure at 0x1028b5c50>"
      ]
     },
     "metadata": {},
     "output_type": "display_data"
    }
   ],
   "source": [
    "normal_1 = np.random.normal(5, 0.5, 100000)\n",
    "normal_2 = np.random.normal(10, 1, 100000)\n",
    "\n",
    "print('Mean 1: ', normal_1.mean())\n",
    "print('Standard Deviation 1: ', normal_1.std())\n",
    "\n",
    "print('Mean 2: ', normal_2.mean())\n",
    "print('Standard Deviation 2: ', normal_2.std())\n",
    "\n",
    "plt.hist(normal_1, alpha=0.5, color = 'c')\n",
    "plt.hist(normal_2, alpha=0.5, color = 'orange')\n",
    "plt.show()"
   ]
  },
  {
   "cell_type": "markdown",
   "metadata": {},
   "source": [
    "### 2. Add them together to create a third variable."
   ]
  },
  {
   "cell_type": "code",
   "execution_count": 102,
   "metadata": {},
   "outputs": [],
   "source": [
    "combined_dist = normal_1 + normal_2"
   ]
  },
  {
   "cell_type": "markdown",
   "metadata": {},
   "source": [
    "### 3. Graph the third variable using a histogram."
   ]
  },
  {
   "cell_type": "code",
   "execution_count": 103,
   "metadata": {},
   "outputs": [
    {
     "data": {
      "image/png": "[encoded data removed]",
      "text/plain": [
       "<matplotlib.figure.Figure at 0x106a15be0>"
      ]
     },
     "metadata": {},
     "output_type": "display_data"
    }
   ],
   "source": [
    "plt.hist(combined_dist, color = 'c')\n",
    "plt.show()"
   ]
  },
  {
   "cell_type": "markdown",
   "metadata": {},
   "source": [
    "### 4. Compute the mean and standard deviation and plot them as vertical lines on the histogram."
   ]
  },
  {
   "cell_type": "code",
   "execution_count": 104,
   "metadata": {},
   "outputs": [
    {
     "name": "stdout",
     "output_type": "stream",
     "text": [
      "Mean:  15.0024941415\n",
      "Standard Deviation:  1.1161859619\n"
     ]
    },
    {
     "data": {
      "image/png": "[encoded data removed]",
      "text/plain": [
       "<matplotlib.figure.Figure at 0x11011ecc0>"
      ]
     },
     "metadata": {},
     "output_type": "display_data"
    }
   ],
   "source": [
    "plt.hist(combined_dist, color = 'c')\n",
    "\n",
    "plt.axvline(combined_dist.mean(), color = 'b', linestyle = 'solid', linewidth = 2)\n",
    "plt.axvline(combined_dist.mean() + combined_dist.std(), color = 'b', linestyle = 'dashed', linewidth = 2)\n",
    "plt.axvline(combined_dist.mean() - combined_dist.std(), color = 'b', linestyle = 'dashed', linewidth = 2) \n",
    "\n",
    "print('Mean: ', combined_dist.mean())\n",
    "print('Standard Deviation: ', combined_dist.std())\n",
    "plt.show()"
   ]
  },
  {
   "cell_type": "markdown",
   "metadata": {},
   "source": [
    "### 5. Evaluate the descriptive statistics against the data.\n",
    "\n",
    "Adding 2 normal distributions creates another normal distribution with a mean equal to the original means added together. The variance is roughly equal to the original variances added together, so the square root of the sum of the squares of the original standard deviations will result in the new standard deviation. \n",
    "\n",
    "The variances calculated below are slightly different from each other, simply due to the difference in the number of times numbers were rounded in the process of getting each resulting variance."
   ]
  },
  {
   "cell_type": "code",
   "execution_count": 107,
   "metadata": {},
   "outputs": [
    {
     "name": "stdout",
     "output_type": "stream",
     "text": [
      "15.0024941415\n",
      "15.0024941415\n",
      "1.1169816527411895\n",
      "1.1161859619\n"
     ]
    }
   ],
   "source": [
    "new_mean = normal_1.mean() + normal_2.mean()\n",
    "new_variance = (normal_1.std() ** 2) + (normal_2.std() ** 2)\n",
    "new_std = math.sqrt(new_variance)\n",
    "\n",
    "# New Mean\n",
    "print(new_mean)\n",
    "print(combined_dist.mean())\n",
    "\n",
    "# New Standard Deviation\n",
    "print(new_std)\n",
    "print(combined_dist.std())"
   ]
  },
  {
   "cell_type": "code",
   "execution_count": null,
   "metadata": {},
   "outputs": [],
   "source": []
  }
 ],
 "metadata": {
  "kernelspec": {
   "display_name": "Python 3",
   "language": "python",
   "name": "python3"
  },
  "language_info": {
   "codemirror_mode": {
    "name": "ipython",
    "version": 3
   },
   "file_extension": ".py",
   "mimetype": "text/x-python",
   "name": "python",
   "nbconvert_exporter": "python",
   "pygments_lexer": "ipython3",
   "version": "3.6.4"
  }
 },
 "nbformat": 4,
 "nbformat_minor": 2
}
