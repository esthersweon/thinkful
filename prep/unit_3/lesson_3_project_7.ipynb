{
 "cells": [
  {
   "cell_type": "markdown",
   "metadata": {},
   "source": [
    "# Drill - Exploring the Central Limit Theorem\n",
    "\n",
    "Create two binomially distributed populations with n equal to 10 and size equal to 10000. The p for pop1 should be 0.2; the p for pop2 should be 0.5. Using a sample size of 100, calculate the means and standard deviations of your samples."
   ]
  },
  {
   "cell_type": "code",
   "execution_count": 92,
   "metadata": {},
   "outputs": [],
   "source": [
    "import numpy as np\n",
    "import pandas as pd\n",
    "import matplotlib.pyplot as plt"
   ]
  },
  {
   "cell_type": "code",
   "execution_count": 104,
   "metadata": {},
   "outputs": [
    {
     "name": "stdout",
     "output_type": "stream",
     "text": [
      "Sample 1\n",
      "Mean:  1.94\n",
      "Standard Deviation:  1.33281656652\n",
      "\n",
      "\n",
      "Sample 2\n",
      "Mean:  5.16\n",
      "Standard Deviation:  1.59824904192\n"
     ]
    },
    {
     "data": {
      "image/png": "[encoded data removed]",
      "text/plain": [
       "<matplotlib.figure.Figure at 0x118845128>"
      ]
     },
     "metadata": {},
     "output_type": "display_data"
    }
   ],
   "source": [
    "pop_1 = np.random.binomial(10, 0.2, 1000);\n",
    "pop_2 = np.random.binomial(10, 0.5, 1000);\n",
    "\n",
    "sample_1 = np.random.choice(pop_1, 100, replace=True)\n",
    "sample_2 = np.random.choice(pop_2, 100, replace=True)\n",
    "\n",
    "print('Sample 1')\n",
    "print('Mean: ', sample_1.mean())\n",
    "print('Standard Deviation: ', sample_1.std())\n",
    "print('\\n')\n",
    "\n",
    "print('Sample 2')\n",
    "print('Mean: ', sample_2.mean())\n",
    "print('Standard Deviation: ', sample_2.std())\n",
    "\n",
    "plt.hist(sample_1, alpha = 0.5, color = 'c', label='Sample 1')\n",
    "plt.hist(sample_2, alpha = 0.5, color = 'b', label='Sample 2')\n",
    "\n",
    "plt.axvline(sample_1.mean(), color='c', linestyle='solid', linewidth=2)\n",
    "plt.axvline(sample_2.mean(), color='b', linestyle='solid', linewidth=2)\n",
    "\n",
    "plt.title('Sample of Size 100')\n",
    "plt.legend(loc = 'upper right')\n",
    "plt.show()"
   ]
  },
  {
   "cell_type": "markdown",
   "metadata": {},
   "source": [
    "### 1. Increase the size of your samples from 100 to 1000, then calculate the means and standard deviations for your new samples and create histograms for each. Repeat this again, decreasing the size of your samples to 20. What values change, and what remain the same?"
   ]
  },
  {
   "cell_type": "code",
   "execution_count": 105,
   "metadata": {},
   "outputs": [
    {
     "name": "stdout",
     "output_type": "stream",
     "text": [
      "Sample 1\n",
      "Mean:  1.886\n",
      "Standard Deviation:  1.22678604492\n",
      "\n",
      "\n",
      "Sample 2\n",
      "Mean:  5.099\n",
      "Standard Deviation:  1.57518221168\n"
     ]
    },
    {
     "data": {
      "image/png": "[encoded data removed]",
      "text/plain": [
       "<matplotlib.figure.Figure at 0x1185b94e0>"
      ]
     },
     "metadata": {},
     "output_type": "display_data"
    }
   ],
   "source": [
    "larger_sample_1 = np.random.choice(pop_1, 1000, replace=True)\n",
    "larger_sample_2 = np.random.choice(pop_2, 1000, replace=True)\n",
    "\n",
    "print('Sample 1')\n",
    "print('Mean: ', larger_sample_1.mean())\n",
    "print('Standard Deviation: ', larger_sample_1.std())\n",
    "print('\\n')\n",
    "\n",
    "print('Sample 2')\n",
    "print('Mean: ', larger_sample_2.mean())\n",
    "print('Standard Deviation: ', larger_sample_2.std())\n",
    "\n",
    "plt.hist(larger_sample_1, alpha = 0.5, color = 'c', label = 'Sample 1')\n",
    "plt.hist(larger_sample_2, alpha = 0.5, color = 'b', label = 'Sample 2')\n",
    "\n",
    "plt.axvline(larger_sample_1.mean(), color='c', linestyle='solid', linewidth=2)\n",
    "plt.axvline(larger_sample_2.mean(), color='b', linestyle='solid', linewidth=2)\n",
    "\n",
    "plt.title('Sample of Size 1000')\n",
    "plt.legend(loc = 'upper right')\n",
    "plt.show()"
   ]
  },
  {
   "cell_type": "code",
   "execution_count": 106,
   "metadata": {},
   "outputs": [
    {
     "name": "stdout",
     "output_type": "stream",
     "text": [
      "Sample 1\n",
      "Mean:  1.45\n",
      "Standard Deviation:  1.11691539518\n",
      "\n",
      "\n",
      "Sample 2\n",
      "Mean:  4.5\n",
      "Standard Deviation:  1.46628782986\n"
     ]
    },
    {
     "data": {
      "image/png": "[encoded data removed]",
      "text/plain": [
       "<matplotlib.figure.Figure at 0x1185b9400>"
      ]
     },
     "metadata": {},
     "output_type": "display_data"
    }
   ],
   "source": [
    "smaller_sample_1 = np.random.choice(pop_1, 20, replace=True)\n",
    "smaller_sample_2 = np.random.choice(pop_2, 20, replace=True)\n",
    "\n",
    "print('Sample 1')\n",
    "print('Mean: ', smaller_sample_1.mean())\n",
    "print('Standard Deviation: ', smaller_sample_1.std())\n",
    "print('\\n')\n",
    "\n",
    "print('Sample 2')\n",
    "print('Mean: ', smaller_sample_2.mean())\n",
    "print('Standard Deviation: ', smaller_sample_2.std())\n",
    "\n",
    "plt.hist(smaller_sample_1, alpha = 0.5, color = 'c', label = 'Sample 1')\n",
    "plt.hist(smaller_sample_2, alpha = 0.5, color = 'b', label = 'Sample 2')\n",
    "\n",
    "plt.axvline(smaller_sample_1.mean(), color='c', linestyle='solid', linewidth=2)\n",
    "plt.axvline(smaller_sample_2.mean(), color='b', linestyle='solid', linewidth=2)\n",
    "\n",
    "plt.title('Sample of Size 20')\n",
    "plt.legend(loc = 'upper right')\n",
    "plt.show()"
   ]
  },
  {
   "cell_type": "markdown",
   "metadata": {},
   "source": [
    "???????? \n",
    "\n",
    "The means and standard deviations for both the sample with size 1000 and sample with size 20 change."
   ]
  },
  {
   "cell_type": "markdown",
   "metadata": {},
   "source": [
    "### 2. Change the probability value (p in the NumPy documentation) for pop1 to 0.3, then take new samples and compute the t-statistic and p-value. Then change the probability value p for group 1 to 0.4, and do it again. What changes, and why?\n",
    "\n",
    "#### Population 1 with p = 0.3"
   ]
  },
  {
   "cell_type": "code",
   "execution_count": 97,
   "metadata": {},
   "outputs": [
    {
     "name": "stdout",
     "output_type": "stream",
     "text": [
      "Population 1 (p = 0.3)\n",
      "Mean:  3.053\n",
      "Standard Deviation:  1.50139635007\n",
      "\n",
      "\n",
      "Population 2\n",
      "Mean:  5.04\n",
      "Standard Deviation:  1.63780340701\n"
     ]
    },
    {
     "data": {
      "image/png": "[encoded data removed]",
      "text/plain": [
       "<matplotlib.figure.Figure at 0x118c9eef0>"
      ]
     },
     "metadata": {},
     "output_type": "display_data"
    }
   ],
   "source": [
    "pop_1_take_2 = np.random.binomial(10, 0.3, 1000);\n",
    "\n",
    "print('Population 1 (p = 0.3)')\n",
    "print('Mean: ', pop_1_take_2.mean())\n",
    "print('Standard Deviation: ', pop_1_take_2.std())\n",
    "print('\\n')\n",
    "\n",
    "print('Population 2')\n",
    "print('Mean: ', pop_2.mean())\n",
    "print('Standard Deviation: ', pop_2.std())\n",
    "\n",
    "plt.hist(pop_1_take_2, alpha = 0.5, color = 'c', label='Population 1')\n",
    "plt.hist(pop_2, alpha = 0.5, color = 'b', label='Population 2')\n",
    "\n",
    "plt.axvline(pop_1_take_2.mean(), color='c', linestyle='solid', linewidth=2)\n",
    "plt.axvline(pop_2.mean(), color='b', linestyle='solid', linewidth=2)\n",
    "\n",
    "plt.title('Population')\n",
    "plt.legend(loc = 'upper right')\n",
    "plt.show()"
   ]
  },
  {
   "cell_type": "markdown",
   "metadata": {},
   "source": [
    "#### Sample 1 with p = 0.3"
   ]
  },
  {
   "cell_type": "code",
   "execution_count": 98,
   "metadata": {},
   "outputs": [
    {
     "name": "stdout",
     "output_type": "stream",
     "text": [
      "Sample 1 (p = 0.3)\n",
      "Mean:  2.91\n",
      "Standard Deviation:  1.34977775948\n",
      "\n",
      "\n",
      "Sample 2\n",
      "Mean:  5.03\n",
      "Standard Deviation:  1.73467576221\n"
     ]
    },
    {
     "data": {
      "image/png": "[encoded data removed]",
      "text/plain": [
       "<matplotlib.figure.Figure at 0x118820400>"
      ]
     },
     "metadata": {},
     "output_type": "display_data"
    }
   ],
   "source": [
    "sample_1_take_2 = np.random.choice(pop_1_take_2, 100, replace=True)\n",
    "\n",
    "print('Sample 1 (p = 0.3)')\n",
    "print('Mean: ', sample_1_take_2.mean())\n",
    "print('Standard Deviation: ', sample_1_take_2.std())\n",
    "print('\\n')\n",
    "\n",
    "print('Sample 2')\n",
    "print('Mean: ', sample_2.mean())\n",
    "print('Standard Deviation: ', sample_2.std())\n",
    "\n",
    "plt.hist(sample_1_take_2, alpha = 0.5, color = 'c', label='Sample 1')\n",
    "plt.hist(sample_2, alpha = 0.5, color = 'b', label='Sample 2')\n",
    "\n",
    "plt.axvline(sample_1_take_2.mean(), color='c', linestyle='solid', linewidth=2)\n",
    "plt.axvline(sample_2.mean(), color='b', linestyle='solid', linewidth=2)\n",
    "\n",
    "plt.title('Sample of Size 100 (p = 0.3)')\n",
    "plt.legend(loc = 'upper right')\n",
    "plt.show()"
   ]
  },
  {
   "cell_type": "markdown",
   "metadata": {},
   "source": [
    "#### Population 1 with p = 0.4"
   ]
  },
  {
   "cell_type": "code",
   "execution_count": 99,
   "metadata": {},
   "outputs": [
    {
     "name": "stdout",
     "output_type": "stream",
     "text": [
      "Population 1 (p = 0.4)\n",
      "Mean:  4.065\n",
      "Standard Deviation:  1.54556623928\n",
      "\n",
      "\n",
      "Population 2\n",
      "Mean:  5.04\n",
      "Standard Deviation:  1.63780340701\n"
     ]
    },
    {
     "data": {
      "image/png": "[encoded data removed]",
      "text/plain": [
       "<matplotlib.figure.Figure at 0x1184ff748>"
      ]
     },
     "metadata": {},
     "output_type": "display_data"
    }
   ],
   "source": [
    "pop_1_take_3 = np.random.binomial(10, 0.4, 1000);\n",
    "\n",
    "print('Population 1 (p = 0.4)')\n",
    "print('Mean: ', pop_1_take_3.mean())\n",
    "print('Standard Deviation: ', pop_1_take_3.std())\n",
    "print('\\n')\n",
    "\n",
    "print('Population 2')\n",
    "print('Mean: ', pop_2.mean())\n",
    "print('Standard Deviation: ', pop_2.std())\n",
    "\n",
    "plt.hist(pop_1_take_3, alpha = 0.5, color = 'c', label='Population 1')\n",
    "plt.hist(pop_2, alpha = 0.5, color = 'b', label='Population 2')\n",
    "\n",
    "plt.axvline(pop_1_take_3.mean(), color='c', linestyle='solid', linewidth=2)\n",
    "plt.axvline(pop_2.mean(), color='b', linestyle='solid', linewidth=2)\n",
    "\n",
    "plt.title('Population')\n",
    "plt.legend(loc = 'upper right')\n",
    "plt.show()"
   ]
  },
  {
   "cell_type": "markdown",
   "metadata": {},
   "source": [
    "#### Sample 1 with p = 0.4"
   ]
  },
  {
   "cell_type": "code",
   "execution_count": 100,
   "metadata": {},
   "outputs": [
    {
     "name": "stdout",
     "output_type": "stream",
     "text": [
      "Sample 1 (p = 0.4)\n",
      "Mean:  3.88\n",
      "Standard Deviation:  1.51182009512\n",
      "\n",
      "\n",
      "Sample 2\n",
      "Mean:  5.03\n",
      "Standard Deviation:  1.73467576221\n"
     ]
    },
    {
     "data": {
      "image/png": "[encoded data removed]",
      "text/plain": [
       "<matplotlib.figure.Figure at 0x118ce2080>"
      ]
     },
     "metadata": {},
     "output_type": "display_data"
    }
   ],
   "source": [
    "sample_1_take_3 = np.random.choice(pop_1_take_3, 100, replace=True)\n",
    "\n",
    "print('Sample 1 (p = 0.4)')\n",
    "print('Mean: ', sample_1_take_3.mean())\n",
    "print('Standard Deviation: ', sample_1_take_3.std())\n",
    "print('\\n')\n",
    "\n",
    "print('Sample 2')\n",
    "print('Mean: ', sample_2.mean())\n",
    "print('Standard Deviation: ', sample_2.std())\n",
    "\n",
    "plt.hist(sample_1_take_3, alpha = 0.5, color = 'c', label='Sample 1')\n",
    "plt.hist(sample_2, alpha = 0.5, color = 'b', label='Sample 2')\n",
    "\n",
    "plt.axvline(sample_1_take_3.mean(), color='c', linestyle='solid', linewidth=2)\n",
    "plt.axvline(sample_2.mean(), color='b', linestyle='solid', linewidth=2)\n",
    "\n",
    "plt.title('Sample of Size 100 (p = 0.4)')\n",
    "plt.legend(loc = 'upper right')\n",
    "plt.show()"
   ]
  },
  {
   "cell_type": "markdown",
   "metadata": {},
   "source": [
    "Changing the p for Population 1 to be higher (0.2 to 0.3, then 0.4) and closer to the p for Population 2 (0.5) brings the means of the 2 populations and their corresponding samples closer together. "
   ]
  },
  {
   "cell_type": "markdown",
   "metadata": {},
   "source": [
    "### 3. Change the distribution of your populations from binomial to a distribution of your choice. Do the sample mean values still accurately represent the population values?"
   ]
  },
  {
   "cell_type": "code",
   "execution_count": 101,
   "metadata": {},
   "outputs": [
    {
     "name": "stdout",
     "output_type": "stream",
     "text": [
      "Population 1\n",
      "Mean:  5.205\n",
      "Standard Deviation:  4.67749665954\n",
      "\n",
      "\n",
      "Population 2\n",
      "Mean:  1.962\n",
      "Standard Deviation:  1.34408184275\n"
     ]
    },
    {
     "data": {
      "image/png": "[encoded data removed]",
      "text/plain": [
       "<matplotlib.figure.Figure at 0x1186bb160>"
      ]
     },
     "metadata": {},
     "output_type": "display_data"
    }
   ],
   "source": [
    "pop_1_geometric = np.random.geometric(0.2, 1000);\n",
    "pop_2_geometric = np.random.geometric(0.5, 1000);\n",
    "\n",
    "print('Population 1')\n",
    "print('Mean: ', pop_1_geometric.mean())\n",
    "print('Standard Deviation: ', pop_1_geometric.std())\n",
    "print('\\n')\n",
    "\n",
    "print('Population 2')\n",
    "print('Mean: ', pop_2_geometric.mean())\n",
    "print('Standard Deviation: ', pop_2_geometric.std())\n",
    "\n",
    "plt.hist(pop_1_geometric, alpha = 0.5, color = 'c', label='Population 1')\n",
    "plt.hist(pop_2_geometric, alpha = 0.5, color = 'b', label='Population 2')\n",
    "\n",
    "plt.axvline(pop_1_geometric.mean(), color='c', linestyle='solid', linewidth=2)\n",
    "plt.axvline(pop_2_geometric.mean(), color='b', linestyle='solid', linewidth=2)\n",
    "\n",
    "plt.title('Population')\n",
    "plt.legend(loc = 'upper right')\n",
    "plt.show()"
   ]
  },
  {
   "cell_type": "markdown",
   "metadata": {},
   "source": [
    "The sample mean values no longer accurately represent the population values in a geometric distributi."
   ]
  },
  {
   "cell_type": "code",
   "execution_count": null,
   "metadata": {},
   "outputs": [],
   "source": []
  }
 ],
 "metadata": {
  "kernelspec": {
   "display_name": "Python 3",
   "language": "python",
   "name": "python3"
  },
  "language_info": {
   "codemirror_mode": {
    "name": "ipython",
    "version": 3
   },
   "file_extension": ".py",
   "mimetype": "text/x-python",
   "name": "python",
   "nbconvert_exporter": "python",
   "pygments_lexer": "ipython3",
   "version": "3.6.4"
  }
 },
 "nbformat": 4,
 "nbformat_minor": 2
}
