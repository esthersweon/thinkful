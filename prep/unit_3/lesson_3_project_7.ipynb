{
 "cells": [
  {
   "cell_type": "markdown",
   "metadata": {},
   "source": [
    "# Drill - Exploring the Central Limit Theorem\n",
    "\n",
    "Create two binomially distributed populations with n equal to 10 and size equal to 10000. The p for pop1 should be 0.2; the p for pop2 should be 0.5. Using a sample size of 100, calculate the means and standard deviations of your samples."
   ]
  },
  {
   "cell_type": "code",
   "execution_count": 107,
   "metadata": {},
   "outputs": [],
   "source": [
    "import numpy as np\n",
    "import pandas as pd\n",
    "import matplotlib.pyplot as plt"
   ]
  },
  {
   "cell_type": "code",
   "execution_count": 108,
   "metadata": {},
   "outputs": [
    {
     "name": "stdout",
     "output_type": "stream",
     "text": [
      "Sample 1\n",
      "Mean:  1.95\n",
      "Standard Deviation:  1.24398553046\n",
      "\n",
      "\n",
      "Sample 2\n",
      "Mean:  4.7\n",
      "Standard Deviation:  1.51327459504\n"
     ]
    },
    {
     "data": {
      "image/png": "[encoded data removed]",
      "text/plain": [
       "<matplotlib.figure.Figure at 0x118729160>"
      ]
     },
     "metadata": {},
     "output_type": "display_data"
    }
   ],
   "source": [
    "pop_1 = np.random.binomial(10, 0.2, 1000);\n",
    "pop_2 = np.random.binomial(10, 0.5, 1000);\n",
    "\n",
    "sample_1 = np.random.choice(pop_1, 100, replace=True)\n",
    "sample_2 = np.random.choice(pop_2, 100, replace=True)\n",
    "\n",
    "print('Sample 1')\n",
    "print('Mean: ', sample_1.mean())\n",
    "print('Standard Deviation: ', sample_1.std())\n",
    "print('\\n')\n",
    "\n",
    "print('Sample 2')\n",
    "print('Mean: ', sample_2.mean())\n",
    "print('Standard Deviation: ', sample_2.std())\n",
    "\n",
    "plt.hist(sample_1, alpha = 0.5, color = 'c', label='Sample 1')\n",
    "plt.hist(sample_2, alpha = 0.5, color = 'b', label='Sample 2')\n",
    "\n",
    "plt.axvline(sample_1.mean(), color='c', linestyle='solid', linewidth=2)\n",
    "plt.axvline(sample_2.mean(), color='b', linestyle='solid', linewidth=2)\n",
    "\n",
    "plt.title('Sample of Size 100')\n",
    "plt.legend(loc = 'upper right')\n",
    "plt.show()"
   ]
  },
  {
   "cell_type": "markdown",
   "metadata": {},
   "source": [
    "### 1. Increase the size of your samples from 100 to 1000, then calculate the means and standard deviations for your new samples and create histograms for each. Repeat this again, decreasing the size of your samples to 20. What values change, and what remain the same?"
   ]
  },
  {
   "cell_type": "code",
   "execution_count": 109,
   "metadata": {},
   "outputs": [
    {
     "name": "stdout",
     "output_type": "stream",
     "text": [
      "Sample 1\n",
      "Mean:  2.016\n",
      "Standard Deviation:  1.26954480031\n",
      "\n",
      "\n",
      "Sample 2\n",
      "Mean:  4.912\n",
      "Standard Deviation:  1.52520687121\n"
     ]
    },
    {
     "data": {
      "image/png": "[encoded data removed]",
      "text/plain": [
       "<matplotlib.figure.Figure at 0x1172bc390>"
      ]
     },
     "metadata": {},
     "output_type": "display_data"
    }
   ],
   "source": [
    "larger_sample_1 = np.random.choice(pop_1, 1000, replace=True)\n",
    "larger_sample_2 = np.random.choice(pop_2, 1000, replace=True)\n",
    "\n",
    "print('Sample 1')\n",
    "print('Mean: ', larger_sample_1.mean())\n",
    "print('Standard Deviation: ', larger_sample_1.std())\n",
    "print('\\n')\n",
    "\n",
    "print('Sample 2')\n",
    "print('Mean: ', larger_sample_2.mean())\n",
    "print('Standard Deviation: ', larger_sample_2.std())\n",
    "\n",
    "plt.hist(larger_sample_1, alpha = 0.5, color = 'c', label = 'Sample 1')\n",
    "plt.hist(larger_sample_2, alpha = 0.5, color = 'b', label = 'Sample 2')\n",
    "\n",
    "plt.axvline(larger_sample_1.mean(), color='c', linestyle='solid', linewidth=2)\n",
    "plt.axvline(larger_sample_2.mean(), color='b', linestyle='solid', linewidth=2)\n",
    "\n",
    "plt.title('Sample of Size 1000')\n",
    "plt.legend(loc = 'upper right')\n",
    "plt.show()"
   ]
  },
  {
   "cell_type": "code",
   "execution_count": 110,
   "metadata": {},
   "outputs": [
    {
     "name": "stdout",
     "output_type": "stream",
     "text": [
      "Sample 1\n",
      "Mean:  1.8\n",
      "Standard Deviation:  0.979795897113\n",
      "\n",
      "\n",
      "Sample 2\n",
      "Mean:  4.55\n",
      "Standard Deviation:  1.46543508898\n"
     ]
    },
    {
     "data": {
      "image/png": "[encoded data removed]",
      "text/plain": [
       "<matplotlib.figure.Figure at 0x11870a198>"
      ]
     },
     "metadata": {},
     "output_type": "display_data"
    }
   ],
   "source": [
    "smaller_sample_1 = np.random.choice(pop_1, 20, replace=True)\n",
    "smaller_sample_2 = np.random.choice(pop_2, 20, replace=True)\n",
    "\n",
    "print('Sample 1')\n",
    "print('Mean: ', smaller_sample_1.mean())\n",
    "print('Standard Deviation: ', smaller_sample_1.std())\n",
    "print('\\n')\n",
    "\n",
    "print('Sample 2')\n",
    "print('Mean: ', smaller_sample_2.mean())\n",
    "print('Standard Deviation: ', smaller_sample_2.std())\n",
    "\n",
    "plt.hist(smaller_sample_1, alpha = 0.5, color = 'c', label = 'Sample 1')\n",
    "plt.hist(smaller_sample_2, alpha = 0.5, color = 'b', label = 'Sample 2')\n",
    "\n",
    "plt.axvline(smaller_sample_1.mean(), color='c', linestyle='solid', linewidth=2)\n",
    "plt.axvline(smaller_sample_2.mean(), color='b', linestyle='solid', linewidth=2)\n",
    "\n",
    "plt.title('Sample of Size 20')\n",
    "plt.legend(loc = 'upper right')\n",
    "plt.show()"
   ]
  },
  {
   "cell_type": "markdown",
   "metadata": {},
   "source": [
    "???????? \n",
    "\n",
    "The means and standard deviations for both the sample with size 1000 and sample with size 20 change."
   ]
  },
  {
   "cell_type": "markdown",
   "metadata": {},
   "source": [
    "### 2. Change the probability value (p in the NumPy documentation) for pop1 to 0.3, then take new samples and compute the t-statistic and p-value. Then change the probability value p for group 1 to 0.4, and do it again. What changes, and why?\n",
    "\n",
    "#### Population 1 with p = 0.3"
   ]
  },
  {
   "cell_type": "code",
   "execution_count": 111,
   "metadata": {},
   "outputs": [
    {
     "name": "stdout",
     "output_type": "stream",
     "text": [
      "Population 1 (p = 0.3)\n",
      "Mean:  3.036\n",
      "Standard Deviation:  1.45832232377\n",
      "\n",
      "\n",
      "Population 2\n",
      "Mean:  4.95\n",
      "Standard Deviation:  1.51509075636\n"
     ]
    },
    {
     "data": {
      "image/png": "[encoded data removed]",
      "text/plain": [
       "<matplotlib.figure.Figure at 0x118d179e8>"
      ]
     },
     "metadata": {},
     "output_type": "display_data"
    }
   ],
   "source": [
    "pop_1_take_2 = np.random.binomial(10, 0.3, 1000);\n",
    "\n",
    "print('Population 1 (p = 0.3)')\n",
    "print('Mean: ', pop_1_take_2.mean())\n",
    "print('Standard Deviation: ', pop_1_take_2.std())\n",
    "print('\\n')\n",
    "\n",
    "print('Population 2')\n",
    "print('Mean: ', pop_2.mean())\n",
    "print('Standard Deviation: ', pop_2.std())\n",
    "\n",
    "plt.hist(pop_1_take_2, alpha = 0.5, color = 'c', label='Population 1')\n",
    "plt.hist(pop_2, alpha = 0.5, color = 'b', label='Population 2')\n",
    "\n",
    "plt.axvline(pop_1_take_2.mean(), color='c', linestyle='solid', linewidth=2)\n",
    "plt.axvline(pop_2.mean(), color='b', linestyle='solid', linewidth=2)\n",
    "\n",
    "plt.title('Population')\n",
    "plt.legend(loc = 'upper right')\n",
    "plt.show()"
   ]
  },
  {
   "cell_type": "markdown",
   "metadata": {},
   "source": [
    "#### Sample 1 with p = 0.3"
   ]
  },
  {
   "cell_type": "code",
   "execution_count": 112,
   "metadata": {},
   "outputs": [
    {
     "name": "stdout",
     "output_type": "stream",
     "text": [
      "Sample 1 (p = 0.3)\n",
      "Mean:  2.93\n",
      "Standard Deviation:  1.40893576859\n",
      "\n",
      "\n",
      "Sample 2\n",
      "Mean:  4.7\n",
      "Standard Deviation:  1.51327459504\n"
     ]
    },
    {
     "data": {
      "image/png": "[encoded data removed]",
      "text/plain": [
       "<matplotlib.figure.Figure at 0x118bc54e0>"
      ]
     },
     "metadata": {},
     "output_type": "display_data"
    }
   ],
   "source": [
    "sample_1_take_2 = np.random.choice(pop_1_take_2, 100, replace=True)\n",
    "\n",
    "print('Sample 1 (p = 0.3)')\n",
    "print('Mean: ', sample_1_take_2.mean())\n",
    "print('Standard Deviation: ', sample_1_take_2.std())\n",
    "print('\\n')\n",
    "\n",
    "print('Sample 2')\n",
    "print('Mean: ', sample_2.mean())\n",
    "print('Standard Deviation: ', sample_2.std())\n",
    "\n",
    "plt.hist(sample_1_take_2, alpha = 0.5, color = 'c', label='Sample 1')\n",
    "plt.hist(sample_2, alpha = 0.5, color = 'b', label='Sample 2')\n",
    "\n",
    "plt.axvline(sample_1_take_2.mean(), color='c', linestyle='solid', linewidth=2)\n",
    "plt.axvline(sample_2.mean(), color='b', linestyle='solid', linewidth=2)\n",
    "\n",
    "plt.title('Sample of Size 100 (p = 0.3)')\n",
    "plt.legend(loc = 'upper right')\n",
    "plt.show()"
   ]
  },
  {
   "cell_type": "markdown",
   "metadata": {},
   "source": [
    "#### Population 1 with p = 0.4"
   ]
  },
  {
   "cell_type": "code",
   "execution_count": 113,
   "metadata": {},
   "outputs": [
    {
     "name": "stdout",
     "output_type": "stream",
     "text": [
      "Population 1 (p = 0.4)\n",
      "Mean:  3.898\n",
      "Standard Deviation:  1.47295485335\n",
      "\n",
      "\n",
      "Population 2\n",
      "Mean:  4.95\n",
      "Standard Deviation:  1.51509075636\n"
     ]
    },
    {
     "data": {
      "image/png": "[encoded data removed]",
      "text/plain": [
       "<matplotlib.figure.Figure at 0x118ce1550>"
      ]
     },
     "metadata": {},
     "output_type": "display_data"
    }
   ],
   "source": [
    "pop_1_take_3 = np.random.binomial(10, 0.4, 1000);\n",
    "\n",
    "print('Population 1 (p = 0.4)')\n",
    "print('Mean: ', pop_1_take_3.mean())\n",
    "print('Standard Deviation: ', pop_1_take_3.std())\n",
    "print('\\n')\n",
    "\n",
    "print('Population 2')\n",
    "print('Mean: ', pop_2.mean())\n",
    "print('Standard Deviation: ', pop_2.std())\n",
    "\n",
    "plt.hist(pop_1_take_3, alpha = 0.5, color = 'c', label='Population 1')\n",
    "plt.hist(pop_2, alpha = 0.5, color = 'b', label='Population 2')\n",
    "\n",
    "plt.axvline(pop_1_take_3.mean(), color='c', linestyle='solid', linewidth=2)\n",
    "plt.axvline(pop_2.mean(), color='b', linestyle='solid', linewidth=2)\n",
    "\n",
    "plt.title('Population')\n",
    "plt.legend(loc = 'upper right')\n",
    "plt.show()"
   ]
  },
  {
   "cell_type": "markdown",
   "metadata": {},
   "source": [
    "#### Sample 1 with p = 0.4"
   ]
  },
  {
   "cell_type": "code",
   "execution_count": 114,
   "metadata": {},
   "outputs": [
    {
     "name": "stdout",
     "output_type": "stream",
     "text": [
      "Sample 1 (p = 0.4)\n",
      "Mean:  3.68\n",
      "Standard Deviation:  1.42042247237\n",
      "\n",
      "\n",
      "Sample 2\n",
      "Mean:  4.7\n",
      "Standard Deviation:  1.51327459504\n"
     ]
    },
    {
     "data": {
      "image/png": "[encoded data removed]",
      "text/plain": [
       "<matplotlib.figure.Figure at 0x118b0b400>"
      ]
     },
     "metadata": {},
     "output_type": "display_data"
    }
   ],
   "source": [
    "sample_1_take_3 = np.random.choice(pop_1_take_3, 100, replace=True)\n",
    "\n",
    "print('Sample 1 (p = 0.4)')\n",
    "print('Mean: ', sample_1_take_3.mean())\n",
    "print('Standard Deviation: ', sample_1_take_3.std())\n",
    "print('\\n')\n",
    "\n",
    "print('Sample 2')\n",
    "print('Mean: ', sample_2.mean())\n",
    "print('Standard Deviation: ', sample_2.std())\n",
    "\n",
    "plt.hist(sample_1_take_3, alpha = 0.5, color = 'c', label='Sample 1')\n",
    "plt.hist(sample_2, alpha = 0.5, color = 'b', label='Sample 2')\n",
    "\n",
    "plt.axvline(sample_1_take_3.mean(), color='c', linestyle='solid', linewidth=2)\n",
    "plt.axvline(sample_2.mean(), color='b', linestyle='solid', linewidth=2)\n",
    "\n",
    "plt.title('Sample of Size 100 (p = 0.4)')\n",
    "plt.legend(loc = 'upper right')\n",
    "plt.show()"
   ]
  },
  {
   "cell_type": "markdown",
   "metadata": {},
   "source": [
    "Changing the p for Population 1 to be higher (0.2 to 0.3, then 0.4) and closer to the p for Population 2 (0.5) brings the means of the 2 populations and their corresponding samples closer together. "
   ]
  },
  {
   "cell_type": "markdown",
   "metadata": {},
   "source": [
    "### 3. Change the distribution of your populations from binomial to a distribution of your choice. Do the sample mean values still accurately represent the population values?"
   ]
  },
  {
   "cell_type": "code",
   "execution_count": 115,
   "metadata": {},
   "outputs": [
    {
     "name": "stdout",
     "output_type": "stream",
     "text": [
      "Population 1\n",
      "Mean:  4.905\n",
      "Standard Deviation:  4.42763763197\n",
      "\n",
      "\n",
      "Population 2\n",
      "Mean:  1.98\n",
      "Standard Deviation:  1.40128512445\n"
     ]
    },
    {
     "data": {
      "image/png": "[encoded data removed]",
      "text/plain": [
       "<matplotlib.figure.Figure at 0x118811940>"
      ]
     },
     "metadata": {},
     "output_type": "display_data"
    }
   ],
   "source": [
    "pop_1_geometric = np.random.geometric(0.2, 1000);\n",
    "pop_2_geometric = np.random.geometric(0.5, 1000);\n",
    "\n",
    "print('Population 1')\n",
    "print('Mean: ', pop_1_geometric.mean())\n",
    "print('Standard Deviation: ', pop_1_geometric.std())\n",
    "print('\\n')\n",
    "\n",
    "print('Population 2')\n",
    "print('Mean: ', pop_2_geometric.mean())\n",
    "print('Standard Deviation: ', pop_2_geometric.std())\n",
    "\n",
    "plt.hist(pop_1_geometric, alpha = 0.5, color = 'c', label='Population 1')\n",
    "plt.hist(pop_2_geometric, alpha = 0.5, color = 'b', label='Population 2')\n",
    "\n",
    "plt.axvline(pop_1_geometric.mean(), color='c', linestyle='solid', linewidth=2)\n",
    "plt.axvline(pop_2_geometric.mean(), color='b', linestyle='solid', linewidth=2)\n",
    "\n",
    "plt.title('Population')\n",
    "plt.legend(loc = 'upper right')\n",
    "plt.show()"
   ]
  },
  {
   "cell_type": "markdown",
   "metadata": {},
   "source": [
    "The sample mean values no longer accurately represent the population values in a geometric distribution, because a geometric distribution is not normal or even symmetrical."
   ]
  }
 ],
 "metadata": {
  "kernelspec": {
   "display_name": "Python 3",
   "language": "python",
   "name": "python3"
  },
  "language_info": {
   "codemirror_mode": {
    "name": "ipython",
    "version": 3
   },
   "file_extension": ".py",
   "mimetype": "text/x-python",
   "name": "python",
   "nbconvert_exporter": "python",
   "pygments_lexer": "ipython3",
   "version": "3.6.4"
  }
 },
 "nbformat": 4,
 "nbformat_minor": 2
}
