{
 "cells": [
  {
   "cell_type": "markdown",
   "metadata": {},
   "source": [
    "# Capstone Analytic Report and Research Proposal"
   ]
  },
  {
   "cell_type": "code",
   "execution_count": 174,
   "metadata": {},
   "outputs": [],
   "source": [
    "import numpy as np\n",
    "import pandas as pd\n",
    "import matplotlib.pyplot as plt\n",
    "import statistics"
   ]
  },
  {
   "cell_type": "markdown",
   "metadata": {},
   "source": [
    "## 1. Describe and explore a dataset. \n",
    "### What does your data contain, and what is its background? Where does it come from? Why is it interesting or significant?\n",
    "\n",
    "I will be exploring mass shootings that have taken place in the United States in the last 50 years (1966-2017). The dataset contains detailed information of 398 mass shootings in the United States of America that killed 1996 and injured 2488 people, and was originally sourced from public datasets and web pages (e.g. Wikipedia, Mother Jones, Stanford, USA Today, etc.).\n",
    "\n",
    "The data contains attributes that track information like date, location, victim and police fatalities, the shooter's details (age, race, gender), and cause. A full list of the attributes, as well as previous versions of this dataset can be found on the dataset's [Kaggle page](https://www.kaggle.com/zusmani/us-mass-shootings-last-50-years/data).\n",
    "\n",
    "I found this dataset interesting, because many people have bemoaned the advent of \"Big Data\" for potentially letting data scientists wield math and statistics incorrectly to reinforce preexisting biases in our society. In the hands of an ill-steered or misinformed data scientist, for example, financial data may recommend against loans for historically lower-income demographic groups, or recommend a higher insurance premium for applicants who live in a particular county. It is up to the humans, the data science practitioners, to intervene and assess the conclusions the data is surfacing to determine which of them are logically sound. \n",
    "\n",
    "A dataset that combines race and crime data in particular, especially on a social issue as emotionally charged as mass shootings / gun rights, seems ripe for misinterpreting and stereotype-reinforcing if analyzed incorrectly. I wanted to work with this data because I wanted practice making sound conclusions about complex data. I first became interested in data science, because I wanted to be literate in this new \"language\" to  counter the many incorrect conclusions that will inevitably be derived via inappropriate statistical practices – especially in this increasingly data-driven world.\n",
    "\n",
    "[Add notes about sources of uncertainty – how was data collected? Assumptions?]\n",
    "\n",
    "Below is an excerpt of the raw data and some summary statistics about its columns."
   ]
  },
  {
   "cell_type": "code",
   "execution_count": 175,
   "metadata": {},
   "outputs": [
    {
     "data": {
      "text/html": [
       "<div>\n",
       "<style scoped>\n",
       "    .dataframe tbody tr th:only-of-type {\n",
       "        vertical-align: middle;\n",
       "    }\n",
       "\n",
       "    .dataframe tbody tr th {\n",
       "        vertical-align: top;\n",
       "    }\n",
       "\n",
       "    .dataframe thead th {\n",
       "        text-align: right;\n",
       "    }\n",
       "</style>\n",
       "<table border=\"1\" class=\"dataframe\">\n",
       "  <thead>\n",
       "    <tr style=\"text-align: right;\">\n",
       "      <th></th>\n",
       "      <th>S#</th>\n",
       "      <th>Title</th>\n",
       "      <th>Location</th>\n",
       "      <th>Date</th>\n",
       "      <th>Incident Area</th>\n",
       "      <th>Open/Close Location</th>\n",
       "      <th>Target</th>\n",
       "      <th>Cause</th>\n",
       "      <th>Summary</th>\n",
       "      <th>Fatalities</th>\n",
       "      <th>...</th>\n",
       "      <th>Total victims</th>\n",
       "      <th>Policeman Killed</th>\n",
       "      <th>Age</th>\n",
       "      <th>Employeed (Y/N)</th>\n",
       "      <th>Employed at</th>\n",
       "      <th>Mental Health Issues</th>\n",
       "      <th>Race</th>\n",
       "      <th>Gender</th>\n",
       "      <th>Latitude</th>\n",
       "      <th>Longitude</th>\n",
       "    </tr>\n",
       "  </thead>\n",
       "  <tbody>\n",
       "    <tr>\n",
       "      <th>0</th>\n",
       "      <td>1</td>\n",
       "      <td>Texas church mass shooting</td>\n",
       "      <td>Sutherland Springs, TX</td>\n",
       "      <td>11/5/2017</td>\n",
       "      <td>Church</td>\n",
       "      <td>Close</td>\n",
       "      <td>random</td>\n",
       "      <td>unknown</td>\n",
       "      <td>Devin Patrick Kelley, 26, an ex-air force offi...</td>\n",
       "      <td>26</td>\n",
       "      <td>...</td>\n",
       "      <td>46</td>\n",
       "      <td>0.0</td>\n",
       "      <td>26</td>\n",
       "      <td>NaN</td>\n",
       "      <td>NaN</td>\n",
       "      <td>No</td>\n",
       "      <td>White</td>\n",
       "      <td>M</td>\n",
       "      <td>NaN</td>\n",
       "      <td>NaN</td>\n",
       "    </tr>\n",
       "    <tr>\n",
       "      <th>1</th>\n",
       "      <td>2</td>\n",
       "      <td>Walmart shooting in suburban Denver</td>\n",
       "      <td>Thornton, CO</td>\n",
       "      <td>11/1/2017</td>\n",
       "      <td>Wal-Mart</td>\n",
       "      <td>Open</td>\n",
       "      <td>random</td>\n",
       "      <td>unknown</td>\n",
       "      <td>Scott Allen Ostrem, 47, walked into a Walmart ...</td>\n",
       "      <td>3</td>\n",
       "      <td>...</td>\n",
       "      <td>3</td>\n",
       "      <td>0.0</td>\n",
       "      <td>47</td>\n",
       "      <td>NaN</td>\n",
       "      <td>NaN</td>\n",
       "      <td>No</td>\n",
       "      <td>White</td>\n",
       "      <td>M</td>\n",
       "      <td>NaN</td>\n",
       "      <td>NaN</td>\n",
       "    </tr>\n",
       "    <tr>\n",
       "      <th>2</th>\n",
       "      <td>3</td>\n",
       "      <td>Edgewood businees park shooting</td>\n",
       "      <td>Edgewood, MD</td>\n",
       "      <td>10/18/2017</td>\n",
       "      <td>Remodeling Store</td>\n",
       "      <td>Close</td>\n",
       "      <td>coworkers</td>\n",
       "      <td>unknown</td>\n",
       "      <td>Radee Labeeb Prince, 37, fatally shot three pe...</td>\n",
       "      <td>3</td>\n",
       "      <td>...</td>\n",
       "      <td>6</td>\n",
       "      <td>0.0</td>\n",
       "      <td>37</td>\n",
       "      <td>NaN</td>\n",
       "      <td>Advance Granite Store</td>\n",
       "      <td>No</td>\n",
       "      <td>Black</td>\n",
       "      <td>M</td>\n",
       "      <td>NaN</td>\n",
       "      <td>NaN</td>\n",
       "    </tr>\n",
       "    <tr>\n",
       "      <th>3</th>\n",
       "      <td>4</td>\n",
       "      <td>Las Vegas Strip mass shooting</td>\n",
       "      <td>Las Vegas, NV</td>\n",
       "      <td>10/1/2017</td>\n",
       "      <td>Las Vegas Strip Concert outside Mandala Bay</td>\n",
       "      <td>Open</td>\n",
       "      <td>random</td>\n",
       "      <td>unknown</td>\n",
       "      <td>Stephen Craig Paddock, opened fire from the 32...</td>\n",
       "      <td>59</td>\n",
       "      <td>...</td>\n",
       "      <td>585</td>\n",
       "      <td>1.0</td>\n",
       "      <td>64</td>\n",
       "      <td>NaN</td>\n",
       "      <td>NaN</td>\n",
       "      <td>Unclear</td>\n",
       "      <td>White</td>\n",
       "      <td>M</td>\n",
       "      <td>36.181271</td>\n",
       "      <td>-115.134132</td>\n",
       "    </tr>\n",
       "    <tr>\n",
       "      <th>4</th>\n",
       "      <td>5</td>\n",
       "      <td>San Francisco UPS shooting</td>\n",
       "      <td>San Francisco, CA</td>\n",
       "      <td>6/14/2017</td>\n",
       "      <td>UPS facility</td>\n",
       "      <td>Close</td>\n",
       "      <td>coworkers</td>\n",
       "      <td>NaN</td>\n",
       "      <td>Jimmy Lam, 38, fatally shot three coworkers an...</td>\n",
       "      <td>3</td>\n",
       "      <td>...</td>\n",
       "      <td>5</td>\n",
       "      <td>0.0</td>\n",
       "      <td>38</td>\n",
       "      <td>1.0</td>\n",
       "      <td>NaN</td>\n",
       "      <td>Yes</td>\n",
       "      <td>Asian</td>\n",
       "      <td>M</td>\n",
       "      <td>NaN</td>\n",
       "      <td>NaN</td>\n",
       "    </tr>\n",
       "  </tbody>\n",
       "</table>\n",
       "<p>5 rows × 21 columns</p>\n",
       "</div>"
      ],
      "text/plain": [
       "   S#                                Title                Location  \\\n",
       "0   1           Texas church mass shooting  Sutherland Springs, TX   \n",
       "1   2  Walmart shooting in suburban Denver            Thornton, CO   \n",
       "2   3      Edgewood businees park shooting            Edgewood, MD   \n",
       "3   4        Las Vegas Strip mass shooting           Las Vegas, NV   \n",
       "4   5           San Francisco UPS shooting       San Francisco, CA   \n",
       "\n",
       "         Date                                Incident Area  \\\n",
       "0   11/5/2017                                       Church   \n",
       "1   11/1/2017                                     Wal-Mart   \n",
       "2  10/18/2017                             Remodeling Store   \n",
       "3   10/1/2017  Las Vegas Strip Concert outside Mandala Bay   \n",
       "4   6/14/2017                                 UPS facility   \n",
       "\n",
       "  Open/Close Location     Target    Cause  \\\n",
       "0               Close     random  unknown   \n",
       "1                Open     random  unknown   \n",
       "2               Close  coworkers  unknown   \n",
       "3                Open     random  unknown   \n",
       "4               Close  coworkers      NaN   \n",
       "\n",
       "                                             Summary  Fatalities     ...      \\\n",
       "0  Devin Patrick Kelley, 26, an ex-air force offi...          26     ...       \n",
       "1  Scott Allen Ostrem, 47, walked into a Walmart ...           3     ...       \n",
       "2  Radee Labeeb Prince, 37, fatally shot three pe...           3     ...       \n",
       "3  Stephen Craig Paddock, opened fire from the 32...          59     ...       \n",
       "4  Jimmy Lam, 38, fatally shot three coworkers an...           3     ...       \n",
       "\n",
       "   Total victims  Policeman Killed  Age Employeed (Y/N)  \\\n",
       "0             46               0.0   26             NaN   \n",
       "1              3               0.0   47             NaN   \n",
       "2              6               0.0   37             NaN   \n",
       "3            585               1.0   64             NaN   \n",
       "4              5               0.0   38             1.0   \n",
       "\n",
       "             Employed at Mental Health Issues   Race Gender   Latitude  \\\n",
       "0                    NaN                   No  White      M        NaN   \n",
       "1                    NaN                   No  White      M        NaN   \n",
       "2  Advance Granite Store                   No  Black      M        NaN   \n",
       "3                    NaN              Unclear  White      M  36.181271   \n",
       "4                    NaN                  Yes  Asian      M        NaN   \n",
       "\n",
       "    Longitude  \n",
       "0         NaN  \n",
       "1         NaN  \n",
       "2         NaN  \n",
       "3 -115.134132  \n",
       "4         NaN  \n",
       "\n",
       "[5 rows x 21 columns]"
      ]
     },
     "execution_count": 175,
     "metadata": {},
     "output_type": "execute_result"
    }
   ],
   "source": [
    "df = pd.read_csv('mass_shootings_v_5.csv', encoding = \"ISO-8859-1\")\n",
    "df.head()"
   ]
  },
  {
   "cell_type": "markdown",
   "metadata": {},
   "source": [
    "### Conduct summary statistics and produce visualizations for the variables you use."
   ]
  },
  {
   "cell_type": "markdown",
   "metadata": {},
   "source": [
    "This dataset contains the following columns:\n",
    "\n",
    "- **S#**: unique ID for the shooting in the dataset\n",
    "- **Title**: name given to the shooting\n",
    "- **Location**: city and state that the shooting took place\n",
    "- **Date**: date of the shooting\n",
    "- **Incident Area**: specific area of the shooting\n",
    "- **Open/Close Location**: whether the shooting happened in an open or closed space\n",
    "- **Target**: people targeted by the shooter\n",
    "- **Cause**: shooter's rationale for the shooting\n",
    "- **Summary**: description of the shooting\n",
    "- **Fatalities**: # of people the shooter killed (including himself/herself, if suicide shooting)\n",
    "- **Injured**: # of people the shooter injured\n",
    "- **Total victims**: # of people the shooter killed or injured\n",
    "- **Policeman Killed**: # of police officers killed by shooter\n",
    "- **Age**: age of the shooter(s)\n",
    "- **Employeed (Y/N)**: whether shooter was employed or not\n",
    "- **Employed at**: place of employment for shooter\n",
    "- **Mental Health Issues**: whether shooter had mental health issues\n",
    "- **Race**: race of the shooter\n",
    "- **Gender**: gender of the shooter(s)\n",
    "- **Latitude**: latitude coordinate for shooting\n",
    "- **Longitude**: longitude coordinate for shooting\n",
    "\n",
    "I will be focusing on 4 main attributes about the shooter – his/her age, race, employment status, and gender (columns **Age**, **Race**, **Employeed (Y/N)**, and **Gender**, respectively) – for my preliminary exploration of the data."
   ]
  },
  {
   "cell_type": "markdown",
   "metadata": {},
   "source": [
    "First, I want to explore the age breakdown of shooters. I can see from the data that I will need to account for `NaN` values, as well as rows in which there are 2 comma-separated values (for 2-person shootings)."
   ]
  },
  {
   "cell_type": "code",
   "execution_count": 176,
   "metadata": {},
   "outputs": [
    {
     "data": {
      "text/plain": [
       "array(['26', '47', '37', '64', '38', '24', '45', '43', '39', '20', nan,\n",
       "       '25', '29', '0', '42', '57', '21', '27', '22', '19', '34', '44',\n",
       "       '23', '12', '40', '59', '33', '70', '15', '36', '19,32', '17', '41',\n",
       "       '32', '19,22', '28', '52', '18', '14', '16', '48', '66', '13',\n",
       "       '17,18', '13,11', '35', '55', '50', '31', '30', '15,16', '51'], dtype=object)"
      ]
     },
     "execution_count": 176,
     "metadata": {},
     "output_type": "execute_result"
    }
   ],
   "source": [
    "df['Age'].unique()"
   ]
  },
  {
   "cell_type": "markdown",
   "metadata": {},
   "source": [
    "I will remove all `NaN` values, parse the `Age` column so I can get all shooters' ages (even those involved in 2-person shootings), and then plot all `Age` values to get a sense of that data."
   ]
  },
  {
   "cell_type": "code",
   "execution_count": 177,
   "metadata": {},
   "outputs": [
    {
     "name": "stdout",
     "output_type": "stream",
     "text": [
      "Mean:  31.3641304348\n",
      "Median:  30.0\n"
     ]
    },
    {
     "data": {
      "image/png": "[encoded data removed]",
      "text/plain": [
       "<matplotlib.figure.Figure at 0x11f2ec780>"
      ]
     },
     "metadata": {},
     "output_type": "display_data"
    }
   ],
   "source": [
    "ages_without_nans = df[pd.notnull(df['Age'])]\n",
    "\n",
    "def get_age(age):\n",
    "    return ['nan' if each_age == 'nan' else int(each_age) for each_age in str(age).split(',')]\n",
    "\n",
    "age_col = ages_without_nans['Age'].apply(get_age)\n",
    "all_non_null_ages = np.concatenate(age_col.values.tolist())\n",
    "\n",
    "print('Mean: ', all_non_null_ages.mean())\n",
    "print('Median: ', np.median(all_non_null_ages))\n",
    "\n",
    "plt.boxplot(all_non_null_ages)\n",
    "plt.show()"
   ]
  },
  {
   "cell_type": "markdown",
   "metadata": {},
   "source": [
    "Next, I want to see the race breakdown of shooters. I can see from the data that the `Race` column needs to be cleaned to have consistent labeling ('White', 'Black', 'Asian', 'Latino', 'Native American', 'Biracial', 'Other', 'Unknown')."
   ]
  },
  {
   "cell_type": "code",
   "execution_count": 178,
   "metadata": {},
   "outputs": [
    {
     "data": {
      "image/png": "[encoded data removed]",
      "text/plain": [
       "<matplotlib.figure.Figure at 0x11f0e8d30>"
      ]
     },
     "metadata": {},
     "output_type": "display_data"
    }
   ],
   "source": [
    "races_without_nans = df[pd.notnull(df['Race'])]\n",
    "\n",
    "race_dict = {\n",
    "    'Asian American': 'Asian',\n",
    "    'Asian American/Some other race': 'Asian',\n",
    "    'Black American or African American': 'Black',\n",
    "    'Black American or African American/Unknown': 'Black',\n",
    "    'Native American or Alaska Native': 'Native American',\n",
    "    'Some other race': 'Other',\n",
    "    'Two or more races': 'Biracial',\n",
    "    'White American or European American': 'White',\n",
    "    'White American or European American/Some other Race': 'White',\n",
    "    'black': 'Black',\n",
    "    'white': 'White'\n",
    "}\n",
    "races_without_nans = races_without_nans.replace({'Race': race_dict})\n",
    "unique_races = races_without_nans['Race'].unique()\n",
    "race_breakdown = races_without_nans.groupby('Race').count()\n",
    "race_sizes = [race_breakdown['S#'][x] for x in unique_races]\n",
    "\n",
    "plt.figure(figsize=(20,10))\n",
    "plt.bar(unique_races, race_sizes, color='c', alpha=0.5)\n",
    "plt.show()"
   ]
  },
  {
   "cell_type": "markdown",
   "metadata": {},
   "source": [
    "Next, I want to see the employment breakdown of shooters."
   ]
  },
  {
   "cell_type": "code",
   "execution_count": 179,
   "metadata": {},
   "outputs": [
    {
     "data": {
      "image/png": "[encoded data removed]",
      "text/plain": [
       "<matplotlib.figure.Figure at 0x11f1ef1d0>"
      ]
     },
     "metadata": {},
     "output_type": "display_data"
    }
   ],
   "source": [
    "employments_without_nans = df[pd.notnull(df['Employeed (Y/N)'])]\n",
    "\n",
    "unique_employed_answers = employments_without_nans['Employeed (Y/N)'].unique()\n",
    "employment_breakdown = employments_without_nans.groupby('Employeed (Y/N)').count()\n",
    "employment_levels = [employment_breakdown['S#'][x] for x in unique_employed_answers]\n",
    "\n",
    "plt.bar(['Employed', 'Not Employed'], employment_levels, color='orange', alpha=0.5)\n",
    "plt.show()"
   ]
  },
  {
   "cell_type": "markdown",
   "metadata": {},
   "source": [
    "Lastly, I want to see the gender breakdown of shooters. I can see from the data that the `Gender` column needs to be cleaned to have consistent labeling ('M', 'F', 'M/F', and 'Unknown')."
   ]
  },
  {
   "cell_type": "code",
   "execution_count": 180,
   "metadata": {},
   "outputs": [
    {
     "data": {
      "image/png": "[encoded data removed]",
      "text/plain": [
       "<matplotlib.figure.Figure at 0x11f185f98>"
      ]
     },
     "metadata": {},
     "output_type": "display_data"
    }
   ],
   "source": [
    "gender_dict = {\n",
    "    'Female': 'F',\n",
    "    'Male': 'M',\n",
    "    'Male/Female': 'M/F'\n",
    "}\n",
    "df = df.replace({\"Gender\": gender_dict})\n",
    "unique_genders = df['Gender'].unique()\n",
    "gender_breakdown = df.groupby('Gender').count()\n",
    "gender_levels = [gender_breakdown['S#'][x] for x in unique_genders]\n",
    "\n",
    "plt.bar(unique_genders, gender_levels, color=\"c\", alpha=0.5)\n",
    "plt.show()"
   ]
  },
  {
   "cell_type": "markdown",
   "metadata": {},
   "source": [
    "## 2. Ask and answer 3 analytic questions with a combination of statistics and visualizations."
   ]
  },
  {
   "cell_type": "markdown",
   "metadata": {},
   "source": [
    "### a) Which state has experienced the highest number of mass shootings?"
   ]
  },
  {
   "cell_type": "code",
   "execution_count": 193,
   "metadata": {},
   "outputs": [
    {
     "data": {
      "image/png": "[encoded data removed]",
      "text/plain": [
       "<matplotlib.figure.Figure at 0x114643dd8>"
      ]
     },
     "metadata": {},
     "output_type": "display_data"
    }
   ],
   "source": [
    "locations_without_nans = df[pd.notnull(df['Location'])]\n",
    "locations_without_nans = locations_without_nans[locations_without_nans['Location'].apply(lambda x: len(x.split(', ')) == 2)]\n",
    "locations_without_nans['Location'] = locations_without_nans['Location'].apply(lambda x: x.split(', ')[1])\n",
    "locations_without_nans['Location'].unique()\n",
    "\n",
    "# find the one that is length 3 and length 1\n",
    "\n",
    "locations_dict = {\n",
    "    'TX': 'Texas',\n",
    "    'CO': 'Colorado',\n",
    "    'MD': 'Maryland',\n",
    "    'NV': 'Nevada',\n",
    "    'CA': 'California',\n",
    "    'PA': 'Pennsylvania'\n",
    "}\n",
    "\n",
    "# map through dict\n",
    "# use real data for states here\n",
    "plt.bar(['CA', 'VA', 'OH'], [42, 63, 23], color = 'orange', alpha = 0.5)\n",
    "plt.show()"
   ]
  },
  {
   "cell_type": "markdown",
   "metadata": {},
   "source": [
    "It is clear from the chart that shootings most often happen ______.\n",
    "\n",
    "### b) What are the causes of mass shootings perpetrated by mentally ill shooters vs. by those who are not mentally ill?\n",
    "\n",
    "I can see from the data that the `Mental Health Issues` and `Cause` columns need to be cleaned to have consistent labeling."
   ]
  },
  {
   "cell_type": "code",
   "execution_count": 183,
   "metadata": {},
   "outputs": [
    {
     "data": {
      "text/plain": [
       "array(['unknown', nan, 'terrorism', 'unemployement', 'racism',\n",
       "       'frustration', 'domestic dispute', 'anger', 'psycho', 'revenge',\n",
       "       'domestic disputer', 'suspension', 'religious radicalism', 'drunk',\n",
       "       'failing exams', 'breakup', 'robbery'], dtype=object)"
      ]
     },
     "execution_count": 183,
     "metadata": {},
     "output_type": "execute_result"
    }
   ],
   "source": [
    "df['Mental Health Issues'].unique()\n",
    "df['Cause'].unique()"
   ]
  },
  {
   "cell_type": "markdown",
   "metadata": {},
   "source": [
    "I will normalize the `Mental Health Issues` column so that each field is either 'Yes', 'No', or 'Unknown'. I will group the various causes in the `Cause` column to fall within 7 main categories: 'unknown', 'extremism', 'incident of failure', 'personal', 'mental', 'physical', and 'money'."
   ]
  },
  {
   "cell_type": "code",
   "execution_count": 184,
   "metadata": {},
   "outputs": [
    {
     "name": "stdout",
     "output_type": "stream",
     "text": [
      "['Unknown' nan 'Extremist Ideology' 'Incident of Failure' 'Personal Issues'\n",
      " 'Mental Incapacitation' 'Physical Incapacitation' 'Money']\n",
      "Unique Mental Health Issues:  ['No' 'Unknown' 'Yes']\n"
     ]
    }
   ],
   "source": [
    "mental_dict = {\n",
    "    'Unclear': 'Unknown',\n",
    "    'unknown': 'Unknown'\n",
    "}\n",
    "\n",
    "cause_dict = {\n",
    "    'unknown': 'Unknown',\n",
    "    \n",
    "    'unemployement': 'Incident of Failure',\n",
    "    'failing exams': 'Incident of Failure',\n",
    "    'suspension': 'Incident of Failure',\n",
    "    'breakup': 'Incident of Failure',\n",
    "    \n",
    "    'terrorism': 'Extremist Ideology',\n",
    "    'religious radicalism': 'Extremist Ideology',\n",
    "    'racism': 'Extremist Ideology',\n",
    "    \n",
    "    'domestic dispute': 'Personal Issues',\n",
    "    'domestic disputer': 'Personal Issues',\n",
    "    'revenge': 'Personal Issues',\n",
    "    'anger': 'Personal Issues',\n",
    "    'frustration': 'Personal Issues',\n",
    "    \n",
    "    'drunk': 'Physical Incapacitation',\n",
    "    \n",
    "    'psycho': 'Mental Incapacitation',\n",
    "    \n",
    "    'robbery': 'Money'\n",
    "}\n",
    "\n",
    "df = df.replace({\"Mental Health Issues\": mental_dict})\n",
    "df = df.replace({\"Cause\": cause_dict})\n",
    "print(df['Cause'].unique())\n",
    "\n",
    "unique_mentals = df['Mental Health Issues'].unique()\n",
    "df = df.replace({\"Mental Health Issues\": mental_dict})\n",
    "mental_breakdown = df.groupby('Mental Health Issues').count()\n",
    "\n",
    "print('Unique Mental Health Issues: ', unique_mentals)"
   ]
  },
  {
   "cell_type": "code",
   "execution_count": 185,
   "metadata": {},
   "outputs": [
    {
     "name": "stdout",
     "output_type": "stream",
     "text": [
      "                       Mental Health Issues\n",
      "Cause                                      \n",
      "Extremist Ideology                       30\n",
      "Incident of Failure                       7\n",
      "Mental Incapacitation                    31\n",
      "Personal Issues                          23\n"
     ]
    }
   ],
   "source": [
    "no_null_mental = df[pd.notnull(df['Mental Health Issues'])]\n",
    "no_null_cause = no_null_mental[pd.notnull(df['Cause'])]\n",
    "\n",
    "no_null_mentals_or_causes = no_null_cause[['Mental Health Issues', 'Cause']]\n",
    "mentally_ill = no_null_mentals_or_causes[no_null_mentals_or_causes['Mental Health Issues'] == 'Yes']\n",
    "\n",
    "ill_unique_causes = mentally_ill['Cause'].unique()\n",
    "ill_mental_cause_breakdown = mentally_ill.groupby('Cause').count()\n",
    "print(ill_mental_cause_breakdown)"
   ]
  },
  {
   "cell_type": "code",
   "execution_count": 186,
   "metadata": {},
   "outputs": [
    {
     "data": {
      "image/png": "[encoded data removed]",
      "text/plain": [
       "<matplotlib.figure.Figure at 0x113e7d198>"
      ]
     },
     "metadata": {},
     "output_type": "display_data"
    }
   ],
   "source": [
    "ill_cause_sizes = [ill_mental_cause_breakdown['Mental Health Issues'][cause] for cause in ill_unique_causes]\n",
    "ill_cause_explode = (0, 0, 0, 0)\n",
    "\n",
    "plt.title('Causes of Mass Shootings Perpetrated by Mentally Ill Shooters')\n",
    "plt.pie(ill_cause_sizes, explode=ill_cause_explode, labels=ill_unique_causes, autopct='%1.1f%%', startangle=45)\n",
    "plt.axis('equal')\n",
    "plt.show()"
   ]
  },
  {
   "cell_type": "code",
   "execution_count": 187,
   "metadata": {},
   "outputs": [
    {
     "name": "stdout",
     "output_type": "stream",
     "text": [
      "                         Mental Health Issues\n",
      "Cause                                        \n",
      "Extremist Ideology                         17\n",
      "Incident of Failure                         7\n",
      "Mental Incapacitation                      20\n",
      "Money                                       1\n",
      "Personal Issues                            27\n",
      "Physical Incapacitation                     1\n",
      "Unknown                                     3\n"
     ]
    }
   ],
   "source": [
    "not_mentally_ill = no_null_mentals_or_causes[no_null_mentals_or_causes['Mental Health Issues'] == 'No']\n",
    "\n",
    "not_ill_unique_causes = not_mentally_ill['Cause'].unique()\n",
    "not_ill_mental_cause_breakdown = not_mentally_ill.groupby('Cause').count()\n",
    "print(not_ill_mental_cause_breakdown)"
   ]
  },
  {
   "cell_type": "code",
   "execution_count": 188,
   "metadata": {},
   "outputs": [
    {
     "data": {
      "image/png": "[encoded data removed]",
      "text/plain": [
       "<matplotlib.figure.Figure at 0x11f15ba20>"
      ]
     },
     "metadata": {},
     "output_type": "display_data"
    }
   ],
   "source": [
    "not_ill_cause_sizes = [not_ill_mental_cause_breakdown['Mental Health Issues'][cause] for cause in not_ill_unique_causes]\n",
    "not_ill_cause_explode = (0, 0, 0, 0, 0, 0, 0)\n",
    "\n",
    "plt.title('Causes of Mass Shootings Perpetrated by Not Mentally Ill Shooters')\n",
    "plt.pie(not_ill_cause_sizes, explode=not_ill_cause_explode, labels=not_ill_unique_causes, autopct='%1.1f%%', startangle=45)\n",
    "plt.axis('equal')\n",
    "plt.show()"
   ]
  },
  {
   "cell_type": "markdown",
   "metadata": {},
   "source": [
    "### c) Why do shooters (by gender, by race) commit mass shootings?"
   ]
  },
  {
   "cell_type": "markdown",
   "metadata": {},
   "source": [
    "## 3. Make a proposal for a realistic future research project on this dataset that would use some data science techniques you'd like to learn in the bootcamp. It should present one or more clear questions, then describe the techniques needed to arrive at an answer."
   ]
  },
  {
   "cell_type": "markdown",
   "metadata": {},
   "source": [
    "a) I'd like to be able to create a heat map using the latitude and longitude of each shooting's location to answer the question \"Where do mass shootings most often occur?\"\n",
    "\n",
    "To do this, I would have to learn how to find an accepted map tile or mapping library to accomplish this – perhaps from an API somewhere– or learn how to use a custom image and configure accordingly. I would also have to learn how to position data points appropriately on that image given its scale and each data point's latitude and longitude (i.e. x and y coordinates).\n",
    "\n",
    "b) I'd also like to be able to display a series of Venn Diagrams that answer the question \"For each category of mass shooting cause, what proportion of them were committed by [insert race here] / [insert mental health issue here] people?\"\n",
    "\n",
    "To do this, I would have to learn what `matplotlib` method to use (or find a different library that would allow me to do this). I would also have to learn how to format the data to be compatible with this method / library."
   ]
  },
  {
   "cell_type": "code",
   "execution_count": null,
   "metadata": {},
   "outputs": [],
   "source": []
  }
 ],
 "metadata": {
  "kernelspec": {
   "display_name": "Python 3",
   "language": "python",
   "name": "python3"
  },
  "language_info": {
   "codemirror_mode": {
    "name": "ipython",
    "version": 3
   },
   "file_extension": ".py",
   "mimetype": "text/x-python",
   "name": "python",
   "nbconvert_exporter": "python",
   "pygments_lexer": "ipython3",
   "version": "3.6.4"
  }
 },
 "nbformat": 4,
 "nbformat_minor": 2
}
