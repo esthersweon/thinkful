{
 "cells": [
  {
   "cell_type": "markdown",
   "metadata": {},
   "source": [
    "# Challenge: Model Comparison\n",
    "\n",
    "You now know 2 kinds of regression models and 2 kinds of classifier models. Comparing models is something data scientists do all the time. Learning to choose the best model for a given situation is very important.\n",
    "\n",
    "Find a dataset and build a KNN Regression and an OLS regression. How similar are they? Do they miss in different ways?\n",
    "\n",
    "Describe the models' behaviors and why you favor 1 model or the other. Is there a situation where you would change your mind, or whether one is unambiguously better than the other? Lastly, what is it about the data that causes the better model to outperform the weaker model?"
   ]
  },
  {
   "cell_type": "markdown",
   "metadata": {},
   "source": [
    "## Feedback\n",
    "What is the difference between sklearn.linear_model and statsmodels.formula.api.ols? I believe I could do more feature engineering here to make sure my KNN model performs better. I'm having trouble explaining why my OLS model so dramatically outperforms my KNN one.\n",
    "\n",
    "Looks like you are not comparing apples to apples. I have observations\n",
    "- You are training KNN of X_train and testing on X_test while regression model you are training on complete dataset.\n",
    "- Cross Val score gives you the mean of R^2 score of 5 folds of data while you are comparing it with R^2 of the complete dataset on linear regression. Either you compare R^2 of complete data in KNN (google and find out how to get that :)) or take cross val score of 5 folds in linear regression. \n",
    "Things will be clear when you do this.\n",
    "Also sklearn.linear_model and statsmodels.formula.api.ols are both same in working on regression.\n",
    "\n",
    "\n",
    "One more feedback for you is that you don't explore the dataset before making the model, once you explore distributions, scatter, box plots etc in the data you will also find out why KNN is working better than regression or vice versa.\n",
    "\n",
    "\n",
    "## Data Source\n",
    "\n",
    "I will be looking at Boston housing data, found via [Kaggle](https://www.kaggle.com/c/boston-housing/data).\n",
    "\n",
    "## Exploring the Data"
   ]
  },
  {
   "cell_type": "code",
   "execution_count": 1,
   "metadata": {},
   "outputs": [
    {
     "data": {
      "text/html": [
       "<div>\n",
       "<style scoped>\n",
       "    .dataframe tbody tr th:only-of-type {\n",
       "        vertical-align: middle;\n",
       "    }\n",
       "\n",
       "    .dataframe tbody tr th {\n",
       "        vertical-align: top;\n",
       "    }\n",
       "\n",
       "    .dataframe thead th {\n",
       "        text-align: right;\n",
       "    }\n",
       "</style>\n",
       "<table border=\"1\" class=\"dataframe\">\n",
       "  <thead>\n",
       "    <tr style=\"text-align: right;\">\n",
       "      <th></th>\n",
       "      <th>crim</th>\n",
       "      <th>zn</th>\n",
       "      <th>indus</th>\n",
       "      <th>chas</th>\n",
       "      <th>nox</th>\n",
       "      <th>rm</th>\n",
       "      <th>age</th>\n",
       "      <th>dis</th>\n",
       "      <th>rad</th>\n",
       "      <th>tax</th>\n",
       "      <th>ptratio</th>\n",
       "      <th>black</th>\n",
       "      <th>lstat</th>\n",
       "      <th>medv</th>\n",
       "    </tr>\n",
       "    <tr>\n",
       "      <th>ID</th>\n",
       "      <th></th>\n",
       "      <th></th>\n",
       "      <th></th>\n",
       "      <th></th>\n",
       "      <th></th>\n",
       "      <th></th>\n",
       "      <th></th>\n",
       "      <th></th>\n",
       "      <th></th>\n",
       "      <th></th>\n",
       "      <th></th>\n",
       "      <th></th>\n",
       "      <th></th>\n",
       "      <th></th>\n",
       "    </tr>\n",
       "  </thead>\n",
       "  <tbody>\n",
       "    <tr>\n",
       "      <th>1</th>\n",
       "      <td>0.00632</td>\n",
       "      <td>18.0</td>\n",
       "      <td>2.31</td>\n",
       "      <td>0</td>\n",
       "      <td>0.538</td>\n",
       "      <td>6.575</td>\n",
       "      <td>65.2</td>\n",
       "      <td>4.0900</td>\n",
       "      <td>1</td>\n",
       "      <td>296</td>\n",
       "      <td>15.3</td>\n",
       "      <td>396.90</td>\n",
       "      <td>4.98</td>\n",
       "      <td>24.0</td>\n",
       "    </tr>\n",
       "    <tr>\n",
       "      <th>2</th>\n",
       "      <td>0.02731</td>\n",
       "      <td>0.0</td>\n",
       "      <td>7.07</td>\n",
       "      <td>0</td>\n",
       "      <td>0.469</td>\n",
       "      <td>6.421</td>\n",
       "      <td>78.9</td>\n",
       "      <td>4.9671</td>\n",
       "      <td>2</td>\n",
       "      <td>242</td>\n",
       "      <td>17.8</td>\n",
       "      <td>396.90</td>\n",
       "      <td>9.14</td>\n",
       "      <td>21.6</td>\n",
       "    </tr>\n",
       "    <tr>\n",
       "      <th>4</th>\n",
       "      <td>0.03237</td>\n",
       "      <td>0.0</td>\n",
       "      <td>2.18</td>\n",
       "      <td>0</td>\n",
       "      <td>0.458</td>\n",
       "      <td>6.998</td>\n",
       "      <td>45.8</td>\n",
       "      <td>6.0622</td>\n",
       "      <td>3</td>\n",
       "      <td>222</td>\n",
       "      <td>18.7</td>\n",
       "      <td>394.63</td>\n",
       "      <td>2.94</td>\n",
       "      <td>33.4</td>\n",
       "    </tr>\n",
       "    <tr>\n",
       "      <th>5</th>\n",
       "      <td>0.06905</td>\n",
       "      <td>0.0</td>\n",
       "      <td>2.18</td>\n",
       "      <td>0</td>\n",
       "      <td>0.458</td>\n",
       "      <td>7.147</td>\n",
       "      <td>54.2</td>\n",
       "      <td>6.0622</td>\n",
       "      <td>3</td>\n",
       "      <td>222</td>\n",
       "      <td>18.7</td>\n",
       "      <td>396.90</td>\n",
       "      <td>5.33</td>\n",
       "      <td>36.2</td>\n",
       "    </tr>\n",
       "    <tr>\n",
       "      <th>7</th>\n",
       "      <td>0.08829</td>\n",
       "      <td>12.5</td>\n",
       "      <td>7.87</td>\n",
       "      <td>0</td>\n",
       "      <td>0.524</td>\n",
       "      <td>6.012</td>\n",
       "      <td>66.6</td>\n",
       "      <td>5.5605</td>\n",
       "      <td>5</td>\n",
       "      <td>311</td>\n",
       "      <td>15.2</td>\n",
       "      <td>395.60</td>\n",
       "      <td>12.43</td>\n",
       "      <td>22.9</td>\n",
       "    </tr>\n",
       "  </tbody>\n",
       "</table>\n",
       "</div>"
      ],
      "text/plain": [
       "       crim    zn  indus  chas    nox     rm   age     dis  rad  tax  ptratio  \\\n",
       "ID                                                                              \n",
       "1   0.00632  18.0   2.31     0  0.538  6.575  65.2  4.0900    1  296     15.3   \n",
       "2   0.02731   0.0   7.07     0  0.469  6.421  78.9  4.9671    2  242     17.8   \n",
       "4   0.03237   0.0   2.18     0  0.458  6.998  45.8  6.0622    3  222     18.7   \n",
       "5   0.06905   0.0   2.18     0  0.458  7.147  54.2  6.0622    3  222     18.7   \n",
       "7   0.08829  12.5   7.87     0  0.524  6.012  66.6  5.5605    5  311     15.2   \n",
       "\n",
       "     black  lstat  medv  \n",
       "ID                       \n",
       "1   396.90   4.98  24.0  \n",
       "2   396.90   9.14  21.6  \n",
       "4   394.63   2.94  33.4  \n",
       "5   396.90   5.33  36.2  \n",
       "7   395.60  12.43  22.9  "
      ]
     },
     "execution_count": 1,
     "metadata": {},
     "output_type": "execute_result"
    }
   ],
   "source": [
    "import numpy as np  \n",
    "import pandas as pd\n",
    "import matplotlib.pyplot as plt\n",
    "from sklearn.model_selection import train_test_split\n",
    "from sklearn.preprocessing import StandardScaler\n",
    "from sklearn.neighbors import KNeighborsRegressor as KNNRegressor\n",
    "from sklearn import linear_model\n",
    "import statsmodels.formula.api as smf\n",
    "import seaborn as sns\n",
    "from sklearn.model_selection import cross_val_score\n",
    "\n",
    "df = pd.read_csv('./data/boston_housing.csv', header=0)  \n",
    "df.set_index('ID', inplace=True)\n",
    "\n",
    "df.head()"
   ]
  },
  {
   "cell_type": "code",
   "execution_count": 2,
   "metadata": {},
   "outputs": [
    {
     "data": {
      "text/html": [
       "<div>\n",
       "<style scoped>\n",
       "    .dataframe tbody tr th:only-of-type {\n",
       "        vertical-align: middle;\n",
       "    }\n",
       "\n",
       "    .dataframe tbody tr th {\n",
       "        vertical-align: top;\n",
       "    }\n",
       "\n",
       "    .dataframe thead th {\n",
       "        text-align: right;\n",
       "    }\n",
       "</style>\n",
       "<table border=\"1\" class=\"dataframe\">\n",
       "  <thead>\n",
       "    <tr style=\"text-align: right;\">\n",
       "      <th></th>\n",
       "      <th>CrimePerCapita</th>\n",
       "      <th>RatioResidentialLandOver25KSqFt</th>\n",
       "      <th>RatioNonRetailAcres</th>\n",
       "      <th>AvgRooms</th>\n",
       "      <th>RatioBuiltPre1940</th>\n",
       "      <th>AvgDistancesToEmployment</th>\n",
       "      <th>PropTaxRatePer10K</th>\n",
       "      <th>RatioPupilTeacher</th>\n",
       "      <th>PercentLowerStatus</th>\n",
       "      <th>MedianValue</th>\n",
       "    </tr>\n",
       "    <tr>\n",
       "      <th>ID</th>\n",
       "      <th></th>\n",
       "      <th></th>\n",
       "      <th></th>\n",
       "      <th></th>\n",
       "      <th></th>\n",
       "      <th></th>\n",
       "      <th></th>\n",
       "      <th></th>\n",
       "      <th></th>\n",
       "      <th></th>\n",
       "    </tr>\n",
       "  </thead>\n",
       "  <tbody>\n",
       "    <tr>\n",
       "      <th>1</th>\n",
       "      <td>0.00632</td>\n",
       "      <td>18.0</td>\n",
       "      <td>2.31</td>\n",
       "      <td>6.575</td>\n",
       "      <td>65.2</td>\n",
       "      <td>4.0900</td>\n",
       "      <td>296</td>\n",
       "      <td>15.3</td>\n",
       "      <td>4.98</td>\n",
       "      <td>24.0</td>\n",
       "    </tr>\n",
       "    <tr>\n",
       "      <th>2</th>\n",
       "      <td>0.02731</td>\n",
       "      <td>0.0</td>\n",
       "      <td>7.07</td>\n",
       "      <td>6.421</td>\n",
       "      <td>78.9</td>\n",
       "      <td>4.9671</td>\n",
       "      <td>242</td>\n",
       "      <td>17.8</td>\n",
       "      <td>9.14</td>\n",
       "      <td>21.6</td>\n",
       "    </tr>\n",
       "    <tr>\n",
       "      <th>4</th>\n",
       "      <td>0.03237</td>\n",
       "      <td>0.0</td>\n",
       "      <td>2.18</td>\n",
       "      <td>6.998</td>\n",
       "      <td>45.8</td>\n",
       "      <td>6.0622</td>\n",
       "      <td>222</td>\n",
       "      <td>18.7</td>\n",
       "      <td>2.94</td>\n",
       "      <td>33.4</td>\n",
       "    </tr>\n",
       "    <tr>\n",
       "      <th>5</th>\n",
       "      <td>0.06905</td>\n",
       "      <td>0.0</td>\n",
       "      <td>2.18</td>\n",
       "      <td>7.147</td>\n",
       "      <td>54.2</td>\n",
       "      <td>6.0622</td>\n",
       "      <td>222</td>\n",
       "      <td>18.7</td>\n",
       "      <td>5.33</td>\n",
       "      <td>36.2</td>\n",
       "    </tr>\n",
       "    <tr>\n",
       "      <th>7</th>\n",
       "      <td>0.08829</td>\n",
       "      <td>12.5</td>\n",
       "      <td>7.87</td>\n",
       "      <td>6.012</td>\n",
       "      <td>66.6</td>\n",
       "      <td>5.5605</td>\n",
       "      <td>311</td>\n",
       "      <td>15.2</td>\n",
       "      <td>12.43</td>\n",
       "      <td>22.9</td>\n",
       "    </tr>\n",
       "  </tbody>\n",
       "</table>\n",
       "</div>"
      ],
      "text/plain": [
       "    CrimePerCapita  RatioResidentialLandOver25KSqFt  RatioNonRetailAcres  \\\n",
       "ID                                                                         \n",
       "1          0.00632                             18.0                 2.31   \n",
       "2          0.02731                              0.0                 7.07   \n",
       "4          0.03237                              0.0                 2.18   \n",
       "5          0.06905                              0.0                 2.18   \n",
       "7          0.08829                             12.5                 7.87   \n",
       "\n",
       "    AvgRooms  RatioBuiltPre1940  AvgDistancesToEmployment  PropTaxRatePer10K  \\\n",
       "ID                                                                             \n",
       "1      6.575               65.2                    4.0900                296   \n",
       "2      6.421               78.9                    4.9671                242   \n",
       "4      6.998               45.8                    6.0622                222   \n",
       "5      7.147               54.2                    6.0622                222   \n",
       "7      6.012               66.6                    5.5605                311   \n",
       "\n",
       "    RatioPupilTeacher  PercentLowerStatus  MedianValue  \n",
       "ID                                                      \n",
       "1                15.3                4.98         24.0  \n",
       "2                17.8                9.14         21.6  \n",
       "4                18.7                2.94         33.4  \n",
       "5                18.7                5.33         36.2  \n",
       "7                15.2               12.43         22.9  "
      ]
     },
     "execution_count": 2,
     "metadata": {},
     "output_type": "execute_result"
    }
   ],
   "source": [
    "# Get rid of unwanted features\n",
    "df = df.drop(['chas', 'nox', 'rad', 'black'], axis=1)\n",
    "\n",
    "# Rename columns to be more intuitive\n",
    "df = df.rename(index=str, columns={\n",
    "    \"crim\": \"CrimePerCapita\", \n",
    "    \"zn\": \"RatioResidentialLandOver25KSqFt\",\n",
    "    \"indus\": \"RatioNonRetailAcres\",\n",
    "    \"rm\": \"AvgRooms\",\n",
    "    \"age\": \"RatioBuiltPre1940\",\n",
    "    \"dis\": \"AvgDistancesToEmployment\",\n",
    "    \"tax\": \"PropTaxRatePer10K\",\n",
    "    \"ptratio\": \"RatioPupilTeacher\",\n",
    "    \"lstat\": \"PercentLowerStatus\",\n",
    "    \"medv\": \"MedianValue\"\n",
    "})\n",
    "\n",
    "df.head()"
   ]
  },
  {
   "cell_type": "code",
   "execution_count": 3,
   "metadata": {},
   "outputs": [
    {
     "data": {
      "text/plain": [
       "<matplotlib.axes._subplots.AxesSubplot at 0x1a14348b38>"
      ]
     },
     "execution_count": 3,
     "metadata": {},
     "output_type": "execute_result"
    },
    {
     "data": {
      "image/png": "[encoded data removed]",
      "text/plain": [
       "<matplotlib.figure.Figure at 0x10e83c128>"
      ]
     },
     "metadata": {},
     "output_type": "display_data"
    }
   ],
   "source": [
    "sns.heatmap(df.corr())"
   ]
  },
  {
   "cell_type": "code",
   "execution_count": 19,
   "metadata": {},
   "outputs": [
    {
     "data": {
      "image/png": "[encoded data removed]",
      "text/plain": [
       "<matplotlib.figure.Figure at 0x1a1e20df60>"
      ]
     },
     "metadata": {},
     "output_type": "display_data"
    }
   ],
   "source": [
    "plt.figure(figsize=(20,10))\n",
    "\n",
    "plt.subplot('221')\n",
    "plt.scatter(df['RatioResidentialLandOver25KSqFt'].values, df['MedianValue'].values)\n",
    "plt.title('Ratio of Residential Land (25K+ Sq. Ft) vs. Median Value of Home')\n",
    "\n",
    "plt.subplot('222')\n",
    "plt.scatter(df['AvgRooms'].values, df['MedianValue'].values)\n",
    "plt.title('Average # of Rooms vs. Median Value of Home')\n",
    "\n",
    "plt.subplot('223')\n",
    "plt.scatter(df['AvgDistancesToEmployment'].values, df['MedianValue'].values)\n",
    "plt.title('Average Distances to Employment vs. Median Value of Home')\n",
    "\n",
    "plt.subplot('224')\n",
    "plt.scatter(df['PercentLowerStatus'].values, df['MedianValue'].values)\n",
    "plt.title('Percent Lower Status vs. Median Value of Home')\n",
    "\n",
    "plt.show()"
   ]
  },
  {
   "cell_type": "code",
   "execution_count": 22,
   "metadata": {},
   "outputs": [
    {
     "data": {
      "image/png": "[encoded data removed]",
      "text/plain": [
       "<matplotlib.figure.Figure at 0x1a1dd50978>"
      ]
     },
     "metadata": {},
     "output_type": "display_data"
    }
   ],
   "source": [
    "plt.figure(figsize=(20,10))\n",
    "\n",
    "plt.subplot('221')\n",
    "plt.boxplot(df['RatioResidentialLandOver25KSqFt'].values)\n",
    "plt.title('Ratio of Residential Land (25K+ Sq. Ft)')\n",
    "\n",
    "plt.subplot('222')\n",
    "plt.boxplot(df['AvgRooms'].values)\n",
    "plt.title('Average # of Rooms')\n",
    "\n",
    "plt.subplot('223')\n",
    "plt.boxplot(df['AvgDistancesToEmployment'].values)\n",
    "plt.title('Average Distances to Employment')\n",
    "\n",
    "plt.subplot('224')\n",
    "plt.boxplot(df['PercentLowerStatus'].values)\n",
    "plt.title('Percent Lower Status')\n",
    "\n",
    "plt.show()"
   ]
  },
  {
   "cell_type": "code",
   "execution_count": null,
   "metadata": {},
   "outputs": [],
   "source": [
    "# REMOVE OUTLIERS\n",
    "\n",
    "# df=pd.DataFrame({'Data':np.random.normal(size=200)})  #example dataset of normally distributed data. \n",
    "# df[np.abs(df.Data-df.Data.mean())<=(3*df.Data.std())] #keep only the ones that are within +3 to -3 standard deviations in the column 'Data'.\n",
    "# df[~(np.abs(df.Data-df.Data.mean())>(3*df.Data.std()))] #or if you prefer the other way around"
   ]
  },
  {
   "cell_type": "code",
   "execution_count": 6,
   "metadata": {},
   "outputs": [
    {
     "data": {
      "text/html": [
       "<div>\n",
       "<style scoped>\n",
       "    .dataframe tbody tr th:only-of-type {\n",
       "        vertical-align: middle;\n",
       "    }\n",
       "\n",
       "    .dataframe tbody tr th {\n",
       "        vertical-align: top;\n",
       "    }\n",
       "\n",
       "    .dataframe thead th {\n",
       "        text-align: right;\n",
       "    }\n",
       "</style>\n",
       "<table border=\"1\" class=\"dataframe\">\n",
       "  <thead>\n",
       "    <tr style=\"text-align: right;\">\n",
       "      <th></th>\n",
       "      <th>RatioResidentialLandOver25KSqFt</th>\n",
       "      <th>AvgRooms</th>\n",
       "      <th>AvgDistancesToEmployment</th>\n",
       "      <th>PercentLowerStatus</th>\n",
       "      <th>MedianValue</th>\n",
       "    </tr>\n",
       "    <tr>\n",
       "      <th>ID</th>\n",
       "      <th></th>\n",
       "      <th></th>\n",
       "      <th></th>\n",
       "      <th></th>\n",
       "      <th></th>\n",
       "    </tr>\n",
       "  </thead>\n",
       "  <tbody>\n",
       "    <tr>\n",
       "      <th>1</th>\n",
       "      <td>18.0</td>\n",
       "      <td>6.575</td>\n",
       "      <td>4.0900</td>\n",
       "      <td>4.98</td>\n",
       "      <td>24.0</td>\n",
       "    </tr>\n",
       "    <tr>\n",
       "      <th>2</th>\n",
       "      <td>0.0</td>\n",
       "      <td>6.421</td>\n",
       "      <td>4.9671</td>\n",
       "      <td>9.14</td>\n",
       "      <td>21.6</td>\n",
       "    </tr>\n",
       "    <tr>\n",
       "      <th>4</th>\n",
       "      <td>0.0</td>\n",
       "      <td>6.998</td>\n",
       "      <td>6.0622</td>\n",
       "      <td>2.94</td>\n",
       "      <td>33.4</td>\n",
       "    </tr>\n",
       "    <tr>\n",
       "      <th>5</th>\n",
       "      <td>0.0</td>\n",
       "      <td>7.147</td>\n",
       "      <td>6.0622</td>\n",
       "      <td>5.33</td>\n",
       "      <td>36.2</td>\n",
       "    </tr>\n",
       "    <tr>\n",
       "      <th>7</th>\n",
       "      <td>12.5</td>\n",
       "      <td>6.012</td>\n",
       "      <td>5.5605</td>\n",
       "      <td>12.43</td>\n",
       "      <td>22.9</td>\n",
       "    </tr>\n",
       "  </tbody>\n",
       "</table>\n",
       "</div>"
      ],
      "text/plain": [
       "    RatioResidentialLandOver25KSqFt  AvgRooms  AvgDistancesToEmployment  \\\n",
       "ID                                                                        \n",
       "1                              18.0     6.575                    4.0900   \n",
       "2                               0.0     6.421                    4.9671   \n",
       "4                               0.0     6.998                    6.0622   \n",
       "5                               0.0     7.147                    6.0622   \n",
       "7                              12.5     6.012                    5.5605   \n",
       "\n",
       "    PercentLowerStatus  MedianValue  \n",
       "ID                                   \n",
       "1                 4.98         24.0  \n",
       "2                 9.14         21.6  \n",
       "4                 2.94         33.4  \n",
       "5                 5.33         36.2  \n",
       "7                12.43         22.9  "
      ]
     },
     "execution_count": 6,
     "metadata": {},
     "output_type": "execute_result"
    }
   ],
   "source": [
    "df = df.drop(['CrimePerCapita', 'RatioNonRetailAcres', 'RatioBuiltPre1940', 'PropTaxRatePer10K', 'RatioPupilTeacher'], axis=1)\n",
    "\n",
    "# TODO: SCALE DATA HERE\n",
    "\n",
    "# Choose predictors based on correlation map\n",
    "X = df.iloc[:, 0:4].values\n",
    "Y = df.iloc[:, 4].values\n",
    "\n",
    "df.head()"
   ]
  },
  {
   "cell_type": "code",
   "execution_count": 7,
   "metadata": {},
   "outputs": [],
   "source": [
    "X_train, X_test, Y_train, Y_test = train_test_split(X, Y, test_size=0.20)  "
   ]
  },
  {
   "cell_type": "code",
   "execution_count": 8,
   "metadata": {},
   "outputs": [],
   "source": [
    "# TODO: YOU NEED TO NORMALIZE ALL DATA AT ONCE SO YOU CAN GET THE CORRECT MEAN, STD DEV, MIN, MAX ETC FOR ALL THE DATA\n",
    "\n",
    "# Normalization vs. scaling\n",
    "# normalization is type of scaling\n",
    "# scaling = changing the unit of the data (not the distribution) - only the range changes\n",
    "# (x - mean) / (std deviation) 0 ~ 1 (NORMALIZATION - z test)\n",
    "# (x - min) / (max - min) 0 ~ 1\n",
    "# (x - mean) / (max - min) -1 ~ `\n",
    "\n",
    "\n",
    "# Normalize features before predicting\n",
    "scaler = StandardScaler()  \n",
    "scaler.fit(X_train)\n",
    "\n",
    "X_train = scaler.transform(X_train)  \n",
    "X_test = scaler.transform(X_test)  "
   ]
  },
  {
   "cell_type": "markdown",
   "metadata": {},
   "source": [
    "## Using KNN Regression"
   ]
  },
  {
   "cell_type": "code",
   "execution_count": 9,
   "metadata": {},
   "outputs": [
    {
     "data": {
      "text/plain": [
       "KNeighborsRegressor(algorithm='auto', leaf_size=30, metric='minkowski',\n",
       "          metric_params=None, n_jobs=1, n_neighbors=5, p=2,\n",
       "          weights='distance')"
      ]
     },
     "execution_count": 9,
     "metadata": {},
     "output_type": "execute_result"
    }
   ],
   "source": [
    "regr_1 = KNNRegressor(n_neighbors=5, weights=\"distance\")  \n",
    "regr_1.fit(X_train, Y_train)  "
   ]
  },
  {
   "cell_type": "code",
   "execution_count": 10,
   "metadata": {},
   "outputs": [],
   "source": [
    "y_pred = regr_1.predict(X_test)"
   ]
  },
  {
   "cell_type": "code",
   "execution_count": 11,
   "metadata": {},
   "outputs": [
    {
     "name": "stdout",
     "output_type": "stream",
     "text": [
      "Weighted Accuracy: 0.31 (+/- 0.57)\n"
     ]
    }
   ],
   "source": [
    "score = cross_val_score(regr_1, X, Y, cv=5)\n",
    "print(\"Weighted Accuracy: %0.2f (+/- %0.2f)\" % (score.mean(), score.std() * 2))"
   ]
  },
  {
   "cell_type": "markdown",
   "metadata": {},
   "source": [
    "## Using OLS Regression"
   ]
  },
  {
   "cell_type": "code",
   "execution_count": 12,
   "metadata": {},
   "outputs": [
    {
     "name": "stdout",
     "output_type": "stream",
     "text": [
      "Weighted Accuracy: 0.16 (+/- 1.24)\n"
     ]
    }
   ],
   "source": [
    "regr_2 = linear_model.LinearRegression()\n",
    "regr_2.fit(X_train, Y_train)\n",
    "regr_2.predict(X_test)\n",
    "\n",
    "score = cross_val_score(regr_2, X, Y, cv=5)\n",
    "print(\"Weighted Accuracy: %0.2f (+/- %0.2f)\" % (score.mean(), score.std() * 2))"
   ]
  },
  {
   "cell_type": "code",
   "execution_count": 13,
   "metadata": {},
   "outputs": [],
   "source": [
    "# linear_formula = 'MedianValue ~ RatioResidentialLandOver25KSqFt + AvgRooms + AvgDistancesToEmployment + PercentLowerStatus'\n",
    "\n",
    "# # Fit model to our data using model formula.\n",
    "# regr_2 = smf.ols(formula=linear_formula, data=df).fit()\n",
    "# print('Params:', regr_2.params)\n",
    "\n",
    "# print('\\nP-Values:', regr_2.pvalues)\n",
    "\n",
    "# print('\\nR-squared (regular vs. adjusted):', regr_2.rsquared, regr_2.rsquared_adj)"
   ]
  },
  {
   "cell_type": "markdown",
   "metadata": {},
   "source": [
    "## Conclusion\n",
    "\n",
    "It seems like my KNN regression model is working better than my OLS model because the data contains a lot of outliers. \n",
    "\n",
    "These outliers may be skewing my OLS regression model, because it penalizes for distance from a single best-fit line. However, the KNN model is unaffected, because it does not care about outliers – only those points most closely neighboring the data point in question.\n",
    "\n",
    "If I remove outliers from the data, my OLS regression model will likely improve, as it is no longer skewed by these outliers. "
   ]
  },
  {
   "cell_type": "code",
   "execution_count": null,
   "metadata": {},
   "outputs": [],
   "source": []
  }
 ],
 "metadata": {
  "kernelspec": {
   "display_name": "Python 3",
   "language": "python",
   "name": "python3"
  },
  "language_info": {
   "codemirror_mode": {
    "name": "ipython",
    "version": 3
   },
   "file_extension": ".py",
   "mimetype": "text/x-python",
   "name": "python",
   "nbconvert_exporter": "python",
   "pygments_lexer": "ipython3",
   "version": "3.6.4"
  }
 },
 "nbformat": 4,
 "nbformat_minor": 2
}
