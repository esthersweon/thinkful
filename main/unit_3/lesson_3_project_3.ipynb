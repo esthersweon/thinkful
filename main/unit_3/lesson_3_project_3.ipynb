{
 "cells": [
  {
   "cell_type": "markdown",
   "metadata": {},
   "source": [
    "# Regularization Parameter: Lasso"
   ]
  },
  {
   "cell_type": "code",
   "execution_count": 1,
   "metadata": {},
   "outputs": [],
   "source": [
    "import pandas as pd\n",
    "from matplotlib import pyplot as plt\n",
    "import numpy as np\n",
    "import math\n",
    "import seaborn as sns\n",
    "import sklearn\n",
    "from sklearn import linear_model\n",
    "from sklearn import preprocessing\n",
    "%matplotlib inline"
   ]
  },
  {
   "cell_type": "markdown",
   "metadata": {},
   "source": [
    "## Training"
   ]
  },
  {
   "cell_type": "code",
   "execution_count": 2,
   "metadata": {},
   "outputs": [],
   "source": [
    "data_url = 'https://vincentarelbundock.github.io/Rdatasets/csv/ISLR/Default.csv'\n",
    "df = pd.read_csv(data_url).iloc[:,1:].dropna()\n",
    "\n",
    "df['default'] = np.where(df['default'] == 'Yes', 1, 0)\n",
    "df['student'] = np.where(df['student'] == 'Yes', 1, 0)\n",
    "df = pd.DataFrame(preprocessing.scale(df), columns=df.columns)\n",
    "\n",
    "num_rows = df.shape[0]\n",
    "trainsize = int(num_rows / 2)\n",
    "df_test = df.iloc[trainsize:, :].copy()\n",
    "df_train = df.iloc[:trainsize, :].copy()\n",
    "\n",
    "# TRAINING - simple model\n",
    "Y_train = df_train['income'].values.reshape(-1, 1)\n",
    "X_train = df_train.loc[:, ~(df_train.columns).isin(['income'])]\n",
    "\n",
    "# New features for more complex model\n",
    "df_train['balance_student'] = df_train['balance'] * df_train['student']\n",
    "df_train['balance_default'] = df_train['balance'] * df_train['default']\n",
    "df_train['student_default'] = df_train['student'] * df_train['default']\n",
    "df_train['balance_sqrt'] = (df_train['balance'] + 100) ** .5\n",
    "df_train['balance2'] = (df_train['balance'] + 100) ** 2\n",
    "df_train['balance3'] = (df_train['balance'] + 100) ** 3\n",
    "\n",
    "# TRAINING – complex model\n",
    "X_train2 = df_train.loc[:, ~(df_train.columns).isin(['income'])]"
   ]
  },
  {
   "cell_type": "code",
   "execution_count": 3,
   "metadata": {},
   "outputs": [
    {
     "data": {
      "text/html": [
       "<div>\n",
       "<style scoped>\n",
       "    .dataframe tbody tr th:only-of-type {\n",
       "        vertical-align: middle;\n",
       "    }\n",
       "\n",
       "    .dataframe tbody tr th {\n",
       "        vertical-align: top;\n",
       "    }\n",
       "\n",
       "    .dataframe thead th {\n",
       "        text-align: right;\n",
       "    }\n",
       "</style>\n",
       "<table border=\"1\" class=\"dataframe\">\n",
       "  <thead>\n",
       "    <tr style=\"text-align: right;\">\n",
       "      <th></th>\n",
       "      <th>default</th>\n",
       "      <th>student</th>\n",
       "      <th>balance</th>\n",
       "      <th>income</th>\n",
       "    </tr>\n",
       "  </thead>\n",
       "  <tbody>\n",
       "    <tr>\n",
       "      <th>0</th>\n",
       "      <td>-0.185599</td>\n",
       "      <td>-0.645936</td>\n",
       "      <td>-0.218835</td>\n",
       "      <td>0.813187</td>\n",
       "    </tr>\n",
       "    <tr>\n",
       "      <th>1</th>\n",
       "      <td>-0.185599</td>\n",
       "      <td>1.548141</td>\n",
       "      <td>-0.037616</td>\n",
       "      <td>-1.605496</td>\n",
       "    </tr>\n",
       "    <tr>\n",
       "      <th>2</th>\n",
       "      <td>-0.185599</td>\n",
       "      <td>-0.645936</td>\n",
       "      <td>0.492410</td>\n",
       "      <td>-0.131212</td>\n",
       "    </tr>\n",
       "    <tr>\n",
       "      <th>3</th>\n",
       "      <td>-0.185599</td>\n",
       "      <td>-0.645936</td>\n",
       "      <td>-0.632893</td>\n",
       "      <td>0.164031</td>\n",
       "    </tr>\n",
       "    <tr>\n",
       "      <th>4</th>\n",
       "      <td>-0.185599</td>\n",
       "      <td>-0.645936</td>\n",
       "      <td>-0.102791</td>\n",
       "      <td>0.370915</td>\n",
       "    </tr>\n",
       "  </tbody>\n",
       "</table>\n",
       "</div>"
      ],
      "text/plain": [
       "    default   student   balance    income\n",
       "0 -0.185599 -0.645936 -0.218835  0.813187\n",
       "1 -0.185599  1.548141 -0.037616 -1.605496\n",
       "2 -0.185599 -0.645936  0.492410 -0.131212\n",
       "3 -0.185599 -0.645936 -0.632893  0.164031\n",
       "4 -0.185599 -0.645936 -0.102791  0.370915"
      ]
     },
     "execution_count": 3,
     "metadata": {},
     "output_type": "execute_result"
    }
   ],
   "source": [
    "df.head()"
   ]
  },
  {
   "cell_type": "markdown",
   "metadata": {},
   "source": [
    "## Testing"
   ]
  },
  {
   "cell_type": "code",
   "execution_count": 4,
   "metadata": {},
   "outputs": [],
   "source": [
    "# TESTING - simple model\n",
    "Y_test = df_test['income'].values.reshape(-1, 1)\n",
    "X_test = df_test.loc[:, ~(df_test.columns).isin(['income'])]\n",
    "\n",
    "# New features for more complex model\n",
    "df_test['balance_student'] = df_test['balance'] * df_test['student']\n",
    "df_test['balance_default'] = df_test['balance'] * df_test['default']\n",
    "df_test['student_default'] = df_test['student'] * df_test['default']\n",
    "df_test['balance_sqrt'] = (df_test['balance'] + 100) ** .5\n",
    "df_test['balance2'] = (df_test['balance'] + 100) ** 2\n",
    "df_test['balance3'] = (df_test['balance'] + 100) ** 3\n",
    "\n",
    "# TESTING - complex model\n",
    "X_test2 = df_test.loc[:, ~(df_test.columns).isin(['income'])]"
   ]
  },
  {
   "cell_type": "markdown",
   "metadata": {},
   "source": [
    "## Ridge Regression"
   ]
  },
  {
   "cell_type": "code",
   "execution_count": 5,
   "metadata": {},
   "outputs": [
    {
     "name": "stdout",
     "output_type": "stream",
     "text": [
      "SIMPLE RIDGE MODEL:\n",
      " {'R²': 0.573873916440288, 'coef': array([[ 1.36988466e-02, -7.57859433e-01, -3.25298557e-04]]), 'intercept': 0.0, 'score': 0.5631088763076704} \n",
      "\n",
      "COMPLEX RIDGE MODEL:\n",
      " {'R²': 0.5739464289613441, 'coef': array([[-2.18345205e-03, -7.57156891e-01,  4.77049992e-02,\n",
      "        -3.66908529e-03,  9.52109450e-03, -3.78154074e-03,\n",
      "        -4.47224221e-03,  4.83414403e-04, -4.79227770e-06]]), 'intercept': 0.0, 'score': 0.5631804323930691}\n"
     ]
    }
   ],
   "source": [
    "def run_ridge_model(alpha, x, y, x_test, y_test):\n",
    "    ridgeregr = linear_model.Ridge(alpha=alpha, fit_intercept=False) \n",
    "    ridgeregr = ridgeregr.fit(x, y)\n",
    "    answer = {'R²': ridgeregr.score(x, y), 'coef': ridgeregr.coef_, 'intercept': ridgeregr.intercept_, 'score': ridgeregr.score(x_test, y_test)}\n",
    "    return answer\n",
    "\n",
    "print('SIMPLE RIDGE MODEL:\\n', run_ridge_model(10, X_train, Y_train, X_test, Y_test), '\\n')\n",
    "print('COMPLEX RIDGE MODEL:\\n', run_ridge_model(10, X_train2, Y_train, X_test2, Y_test))"
   ]
  },
  {
   "cell_type": "markdown",
   "metadata": {},
   "source": [
    "## Lasso Regression"
   ]
  },
  {
   "cell_type": "code",
   "execution_count": 6,
   "metadata": {},
   "outputs": [
    {
     "name": "stdout",
     "output_type": "stream",
     "text": [
      "SIMPLE LASSO MODEL:\n",
      " {'R²': 0.450062579301185, 'coef': array([-0.        , -0.40657726, -0.        ]), 'intercept': array([0.00114596]), 'score': 0.44553225151184195} \n",
      "\n",
      "COMPLEX LASSO MODEL:\n",
      " {'R²': 0.44363376712897096, 'coef': array([ 0.00000000e+00, -3.89351238e-01,  0.00000000e+00, -0.00000000e+00,\n",
      "        0.00000000e+00, -0.00000000e+00,  0.00000000e+00, -2.77688887e-04,\n",
      "       -7.09158792e-07]), 'intercept': array([3.48711577]), 'score': 0.4380466345914476}\n"
     ]
    }
   ],
   "source": [
    "def run_lasso_model(alpha, x, y, x_test, y_test):\n",
    "    lass = linear_model.Lasso(alpha=alpha)\n",
    "    lassfit = lass.fit(x, y)\n",
    "    answer = {'R²': lass.score(x, y), 'coef': lassfit.coef_, 'intercept': lassfit.intercept_, 'score': lass.score(x_test, y_test)}\n",
    "    return answer\n",
    "\n",
    "print('SIMPLE LASSO MODEL:\\n', run_lasso_model(0.35, X_train, Y_train, X_test, Y_test), '\\n')\n",
    "print('COMPLEX LASSO MODEL:\\n', run_lasso_model(0.35, X_train2, Y_train, X_test2, Y_test))"
   ]
  },
  {
   "cell_type": "markdown",
   "metadata": {},
   "source": [
    "### Evaluating Predictive Power"
   ]
  },
  {
   "cell_type": "markdown",
   "metadata": {},
   "source": [
    "The $\\lambda$ for lasso can var between 0 (no penalty, acts like OLS) and infinity. If $\\lambda$ is too large, all parameters will be set to zero.\n",
    "\n",
    "Create a plot below of how $R^2$ varies across different values of $\\lambda$ for ridge and lasso regression. Use logic and code similar to the ridge regression demonstration above, and base your plot on the X_train2 feature set.\n",
    "\n",
    "Do lasso and ridge yield the same $R^2$ for a given lambda value?"
   ]
  },
  {
   "cell_type": "code",
   "execution_count": 7,
   "metadata": {},
   "outputs": [
    {
     "name": "stdout",
     "output_type": "stream",
     "text": [
      "Ridge R²:\n",
      " [0.5739723428183948, 0.5739723420360705, 0.5739723417959217, 0.5739723413444702, 0.5739723222458902, 0.57397230391113, 0.5739722663409714, 0.5739717725978604] \n",
      "\n",
      "Lasso R²:\n",
      " [0.573936967457606, 0.5738731293203243, 0.5738351365391186, 0.5737681044618193, 0.5710532985531875, 0.5685046614224027, 0.5630894936716484, 0.4781445089581402]\n"
     ]
    },
    {
     "name": "stderr",
     "output_type": "stream",
     "text": [
      "/anaconda3/lib/python3.6/site-packages/sklearn/linear_model/ridge.py:112: LinAlgWarning: scipy.linalg.solve\n",
      "Ill-conditioned matrix detected. Result is not guaranteed to be accurate.\n",
      "Reciprocal condition number1.822571e-19\n",
      "  overwrite_a=True).T\n",
      "/anaconda3/lib/python3.6/site-packages/sklearn/linear_model/coordinate_descent.py:491: ConvergenceWarning: Objective did not converge. You might want to increase the number of iterations. Fitting data with very small alpha may cause precision problems.\n",
      "  ConvergenceWarning)\n",
      "/anaconda3/lib/python3.6/site-packages/sklearn/linear_model/ridge.py:112: LinAlgWarning: scipy.linalg.solve\n",
      "Ill-conditioned matrix detected. Result is not guaranteed to be accurate.\n",
      "Reciprocal condition number9.111439e-19\n",
      "  overwrite_a=True).T\n",
      "/anaconda3/lib/python3.6/site-packages/sklearn/linear_model/coordinate_descent.py:491: ConvergenceWarning: Objective did not converge. You might want to increase the number of iterations. Fitting data with very small alpha may cause precision problems.\n",
      "  ConvergenceWarning)\n",
      "/anaconda3/lib/python3.6/site-packages/sklearn/linear_model/ridge.py:112: LinAlgWarning: scipy.linalg.solve\n",
      "Ill-conditioned matrix detected. Result is not guaranteed to be accurate.\n",
      "Reciprocal condition number1.275667e-18\n",
      "  overwrite_a=True).T\n",
      "/anaconda3/lib/python3.6/site-packages/sklearn/linear_model/ridge.py:112: LinAlgWarning: scipy.linalg.solve\n",
      "Ill-conditioned matrix detected. Result is not guaranteed to be accurate.\n",
      "Reciprocal condition number1.822550e-18\n",
      "  overwrite_a=True).T\n",
      "/anaconda3/lib/python3.6/site-packages/sklearn/linear_model/ridge.py:112: LinAlgWarning: scipy.linalg.solve\n",
      "Ill-conditioned matrix detected. Result is not guaranteed to be accurate.\n",
      "Reciprocal condition number9.125420e-18\n",
      "  overwrite_a=True).T\n",
      "/anaconda3/lib/python3.6/site-packages/sklearn/linear_model/ridge.py:112: LinAlgWarning: scipy.linalg.solve\n",
      "Ill-conditioned matrix detected. Result is not guaranteed to be accurate.\n",
      "Reciprocal condition number1.278438e-17\n",
      "  overwrite_a=True).T\n",
      "/anaconda3/lib/python3.6/site-packages/sklearn/linear_model/ridge.py:112: LinAlgWarning: scipy.linalg.solve\n",
      "Ill-conditioned matrix detected. Result is not guaranteed to be accurate.\n",
      "Reciprocal condition number1.828186e-17\n",
      "  overwrite_a=True).T\n",
      "/anaconda3/lib/python3.6/site-packages/sklearn/linear_model/ridge.py:112: LinAlgWarning: scipy.linalg.solve\n",
      "Ill-conditioned matrix detected. Result is not guaranteed to be accurate.\n",
      "Reciprocal condition number5.518077e-17\n",
      "  overwrite_a=True).T\n"
     ]
    }
   ],
   "source": [
    "all_lambdas = [.001, .005, .007, .01, .05, .07, .1, .3]\n",
    "r_squareds_for_ridge = []\n",
    "r_squareds_for_lasso = []\n",
    "\n",
    "# Common to start with lasso bc it's less strict and penalizes less (to see most important features) \n",
    "# – shows which to not use bc coefficients can go to zero\n",
    "\n",
    "# Any regression in between?\n",
    "\n",
    "# Common to use ridge at end to optimize to get rid of unnecessary features \n",
    "# --> cannot make coefficients go to zero\n",
    "\n",
    "# elastinet? both lasso and ridge – both regressions\n",
    "\n",
    "for lamb in all_lambdas:\n",
    "    #     penalty on largest coefficient\n",
    "    #     ax + b + lambda * sum of square of all coefficients (lambda is penalty for the coefficients)\n",
    "    r_squareds_for_ridge.append(run_ridge_model(lamb, X_train2, Y_train, X_test2, Y_test)['R²'])\n",
    "    \n",
    "    #     penalty is less than ridge\n",
    "    #     lasso can make coefficient 0\n",
    "    #     ax + b + lambda * sum of all coefficients (lambda is penalty for the coefficients)\n",
    "    #     if lambda = 0, it is regular regression (no penalty)\n",
    "    r_squareds_for_lasso.append(run_lasso_model(lamb, X_train2, Y_train, X_test2, Y_test)['R²'])\n",
    "\n",
    "print('Ridge R²:\\n', r_squareds_for_ridge, '\\n')\n",
    "print('Lasso R²:\\n', r_squareds_for_lasso)"
   ]
  },
  {
   "cell_type": "code",
   "execution_count": 8,
   "metadata": {},
   "outputs": [
    {
     "data": {
      "image/png": "[encoded data removed]",
      "text/plain": [
       "<Figure size 720x360 with 1 Axes>"
      ]
     },
     "metadata": {},
     "output_type": "display_data"
    }
   ],
   "source": [
    "plt.figure(figsize=(10,5))\n",
    "\n",
    "plt.scatter(all_lambdas, r_squareds_for_ridge)\n",
    "plt.plot(all_lambdas, r_squareds_for_ridge, label=\"Ridge\")\n",
    "\n",
    "plt.scatter(all_lambdas, r_squareds_for_lasso)\n",
    "plt.plot(all_lambdas, r_squareds_for_lasso, label=\"Lasso\")\n",
    "\n",
    "plt.title('R² for Ridge vs. Lasso Regression')\n",
    "plt.xlabel('alphas')\n",
    "plt.ylabel('R²')\n",
    "plt.legend()\n",
    "\n",
    "plt.show()"
   ]
  },
  {
   "cell_type": "code",
   "execution_count": null,
   "metadata": {},
   "outputs": [],
   "source": []
  },
  {
   "cell_type": "code",
   "execution_count": null,
   "metadata": {},
   "outputs": [],
   "source": []
  }
 ],
 "metadata": {
  "kernelspec": {
   "display_name": "Python 3",
   "language": "python",
   "name": "python3"
  },
  "language_info": {
   "codemirror_mode": {
    "name": "ipython",
    "version": 3
   },
   "file_extension": ".py",
   "mimetype": "text/x-python",
   "name": "python",
   "nbconvert_exporter": "python",
   "pygments_lexer": "ipython3",
   "version": "3.6.5"
  }
 },
 "nbformat": 4,
 "nbformat_minor": 2
}
