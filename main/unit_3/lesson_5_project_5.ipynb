{
 "cells": [
  {
   "cell_type": "markdown",
   "metadata": {},
   "source": [
    "# Challenge: what model can answer this question?\n",
    "\n",
    "You now have a fairly substantial starting toolbox of supervised learning methods that you can use to tackle a host of exciting problems. \n",
    "\n",
    "For each problem below, identify which supervised learning method(s) would be best for addressing that particular problem. Explain your reasoning and discuss your answers with your mentor.\n",
    "\n",
    "- Predict the running times of prospective Olympic sprinters using data from the last 20 Olympics.\n",
    "\n",
    "- You have more features (columns) than rows in your dataset.\n",
    "\n",
    "- Identify the most important characteristic predicting likelihood of being jailed before age 20.\n",
    "\n",
    "- Implement a filter to “highlight” emails that might be important to the recipient.\n",
    "\n",
    "- You have 1000+ features.\n",
    "\n",
    "- Predict whether someone who adds items to their cart on a website will purchase the items.\n",
    "\n",
    "- Your dataset dimensions are 982400 x 500.\n",
    "\n",
    "- Identify faces in an image.\n",
    "\n",
    "- Predict which of three flavors of ice cream will be most popular with boys vs girls."
   ]
  },
  {
   "cell_type": "code",
   "execution_count": null,
   "metadata": {},
   "outputs": [],
   "source": []
  }
 ],
 "metadata": {
  "kernelspec": {
   "display_name": "Python 3",
   "language": "python",
   "name": "python3"
  },
  "language_info": {
   "codemirror_mode": {
    "name": "ipython",
    "version": 3
   },
   "file_extension": ".py",
   "mimetype": "text/x-python",
   "name": "python",
   "nbconvert_exporter": "python",
   "pygments_lexer": "ipython3",
   "version": "3.6.5"
  }
 },
 "nbformat": 4,
 "nbformat_minor": 2
}
