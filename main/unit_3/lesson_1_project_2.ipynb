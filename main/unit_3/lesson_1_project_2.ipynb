{
 "cells": [
  {
   "cell_type": "markdown",
   "metadata": {},
   "source": [
    "# DRILL: Tuning KNN – Normalizing Distance, Picking K\n",
    "\n",
    "A credit card company is trying to figure out if people are going to pay their bills on time. We have everyone's purchases, split into 4 categories: groceries, dining out, utilities, and entertainment. \n",
    "\n",
    "What are some ways you might use KNN to create this model? What aspects of KNN would be useful?"
   ]
  },
  {
   "cell_type": "markdown",
   "metadata": {},
   "source": [
    "## Setting up X and Y Values\n",
    "- X values: All purchases will be plotted by dollar amount, and be coded by a color that corresponds to a particular payment category (groceries, dining out, utilities, entertainment, etc.)\n",
    "- Y values: All the x values plotted will correspond to a Y value: True or False, depending on whether teh credit card owner for that purchase paid their bill on time \n",
    "\n",
    "## Weighting\n",
    "- It could be calculated (without KNN) which category of purchase is most likely to belong to a credit card owner who paid the bill on time\n",
    "- When finding the KNN for a new observation point, neighboring points that are the same category as the new observation point could be weighed more heavily when predicting whether a certain purchase belongs to a credit card owner who pays bills on time\n",
    "\n",
    "## Normalizing\n",
    "\n",
    "- An alternative to weighting could be normalizing the data so that all the data points are defined as Z-scores based on their category's average– this way, more egregious purchases (spending too much on dining out, for example) may lend more insight into whether a credit card owner will pay on time"
   ]
  },
  {
   "cell_type": "code",
   "execution_count": null,
   "metadata": {},
   "outputs": [],
   "source": []
  }
 ],
 "metadata": {
  "kernelspec": {
   "display_name": "Python 3",
   "language": "python",
   "name": "python3"
  },
  "language_info": {
   "codemirror_mode": {
    "name": "ipython",
    "version": 3
   },
   "file_extension": ".py",
   "mimetype": "text/x-python",
   "name": "python",
   "nbconvert_exporter": "python",
   "pygments_lexer": "ipython3",
   "version": "3.6.4"
  }
 },
 "nbformat": 4,
 "nbformat_minor": 2
}
