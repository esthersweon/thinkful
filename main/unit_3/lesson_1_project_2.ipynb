{
 "cells": [
  {
   "cell_type": "markdown",
   "metadata": {},
   "source": [
    "# DRILL: Tuning KNN – Normalizing Distance, Picking K\n",
    "\n",
    "A credit card company is trying to figure out if people are going to pay their bills on time. We have everyone's purchases, split into 4 categories: groceries, dining out, utilities, and entertainment. \n",
    "\n",
    "What are some ways you might use KNN to create this model? What aspects of KNN would be useful?\n",
    "\n",
    "\n",
    "## Feedback\n",
    "\n",
    "This is a thought model, you have to assume data and explain your strategy to use KNN in this kind of problem. You also need to explain how and why you will use normalization, weighting, and how will you find the optimal value of K. \n",
    "Try to follow below points to explain\n",
    "- Data Explanation: Explain independent features and target features\n",
    "- Data Preparation: How will you transform the data to apply KNN (normalization) and why?\n",
    "- Training: Explaining KNN and parameter like weighting you will use for better model accuracy\n",
    "- Model Validation: How will you validate you model accuracy (k-fold cross validation)\n",
    "- Model Improvement: Explain how will you improve the model accuracy by finding out the optimal value of K. How will you decide which K value is best"
   ]
  },
  {
   "cell_type": "markdown",
   "metadata": {},
   "source": [
    "## Independent vs Target Features\n",
    "- Independent features: date of credit card purchase, $ amount of purchase, category to which purchase belongs\n",
    "- Target feature: whether credit card purchase was paid off\n",
    "\n",
    "## Data Preparation & Normalization\n",
    "- Normalize purchase data across all categories (i.e. $ amount for each purchase) \n",
    "    - This normalization will help the data reflect what is a particularly high or average or particularly low purchase – equally across all categories, regardless of the disparity in actual amount (also unit-agnostic). This way, more egregious purchases (spending too much on dining out, for example – or spending much less than usual on utilities) may lend more insight into whether a purchase will be paid off on time\n",
    "    - Normalization preserves relationships between data points, but will not penalize for large units (esp. if more continuous features are added)\n",
    "\n",
    "## Setting up X and Y Values\n",
    "- Plot all purchases on x- and y-axis using the date as x value and the purchase amount as the y value\n",
    "- Performance a T-test on data belonging to different categories (i.e. weekend vs. weekday purchases) to see if the category affects outcome. If so, include as feature\n",
    "    - Each data point will be coded to a certain category using color\n",
    "    - Another way to differentiate between different purchase categories might be to simply create 4 different graphs for each category\n",
    "- Addendum: for additional features, data could be broken down into seasons, weekends vs. weekdays, period in billing cycle, season, proximity to high-shopping times (like Christmas, Valentine's, etc.) - on different graphs"
   ]
  },
  {
   "cell_type": "markdown",
   "metadata": {},
   "source": [
    "## Weighting\n",
    "- Weight neighbors by proximity (this will take into account a data point's neighbors' category AND dollar amount similarities)\n",
    "\n",
    "## Validation\n",
    "- Divide your data into random folds and use cross-validation to make sure your model will accurately predict whether a purchase will be paid repeatedly\n",
    "\n",
    "## Improvement\n",
    "- Start with a K value that is reflective of how large the dataset is - i.e. if a user has 20 purchases, 10 is much too high of a K value\n",
    "- Adjust the K value to see at which point the KNN model performs the most accurately (use cross-validation to test) – trial and error\n",
    "- Turn weighting on and off to see if this affects model accuracy (again, using cross-validation scores)\n",
    "- Use an odd number for K so that there is always a winner\n",
    "- Plot a residual plot (actual value - predicted value) for different values of K – see where accuracy peaks and choose that K value"
   ]
  },
  {
   "cell_type": "code",
   "execution_count": null,
   "metadata": {},
   "outputs": [],
   "source": []
  }
 ],
 "metadata": {
  "kernelspec": {
   "display_name": "Python 3",
   "language": "python",
   "name": "python3"
  },
  "language_info": {
   "codemirror_mode": {
    "name": "ipython",
    "version": 3
   },
   "file_extension": ".py",
   "mimetype": "text/x-python",
   "name": "python",
   "nbconvert_exporter": "python",
   "pygments_lexer": "ipython3",
   "version": "3.6.4"
  }
 },
 "nbformat": 4,
 "nbformat_minor": 2
}
