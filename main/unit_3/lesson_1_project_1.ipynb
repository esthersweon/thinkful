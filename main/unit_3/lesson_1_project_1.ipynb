{
 "cells": [
  {
   "cell_type": "markdown",
   "metadata": {},
   "source": [
    "# KNN classifier\n",
    "\n",
    "Code a Nearest Neighbors algorithm that works for two dimensional data. You can use either arrays or dataframes to do this. Test it against the SKLearn package on the music dataset from above to ensure that it's correct. The goal here is to confirm your understanding of the model and continue to practice your Python skills. We're just expecting a brute force method here."
   ]
  },
  {
   "cell_type": "markdown",
   "metadata": {},
   "source": [
    "## My KNN Classifier "
   ]
  },
  {
   "cell_type": "code",
   "execution_count": 78,
   "metadata": {},
   "outputs": [],
   "source": [
    "import pandas as pd\n",
    "import math\n",
    "from sklearn.neighbors import KNeighborsClassifier\n",
    "\n",
    "def get_distance_between(point_1, point_2):\n",
    "    x_diff = abs(point_1[0] - point_2[0])\n",
    "    y_diff = abs(point_1[1] - point_2[1])\n",
    "    \n",
    "    return math.sqrt((x_diff ** 2) + (y_diff ** 2))\n",
    "\n",
    "def my_knn(x_vals, y_vals, outcome, observation, n):\n",
    "    my_x = observation[0]\n",
    "    my_y = observation[1]\n",
    "    \n",
    "    all_distances = []\n",
    "    \n",
    "    for idx, val in enumerate(x_vals):\n",
    "        current_distance = get_distance_between([x_vals[idx], y_vals[idx]], observation)\n",
    "        if len(all_distances) < n: \n",
    "            all_distances.append([current_distance, idx])\n",
    "        else:\n",
    "            just_distances = list(map(lambda x: x[0], all_distances))\n",
    "            highest_distance = max(just_distances)\n",
    "            if current_distance < highest_distance:\n",
    "                all_distances = list(filter(lambda x: x[0] != highest_distance, all_distances))\n",
    "                all_distances.append([current_distance, idx])\n",
    "\n",
    "    closest_point_indices = list(map(lambda x: x[1], all_distances))\n",
    "    closest_outcomes = list(map(lambda x: outcome[x], closest_point_indices))\n",
    "    \n",
    "    verdict = max(set(closest_outcomes), key=closest_outcomes.count)\n",
    "    return verdict\n",
    "    "
   ]
  },
  {
   "cell_type": "code",
   "execution_count": 79,
   "metadata": {},
   "outputs": [],
   "source": [
    "music = pd.DataFrame()\n",
    "\n",
    "# Some data to play with.\n",
    "music['duration'] = [184, 134, 243, 186, 122, 197, 294, 382, 102, 264, \n",
    "                     205, 110, 307, 110, 397, 153, 190, 192, 210, 403,\n",
    "                     164, 198, 204, 253, 234, 190, 182, 401, 376, 102]\n",
    "music['loudness'] = [18, 34, 43, 36, 22, 9, 29, 22, 10, 24, \n",
    "                     20, 10, 17, 51, 7, 13, 19, 12, 21, 22,\n",
    "                     16, 18, 4, 23, 34, 19, 14, 11, 37, 42]\n",
    "\n",
    "# We know whether the songs in our training data are jazz or not.\n",
    "music['jazz'] = [ 1, 0, 0, 0, 1, 1, 0, 1, 1, 0,\n",
    "                  0, 1, 1, 0, 1, 1, 0, 1, 1, 1,\n",
    "                  1, 1, 1, 1, 0, 0, 1, 1, 0, 0]\n"
   ]
  },
  {
   "cell_type": "code",
   "execution_count": 80,
   "metadata": {},
   "outputs": [
    {
     "name": "stdout",
     "output_type": "stream",
     "text": [
      "0\n",
      "1\n",
      "1\n"
     ]
    }
   ],
   "source": [
    "points = [[30, 234], [30, 134], [10, 234]]\n",
    "knns = [3, 5, 10]\n",
    "\n",
    "for idx, point in enumerate(points):\n",
    "    print(my_knn(music['loudness'], music['duration'], music['jazz'], point, knns[idx]))"
   ]
  },
  {
   "cell_type": "markdown",
   "metadata": {},
   "source": [
    "## Testing My KNN Classifier Against sklearn KNeighborsClassifier"
   ]
  },
  {
   "cell_type": "code",
   "execution_count": 81,
   "metadata": {},
   "outputs": [
    {
     "name": "stdout",
     "output_type": "stream",
     "text": [
      "[0]\n",
      "[1]\n",
      "[1]\n"
     ]
    }
   ],
   "source": [
    "for idx, point in enumerate(points):\n",
    "    neighbors = KNeighborsClassifier(n_neighbors=knns[idx])\n",
    "    X = music[['loudness', 'duration']]\n",
    "    Y = music.jazz\n",
    "    neighbors.fit(X,Y)\n",
    "    prediction = neighbors.predict([point])\n",
    "    print(prediction)"
   ]
  },
  {
   "cell_type": "code",
   "execution_count": null,
   "metadata": {},
   "outputs": [],
   "source": []
  }
 ],
 "metadata": {
  "kernelspec": {
   "display_name": "Python 3",
   "language": "python",
   "name": "python3"
  },
  "language_info": {
   "codemirror_mode": {
    "name": "ipython",
    "version": 3
   },
   "file_extension": ".py",
   "mimetype": "text/x-python",
   "name": "python",
   "nbconvert_exporter": "python",
   "pygments_lexer": "ipython3",
   "version": "3.6.4"
  }
 },
 "nbformat": 4,
 "nbformat_minor": 2
}
