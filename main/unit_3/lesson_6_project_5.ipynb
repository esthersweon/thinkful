{
 "cells": [
  {
   "cell_type": "markdown",
   "metadata": {},
   "source": [
    "# Cancer Diagnostics"
   ]
  },
  {
   "cell_type": "code",
   "execution_count": 15,
   "metadata": {},
   "outputs": [
    {
     "data": {
      "text/html": [
       "<div>\n",
       "<style scoped>\n",
       "    .dataframe tbody tr th:only-of-type {\n",
       "        vertical-align: middle;\n",
       "    }\n",
       "\n",
       "    .dataframe tbody tr th {\n",
       "        vertical-align: top;\n",
       "    }\n",
       "\n",
       "    .dataframe thead th {\n",
       "        text-align: right;\n",
       "    }\n",
       "</style>\n",
       "<table border=\"1\" class=\"dataframe\">\n",
       "  <thead>\n",
       "    <tr style=\"text-align: right;\">\n",
       "      <th></th>\n",
       "      <th>sample #</th>\n",
       "      <th>clump thickness</th>\n",
       "      <th>cell size uniformity</th>\n",
       "      <th>cell shape uniformity</th>\n",
       "      <th>marginal adhesion</th>\n",
       "      <th>single epithelial cell size</th>\n",
       "      <th>bare nuclei</th>\n",
       "      <th>bland chromatin</th>\n",
       "      <th>normal nucleoli</th>\n",
       "      <th>mitoses</th>\n",
       "      <th>class</th>\n",
       "    </tr>\n",
       "  </thead>\n",
       "  <tbody>\n",
       "    <tr>\n",
       "      <th>0</th>\n",
       "      <td>1000025</td>\n",
       "      <td>5</td>\n",
       "      <td>1</td>\n",
       "      <td>1</td>\n",
       "      <td>1</td>\n",
       "      <td>2</td>\n",
       "      <td>1</td>\n",
       "      <td>3</td>\n",
       "      <td>1</td>\n",
       "      <td>1</td>\n",
       "      <td>2</td>\n",
       "    </tr>\n",
       "    <tr>\n",
       "      <th>1</th>\n",
       "      <td>1002945</td>\n",
       "      <td>5</td>\n",
       "      <td>4</td>\n",
       "      <td>4</td>\n",
       "      <td>5</td>\n",
       "      <td>7</td>\n",
       "      <td>10</td>\n",
       "      <td>3</td>\n",
       "      <td>2</td>\n",
       "      <td>1</td>\n",
       "      <td>2</td>\n",
       "    </tr>\n",
       "    <tr>\n",
       "      <th>2</th>\n",
       "      <td>1015425</td>\n",
       "      <td>3</td>\n",
       "      <td>1</td>\n",
       "      <td>1</td>\n",
       "      <td>1</td>\n",
       "      <td>2</td>\n",
       "      <td>2</td>\n",
       "      <td>3</td>\n",
       "      <td>1</td>\n",
       "      <td>1</td>\n",
       "      <td>2</td>\n",
       "    </tr>\n",
       "    <tr>\n",
       "      <th>3</th>\n",
       "      <td>1016277</td>\n",
       "      <td>6</td>\n",
       "      <td>8</td>\n",
       "      <td>8</td>\n",
       "      <td>1</td>\n",
       "      <td>3</td>\n",
       "      <td>4</td>\n",
       "      <td>3</td>\n",
       "      <td>7</td>\n",
       "      <td>1</td>\n",
       "      <td>2</td>\n",
       "    </tr>\n",
       "    <tr>\n",
       "      <th>4</th>\n",
       "      <td>1017023</td>\n",
       "      <td>4</td>\n",
       "      <td>1</td>\n",
       "      <td>1</td>\n",
       "      <td>3</td>\n",
       "      <td>2</td>\n",
       "      <td>1</td>\n",
       "      <td>3</td>\n",
       "      <td>1</td>\n",
       "      <td>1</td>\n",
       "      <td>2</td>\n",
       "    </tr>\n",
       "  </tbody>\n",
       "</table>\n",
       "</div>"
      ],
      "text/plain": [
       "   sample #  clump thickness  cell size uniformity  cell shape uniformity  \\\n",
       "0   1000025                5                     1                      1   \n",
       "1   1002945                5                     4                      4   \n",
       "2   1015425                3                     1                      1   \n",
       "3   1016277                6                     8                      8   \n",
       "4   1017023                4                     1                      1   \n",
       "\n",
       "   marginal adhesion  single epithelial cell size bare nuclei  \\\n",
       "0                  1                            2           1   \n",
       "1                  5                            7          10   \n",
       "2                  1                            2           2   \n",
       "3                  1                            3           4   \n",
       "4                  3                            2           1   \n",
       "\n",
       "   bland chromatin  normal nucleoli  mitoses  class  \n",
       "0                3                1        1      2  \n",
       "1                3                2        1      2  \n",
       "2                3                1        1      2  \n",
       "3                3                7        1      2  \n",
       "4                3                1        1      2  "
      ]
     },
     "execution_count": 15,
     "metadata": {},
     "output_type": "execute_result"
    }
   ],
   "source": [
    "import pandas as pd\n",
    "import numpy as np\n",
    "import matplotlib.pyplot as plt\n",
    "import seaborn as sns\n",
    "from sklearn import linear_model\n",
    "from sklearn.model_selection import train_test_split\n",
    "\n",
    "col_names = ['sample #', 'clump thickness', 'cell size uniformity', 'cell shape uniformity', 'marginal adhesion', 'single epithelial cell size', 'bare nuclei', 'bland chromatin', 'normal nucleoli', 'mitoses', 'class']\n",
    "df = pd.read_csv('http://archive.ics.uci.edu/ml/machine-learning-databases/breast-cancer-wisconsin/breast-cancer-wisconsin.data', names=col_names)\n",
    "\n",
    "df.head()"
   ]
  },
  {
   "cell_type": "code",
   "execution_count": 16,
   "metadata": {},
   "outputs": [
    {
     "name": "stdout",
     "output_type": "stream",
     "text": [
      "['1' '10' '2' '4' '3' '9' '7' '?' '5' '8' '6']\n",
      "['1' '10' '2' '4' '3' '9' '7' '5' '8' '6']\n"
     ]
    }
   ],
   "source": [
    "print(df['bare nuclei'].unique())\n",
    "df = df[df['bare nuclei'] != '?']\n",
    "print(df['bare nuclei'].unique())"
   ]
  },
  {
   "cell_type": "code",
   "execution_count": 17,
   "metadata": {},
   "outputs": [
    {
     "name": "stdout",
     "output_type": "stream",
     "text": [
      "444 Benigns\n",
      "239 Malignants:\n",
      "% of Malignants: 35.0 %\n"
     ]
    }
   ],
   "source": [
    "num_benigns = len(df[df['class'] == 2])\n",
    "num_malignants = len(df[df['class'] == 4])\n",
    "\n",
    "print(num_benigns, 'Benigns')\n",
    "print(num_malignants, 'Malignants:')\n",
    "print('% of Malignants:', 100 * round(num_malignants/(num_benigns + num_malignants), 2), '%')"
   ]
  },
  {
   "cell_type": "code",
   "execution_count": 18,
   "metadata": {},
   "outputs": [
    {
     "name": "stdout",
     "output_type": "stream",
     "text": [
      "['benign' 'malignant']\n"
     ]
    }
   ],
   "source": [
    "def get_class(x):\n",
    "    if x == 2:\n",
    "        return 'benign'\n",
    "    elif x == 4:\n",
    "        return 'malignant'\n",
    "    else:\n",
    "        return float('NaN')\n",
    "\n",
    "df['class'] = df['class'].apply(get_class)\n",
    "print(df['class'].unique())"
   ]
  },
  {
   "cell_type": "code",
   "execution_count": 19,
   "metadata": {},
   "outputs": [
    {
     "name": "stdout",
     "output_type": "stream",
     "text": [
      "sample # : int64 - 630 unique vals\n",
      "clump thickness : int64 - 10 unique vals\n",
      "cell size uniformity : int64 - 10 unique vals\n",
      "cell shape uniformity : int64 - 10 unique vals\n",
      "marginal adhesion : int64 - 10 unique vals\n",
      "single epithelial cell size : int64 - 10 unique vals\n",
      "bare nuclei : object - 10 unique vals\n",
      "bland chromatin : int64 - 10 unique vals\n",
      "normal nucleoli : int64 - 10 unique vals\n",
      "mitoses : int64 - 9 unique vals\n",
      "class : object - 2 unique vals\n"
     ]
    }
   ],
   "source": [
    "for col in df.columns:\n",
    "    print(col, ':', df[col].dtype, '-', len(df[col].unique()), 'unique vals')\n",
    "    \n",
    "df = df.drop(labels=['sample #'], axis=1)"
   ]
  },
  {
   "cell_type": "code",
   "execution_count": 21,
   "metadata": {},
   "outputs": [
    {
     "data": {
      "image/png": "[encoded data removed]",
      "text/plain": [
       "<Figure size 1440x576 with 8 Axes>"
      ]
     },
     "metadata": {},
     "output_type": "display_data"
    }
   ],
   "source": [
    "def show_plots(df):\n",
    "    benigns = df[df['class'] == 'benign']\n",
    "    malignants = df[df['class'] == 'malignant']\n",
    "\n",
    "    plt.figure(figsize=(20,8))\n",
    "    \n",
    "    for i, col_name in enumerate(['clump thickness', 'cell size uniformity', 'cell shape uniformity', 'marginal adhesion', 'single epithelial cell size', 'bland chromatin', 'normal nucleoli', 'mitoses']):\n",
    "        plt.subplot(2, 4, i + 1)\n",
    "        plt.hist(benigns[col_name], bins=40, color='blue', alpha=0.3, label='benign')\n",
    "        plt.hist(malignants[col_name], bins=40, color='red', alpha=0.3, label='malignant')\n",
    "        plt.legend()\n",
    "        plt.title(col_name)\n",
    "        \n",
    "        # TBD: NOT SURE WHY 'bare nuclei' DOES NOT WORK\n",
    "        \n",
    "    plt.show()\n",
    "    \n",
    "show_plots(df)"
   ]
  },
  {
   "cell_type": "code",
   "execution_count": 22,
   "metadata": {},
   "outputs": [
    {
     "data": {
      "text/html": [
       "<div>\n",
       "<style scoped>\n",
       "    .dataframe tbody tr th:only-of-type {\n",
       "        vertical-align: middle;\n",
       "    }\n",
       "\n",
       "    .dataframe tbody tr th {\n",
       "        vertical-align: top;\n",
       "    }\n",
       "\n",
       "    .dataframe thead th {\n",
       "        text-align: right;\n",
       "    }\n",
       "</style>\n",
       "<table border=\"1\" class=\"dataframe\">\n",
       "  <thead>\n",
       "    <tr style=\"text-align: right;\">\n",
       "      <th></th>\n",
       "      <th>class</th>\n",
       "      <th>clump thickness_1</th>\n",
       "      <th>clump thickness_2</th>\n",
       "      <th>clump thickness_3</th>\n",
       "      <th>clump thickness_4</th>\n",
       "      <th>clump thickness_5</th>\n",
       "      <th>clump thickness_6</th>\n",
       "      <th>clump thickness_7</th>\n",
       "      <th>clump thickness_8</th>\n",
       "      <th>clump thickness_9</th>\n",
       "      <th>...</th>\n",
       "      <th>normal nucleoli_10</th>\n",
       "      <th>mitoses_1</th>\n",
       "      <th>mitoses_2</th>\n",
       "      <th>mitoses_3</th>\n",
       "      <th>mitoses_4</th>\n",
       "      <th>mitoses_5</th>\n",
       "      <th>mitoses_6</th>\n",
       "      <th>mitoses_7</th>\n",
       "      <th>mitoses_8</th>\n",
       "      <th>mitoses_10</th>\n",
       "    </tr>\n",
       "  </thead>\n",
       "  <tbody>\n",
       "    <tr>\n",
       "      <th>0</th>\n",
       "      <td>benign</td>\n",
       "      <td>0</td>\n",
       "      <td>0</td>\n",
       "      <td>0</td>\n",
       "      <td>0</td>\n",
       "      <td>1</td>\n",
       "      <td>0</td>\n",
       "      <td>0</td>\n",
       "      <td>0</td>\n",
       "      <td>0</td>\n",
       "      <td>...</td>\n",
       "      <td>0</td>\n",
       "      <td>1</td>\n",
       "      <td>0</td>\n",
       "      <td>0</td>\n",
       "      <td>0</td>\n",
       "      <td>0</td>\n",
       "      <td>0</td>\n",
       "      <td>0</td>\n",
       "      <td>0</td>\n",
       "      <td>0</td>\n",
       "    </tr>\n",
       "    <tr>\n",
       "      <th>1</th>\n",
       "      <td>benign</td>\n",
       "      <td>0</td>\n",
       "      <td>0</td>\n",
       "      <td>0</td>\n",
       "      <td>0</td>\n",
       "      <td>1</td>\n",
       "      <td>0</td>\n",
       "      <td>0</td>\n",
       "      <td>0</td>\n",
       "      <td>0</td>\n",
       "      <td>...</td>\n",
       "      <td>0</td>\n",
       "      <td>1</td>\n",
       "      <td>0</td>\n",
       "      <td>0</td>\n",
       "      <td>0</td>\n",
       "      <td>0</td>\n",
       "      <td>0</td>\n",
       "      <td>0</td>\n",
       "      <td>0</td>\n",
       "      <td>0</td>\n",
       "    </tr>\n",
       "    <tr>\n",
       "      <th>2</th>\n",
       "      <td>benign</td>\n",
       "      <td>0</td>\n",
       "      <td>0</td>\n",
       "      <td>1</td>\n",
       "      <td>0</td>\n",
       "      <td>0</td>\n",
       "      <td>0</td>\n",
       "      <td>0</td>\n",
       "      <td>0</td>\n",
       "      <td>0</td>\n",
       "      <td>...</td>\n",
       "      <td>0</td>\n",
       "      <td>1</td>\n",
       "      <td>0</td>\n",
       "      <td>0</td>\n",
       "      <td>0</td>\n",
       "      <td>0</td>\n",
       "      <td>0</td>\n",
       "      <td>0</td>\n",
       "      <td>0</td>\n",
       "      <td>0</td>\n",
       "    </tr>\n",
       "    <tr>\n",
       "      <th>3</th>\n",
       "      <td>benign</td>\n",
       "      <td>0</td>\n",
       "      <td>0</td>\n",
       "      <td>0</td>\n",
       "      <td>0</td>\n",
       "      <td>0</td>\n",
       "      <td>1</td>\n",
       "      <td>0</td>\n",
       "      <td>0</td>\n",
       "      <td>0</td>\n",
       "      <td>...</td>\n",
       "      <td>0</td>\n",
       "      <td>1</td>\n",
       "      <td>0</td>\n",
       "      <td>0</td>\n",
       "      <td>0</td>\n",
       "      <td>0</td>\n",
       "      <td>0</td>\n",
       "      <td>0</td>\n",
       "      <td>0</td>\n",
       "      <td>0</td>\n",
       "    </tr>\n",
       "    <tr>\n",
       "      <th>4</th>\n",
       "      <td>benign</td>\n",
       "      <td>0</td>\n",
       "      <td>0</td>\n",
       "      <td>0</td>\n",
       "      <td>1</td>\n",
       "      <td>0</td>\n",
       "      <td>0</td>\n",
       "      <td>0</td>\n",
       "      <td>0</td>\n",
       "      <td>0</td>\n",
       "      <td>...</td>\n",
       "      <td>0</td>\n",
       "      <td>1</td>\n",
       "      <td>0</td>\n",
       "      <td>0</td>\n",
       "      <td>0</td>\n",
       "      <td>0</td>\n",
       "      <td>0</td>\n",
       "      <td>0</td>\n",
       "      <td>0</td>\n",
       "      <td>0</td>\n",
       "    </tr>\n",
       "  </tbody>\n",
       "</table>\n",
       "<p>5 rows × 90 columns</p>\n",
       "</div>"
      ],
      "text/plain": [
       "    class  clump thickness_1  clump thickness_2  clump thickness_3  \\\n",
       "0  benign                  0                  0                  0   \n",
       "1  benign                  0                  0                  0   \n",
       "2  benign                  0                  0                  1   \n",
       "3  benign                  0                  0                  0   \n",
       "4  benign                  0                  0                  0   \n",
       "\n",
       "   clump thickness_4  clump thickness_5  clump thickness_6  clump thickness_7  \\\n",
       "0                  0                  1                  0                  0   \n",
       "1                  0                  1                  0                  0   \n",
       "2                  0                  0                  0                  0   \n",
       "3                  0                  0                  1                  0   \n",
       "4                  1                  0                  0                  0   \n",
       "\n",
       "   clump thickness_8  clump thickness_9     ...      normal nucleoli_10  \\\n",
       "0                  0                  0     ...                       0   \n",
       "1                  0                  0     ...                       0   \n",
       "2                  0                  0     ...                       0   \n",
       "3                  0                  0     ...                       0   \n",
       "4                  0                  0     ...                       0   \n",
       "\n",
       "   mitoses_1  mitoses_2  mitoses_3  mitoses_4  mitoses_5  mitoses_6  \\\n",
       "0          1          0          0          0          0          0   \n",
       "1          1          0          0          0          0          0   \n",
       "2          1          0          0          0          0          0   \n",
       "3          1          0          0          0          0          0   \n",
       "4          1          0          0          0          0          0   \n",
       "\n",
       "   mitoses_7  mitoses_8  mitoses_10  \n",
       "0          0          0           0  \n",
       "1          0          0           0  \n",
       "2          0          0           0  \n",
       "3          0          0           0  \n",
       "4          0          0           0  \n",
       "\n",
       "[5 rows x 90 columns]"
      ]
     },
     "execution_count": 22,
     "metadata": {},
     "output_type": "execute_result"
    }
   ],
   "source": [
    "col_names.remove('sample #')\n",
    "col_names.remove('class')\n",
    "df = pd.get_dummies(df, columns=col_names)\n",
    "df.head()"
   ]
  },
  {
   "cell_type": "code",
   "execution_count": 23,
   "metadata": {},
   "outputs": [],
   "source": [
    "Y = df['class']\n",
    "X = df.drop(labels=['class'], axis=1)\n",
    "X_train, X_test, y_train, y_test = train_test_split(X, Y, test_size=0.4, random_state=0)"
   ]
  },
  {
   "cell_type": "markdown",
   "metadata": {},
   "source": [
    "## Vanilla Logistic Regression"
   ]
  },
  {
   "cell_type": "code",
   "execution_count": 24,
   "metadata": {},
   "outputs": [
    {
     "name": "stdout",
     "output_type": "stream",
     "text": [
      "Training R²: 1.0\n",
      "Test R²: 0.9452554744525548\n"
     ]
    }
   ],
   "source": [
    "vanilla = linear_model.LogisticRegression(penalty='l2',C=1e42)\n",
    "vanilla.fit(X_train, y_train)\n",
    "vanilla_score_training = vanilla.score(X_train, y_train)\n",
    "vanilla_score_test = vanilla.score(X_test, y_test)\n",
    "\n",
    "print('Training R²:', vanilla_score_training)\n",
    "print('Test R²:', vanilla_score_test)\n",
    "# print('\\nCoefficients:', vanilla.coef_)\n",
    "# print('\\nIntercept:', vanilla.intercept_)"
   ]
  },
  {
   "cell_type": "markdown",
   "metadata": {},
   "source": [
    "## LASSO Logistic Regression"
   ]
  },
  {
   "cell_type": "code",
   "execution_count": 25,
   "metadata": {},
   "outputs": [
    {
     "name": "stdout",
     "output_type": "stream",
     "text": [
      "Training R²: 1.0\n",
      "Test R²: 0.9452554744525548\n",
      "\n",
      "Coefficients: [[-1.18821266  0.         -2.91521354  0.          0.         -3.26266526\n",
      "   1.07574974  0.          0.          3.56717617 -0.3809531   0.\n",
      "   0.18339808  0.          2.11247559  4.18584473  0.          0.\n",
      "   0.          4.04501226 -0.19497762  0.          0.          1.45105664\n",
      "   2.03756764  0.          0.          0.          0.          0.\n",
      "  -0.65229191  0.          0.          4.0995581  -0.43492591  0.\n",
      "   0.          0.          0.          1.87239006  0.         -3.743843\n",
      "  -0.88177319  1.22666893  0.          0.69664425  0.          0.\n",
      "   0.          0.33286322 -4.83300798  1.62648891 -1.04633503 -1.21027866\n",
      "   2.1789341   1.38583063  0.          0.74060828  0.          0.\n",
      "  -3.84996968 -2.0619032  -1.64383839  0.8040639   0.29392428  0.\n",
      "   1.85010601  0.42685051  0.          0.          0.         -2.13890007\n",
      "   0.          0.          0.          0.         -0.43150186  0.2534758\n",
      "   4.64215575  3.00450375  0.28264372  0.          0.          0.\n",
      "   0.          0.          0.          0.          0.        ]]\n",
      "Columns: ['clump thickness_1', 'clump thickness_2', 'clump thickness_3', 'clump thickness_4', 'clump thickness_5', 'clump thickness_6', 'clump thickness_7', 'clump thickness_8', 'clump thickness_9', 'clump thickness_10', 'cell size uniformity_1', 'cell size uniformity_2', 'cell size uniformity_3', 'cell size uniformity_4', 'cell size uniformity_5', 'cell size uniformity_6', 'cell size uniformity_7', 'cell size uniformity_8', 'cell size uniformity_9', 'cell size uniformity_10', 'cell shape uniformity_1', 'cell shape uniformity_2', 'cell shape uniformity_3', 'cell shape uniformity_4', 'cell shape uniformity_5', 'cell shape uniformity_6', 'cell shape uniformity_7', 'cell shape uniformity_8', 'cell shape uniformity_9', 'cell shape uniformity_10', 'marginal adhesion_1', 'marginal adhesion_2', 'marginal adhesion_3', 'marginal adhesion_4', 'marginal adhesion_5', 'marginal adhesion_6', 'marginal adhesion_7', 'marginal adhesion_8', 'marginal adhesion_9', 'marginal adhesion_10', 'single epithelial cell size_1', 'single epithelial cell size_2', 'single epithelial cell size_3', 'single epithelial cell size_4', 'single epithelial cell size_5', 'single epithelial cell size_6', 'single epithelial cell size_7', 'single epithelial cell size_8', 'single epithelial cell size_9', 'single epithelial cell size_10', 'bare nuclei_1', 'bare nuclei_10', 'bare nuclei_2', 'bare nuclei_3', 'bare nuclei_4', 'bare nuclei_5', 'bare nuclei_6', 'bare nuclei_7', 'bare nuclei_8', 'bare nuclei_9', 'bland chromatin_1', 'bland chromatin_2', 'bland chromatin_3', 'bland chromatin_4', 'bland chromatin_5', 'bland chromatin_6', 'bland chromatin_7', 'bland chromatin_8', 'bland chromatin_9', 'bland chromatin_10', 'normal nucleoli_1', 'normal nucleoli_2', 'normal nucleoli_3', 'normal nucleoli_4', 'normal nucleoli_5', 'normal nucleoli_6', 'normal nucleoli_7', 'normal nucleoli_8', 'normal nucleoli_9', 'normal nucleoli_10', 'mitoses_1', 'mitoses_2', 'mitoses_3', 'mitoses_4', 'mitoses_5', 'mitoses_6', 'mitoses_7', 'mitoses_8', 'mitoses_10']\n"
     ]
    }
   ],
   "source": [
    "# More weight (alpha) --> more features will be zero (more you are penalizing)\n",
    "lasso = linear_model.LogisticRegression(penalty='l1', C=10)\n",
    "lassofit = lasso.fit(X_train, y_train)\n",
    "lasso_score_training = lasso.score(X_train, y_train)\n",
    "lasso_score_test = lasso.score(X_test, y_test)\n",
    "\n",
    "print('Training R²:', lasso_score_training)\n",
    "print('Test R²:', lasso_score_test)\n",
    "print('\\nCoefficients:', lassofit.coef_)\n",
    "# print('\\nIntercept:', lassofit.intercept_)\n",
    "\n",
    "print('Columns:', list(X_train.columns))"
   ]
  },
  {
   "cell_type": "markdown",
   "metadata": {},
   "source": [
    "## Ridge Logistic Regression"
   ]
  },
  {
   "cell_type": "code",
   "execution_count": 26,
   "metadata": {},
   "outputs": [
    {
     "name": "stdout",
     "output_type": "stream",
     "text": [
      "Training R²: 1.0\n",
      "Test R²: 0.9562043795620438\n"
     ]
    }
   ],
   "source": [
    "ridge = linear_model.LogisticRegression(penalty='l2', C=10) #, fit_intercept=False)\n",
    "ridgefit = ridge.fit(X_train, y_train)\n",
    "ridge_score_training = ridge.score(X_train, y_train)\n",
    "ridge_score_test = ridge.score(X_test, y_test)\n",
    "\n",
    "print('Training R²:', ridge_score_training)\n",
    "print('Test R²:', ridge_score_test)\n",
    "# print('\\nCoefficients:', ridgefit.coef_)\n",
    "# print('\\nIntercept:', ridgefit.intercept_)"
   ]
  },
  {
   "cell_type": "markdown",
   "metadata": {},
   "source": [
    "## Naive Bayes"
   ]
  },
  {
   "cell_type": "code",
   "execution_count": 28,
   "metadata": {},
   "outputs": [
    {
     "name": "stdout",
     "output_type": "stream",
     "text": [
      "Training R²: 0.980440097799511\n",
      "Test R²: 0.9671532846715328\n"
     ]
    }
   ],
   "source": [
    "from sklearn.naive_bayes import BernoulliNB\n",
    "bnb = BernoulliNB()\n",
    "bnb.fit(X_train, y_train)\n",
    "bnb_score_training = bnb.score(X_train, y_train)\n",
    "bnb_score_test = bnb.score(X_test, y_test)\n",
    "\n",
    "print('Training R²:', bnb_score_training)\n",
    "print('Test R²:', bnb_score_test)"
   ]
  },
  {
   "cell_type": "code",
   "execution_count": 30,
   "metadata": {},
   "outputs": [
    {
     "data": {
      "text/html": [
       "<div>\n",
       "<style scoped>\n",
       "    .dataframe tbody tr th:only-of-type {\n",
       "        vertical-align: middle;\n",
       "    }\n",
       "\n",
       "    .dataframe tbody tr th {\n",
       "        vertical-align: top;\n",
       "    }\n",
       "\n",
       "    .dataframe thead th {\n",
       "        text-align: right;\n",
       "    }\n",
       "</style>\n",
       "<table border=\"1\" class=\"dataframe\">\n",
       "  <thead>\n",
       "    <tr style=\"text-align: right;\">\n",
       "      <th>class</th>\n",
       "      <th>benign</th>\n",
       "      <th>malignant</th>\n",
       "    </tr>\n",
       "    <tr>\n",
       "      <th>row_0</th>\n",
       "      <th></th>\n",
       "      <th></th>\n",
       "    </tr>\n",
       "  </thead>\n",
       "  <tbody>\n",
       "    <tr>\n",
       "      <th>benign</th>\n",
       "      <td>166</td>\n",
       "      <td>1</td>\n",
       "    </tr>\n",
       "    <tr>\n",
       "      <th>malignant</th>\n",
       "      <td>8</td>\n",
       "      <td>99</td>\n",
       "    </tr>\n",
       "  </tbody>\n",
       "</table>\n",
       "</div>"
      ],
      "text/plain": [
       "class      benign  malignant\n",
       "row_0                       \n",
       "benign        166          1\n",
       "malignant       8         99"
      ]
     },
     "execution_count": 30,
     "metadata": {},
     "output_type": "execute_result"
    }
   ],
   "source": [
    "bnb_predict = bnb.predict(X_test)\n",
    "pd.crosstab(bnb_predict, y_test)"
   ]
  },
  {
   "cell_type": "code",
   "execution_count": null,
   "metadata": {},
   "outputs": [],
   "source": []
  }
 ],
 "metadata": {
  "kernelspec": {
   "display_name": "Python 3",
   "language": "python",
   "name": "python3"
  },
  "language_info": {
   "codemirror_mode": {
    "name": "ipython",
    "version": 3
   },
   "file_extension": ".py",
   "mimetype": "text/x-python",
   "name": "python",
   "nbconvert_exporter": "python",
   "pygments_lexer": "ipython3",
   "version": "3.6.5"
  }
 },
 "nbformat": 4,
 "nbformat_minor": 2
}
