{
 "cells": [
  {
   "cell_type": "markdown",
   "metadata": {},
   "source": [
    "# Challenge\n",
    "\n",
    "Pick a dataset of your choice with a binary outcome and the potential for at least 15 features.\n",
    "\n",
    "Engineer your features, then create 3 models. Each model will be run on a training set and a test-set (or multiple test-sets, if you take a folds approach):\n",
    "\n",
    "- Vanilla logistic regression\n",
    "- Ridge logistic regression\n",
    "- Lasso logistic regression\n",
    "\n",
    "If you're stuck on how to begin combining your 2 new modeling skills, here's a hint: the SKlearn LogisticRegression method has a \"penalty\" argument that takes either 'l1' or 'l2' as a value."
   ]
  },
  {
   "cell_type": "code",
   "execution_count": 1,
   "metadata": {},
   "outputs": [
    {
     "name": "stdout",
     "output_type": "stream",
     "text": [
      "Low: 15887 \n",
      "Med: 11697 \n",
      "High: 13909\n"
     ]
    },
    {
     "name": "stderr",
     "output_type": "stream",
     "text": [
      "/anaconda3/lib/python3.6/site-packages/ipykernel_launcher.py:14: UserWarning: Boolean Series key will be reindexed to match DataFrame index.\n",
      "  \n"
     ]
    },
    {
     "data": {
      "text/html": [
       "<div>\n",
       "<style scoped>\n",
       "    .dataframe tbody tr th:only-of-type {\n",
       "        vertical-align: middle;\n",
       "    }\n",
       "\n",
       "    .dataframe tbody tr th {\n",
       "        vertical-align: top;\n",
       "    }\n",
       "\n",
       "    .dataframe thead th {\n",
       "        text-align: right;\n",
       "    }\n",
       "</style>\n",
       "<table border=\"1\" class=\"dataframe\">\n",
       "  <thead>\n",
       "    <tr style=\"text-align: right;\">\n",
       "      <th></th>\n",
       "      <th>sex</th>\n",
       "      <th>length</th>\n",
       "      <th>diameter</th>\n",
       "      <th>height</th>\n",
       "      <th>whole weight</th>\n",
       "      <th>shucked weight</th>\n",
       "      <th>viscera weight</th>\n",
       "      <th>shell weight</th>\n",
       "      <th>rings</th>\n",
       "    </tr>\n",
       "  </thead>\n",
       "  <tbody>\n",
       "    <tr>\n",
       "      <th>0</th>\n",
       "      <td>M</td>\n",
       "      <td>0.455</td>\n",
       "      <td>0.365</td>\n",
       "      <td>0.095</td>\n",
       "      <td>0.5140</td>\n",
       "      <td>0.2245</td>\n",
       "      <td>0.1010</td>\n",
       "      <td>0.150</td>\n",
       "      <td>high</td>\n",
       "    </tr>\n",
       "    <tr>\n",
       "      <th>1</th>\n",
       "      <td>M</td>\n",
       "      <td>0.350</td>\n",
       "      <td>0.265</td>\n",
       "      <td>0.090</td>\n",
       "      <td>0.2255</td>\n",
       "      <td>0.0995</td>\n",
       "      <td>0.0485</td>\n",
       "      <td>0.070</td>\n",
       "      <td>low</td>\n",
       "    </tr>\n",
       "    <tr>\n",
       "      <th>2</th>\n",
       "      <td>F</td>\n",
       "      <td>0.530</td>\n",
       "      <td>0.420</td>\n",
       "      <td>0.135</td>\n",
       "      <td>0.6770</td>\n",
       "      <td>0.2565</td>\n",
       "      <td>0.1415</td>\n",
       "      <td>0.210</td>\n",
       "      <td>low</td>\n",
       "    </tr>\n",
       "    <tr>\n",
       "      <th>3</th>\n",
       "      <td>M</td>\n",
       "      <td>0.440</td>\n",
       "      <td>0.365</td>\n",
       "      <td>0.125</td>\n",
       "      <td>0.5160</td>\n",
       "      <td>0.2155</td>\n",
       "      <td>0.1140</td>\n",
       "      <td>0.155</td>\n",
       "      <td>med</td>\n",
       "    </tr>\n",
       "    <tr>\n",
       "      <th>4</th>\n",
       "      <td>I</td>\n",
       "      <td>0.330</td>\n",
       "      <td>0.255</td>\n",
       "      <td>0.080</td>\n",
       "      <td>0.2050</td>\n",
       "      <td>0.0895</td>\n",
       "      <td>0.0395</td>\n",
       "      <td>0.055</td>\n",
       "      <td>low</td>\n",
       "    </tr>\n",
       "  </tbody>\n",
       "</table>\n",
       "</div>"
      ],
      "text/plain": [
       "  sex  length  diameter  height  whole weight  shucked weight  viscera weight  \\\n",
       "0   M   0.455     0.365   0.095        0.5140          0.2245          0.1010   \n",
       "1   M   0.350     0.265   0.090        0.2255          0.0995          0.0485   \n",
       "2   F   0.530     0.420   0.135        0.6770          0.2565          0.1415   \n",
       "3   M   0.440     0.365   0.125        0.5160          0.2155          0.1140   \n",
       "4   I   0.330     0.255   0.080        0.2050          0.0895          0.0395   \n",
       "\n",
       "   shell weight rings  \n",
       "0         0.150  high  \n",
       "1         0.070   low  \n",
       "2         0.210   low  \n",
       "3         0.155   med  \n",
       "4         0.055   low  "
      ]
     },
     "execution_count": 1,
     "metadata": {},
     "output_type": "execute_result"
    }
   ],
   "source": [
    "import pandas as pd\n",
    "import numpy as np\n",
    "import scipy\n",
    "import matplotlib.pyplot as plt\n",
    "from sklearn import linear_model\n",
    "from sklearn import preprocessing\n",
    "%matplotlib inline\n",
    "\n",
    "df = pd.read_csv('./data/abalone.csv', names=[\"sex\", \"length\", \"diameter\", \"height\", \"whole weight\", \"shucked weight\", \"viscera weight\", \"shell weight\", \"rings\"])\n",
    "\n",
    "df.head()\n",
    "\n",
    "low = df[df.rings <= 9].rings.sum()\n",
    "med = df[df.rings > 9][df.rings < 12].rings.sum()\n",
    "high = df[df.rings >= 12].rings.sum()\n",
    "\n",
    "print('Low:', low, '\\nMed:', med, '\\nHigh:', high)\n",
    "\n",
    "def set_rings_categ(num_rings):\n",
    "    if num_rings <= 9:\n",
    "        return 'low'\n",
    "    elif num_rings > 9 and num_rings < 12:\n",
    "        return 'med'\n",
    "    else:\n",
    "        return 'high'\n",
    "\n",
    "df['rings'] = [set_rings_categ(num_rings) for num_rings in df['rings']]\n",
    "df.head()"
   ]
  },
  {
   "cell_type": "code",
   "execution_count": null,
   "metadata": {},
   "outputs": [],
   "source": [
    "def make_hists(df):\n",
    "    plt.figure(figsize=(20, 10))\n",
    "\n",
    "    plt.subplot(2, 2, 1)\n",
    "    plt.title('Distribution of length, diameter, height')\n",
    "    plt.hist(df['length'], bins=20, color='red', alpha=0.4)\n",
    "    plt.hist(df['diameter'], bins=20, color='orange', alpha=0.4)\n",
    "    plt.hist(df['height'], bins=20, color='green', alpha=0.4)\n",
    "\n",
    "    plt.subplot(2, 2, 2)\n",
    "    plt.title('Distribution of whole vs. shucked weights')\n",
    "    plt.hist(df['whole weight'], bins=20, color='red', alpha=0.4)\n",
    "    plt.hist(df['shucked weight'], bins=20, color='orange', alpha=0.4)\n",
    "\n",
    "    plt.subplot(2, 2, 3)\n",
    "    plt.title('Distribution of viscera vs. shell weights')\n",
    "    plt.hist(df['viscera weight'], bins=20, color='red', alpha=0.4)\n",
    "    plt.hist(df['shell weight'], bins=20, color='orange', alpha=0.4)\n",
    "\n",
    "#     plt.subplot(2, 2, 4)\n",
    "#     plt.title('Distribution of rings')\n",
    "#     plt.hist(df['rings'], bins=20)\n",
    "\n",
    "    plt.show()\n",
    "\n",
    "make_hists(df)"
   ]
  },
  {
   "cell_type": "code",
   "execution_count": null,
   "metadata": {},
   "outputs": [],
   "source": [
    "def make_boxplots(df):\n",
    "    plt.figure(figsize=(20, 10))\n",
    "\n",
    "    plt.subplot(2, 4, 1)\n",
    "    plt.title('Length')\n",
    "    plt.boxplot(df['length'])\n",
    "\n",
    "    plt.subplot(2, 4, 2)\n",
    "    plt.title('Diameter')\n",
    "    plt.boxplot(df['diameter'])\n",
    "\n",
    "    plt.subplot(2, 4, 3)\n",
    "    plt.title('Height')\n",
    "    plt.boxplot(df['height'])\n",
    "\n",
    "    plt.subplot(2, 4, 4)\n",
    "    plt.title('Whole weight')\n",
    "    plt.boxplot(df['whole weight'])\n",
    "\n",
    "    plt.subplot(2, 4, 5)\n",
    "    plt.title('Shucked weight')\n",
    "    plt.boxplot(df['shucked weight'])\n",
    "\n",
    "    plt.subplot(2, 4, 6)\n",
    "    plt.title('Viscera weight')\n",
    "    plt.boxplot(df['viscera weight'])\n",
    "\n",
    "    plt.subplot(2, 4, 7)\n",
    "    plt.title('Shell weight')\n",
    "    plt.boxplot(df['shell weight'])\n",
    "\n",
    "#     plt.subplot(2, 4, 8)\n",
    "#     plt.title('Rings')\n",
    "#     plt.boxplot(df['rings'])\n",
    "\n",
    "    plt.show()\n",
    "\n",
    "make_boxplots(df)"
   ]
  },
  {
   "cell_type": "code",
   "execution_count": null,
   "metadata": {},
   "outputs": [],
   "source": [
    "# remove all outliers for following features\n",
    "features_to_remove_outliers_from = ['length', 'diameter', 'height', 'whole weight', 'shucked weight', 'viscera weight', 'shell weight']\n",
    "\n",
    "for feature in features_to_remove_outliers_from:\n",
    "    min_max_vals = [item.get_ydata()[1] for item in plt.boxplot(df[feature])['whiskers']]\n",
    "    \n",
    "    # remove outliers for that feature\n",
    "    df = df[df[feature] >= min_max_vals[0]] \n",
    "    df = df[df[feature] <= min_max_vals[1]] \n",
    "\n",
    "make_hists(df)\n",
    "make_boxplots(df)"
   ]
  },
  {
   "cell_type": "code",
   "execution_count": 2,
   "metadata": {},
   "outputs": [
    {
     "data": {
      "text/html": [
       "<div>\n",
       "<style scoped>\n",
       "    .dataframe tbody tr th:only-of-type {\n",
       "        vertical-align: middle;\n",
       "    }\n",
       "\n",
       "    .dataframe tbody tr th {\n",
       "        vertical-align: top;\n",
       "    }\n",
       "\n",
       "    .dataframe thead th {\n",
       "        text-align: right;\n",
       "    }\n",
       "</style>\n",
       "<table border=\"1\" class=\"dataframe\">\n",
       "  <thead>\n",
       "    <tr style=\"text-align: right;\">\n",
       "      <th></th>\n",
       "      <th>length</th>\n",
       "      <th>diameter</th>\n",
       "      <th>height</th>\n",
       "      <th>whole weight</th>\n",
       "      <th>shucked weight</th>\n",
       "      <th>viscera weight</th>\n",
       "      <th>shell weight</th>\n",
       "      <th>h ^ 2</th>\n",
       "      <th>log shell weight</th>\n",
       "      <th>sex_F</th>\n",
       "      <th>sex_I</th>\n",
       "      <th>sex_M</th>\n",
       "      <th>rings</th>\n",
       "    </tr>\n",
       "  </thead>\n",
       "  <tbody>\n",
       "    <tr>\n",
       "      <th>0</th>\n",
       "      <td>-0.574558</td>\n",
       "      <td>-0.432149</td>\n",
       "      <td>-1.064424</td>\n",
       "      <td>-0.641898</td>\n",
       "      <td>-0.607685</td>\n",
       "      <td>-0.726212</td>\n",
       "      <td>-0.638217</td>\n",
       "      <td>-0.543864</td>\n",
       "      <td>-0.277689</td>\n",
       "      <td>0</td>\n",
       "      <td>0</td>\n",
       "      <td>1</td>\n",
       "      <td>high</td>\n",
       "    </tr>\n",
       "    <tr>\n",
       "      <th>1</th>\n",
       "      <td>-1.448986</td>\n",
       "      <td>-1.439929</td>\n",
       "      <td>-1.183978</td>\n",
       "      <td>-1.230277</td>\n",
       "      <td>-1.170910</td>\n",
       "      <td>-1.205221</td>\n",
       "      <td>-1.212987</td>\n",
       "      <td>-0.585137</td>\n",
       "      <td>-1.217001</td>\n",
       "      <td>0</td>\n",
       "      <td>0</td>\n",
       "      <td>1</td>\n",
       "      <td>low</td>\n",
       "    </tr>\n",
       "    <tr>\n",
       "      <th>2</th>\n",
       "      <td>0.050033</td>\n",
       "      <td>0.122130</td>\n",
       "      <td>-0.107991</td>\n",
       "      <td>-0.309469</td>\n",
       "      <td>-0.463500</td>\n",
       "      <td>-0.356690</td>\n",
       "      <td>-0.207139</td>\n",
       "      <td>-0.133364</td>\n",
       "      <td>0.137002</td>\n",
       "      <td>1</td>\n",
       "      <td>0</td>\n",
       "      <td>0</td>\n",
       "      <td>low</td>\n",
       "    </tr>\n",
       "    <tr>\n",
       "      <th>3</th>\n",
       "      <td>-0.699476</td>\n",
       "      <td>-0.432149</td>\n",
       "      <td>-0.347099</td>\n",
       "      <td>-0.637819</td>\n",
       "      <td>-0.648238</td>\n",
       "      <td>-0.607600</td>\n",
       "      <td>-0.602294</td>\n",
       "      <td>-0.249375</td>\n",
       "      <td>-0.237277</td>\n",
       "      <td>0</td>\n",
       "      <td>0</td>\n",
       "      <td>1</td>\n",
       "      <td>med</td>\n",
       "    </tr>\n",
       "    <tr>\n",
       "      <th>4</th>\n",
       "      <td>-1.615544</td>\n",
       "      <td>-1.540707</td>\n",
       "      <td>-1.423087</td>\n",
       "      <td>-1.272086</td>\n",
       "      <td>-1.215968</td>\n",
       "      <td>-1.287337</td>\n",
       "      <td>-1.320757</td>\n",
       "      <td>-0.660991</td>\n",
       "      <td>-1.514226</td>\n",
       "      <td>0</td>\n",
       "      <td>1</td>\n",
       "      <td>0</td>\n",
       "      <td>low</td>\n",
       "    </tr>\n",
       "  </tbody>\n",
       "</table>\n",
       "</div>"
      ],
      "text/plain": [
       "     length  diameter    height  whole weight  shucked weight  viscera weight  \\\n",
       "0 -0.574558 -0.432149 -1.064424     -0.641898       -0.607685       -0.726212   \n",
       "1 -1.448986 -1.439929 -1.183978     -1.230277       -1.170910       -1.205221   \n",
       "2  0.050033  0.122130 -0.107991     -0.309469       -0.463500       -0.356690   \n",
       "3 -0.699476 -0.432149 -0.347099     -0.637819       -0.648238       -0.607600   \n",
       "4 -1.615544 -1.540707 -1.423087     -1.272086       -1.215968       -1.287337   \n",
       "\n",
       "   shell weight     h ^ 2  log shell weight  sex_F  sex_I  sex_M rings  \n",
       "0     -0.638217 -0.543864         -0.277689      0      0      1  high  \n",
       "1     -1.212987 -0.585137         -1.217001      0      0      1   low  \n",
       "2     -0.207139 -0.133364          0.137002      1      0      0   low  \n",
       "3     -0.602294 -0.249375         -0.237277      0      0      1   med  \n",
       "4     -1.320757 -0.660991         -1.514226      0      1      0   low  "
      ]
     },
     "execution_count": 2,
     "metadata": {},
     "output_type": "execute_result"
    }
   ],
   "source": [
    "# quadratic features\n",
    "df['h ^ 2']  = df['height'] ** 2\n",
    "# df['area'] = 3.14 * (df['diameter'] / 2) ** 2\n",
    "# df['circumference'] = 3.14 * df['diameter']\n",
    "# df['l ^ 2']  = df['length'] ** 2\n",
    "# df['d ^ 2']  = df['diameter'] ** 2\n",
    "\n",
    "# To make weight distributions a little more normally distributed\n",
    "df['log shell weight'] = np.log(df['shell weight'])\n",
    "# df['log whole weight'] = np.log(df['whole weight'])\n",
    "# df['log shucked weight'] = np.log(df['shucked weight'])\n",
    "# df['log viscera weight'] = np.log(df['viscera weight'])\n",
    "\n",
    "# Standardize data (except sexes)\n",
    "all_sexes = df['sex']\n",
    "all_rings = df['rings']\n",
    "names = list(df.columns)\n",
    "names.remove('rings')\n",
    "names.remove('sex')\n",
    "df = pd.DataFrame(preprocessing.scale(df[names]), columns=names)\n",
    "df['sex'] = all_sexes\n",
    "\n",
    "# Make dummies out of sex\n",
    "df = pd.get_dummies(df)\n",
    "\n",
    "df['rings'] = all_rings.values\n",
    "\n",
    "df.head()"
   ]
  },
  {
   "cell_type": "code",
   "execution_count": 3,
   "metadata": {},
   "outputs": [
    {
     "name": "stdout",
     "output_type": "stream",
     "text": [
      "12 [0.66666667 0.69461078 0.6491018  0.6491018  0.64311377]\n",
      "7 [0.65949821 0.67784431 0.64550898 0.65508982 0.64071856]\n",
      "6 [0.66069295 0.6742515  0.64431138 0.65628743 0.62874251]\n",
      "5 [0.62724014 0.5988024  0.60598802 0.59041916 0.58562874]\n",
      "4 [0.62007168 0.60958084 0.5988024  0.60239521 0.58443114]\n"
     ]
    }
   ],
   "source": [
    "from sklearn.decomposition import PCA\n",
    "from sklearn.model_selection import cross_val_score\n",
    "\n",
    "pca_num_components = [len(df.columns) - 1, 7, 6, 5, 4]\n",
    "\n",
    "def get_pca_cross_val_score(num_components):\n",
    "    X = df.drop('rings', 1)\n",
    "    \n",
    "    pca = PCA(n_components=num_components)\n",
    "    principal_components = pca.fit_transform(X)\n",
    "    \n",
    "    # Change to logistic – figure out why there are NaNs in the data?\n",
    "    logist = linear_model.LogisticRegression()\n",
    "    Y = df['rings']\n",
    "    X = principal_components\n",
    "    \n",
    "    print(num_components, cross_val_score(logist, X, Y, cv=5))\n",
    "\n",
    "for num_components in pca_num_components:\n",
    "    get_pca_cross_val_score(num_components)\n",
    "\n",
    "num_rows = df.shape[0]\n",
    "trainsize = int(num_rows / 2)\n",
    "df_test = df.iloc[trainsize:, :].copy()\n",
    "df_train = df.iloc[:trainsize, :].copy()\n",
    "\n",
    "# TRAINING\n",
    "X_train = df_train.loc[:, ~(df_train.columns).isin(['rings'])]\n",
    "Y_train = df_train['rings'].values.reshape(-1, 1)\n",
    "\n",
    "# TESTING\n",
    "X_test = df_test.loc[:, ~(df_train.columns).isin(['rings'])]\n",
    "Y_test = df_test['rings'].values.reshape(-1, 1)"
   ]
  },
  {
   "cell_type": "markdown",
   "metadata": {},
   "source": [
    "6 is probably the minimum number of components we can reduce to while still explaining much of the variance in the dataset, as evidenced by the cross-validation scores.\n",
    "\n",
    "## Vanilla Logistic Regression"
   ]
  },
  {
   "cell_type": "code",
   "execution_count": 4,
   "metadata": {},
   "outputs": [
    {
     "name": "stdout",
     "output_type": "stream",
     "text": [
      "\n",
      "R²: 0.6800766283524904\n",
      "\n",
      "Coefficients: [[-1.17602468 -0.06758343  0.5894639   4.62642402 -3.58792745 -0.82907927\n",
      "  -0.19326167 -0.41681033  2.23299958 -0.31210562 -0.77264931 -0.31427683]\n",
      " [ 0.82228585 -0.25744768 -0.31873973 -4.37827661  3.64764239  0.39658102\n",
      "  -0.86372004  0.17151409 -0.88928352 -0.25686496  0.43677703 -0.22371482]\n",
      " [ 0.0711192   0.32918233 -0.01786504 -1.32977781  0.69884877  0.70996421\n",
      "  -0.76212352 -0.02302399  1.4018101  -0.13664584 -0.69422358 -0.180276  ]]\n",
      "\n",
      "Intercept: [-1.39903176 -0.04380276 -1.01114542]\n"
     ]
    },
    {
     "name": "stderr",
     "output_type": "stream",
     "text": [
      "/anaconda3/lib/python3.6/site-packages/sklearn/utils/validation.py:578: DataConversionWarning: A column-vector y was passed when a 1d array was expected. Please change the shape of y to (n_samples, ), for example using ravel().\n",
      "  y = column_or_1d(y, warn=True)\n"
     ]
    }
   ],
   "source": [
    "vanilla = linear_model.LogisticRegression(penalty='l2',C=1e42)\n",
    "vanilla.fit(X_train, Y_train)\n",
    "vanilla_score_training = vanilla.score(X_train, Y_train)\n",
    "\n",
    "print('\\nR²:', vanilla_score_training)\n",
    "print('\\nCoefficients:', vanilla.coef_)\n",
    "print('\\nIntercept:', vanilla.intercept_)"
   ]
  },
  {
   "cell_type": "code",
   "execution_count": 5,
   "metadata": {},
   "outputs": [
    {
     "name": "stdout",
     "output_type": "stream",
     "text": [
      "\n",
      "R²: 0.66251795117281\n"
     ]
    }
   ],
   "source": [
    "vanilla_score_testing = vanilla.score(X_test, Y_test)\n",
    "print('\\nR²:', vanilla_score_testing)"
   ]
  },
  {
   "cell_type": "markdown",
   "metadata": {},
   "source": [
    "## Lasso Logistic Regression"
   ]
  },
  {
   "cell_type": "code",
   "execution_count": 6,
   "metadata": {},
   "outputs": [
    {
     "name": "stdout",
     "output_type": "stream",
     "text": [
      "R²: 0.6795977011494253\n",
      "\n",
      "Coefficients: [[-1.16669719e+00 -5.44055854e-02  5.60322763e-01  4.50461655e+00\n",
      "  -3.53936992e+00 -8.01583207e-01 -1.35609942e-01 -3.78870192e-01\n",
      "   2.19850756e+00  1.06758870e-06 -4.62315329e-01 -6.36245314e-04]\n",
      " [ 7.98902564e-01 -2.41257049e-01 -3.14480509e-01 -4.25616945e+00\n",
      "   3.59069856e+00  3.65087155e-01 -8.93179906e-01  1.67262100e-01\n",
      "  -8.88012922e-01 -2.63672708e-01  4.29583502e-01 -2.30125123e-01]\n",
      " [ 7.45563186e-02  3.26799736e-01 -1.43243318e-02 -1.28465991e+00\n",
      "   6.78049392e-01  6.97020878e-01 -7.67839504e-01 -2.45513913e-02\n",
      "   1.38748825e+00  4.59834669e-04 -5.55222762e-01 -4.17069831e-02]]\n",
      "\n",
      "Intercept: [-1.70377609 -0.03413939 -1.14679866]\n",
      "Index(['length', 'diameter', 'height', 'whole weight', 'shucked weight',\n",
      "       'viscera weight', 'shell weight', 'h ^ 2', 'log shell weight', 'sex_F',\n",
      "       'sex_I', 'sex_M'],\n",
      "      dtype='object')\n",
      "\n",
      "R²: 0.6639540449976065\n"
     ]
    },
    {
     "name": "stderr",
     "output_type": "stream",
     "text": [
      "/anaconda3/lib/python3.6/site-packages/sklearn/utils/validation.py:578: DataConversionWarning: A column-vector y was passed when a 1d array was expected. Please change the shape of y to (n_samples, ), for example using ravel().\n",
      "  y = column_or_1d(y, warn=True)\n"
     ]
    }
   ],
   "source": [
    "# More weight (alpha) --> more features will be zero (more you are penalizing)\n",
    "lasso = linear_model.LogisticRegression(penalty='l1', C=10) # alpha=.001\n",
    "lassofit = lasso.fit(X_train, Y_train)\n",
    "lasso_score_training = lasso.score(X_train, Y_train)\n",
    "\n",
    "print('R²:', lasso_score_training)\n",
    "print('\\nCoefficients:', lassofit.coef_)\n",
    "print('\\nIntercept:', lassofit.intercept_)\n",
    "\n",
    "print(X_train.columns)\n",
    "\n",
    "# Drop unhelpful features\n",
    "# X_train = X_train.drop('length', 1)\n",
    "# X_train = X_train.drop('diameter', 1)\n",
    "# X_train = X_train.drop('height', 1)\n",
    "# X_test = X_test.drop('length', 1)\n",
    "# X_test = X_test.drop('diameter', 1)\n",
    "# X_test = X_test.drop('height', 1)\n",
    "\n",
    "lasso_score_testing = lasso.score(X_test, Y_test)\n",
    "print('\\nR²:', lasso_score_testing)"
   ]
  },
  {
   "cell_type": "markdown",
   "metadata": {},
   "source": [
    "## Ridge Logistic Regression"
   ]
  },
  {
   "cell_type": "code",
   "execution_count": 7,
   "metadata": {},
   "outputs": [
    {
     "name": "stdout",
     "output_type": "stream",
     "text": [
      "R² for training: 0.6795977011494253\n",
      "\n",
      "Coefficients: [[-1.15278448 -0.06267518  0.59062381  4.2995331  -3.43813416 -0.76141597\n",
      "  -0.06233299 -0.41426353  2.1715967  -0.30575202 -0.77625832 -0.30934147]\n",
      " [ 0.80634819 -0.25938503 -0.32352058 -4.00665932  3.4693177   0.31633166\n",
      "  -0.9632516   0.17331622 -0.88104532 -0.25744147  0.44138451 -0.22222659]\n",
      " [ 0.0803311   0.32867522 -0.01516052 -1.287273    0.67783255  0.6969826\n",
      "  -0.76456409 -0.02451248  1.37828543 -0.13577463 -0.69380617 -0.17926535]]\n",
      "\n",
      "Intercept: [-1.39135181 -0.03828355 -1.00884615]\n",
      "\n",
      "R² for testing: 0.6615605552896122\n"
     ]
    },
    {
     "name": "stderr",
     "output_type": "stream",
     "text": [
      "/anaconda3/lib/python3.6/site-packages/sklearn/utils/validation.py:578: DataConversionWarning: A column-vector y was passed when a 1d array was expected. Please change the shape of y to (n_samples, ), for example using ravel().\n",
      "  y = column_or_1d(y, warn=True)\n"
     ]
    }
   ],
   "source": [
    "# Overfitting went down from vanilla to ridge, \n",
    "# because there was a 3% difference in training vs testing in vanilla\n",
    "# but only 2% difference in training vs testing in ridge\n",
    "\n",
    "# More strict than vanilla – trying to prevent overfitting\n",
    "\n",
    "# coefficients will not go to zero\n",
    "# in the beginning, it is good to go with lasso because it will tell you which are the good variables to have\n",
    "\n",
    "# coefficients will change based on scale of data\n",
    "# if coefficient is 1-10, good alpha might be 5\n",
    "# if coefficient is less than 1, smaller alphas will be sufficient\n",
    "\n",
    "ridge = linear_model.LogisticRegression(penalty='l2', C=10) #, fit_intercept=False)\n",
    "ridgefit = ridge.fit(X_train, Y_train)\n",
    "ridge_score_training = ridge.score(X_train, Y_train)\n",
    "\n",
    "print('R² for training:', ridge_score_training)\n",
    "print('\\nCoefficients:', ridgefit.coef_)\n",
    "print('\\nIntercept:', ridgefit.intercept_)\n",
    "\n",
    "ridge_score_testing = ridge.score(X_test, Y_test)\n",
    "print('\\nR² for testing:', ridge_score_testing)"
   ]
  },
  {
   "cell_type": "markdown",
   "metadata": {},
   "source": [
    "## Evaluate Models\n",
    "\n",
    "__Evaluate all 3 models and decide on your best.__\n",
    "\n",
    "I evaluated these models on their R-squared scores when run on both the training and testing data. \n",
    "\n",
    "It is interesting that all models performed relatively similarly on the training data (ranked lasso, ridge, vanilla) and the testing data (ranked lasso, vanilla, ridge). Overall, lasso seemed the best model for this dataset."
   ]
  },
  {
   "cell_type": "code",
   "execution_count": 8,
   "metadata": {},
   "outputs": [
    {
     "name": "stdout",
     "output_type": "stream",
     "text": [
      "Vanilla: 0.6800766283524904 0.66251795117281\n",
      "Ridge: 0.6795977011494253 0.6615605552896122\n",
      "Lasso: 0.6795977011494253 0.6639540449976065\n"
     ]
    }
   ],
   "source": [
    "print('Vanilla:', vanilla_score_training, vanilla_score_testing)\n",
    "print('Ridge:', ridge_score_training, ridge_score_testing)\n",
    "print('Lasso:', lasso_score_training, lasso_score_testing)"
   ]
  },
  {
   "cell_type": "markdown",
   "metadata": {},
   "source": [
    "__Be clear about the decisions you made that led to these models (feature selection, regularization parameter selection, model evaluation criteria) and why you think that particular model is the best of the three.__ \n",
    "\n",
    "I added a few features based on the abalone's dimensions that might account for quadratic or multi-dimension parameters in the model (i.e. length x height, length x diameter, circumference, area, etc.).\n",
    "\n",
    "I looked at my model's coefficients to determine a good starting point for my ridge and lasso models. I used trial and error to tune the alphas, in an effort to maximize my R-squared value.\n",
    "\n",
    "I evaluated my models based on how they performed on both the training and testing data. \n",
    "\n",
    "__Also reflect on the strengths and limitations of regression as a modeling approach. Were there things you couldn't do but you wish you could have done?__\n",
    "\n",
    "Regression models are limited in that they make the big assumption that independent and dependent variables are normally distributed. If features are not normally distributed, the regression model will fail. Random forest / KNN will work better in those scenarios, as they are not dependent on the distribution of their features."
   ]
  },
  {
   "cell_type": "code",
   "execution_count": 67,
   "metadata": {},
   "outputs": [
    {
     "name": "stdout",
     "output_type": "stream",
     "text": [
      "CROSS VALIDATION SCORES:\n",
      "vanilla: [0.72553699 0.6722488  0.6076555  0.66666667 0.63309353]\n",
      "ridge: [0.72553699 0.66746411 0.6076555  0.66666667 0.63549161]\n",
      "lasso: [0.72553699 0.6722488  0.61004785 0.66666667 0.63549161]\n"
     ]
    },
    {
     "data": {
      "image/png": "[encoded data removed]",
      "text/plain": [
       "<Figure size 1440x360 with 3 Axes>"
      ]
     },
     "metadata": {},
     "output_type": "display_data"
    }
   ],
   "source": [
    "# - print out cross validation scores for all regressions\n",
    "print('CROSS VALIDATION SCORES:')\n",
    "print('vanilla:', cross_val_score(vanilla, X_test, Y_test.ravel(), cv=5))\n",
    "print('ridge:', cross_val_score(ridge, X_test, Y_test.ravel(), cv=5))\n",
    "print('lasso:', cross_val_score(lasso, X_test, Y_test.ravel(), cv=5))\n",
    "\n",
    "# - plot the values of coefficients for all regressions\n",
    "plt.figure(figsize=(20, 5))\n",
    "for idx in range(3):\n",
    "    vanilla_df = pd.DataFrame(vanilla.coef_[idx], index=X_test.columns)\n",
    "    ridge_df = pd.DataFrame(ridge.coef_[idx], index=X_test.columns)\n",
    "    lasso_df = pd.DataFrame(lasso.coef_[idx], index=X_test.columns)\n",
    "    \n",
    "    ax = plt.subplot(1, 3, idx + 1)\n",
    "    ax.bar(np.arange(12) - 0.2, vanilla_df[0], width=0.2,color='b',align='center', label=\"vanilla\")\n",
    "    ax.bar(np.arange(12), ridge_df[0], width=0.2,color='g',align='center', label=\"ridge\")\n",
    "    ax.bar(np.arange(12) + 0.2, lasso_df[0], width=0.2,color='r',align='center', label=\"lasso\")\n",
    "    ax.set_xticklabels(X_test.columns, rotation=45)\n",
    "    ax.set_title('Coefficients for ' + ['low', 'med', 'high'][idx] + ' # of rings')\n",
    "    ax.legend()\n",
    "\n",
    "plt.show()"
   ]
  },
  {
   "cell_type": "code",
   "execution_count": null,
   "metadata": {},
   "outputs": [],
   "source": [
    "# MENTOR SESSION NOTES\n",
    "\n",
    "# PROCESS / TIMELINE\n",
    "# Vanilla -> lasso (beat baseline set by vanilla) -> \n",
    "# drop unnecessary features -> Vanilla -> ridge, if it makes sense\n",
    "\n",
    "# do lasso\n",
    "# get coefficients to see which are zero\n",
    "# make sure R-squared values for train and test are similar\n",
    "# i do not have to take features out manually because coefficients will go to zero if they are unimportant\n",
    "\n",
    "# remove features from ridge, bc ridge will not make unimportant features zero\n",
    "# do ridge - will help prevent overfitting\n",
    "\n",
    "# REPEAT (trial and error) – look at data\n",
    "\n",
    "# RANDOM FOREST\n",
    "# random forest is most common model to use\n",
    "# add: gradient boosting machines to optimize ^\n",
    "# nice because you don't have to make variables normally distributed\n",
    "# scaling not 100% necessary for random forest\n",
    "# outlier removal and dummies and cleaning is still necessary for random forest\n",
    "\n",
    "# LOGISTIC REGRESSION\n",
    "# more commonly used than linear regression\n",
    "# easy to explain \n",
    "\n",
    "# kaggle xgboost (https://www.kaggle.com/dansbecker/learning-to-use-xgboost)"
   ]
  }
 ],
 "metadata": {
  "kernelspec": {
   "display_name": "Python 3",
   "language": "python",
   "name": "python3"
  },
  "language_info": {
   "codemirror_mode": {
    "name": "ipython",
    "version": 3
   },
   "file_extension": ".py",
   "mimetype": "text/x-python",
   "name": "python",
   "nbconvert_exporter": "python",
   "pygments_lexer": "ipython3",
   "version": "3.6.5"
  }
 },
 "nbformat": 4,
 "nbformat_minor": 2
}
