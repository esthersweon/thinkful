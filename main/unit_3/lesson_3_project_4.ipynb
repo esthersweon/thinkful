{
 "cells": [
  {
   "cell_type": "markdown",
   "metadata": {},
   "source": [
    "# Challenge\n",
    "\n",
    "Pick a dataset of your choice with a binary outcome and the potential for at least 15 features.\n",
    "\n",
    "Engineer your features, then create 3 models. Each model will be run on a training set and a test-set (or multiple test-sets, if you take a folds approach):\n",
    "\n",
    "- Vanilla logistic regression\n",
    "- Ridge logistic regression\n",
    "- Lasso logistic regression\n",
    "\n",
    "If you're stuck on how to begin combining your 2 new modeling skills, here's a hint: the SKlearn LogisticRegression method has a \"penalty\" argument that takes either 'l1' or 'l2' as a value."
   ]
  },
  {
   "cell_type": "code",
   "execution_count": 1,
   "metadata": {},
   "outputs": [
    {
     "name": "stdout",
     "output_type": "stream",
     "text": [
      "Low: 15887 \n",
      "Med: 11697 \n",
      "High: 13909\n"
     ]
    },
    {
     "name": "stderr",
     "output_type": "stream",
     "text": [
      "/anaconda3/lib/python3.6/site-packages/ipykernel_launcher.py:14: UserWarning: Boolean Series key will be reindexed to match DataFrame index.\n",
      "  \n"
     ]
    },
    {
     "data": {
      "text/html": [
       "<div>\n",
       "<style scoped>\n",
       "    .dataframe tbody tr th:only-of-type {\n",
       "        vertical-align: middle;\n",
       "    }\n",
       "\n",
       "    .dataframe tbody tr th {\n",
       "        vertical-align: top;\n",
       "    }\n",
       "\n",
       "    .dataframe thead th {\n",
       "        text-align: right;\n",
       "    }\n",
       "</style>\n",
       "<table border=\"1\" class=\"dataframe\">\n",
       "  <thead>\n",
       "    <tr style=\"text-align: right;\">\n",
       "      <th></th>\n",
       "      <th>sex</th>\n",
       "      <th>length</th>\n",
       "      <th>diameter</th>\n",
       "      <th>height</th>\n",
       "      <th>whole weight</th>\n",
       "      <th>shucked weight</th>\n",
       "      <th>viscera weight</th>\n",
       "      <th>shell weight</th>\n",
       "      <th>rings</th>\n",
       "    </tr>\n",
       "  </thead>\n",
       "  <tbody>\n",
       "    <tr>\n",
       "      <th>0</th>\n",
       "      <td>M</td>\n",
       "      <td>0.455</td>\n",
       "      <td>0.365</td>\n",
       "      <td>0.095</td>\n",
       "      <td>0.5140</td>\n",
       "      <td>0.2245</td>\n",
       "      <td>0.1010</td>\n",
       "      <td>0.150</td>\n",
       "      <td>high</td>\n",
       "    </tr>\n",
       "    <tr>\n",
       "      <th>1</th>\n",
       "      <td>M</td>\n",
       "      <td>0.350</td>\n",
       "      <td>0.265</td>\n",
       "      <td>0.090</td>\n",
       "      <td>0.2255</td>\n",
       "      <td>0.0995</td>\n",
       "      <td>0.0485</td>\n",
       "      <td>0.070</td>\n",
       "      <td>low</td>\n",
       "    </tr>\n",
       "    <tr>\n",
       "      <th>2</th>\n",
       "      <td>F</td>\n",
       "      <td>0.530</td>\n",
       "      <td>0.420</td>\n",
       "      <td>0.135</td>\n",
       "      <td>0.6770</td>\n",
       "      <td>0.2565</td>\n",
       "      <td>0.1415</td>\n",
       "      <td>0.210</td>\n",
       "      <td>low</td>\n",
       "    </tr>\n",
       "    <tr>\n",
       "      <th>3</th>\n",
       "      <td>M</td>\n",
       "      <td>0.440</td>\n",
       "      <td>0.365</td>\n",
       "      <td>0.125</td>\n",
       "      <td>0.5160</td>\n",
       "      <td>0.2155</td>\n",
       "      <td>0.1140</td>\n",
       "      <td>0.155</td>\n",
       "      <td>med</td>\n",
       "    </tr>\n",
       "    <tr>\n",
       "      <th>4</th>\n",
       "      <td>I</td>\n",
       "      <td>0.330</td>\n",
       "      <td>0.255</td>\n",
       "      <td>0.080</td>\n",
       "      <td>0.2050</td>\n",
       "      <td>0.0895</td>\n",
       "      <td>0.0395</td>\n",
       "      <td>0.055</td>\n",
       "      <td>low</td>\n",
       "    </tr>\n",
       "  </tbody>\n",
       "</table>\n",
       "</div>"
      ],
      "text/plain": [
       "  sex  length  diameter  height  whole weight  shucked weight  viscera weight  \\\n",
       "0   M   0.455     0.365   0.095        0.5140          0.2245          0.1010   \n",
       "1   M   0.350     0.265   0.090        0.2255          0.0995          0.0485   \n",
       "2   F   0.530     0.420   0.135        0.6770          0.2565          0.1415   \n",
       "3   M   0.440     0.365   0.125        0.5160          0.2155          0.1140   \n",
       "4   I   0.330     0.255   0.080        0.2050          0.0895          0.0395   \n",
       "\n",
       "   shell weight rings  \n",
       "0         0.150  high  \n",
       "1         0.070   low  \n",
       "2         0.210   low  \n",
       "3         0.155   med  \n",
       "4         0.055   low  "
      ]
     },
     "execution_count": 1,
     "metadata": {},
     "output_type": "execute_result"
    }
   ],
   "source": [
    "import pandas as pd\n",
    "import numpy as np\n",
    "import scipy\n",
    "import matplotlib.pyplot as plt\n",
    "from sklearn import linear_model\n",
    "from sklearn import preprocessing\n",
    "%matplotlib inline\n",
    "\n",
    "df = pd.read_csv('./data/abalone.csv', names=[\"sex\", \"length\", \"diameter\", \"height\", \"whole weight\", \"shucked weight\", \"viscera weight\", \"shell weight\", \"rings\"])\n",
    "\n",
    "df.head()\n",
    "\n",
    "low = df[df.rings <= 9].rings.sum()\n",
    "med = df[df.rings > 9][df.rings < 12].rings.sum()\n",
    "high = df[df.rings >= 12].rings.sum()\n",
    "\n",
    "print('Low:', low, '\\nMed:', med, '\\nHigh:', high)\n",
    "\n",
    "def set_rings_categ(num_rings):\n",
    "    if num_rings <= 9:\n",
    "        return 'low'\n",
    "    elif num_rings > 9 and num_rings < 12:\n",
    "        return 'med'\n",
    "    else:\n",
    "        return 'high'\n",
    "\n",
    "df['rings'] = [set_rings_categ(num_rings) for num_rings in df['rings']]\n",
    "df.head()"
   ]
  },
  {
   "cell_type": "code",
   "execution_count": 2,
   "metadata": {},
   "outputs": [
    {
     "data": {
      "image/png": "[encoded data removed]",
      "text/plain": [
       "<Figure size 1440x720 with 3 Axes>"
      ]
     },
     "metadata": {},
     "output_type": "display_data"
    }
   ],
   "source": [
    "def make_hists(df):\n",
    "    plt.figure(figsize=(20, 10))\n",
    "\n",
    "    plt.subplot(2, 2, 1)\n",
    "    plt.title('Distribution of length, diameter, height')\n",
    "    plt.hist(df['length'], bins=20, color='red', alpha=0.4)\n",
    "    plt.hist(df['diameter'], bins=20, color='orange', alpha=0.4)\n",
    "    plt.hist(df['height'], bins=20, color='green', alpha=0.4)\n",
    "\n",
    "    plt.subplot(2, 2, 2)\n",
    "    plt.title('Distribution of whole vs. shucked weights')\n",
    "    plt.hist(df['whole weight'], bins=20, color='red', alpha=0.4)\n",
    "    plt.hist(df['shucked weight'], bins=20, color='orange', alpha=0.4)\n",
    "\n",
    "    plt.subplot(2, 2, 3)\n",
    "    plt.title('Distribution of viscera vs. shell weights')\n",
    "    plt.hist(df['viscera weight'], bins=20, color='red', alpha=0.4)\n",
    "    plt.hist(df['shell weight'], bins=20, color='orange', alpha=0.4)\n",
    "\n",
    "#     plt.subplot(2, 2, 4)\n",
    "#     plt.title('Distribution of rings')\n",
    "#     plt.hist(df['rings'], bins=20)\n",
    "\n",
    "    plt.show()\n",
    "\n",
    "make_hists(df)"
   ]
  },
  {
   "cell_type": "code",
   "execution_count": 3,
   "metadata": {},
   "outputs": [
    {
     "data": {
      "image/png": "[encoded data removed]",
      "text/plain": [
       "<Figure size 1440x720 with 7 Axes>"
      ]
     },
     "metadata": {},
     "output_type": "display_data"
    }
   ],
   "source": [
    "def make_boxplots(df):\n",
    "    plt.figure(figsize=(20, 10))\n",
    "\n",
    "    plt.subplot(2, 4, 1)\n",
    "    plt.title('Length')\n",
    "    plt.boxplot(df['length'])\n",
    "\n",
    "    plt.subplot(2, 4, 2)\n",
    "    plt.title('Diameter')\n",
    "    plt.boxplot(df['diameter'])\n",
    "\n",
    "    plt.subplot(2, 4, 3)\n",
    "    plt.title('Height')\n",
    "    plt.boxplot(df['height'])\n",
    "\n",
    "    plt.subplot(2, 4, 4)\n",
    "    plt.title('Whole weight')\n",
    "    plt.boxplot(df['whole weight'])\n",
    "\n",
    "    plt.subplot(2, 4, 5)\n",
    "    plt.title('Shucked weight')\n",
    "    plt.boxplot(df['shucked weight'])\n",
    "\n",
    "    plt.subplot(2, 4, 6)\n",
    "    plt.title('Viscera weight')\n",
    "    plt.boxplot(df['viscera weight'])\n",
    "\n",
    "    plt.subplot(2, 4, 7)\n",
    "    plt.title('Shell weight')\n",
    "    plt.boxplot(df['shell weight'])\n",
    "\n",
    "#     plt.subplot(2, 4, 8)\n",
    "#     plt.title('Rings')\n",
    "#     plt.boxplot(df['rings'])\n",
    "\n",
    "    plt.show()\n",
    "\n",
    "make_boxplots(df)"
   ]
  },
  {
   "cell_type": "code",
   "execution_count": 4,
   "metadata": {},
   "outputs": [
    {
     "data": {
      "image/png": "[encoded data removed]",
      "text/plain": [
       "<Figure size 432x288 with 1 Axes>"
      ]
     },
     "metadata": {},
     "output_type": "display_data"
    },
    {
     "data": {
      "image/png": "[encoded data removed]",
      "text/plain": [
       "<Figure size 1440x720 with 3 Axes>"
      ]
     },
     "metadata": {},
     "output_type": "display_data"
    },
    {
     "data": {
      "image/png": "[encoded data removed]",
      "text/plain": [
       "<Figure size 1440x720 with 7 Axes>"
      ]
     },
     "metadata": {},
     "output_type": "display_data"
    }
   ],
   "source": [
    "# remove all outliers for following features\n",
    "features_to_remove_outliers_from = ['length', 'diameter', 'height', 'whole weight', 'shucked weight', 'viscera weight', 'shell weight']\n",
    "\n",
    "for feature in features_to_remove_outliers_from:\n",
    "    min_max_vals = [item.get_ydata()[1] for item in plt.boxplot(df[feature])['whiskers']]\n",
    "    \n",
    "    # remove outliers for that feature\n",
    "    df = df[df[feature] >= min_max_vals[0]] \n",
    "    df = df[df[feature] <= min_max_vals[1]] \n",
    "\n",
    "make_hists(df)\n",
    "make_boxplots(df)"
   ]
  },
  {
   "cell_type": "code",
   "execution_count": 5,
   "metadata": {},
   "outputs": [
    {
     "data": {
      "text/html": [
       "<div>\n",
       "<style scoped>\n",
       "    .dataframe tbody tr th:only-of-type {\n",
       "        vertical-align: middle;\n",
       "    }\n",
       "\n",
       "    .dataframe tbody tr th {\n",
       "        vertical-align: top;\n",
       "    }\n",
       "\n",
       "    .dataframe thead th {\n",
       "        text-align: right;\n",
       "    }\n",
       "</style>\n",
       "<table border=\"1\" class=\"dataframe\">\n",
       "  <thead>\n",
       "    <tr style=\"text-align: right;\">\n",
       "      <th></th>\n",
       "      <th>length</th>\n",
       "      <th>diameter</th>\n",
       "      <th>height</th>\n",
       "      <th>whole weight</th>\n",
       "      <th>shucked weight</th>\n",
       "      <th>viscera weight</th>\n",
       "      <th>shell weight</th>\n",
       "      <th>h ^ 2</th>\n",
       "      <th>log shell weight</th>\n",
       "      <th>sex_F</th>\n",
       "      <th>sex_I</th>\n",
       "      <th>sex_M</th>\n",
       "      <th>rings</th>\n",
       "    </tr>\n",
       "  </thead>\n",
       "  <tbody>\n",
       "    <tr>\n",
       "      <th>0</th>\n",
       "      <td>-0.629270</td>\n",
       "      <td>-0.471317</td>\n",
       "      <td>-1.239055</td>\n",
       "      <td>-0.663994</td>\n",
       "      <td>-0.628821</td>\n",
       "      <td>-0.752883</td>\n",
       "      <td>-0.663601</td>\n",
       "      <td>-1.183498</td>\n",
       "      <td>-0.344186</td>\n",
       "      <td>0</td>\n",
       "      <td>0</td>\n",
       "      <td>1</td>\n",
       "      <td>high</td>\n",
       "    </tr>\n",
       "    <tr>\n",
       "      <th>1</th>\n",
       "      <td>-1.579519</td>\n",
       "      <td>-1.561270</td>\n",
       "      <td>-1.379567</td>\n",
       "      <td>-1.312302</td>\n",
       "      <td>-1.250822</td>\n",
       "      <td>-1.274624</td>\n",
       "      <td>-1.299868</td>\n",
       "      <td>-1.277975</td>\n",
       "      <td>-1.419881</td>\n",
       "      <td>0</td>\n",
       "      <td>0</td>\n",
       "      <td>1</td>\n",
       "      <td>low</td>\n",
       "    </tr>\n",
       "    <tr>\n",
       "      <th>2</th>\n",
       "      <td>0.049478</td>\n",
       "      <td>0.128157</td>\n",
       "      <td>-0.114952</td>\n",
       "      <td>-0.297706</td>\n",
       "      <td>-0.469589</td>\n",
       "      <td>-0.350398</td>\n",
       "      <td>-0.186400</td>\n",
       "      <td>-0.243839</td>\n",
       "      <td>0.130715</td>\n",
       "      <td>1</td>\n",
       "      <td>0</td>\n",
       "      <td>0</td>\n",
       "      <td>low</td>\n",
       "    </tr>\n",
       "    <tr>\n",
       "      <th>3</th>\n",
       "      <td>-0.765020</td>\n",
       "      <td>-0.471317</td>\n",
       "      <td>-0.395978</td>\n",
       "      <td>-0.659500</td>\n",
       "      <td>-0.673605</td>\n",
       "      <td>-0.623690</td>\n",
       "      <td>-0.623834</td>\n",
       "      <td>-0.509395</td>\n",
       "      <td>-0.297906</td>\n",
       "      <td>0</td>\n",
       "      <td>0</td>\n",
       "      <td>1</td>\n",
       "      <td>med</td>\n",
       "    </tr>\n",
       "    <tr>\n",
       "      <th>4</th>\n",
       "      <td>-1.760519</td>\n",
       "      <td>-1.670266</td>\n",
       "      <td>-1.660593</td>\n",
       "      <td>-1.358369</td>\n",
       "      <td>-1.300582</td>\n",
       "      <td>-1.364065</td>\n",
       "      <td>-1.419168</td>\n",
       "      <td>-1.451608</td>\n",
       "      <td>-1.760261</td>\n",
       "      <td>0</td>\n",
       "      <td>1</td>\n",
       "      <td>0</td>\n",
       "      <td>low</td>\n",
       "    </tr>\n",
       "  </tbody>\n",
       "</table>\n",
       "</div>"
      ],
      "text/plain": [
       "     length  diameter    height  whole weight  shucked weight  viscera weight  \\\n",
       "0 -0.629270 -0.471317 -1.239055     -0.663994       -0.628821       -0.752883   \n",
       "1 -1.579519 -1.561270 -1.379567     -1.312302       -1.250822       -1.274624   \n",
       "2  0.049478  0.128157 -0.114952     -0.297706       -0.469589       -0.350398   \n",
       "3 -0.765020 -0.471317 -0.395978     -0.659500       -0.673605       -0.623690   \n",
       "4 -1.760519 -1.670266 -1.660593     -1.358369       -1.300582       -1.364065   \n",
       "\n",
       "   shell weight     h ^ 2  log shell weight  sex_F  sex_I  sex_M rings  \n",
       "0     -0.663601 -1.183498         -0.344186      0      0      1  high  \n",
       "1     -1.299868 -1.277975         -1.419881      0      0      1   low  \n",
       "2     -0.186400 -0.243839          0.130715      1      0      0   low  \n",
       "3     -0.623834 -0.509395         -0.297906      0      0      1   med  \n",
       "4     -1.419168 -1.451608         -1.760261      0      1      0   low  "
      ]
     },
     "execution_count": 5,
     "metadata": {},
     "output_type": "execute_result"
    }
   ],
   "source": [
    "# quadratic features\n",
    "df['h ^ 2']  = df['height'] ** 2\n",
    "# df['area'] = 3.14 * (df['diameter'] / 2) ** 2\n",
    "# df['circumference'] = 3.14 * df['diameter']\n",
    "# df['l ^ 2']  = df['length'] ** 2\n",
    "# df['d ^ 2']  = df['diameter'] ** 2\n",
    "\n",
    "# To make weight distributions a little more normally distributed\n",
    "df['log shell weight'] = np.log(df['shell weight'])\n",
    "# df['log whole weight'] = np.log(df['whole weight'])\n",
    "# df['log shucked weight'] = np.log(df['shucked weight'])\n",
    "# df['log viscera weight'] = np.log(df['viscera weight'])\n",
    "\n",
    "# Standardize data (except sexes)\n",
    "all_sexes = df['sex']\n",
    "all_rings = df['rings']\n",
    "names = list(df.columns)\n",
    "names.remove('rings')\n",
    "names.remove('sex')\n",
    "df = pd.DataFrame(preprocessing.scale(df[names]), columns=names)\n",
    "df['sex'] = all_sexes\n",
    "\n",
    "# Make dummies out of sex\n",
    "df = pd.get_dummies(df)\n",
    "\n",
    "df['rings'] = all_rings.values\n",
    "\n",
    "df.head()"
   ]
  },
  {
   "cell_type": "code",
   "execution_count": 6,
   "metadata": {},
   "outputs": [
    {
     "name": "stdout",
     "output_type": "stream",
     "text": [
      "12 [0.64303483 0.710199   0.64881694 0.63420724 0.66416979]\n",
      "7 [0.64800995 0.70024876 0.64881694 0.63670412 0.66042447]\n",
      "6 [0.64800995 0.69900498 0.64134496 0.63670412 0.66042447]\n",
      "5 [0.62313433 0.65422886 0.60523039 0.61423221 0.61672909]\n",
      "4 [0.60074627 0.62686567 0.59277709 0.60674157 0.62047441]\n"
     ]
    }
   ],
   "source": [
    "from sklearn.decomposition import PCA\n",
    "from sklearn.model_selection import cross_val_score\n",
    "\n",
    "pca_num_components = [len(df.columns) - 1, 7, 6, 5, 4]\n",
    "\n",
    "def get_pca_cross_val_score(num_components):\n",
    "    X = df.drop('rings', 1)\n",
    "    \n",
    "    pca = PCA(n_components=num_components)\n",
    "    principal_components = pca.fit_transform(X)\n",
    "    \n",
    "    # Change to logistic – figure out why there are NaNs in the data?\n",
    "    logist = linear_model.LogisticRegression()\n",
    "    Y = df['rings']\n",
    "    X = principal_components\n",
    "    \n",
    "    print(num_components, cross_val_score(logist, X, Y, cv=5))\n",
    "\n",
    "for num_components in pca_num_components:\n",
    "    get_pca_cross_val_score(num_components)\n",
    "\n",
    "num_rows = df.shape[0]\n",
    "trainsize = int(num_rows / 2)\n",
    "df_test = df.iloc[trainsize:, :].copy()\n",
    "df_train = df.iloc[:trainsize, :].copy()\n",
    "\n",
    "# TRAINING\n",
    "X_train = df_train.loc[:, ~(df_train.columns).isin(['rings'])]\n",
    "Y_train = df_train['rings'].values.reshape(-1, 1)\n",
    "\n",
    "# TESTING\n",
    "X_test = df_test.loc[:, ~(df_train.columns).isin(['rings'])]\n",
    "Y_test = df_test['rings'].values.reshape(-1, 1)"
   ]
  },
  {
   "cell_type": "markdown",
   "metadata": {},
   "source": [
    "6 is probably the minimum number of components we can reduce to while still explaining much of the variance in the dataset, as evidenced by the cross-validation scores.\n",
    "\n",
    "## Vanilla Logistic Regression"
   ]
  },
  {
   "cell_type": "code",
   "execution_count": 7,
   "metadata": {},
   "outputs": [
    {
     "name": "stdout",
     "output_type": "stream",
     "text": [
      "\n",
      "R²: 0.6814556331006979\n",
      "\n",
      "Coefficients: [[-1.3151951   0.36655216  0.19395916  4.47459238 -3.76429557 -0.75163833\n",
      "  -0.65804219  0.0974659   2.67660006  0.13362335 -0.28904078  0.0639024 ]\n",
      " [ 1.13077641 -0.5623544  -0.015368   -4.46062003  3.59859241  0.33496585\n",
      "  -0.42303021 -0.11213626 -1.21585663 -0.14912605  0.11646128 -0.15069359]\n",
      " [-0.08117192  0.26890394  0.11380575 -1.01644828  0.61939203  0.70910757\n",
      "  -0.54776455 -0.22580326  1.25539028  0.14995544  0.16386874  0.19052688]]\n",
      "\n",
      "Intercept: [-1.90184564  0.01995714 -1.39894724]\n"
     ]
    },
    {
     "name": "stderr",
     "output_type": "stream",
     "text": [
      "/anaconda3/lib/python3.6/site-packages/sklearn/utils/validation.py:578: DataConversionWarning: A column-vector y was passed when a 1d array was expected. Please change the shape of y to (n_samples, ), for example using ravel().\n",
      "  y = column_or_1d(y, warn=True)\n"
     ]
    }
   ],
   "source": [
    "vanilla = linear_model.LogisticRegression(penalty='l2',C=1e42)\n",
    "vanilla.fit(X_train, Y_train)\n",
    "vanilla_score_training = vanilla.score(X_train, Y_train)\n",
    "\n",
    "print('\\nR²:', vanilla_score_training)\n",
    "print('\\nCoefficients:', vanilla.coef_)\n",
    "print('\\nIntercept:', vanilla.intercept_)"
   ]
  },
  {
   "cell_type": "code",
   "execution_count": 8,
   "metadata": {},
   "outputs": [
    {
     "name": "stdout",
     "output_type": "stream",
     "text": [
      "\n",
      "R²: 0.6661684105630294\n"
     ]
    }
   ],
   "source": [
    "vanilla_score_testing = vanilla.score(X_test, Y_test)\n",
    "print('\\nR²:', vanilla_score_testing)"
   ]
  },
  {
   "cell_type": "markdown",
   "metadata": {},
   "source": [
    "## Lasso Logistic Regression"
   ]
  },
  {
   "cell_type": "code",
   "execution_count": 9,
   "metadata": {},
   "outputs": [
    {
     "name": "stderr",
     "output_type": "stream",
     "text": [
      "/anaconda3/lib/python3.6/site-packages/sklearn/utils/validation.py:578: DataConversionWarning: A column-vector y was passed when a 1d array was expected. Please change the shape of y to (n_samples, ), for example using ravel().\n",
      "  y = column_or_1d(y, warn=True)\n"
     ]
    },
    {
     "name": "stdout",
     "output_type": "stream",
     "text": [
      "R²: 0.6794616151545364\n",
      "\n",
      "Coefficients: [[-0.99855298  0.1419045   0.30590336  3.51693928 -3.36234335 -0.5371253\n",
      "  -0.07769463  0.          2.26297205  0.04989272 -0.34512414  0.        ]\n",
      " [ 0.88868335 -0.37102749 -0.06156583 -3.59648601  3.19354292  0.11214309\n",
      "  -0.65333682 -0.0713792  -1.16159901 -0.10447197  0.14776634 -0.10624478]\n",
      " [ 0.          0.20323576  0.         -0.66074035  0.45676807  0.60022144\n",
      "  -0.59538598 -0.11602589  1.17125023  0.          0.01062329  0.02436011]]\n",
      "\n",
      "Intercept: [-1.77210901  0.         -1.22984528]\n",
      "Index(['length', 'diameter', 'height', 'whole weight', 'shucked weight',\n",
      "       'viscera weight', 'shell weight', 'h ^ 2', 'log shell weight', 'sex_F',\n",
      "       'sex_I', 'sex_M'],\n",
      "      dtype='object')\n",
      "\n",
      "R²: 0.6661684105630294\n"
     ]
    }
   ],
   "source": [
    "# More weight (alpha) --> more features will be zero (more you are penalizing)\n",
    "lasso = linear_model.LogisticRegression(penalty='l1', C=10) # alpha=.001\n",
    "lassofit = lasso.fit(X_train, Y_train)\n",
    "lasso_score_training = lasso.score(X_train, Y_train)\n",
    "\n",
    "print('R²:', lasso_score_training)\n",
    "print('\\nCoefficients:', lassofit.coef_)\n",
    "print('\\nIntercept:', lassofit.intercept_)\n",
    "\n",
    "print(X_train.columns)\n",
    "\n",
    "# Drop unhelpful features\n",
    "# X_train = X_train.drop('length', 1)\n",
    "# X_train = X_train.drop('diameter', 1)\n",
    "# X_train = X_train.drop('height', 1)\n",
    "# X_test = X_test.drop('length', 1)\n",
    "# X_test = X_test.drop('diameter', 1)\n",
    "# X_test = X_test.drop('height', 1)\n",
    "\n",
    "lasso_score_testing = lasso.score(X_test, Y_test)\n",
    "print('\\nR²:', lasso_score_testing)"
   ]
  },
  {
   "cell_type": "markdown",
   "metadata": {},
   "source": [
    "## Ridge Logistic Regression"
   ]
  },
  {
   "cell_type": "code",
   "execution_count": 10,
   "metadata": {},
   "outputs": [
    {
     "name": "stdout",
     "output_type": "stream",
     "text": [
      "R² for training: 0.6824526420737786\n",
      "\n",
      "Coefficients: [[-1.28060367  0.35720829  0.27570778  4.17625522 -3.62440604 -0.69077353\n",
      "  -0.50644405  0.03105538  2.57160648  0.1168681  -0.30694627  0.04806619]\n",
      " [ 1.1069543  -0.55670148 -0.04996933 -4.11762948  3.43366946  0.26230555\n",
      "  -0.53006368 -0.08515671 -1.18953875 -0.14818189  0.12058295 -0.14912972]\n",
      " [-0.0712845   0.26481479  0.13300016 -0.98506498  0.60412684  0.69917717\n",
      "  -0.54372565 -0.24130791  1.23108934  0.13609768  0.15076976  0.17657882]]\n",
      "\n",
      "Intercept: [-1.87220405  0.02311147 -1.38375632]\n",
      "\n",
      "R² for testing: 0.6656701544593921\n"
     ]
    },
    {
     "name": "stderr",
     "output_type": "stream",
     "text": [
      "/anaconda3/lib/python3.6/site-packages/sklearn/utils/validation.py:578: DataConversionWarning: A column-vector y was passed when a 1d array was expected. Please change the shape of y to (n_samples, ), for example using ravel().\n",
      "  y = column_or_1d(y, warn=True)\n"
     ]
    }
   ],
   "source": [
    "# Overfitting went down from vanilla to ridge, \n",
    "# because there was a 3% difference in training vs testing in vanilla\n",
    "# but only 2% difference in training vs testing in ridge\n",
    "\n",
    "# More strict than vanilla – trying to prevent overfitting\n",
    "\n",
    "# coefficients will not go to zero\n",
    "# in the beginning, it is good to go with lasso because it will tell you which are the good variables to have\n",
    "\n",
    "# coefficients will change based on scale of data\n",
    "# if coefficient is 1-10, good alpha might be 5\n",
    "# if coefficient is less than 1, smaller alphas will be sufficient\n",
    "\n",
    "ridge = linear_model.LogisticRegression(penalty='l2', C=10) #, fit_intercept=False)\n",
    "ridgefit = ridge.fit(X_train, Y_train)\n",
    "ridge_score_training = ridge.score(X_train, Y_train)\n",
    "\n",
    "print('R² for training:', ridge_score_training)\n",
    "print('\\nCoefficients:', ridgefit.coef_)\n",
    "print('\\nIntercept:', ridgefit.intercept_)\n",
    "\n",
    "ridge_score_testing = ridge.score(X_test, Y_test)\n",
    "print('\\nR² for testing:', ridge_score_testing)"
   ]
  },
  {
   "cell_type": "markdown",
   "metadata": {},
   "source": [
    "## Evaluate Models\n",
    "\n",
    "__Evaluate all 3 models and decide on your best.__\n",
    "\n",
    "I evaluated these models on their R-squared scores when run on both the training and testing data. \n",
    "\n",
    "It is interesting that all models performed relatively similarly on the training data (ranked lasso, ridge, vanilla) and the testing data (ranked lasso, vanilla, ridge). Overall, lasso seemed the best model for this dataset."
   ]
  },
  {
   "cell_type": "code",
   "execution_count": 11,
   "metadata": {},
   "outputs": [
    {
     "name": "stdout",
     "output_type": "stream",
     "text": [
      "Vanilla: 0.6814556331006979 0.6661684105630294\n",
      "Ridge: 0.6824526420737786 0.6656701544593921\n",
      "Lasso: 0.6794616151545364 0.6661684105630294\n"
     ]
    }
   ],
   "source": [
    "print('Vanilla:', vanilla_score_training, vanilla_score_testing)\n",
    "print('Ridge:', ridge_score_training, ridge_score_testing)\n",
    "print('Lasso:', lasso_score_training, lasso_score_testing)"
   ]
  },
  {
   "cell_type": "markdown",
   "metadata": {},
   "source": [
    "__Be clear about the decisions you made that led to these models (feature selection, regularization parameter selection, model evaluation criteria) and why you think that particular model is the best of the three.__ \n",
    "\n",
    "I added a few features based on the abalone's dimensions that might account for quadratic or multi-dimension parameters in the model (i.e. length x height, length x diameter, circumference, area, etc.).\n",
    "\n",
    "I looked at my model's coefficients to determine a good starting point for my ridge and lasso models. I used trial and error to tune the alphas, in an effort to maximize my R-squared value.\n",
    "\n",
    "I evaluated my models based on how they performed on both the training and testing data. \n",
    "\n",
    "__Also reflect on the strengths and limitations of regression as a modeling approach. Were there things you couldn't do but you wish you could have done?__\n",
    "\n",
    "Regression models are limited in that they make the big assumption that independent and dependent variables are normally distributed. If features are not normally distributed, the regression model will fail. Random forest / KNN will work better in those scenarios, as they are not dependent on the distribution of their features."
   ]
  },
  {
   "cell_type": "code",
   "execution_count": 13,
   "metadata": {},
   "outputs": [],
   "source": [
    "# TODO:\n",
    "# - print out cross validation scores for all regressions\n",
    "# - plot the values of coefficients for all regressions (bar graph)"
   ]
  },
  {
   "cell_type": "code",
   "execution_count": 12,
   "metadata": {},
   "outputs": [],
   "source": [
    "# MENTOR SESSION NOTES\n",
    "\n",
    "# PROCESS / TIMELINE\n",
    "# Vanilla -> lasso (beat baseline set by vanilla) -> \n",
    "# drop unnecessary features -> Vanilla -> ridge, if it makes sense\n",
    "\n",
    "# do lasso\n",
    "# get coefficients to see which are zero\n",
    "# make sure R-squared values for train and test are similar\n",
    "# i do not have to take features out manually because coefficients will go to zero if they are unimportant\n",
    "\n",
    "# remove features from ridge, bc ridge will not make unimportant features zero\n",
    "# do ridge - will help prevent overfitting\n",
    "\n",
    "# REPEAT (trial and error) – look at data\n",
    "\n",
    "# RANDOM FOREST\n",
    "# random forest is most common model to use\n",
    "# add: gradient boosting machines to optimize ^\n",
    "# nice because you don't have to make variables normally distributed\n",
    "# scaling not 100% necessary for random forest\n",
    "# outlier removal and dummies and cleaning is still necessary for random forest\n",
    "\n",
    "# LOGISTIC REGRESSION\n",
    "# more commonly used than linear regression\n",
    "# easy to explain \n",
    "\n",
    "# kaggle xgboost (https://www.kaggle.com/dansbecker/learning-to-use-xgboost)"
   ]
  }
 ],
 "metadata": {
  "kernelspec": {
   "display_name": "Python 3",
   "language": "python",
   "name": "python3"
  },
  "language_info": {
   "codemirror_mode": {
    "name": "ipython",
    "version": 3
   },
   "file_extension": ".py",
   "mimetype": "text/x-python",
   "name": "python",
   "nbconvert_exporter": "python",
   "pygments_lexer": "ipython3",
   "version": "3.6.5"
  }
 },
 "nbformat": 4,
 "nbformat_minor": 2
}
