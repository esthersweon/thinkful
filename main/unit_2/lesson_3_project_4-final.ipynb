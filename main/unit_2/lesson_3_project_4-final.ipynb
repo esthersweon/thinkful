{
 "cells": [
  {
   "cell_type": "code",
   "execution_count": 1,
   "metadata": {},
   "outputs": [
    {
     "data": {
      "text/html": [
       "\n",
       "    <script>\n",
       "        code_show=true; \n",
       "        function code_toggle() {\n",
       "            if (code_show){\n",
       "                $('div.input').hide();\n",
       "                $('button#code-toggle').text('Show Code');\n",
       "            } else {\n",
       "                $('div.input').show();\n",
       "                $('button#code-toggle').text('Hide Code');\n",
       "            }\n",
       "            code_show = !code_show\n",
       "        }\n",
       "    </script>\n",
       "\n",
       "    <button id=\"code-toggle\" onclick=\"javascript:code_toggle()\">\n",
       "        Hide Code\n",
       "    </button>\n"
      ],
      "text/plain": [
       "<IPython.core.display.HTML object>"
      ]
     },
     "execution_count": 1,
     "metadata": {},
     "output_type": "execute_result"
    }
   ],
   "source": [
    "from IPython.display import HTML\n",
    "\n",
    "HTML('''\n",
    "    <script>\n",
    "        code_show=true; \n",
    "        function code_toggle() {\n",
    "            if (code_show){\n",
    "                $('div.input').hide();\n",
    "                $('button#code-toggle').text('Show Code');\n",
    "            } else {\n",
    "                $('div.input').show();\n",
    "                $('button#code-toggle').text('Hide Code');\n",
    "            }\n",
    "            code_show = !code_show\n",
    "        }\n",
    "    </script>\n",
    "\n",
    "    <button id=\"code-toggle\" onclick=\"javascript:code_toggle()\">\n",
    "        Hide Code\n",
    "    </button>\n",
    "''')"
   ]
  },
  {
   "cell_type": "markdown",
   "metadata": {},
   "source": [
    "# Challenge: Iterate & Evaluate Your Classifier"
   ]
  },
  {
   "cell_type": "code",
   "execution_count": 2,
   "metadata": {},
   "outputs": [
    {
     "data": {
      "text/html": [
       "<div>\n",
       "<style scoped>\n",
       "    .dataframe tbody tr th:only-of-type {\n",
       "        vertical-align: middle;\n",
       "    }\n",
       "\n",
       "    .dataframe tbody tr th {\n",
       "        vertical-align: top;\n",
       "    }\n",
       "\n",
       "    .dataframe thead th {\n",
       "        text-align: right;\n",
       "    }\n",
       "</style>\n",
       "<table border=\"1\" class=\"dataframe\">\n",
       "  <thead>\n",
       "    <tr style=\"text-align: right;\">\n",
       "      <th></th>\n",
       "      <th>text</th>\n",
       "      <th>Positive</th>\n",
       "    </tr>\n",
       "  </thead>\n",
       "  <tbody>\n",
       "    <tr>\n",
       "      <th>0</th>\n",
       "      <td>So there is no way for me to plug it in here i...</td>\n",
       "      <td>0</td>\n",
       "    </tr>\n",
       "    <tr>\n",
       "      <th>1</th>\n",
       "      <td>Good case, Excellent value.</td>\n",
       "      <td>1</td>\n",
       "    </tr>\n",
       "    <tr>\n",
       "      <th>2</th>\n",
       "      <td>Great for the jawbone.</td>\n",
       "      <td>1</td>\n",
       "    </tr>\n",
       "    <tr>\n",
       "      <th>3</th>\n",
       "      <td>Tied to charger for conversations lasting more...</td>\n",
       "      <td>0</td>\n",
       "    </tr>\n",
       "    <tr>\n",
       "      <th>4</th>\n",
       "      <td>The mic is great.</td>\n",
       "      <td>1</td>\n",
       "    </tr>\n",
       "  </tbody>\n",
       "</table>\n",
       "</div>"
      ],
      "text/plain": [
       "                                                text  Positive\n",
       "0  So there is no way for me to plug it in here i...         0\n",
       "1                        Good case, Excellent value.         1\n",
       "2                             Great for the jawbone.         1\n",
       "3  Tied to charger for conversations lasting more...         0\n",
       "4                                  The mic is great.         1"
      ]
     },
     "execution_count": 2,
     "metadata": {},
     "output_type": "execute_result"
    }
   ],
   "source": [
    "import numpy as np\n",
    "import pandas as pd\n",
    "import scipy\n",
    "import sklearn\n",
    "from sklearn.naive_bayes import BernoulliNB\n",
    "import matplotlib.pyplot as plt\n",
    "import seaborn as sns\n",
    "from collections import Counter\n",
    "import re\n",
    "\n",
    "%matplotlib inline\n",
    "\n",
    "data_path = ('sentiments/amazon_cells_labelled.txt')\n",
    "df = pd.read_csv(data_path, delimiter= '\\t', header=None)\n",
    "df.columns = ['text', 'Positive']\n",
    "\n",
    "df.head()"
   ]
  },
  {
   "cell_type": "code",
   "execution_count": 3,
   "metadata": {},
   "outputs": [],
   "source": [
    "common_words = ['a', 'about', 'all', 'also', 'am', 'an', 'and', 'are', 'as', 'at', 'be', 'because', 'by', 'can', 'did', 'do', 'does', 'even', 'for', 'from', 'get', 'had', 'has', 'have', 'having', 'i', \"if\", \"i'm\", \"i've\", 'in', 'is', 'it', 'item', \"it's\", 'its', 'me', 'my', 'of', 'on', 'one', 'or', 'that', 'the', 'their', 'them', 'then', 'there', 'these', 'they', 'this', 'to', 'was', 'we', 'were', 'what', 'when', 'where', 'which', 'while', 'will', 'with', 'within', 'you', 'your']\n",
    "domain_specific_words = ['amazon', 'audio', 'batteries', 'battery', 'bluetooth', 'buttons', 'camera', 'car', 'cars', 'charger', 'device', 'ear', 'ears', 'earset', 'headphones', 'headset', 'jabra', 'jawbone', 'motorola', 'nokia', 'phone', 'plug', 'samsung', 'software', 'sound', 'verizon']\n",
    "all_words = []\n",
    "\n",
    "def clean_sentence_and_get_words(row):\n",
    "    sentence = row[1]['text'].lower()\n",
    "    sentence = re.sub(\"[^a-zA-Z' ]+\", '', sentence)\n",
    "    return sentence.split()\n",
    "    \n",
    "for row in df.iterrows():\n",
    "    words = clean_sentence_and_get_words(row);\n",
    "    for word in words:\n",
    "        if len(word) > 0 and word not in common_words and word not in domain_specific_words:\n",
    "            all_words.append(word)\n",
    "\n",
    "counts = Counter(all_words)\n",
    "keywords = [k for k, v in counts.items() if v > 15]"
   ]
  },
  {
   "cell_type": "markdown",
   "metadata": {},
   "source": [
    "## Baseline"
   ]
  },
  {
   "cell_type": "code",
   "execution_count": 4,
   "metadata": {},
   "outputs": [
    {
     "data": {
      "image/png": "[encoded data removed]",
      "text/plain": [
       "<matplotlib.figure.Figure at 0x1098b9f60>"
      ]
     },
     "metadata": {},
     "output_type": "display_data"
    },
    {
     "name": "stdout",
     "output_type": "stream",
     "text": [
      "Baseline accuracy: 78.7%\n"
     ]
    }
   ],
   "source": [
    "for key in keywords:\n",
    "    df[str(key)] = df.text.str.contains(str(key), case=False)\n",
    "\n",
    "sns.heatmap(df.corr())\n",
    "plt.show()\n",
    "\n",
    "baseline_data = df[keywords]\n",
    "baseline_target = df['Positive']\n",
    "\n",
    "bnb = BernoulliNB()\n",
    "bnb.fit(baseline_data, baseline_target)\n",
    "\n",
    "baseline_predictions = bnb.predict(baseline_data)\n",
    "baseline_accuracy = ((baseline_target == baseline_predictions).sum()/baseline_data.shape[0]) * 100\n",
    "print('Baseline accuracy: {}%'.format(baseline_accuracy))"
   ]
  },
  {
   "cell_type": "markdown",
   "metadata": {},
   "source": [
    "## Iteration 1\n",
    "\n",
    "First, I will predict sentiment based on each review's count of \n",
    "1) the top 10 words in positive reviews, and \n",
    "2) the top 10 words in negative reviews"
   ]
  },
  {
   "cell_type": "code",
   "execution_count": 5,
   "metadata": {},
   "outputs": [
    {
     "name": "stdout",
     "output_type": "stream",
     "text": [
      "Top Positive Words:\n",
      "['great' 'so' 'very' 'work' 'good' 'no' 'works' 'use' 'well' 'product']\n",
      "\n",
      "Top Negative Words:\n",
      "['no' 'not' 'so' 'use' 'ever' 'work' 'very' 'but' 'out' 'up']\n"
     ]
    }
   ],
   "source": [
    "all_positive_reviews = df[df['Positive'] == 1].drop(['Positive'], axis=1)\n",
    "all_negative_reviews = df[df['Positive'] == 0].drop(['Positive'], axis=1)\n",
    "\n",
    "top_positive_counts = (all_positive_reviews==1).sum().nlargest(10)\n",
    "top_negative_counts = (all_negative_reviews==1).sum().nlargest(10)\n",
    "\n",
    "top_positive_words = top_positive_counts.index.values\n",
    "top_negative_words = top_negative_counts.index.values\n",
    "\n",
    "print('Top Positive Words:')\n",
    "print(top_positive_words)\n",
    "\n",
    "print('\\nTop Negative Words:')\n",
    "print(top_negative_words)"
   ]
  },
  {
   "cell_type": "markdown",
   "metadata": {},
   "source": [
    "Then, for each row, I find if that row 1) `has_top_word` for their sentiment category (i.e. positive review has top positive word), 2) `doesnt_have_other_top_word` for other sentiment category (i.e. positive review that does NOT have top negative word)."
   ]
  },
  {
   "cell_type": "code",
   "execution_count": 6,
   "metadata": {},
   "outputs": [
    {
     "name": "stderr",
     "output_type": "stream",
     "text": [
      "/anaconda3/lib/python3.6/site-packages/ipykernel_launcher.py:10: FutureWarning: set_value is deprecated and will be removed in a future release. Please use .at[] or .iat[] accessors instead\n",
      "  # Remove the CWD from sys.path while we load stuff.\n",
      "/anaconda3/lib/python3.6/site-packages/ipykernel_launcher.py:11: FutureWarning: set_value is deprecated and will be removed in a future release. Please use .at[] or .iat[] accessors instead\n",
      "  # This is added back by InteractiveShellApp.init_path()\n"
     ]
    },
    {
     "data": {
      "image/png": "[encoded data removed]",
      "text/plain": [
       "<matplotlib.figure.Figure at 0x10e4d7d30>"
      ]
     },
     "metadata": {},
     "output_type": "display_data"
    },
    {
     "name": "stdout",
     "output_type": "stream",
     "text": [
      "Iteration #1 accuracy: 81.0%\n"
     ]
    }
   ],
   "source": [
    "for i, row in df.iterrows():\n",
    "    positive_count = 0\n",
    "    negative_count = 0\n",
    "    for positive_word in top_positive_words:\n",
    "        if (row[positive_word] == True):\n",
    "            positive_count += 1\n",
    "    for negative_word in top_negative_words:\n",
    "        if (row[negative_word] == True):\n",
    "            negative_count += 1\n",
    "    df.set_value(i, 'positive_count', positive_count)\n",
    "    df.set_value(i, 'negative_count', negative_count)\n",
    "\n",
    "top_positive_word = top_positive_words[0]\n",
    "top_negative_word = top_negative_words[0]\n",
    "\n",
    "def has_top_word(row):\n",
    "    if row.loc['Positive'] == 1:\n",
    "        return row.loc[top_positive_word] == True\n",
    "    else:\n",
    "        return row.loc[top_negative_word] == True\n",
    "\n",
    "def does_not_have_other_top_word(row):\n",
    "    if row.loc['Positive'] == 1:\n",
    "        return row.loc[top_negative_word] == False\n",
    "    else:\n",
    "        return row.loc[top_positive_word] == False\n",
    "\n",
    "df['has_top_word'] = [has_top_word(row) for (idx, row) in df.iterrows()]\n",
    "df['doesnt_have_other_top_word'] = [does_not_have_other_top_word(row) for (idx, row) in df.iterrows()]\n",
    "\n",
    "iter_1_keywords = np.append(keywords, ['positive_count', 'negative_count', 'has_top_word', 'doesnt_have_other_top_word'])\n",
    "sns.heatmap(df[iter_1_keywords].corr())\n",
    "plt.show()\n",
    "\n",
    "iter_1_data = df[iter_1_keywords]\n",
    "iter_1_target = df['Positive']\n",
    "\n",
    "bnb = BernoulliNB()\n",
    "bnb.fit(iter_1_data, iter_1_target)\n",
    "\n",
    "iter_1_predictions = bnb.predict(iter_1_data)\n",
    "iter_1_accuracy = ((iter_1_target == iter_1_predictions).sum()/iter_1_data.shape[0]) * 100\n",
    "print('Iteration #1 accuracy: {}%'.format(iter_1_accuracy))"
   ]
  },
  {
   "cell_type": "code",
   "execution_count": null,
   "metadata": {},
   "outputs": [],
   "source": []
  },
  {
   "cell_type": "markdown",
   "metadata": {},
   "source": [
    "## Iteration 2\n",
    "\n",
    "Next, I will calculate the character and sentence count of reviews."
   ]
  },
  {
   "cell_type": "code",
   "execution_count": 39,
   "metadata": {},
   "outputs": [
    {
     "name": "stderr",
     "output_type": "stream",
     "text": [
      "/anaconda3/lib/python3.6/site-packages/ipykernel_launcher.py:10: FutureWarning: set_value is deprecated and will be removed in a future release. Please use .at[] or .iat[] accessors instead\n",
      "  # Remove the CWD from sys.path while we load stuff.\n",
      "/anaconda3/lib/python3.6/site-packages/ipykernel_launcher.py:11: FutureWarning: set_value is deprecated and will be removed in a future release. Please use .at[] or .iat[] accessors instead\n",
      "  # This is added back by InteractiveShellApp.init_path()\n"
     ]
    }
   ],
   "source": [
    "for i, row in df.iterrows():\n",
    "    positive_count = 0\n",
    "    negative_count = 0\n",
    "    for positive_word in top_positive_words:\n",
    "        if (row[positive_word] == True):\n",
    "            positive_count += 1\n",
    "    for negative_word in top_negative_words:\n",
    "        if (row[negative_word] == True):\n",
    "            negative_count += 1\n",
    "    df.set_value(i, 'positive_count', positive_count)\n",
    "    df.set_value(i, 'negative_count', negative_count)\n",
    "\n",
    "def get_sentence_count(row):\n",
    "    sentence = row[1]['text'].lower()\n",
    "    return len(re.split('(?<=[.!?]) +', sentence))\n",
    "\n",
    "df['char_count'] = df['text'].str.len()\n",
    "df['sentence_count'] = [get_sentence_count(row) for row in df.iterrows()]"
   ]
  },
  {
   "cell_type": "code",
   "execution_count": 58,
   "metadata": {},
   "outputs": [
    {
     "data": {
      "image/png": "[encoded data removed]",
      "text/plain": [
       "<matplotlib.figure.Figure at 0x109a55588>"
      ]
     },
     "metadata": {},
     "output_type": "display_data"
    },
    {
     "data": {
      "text/html": [
       "<div>\n",
       "<style scoped>\n",
       "    .dataframe tbody tr th:only-of-type {\n",
       "        vertical-align: middle;\n",
       "    }\n",
       "\n",
       "    .dataframe tbody tr th {\n",
       "        vertical-align: top;\n",
       "    }\n",
       "\n",
       "    .dataframe thead th {\n",
       "        text-align: right;\n",
       "    }\n",
       "</style>\n",
       "<table border=\"1\" class=\"dataframe\">\n",
       "  <thead>\n",
       "    <tr style=\"text-align: right;\">\n",
       "      <th></th>\n",
       "      <th>so</th>\n",
       "      <th>no</th>\n",
       "      <th>good</th>\n",
       "      <th>case</th>\n",
       "      <th>excellent</th>\n",
       "      <th>great</th>\n",
       "      <th>more</th>\n",
       "      <th>than</th>\n",
       "      <th>up</th>\n",
       "      <th>money</th>\n",
       "      <th>...</th>\n",
       "      <th>don't</th>\n",
       "      <th>service</th>\n",
       "      <th>used</th>\n",
       "      <th>ever</th>\n",
       "      <th>positive_count</th>\n",
       "      <th>negative_count</th>\n",
       "      <th>has_top_word</th>\n",
       "      <th>doesnt_have_other_top_word</th>\n",
       "      <th>char_count</th>\n",
       "      <th>sentence_count</th>\n",
       "    </tr>\n",
       "  </thead>\n",
       "  <tbody>\n",
       "    <tr>\n",
       "      <th>0</th>\n",
       "      <td>True</td>\n",
       "      <td>True</td>\n",
       "      <td>False</td>\n",
       "      <td>False</td>\n",
       "      <td>False</td>\n",
       "      <td>False</td>\n",
       "      <td>False</td>\n",
       "      <td>False</td>\n",
       "      <td>False</td>\n",
       "      <td>False</td>\n",
       "      <td>...</td>\n",
       "      <td>False</td>\n",
       "      <td>False</td>\n",
       "      <td>False</td>\n",
       "      <td>False</td>\n",
       "      <td>2.0</td>\n",
       "      <td>2.0</td>\n",
       "      <td>True</td>\n",
       "      <td>True</td>\n",
       "      <td>82</td>\n",
       "      <td>1</td>\n",
       "    </tr>\n",
       "    <tr>\n",
       "      <th>1</th>\n",
       "      <td>False</td>\n",
       "      <td>False</td>\n",
       "      <td>True</td>\n",
       "      <td>True</td>\n",
       "      <td>True</td>\n",
       "      <td>False</td>\n",
       "      <td>False</td>\n",
       "      <td>False</td>\n",
       "      <td>False</td>\n",
       "      <td>False</td>\n",
       "      <td>...</td>\n",
       "      <td>False</td>\n",
       "      <td>False</td>\n",
       "      <td>False</td>\n",
       "      <td>False</td>\n",
       "      <td>1.0</td>\n",
       "      <td>0.0</td>\n",
       "      <td>False</td>\n",
       "      <td>True</td>\n",
       "      <td>27</td>\n",
       "      <td>1</td>\n",
       "    </tr>\n",
       "    <tr>\n",
       "      <th>2</th>\n",
       "      <td>False</td>\n",
       "      <td>False</td>\n",
       "      <td>False</td>\n",
       "      <td>False</td>\n",
       "      <td>False</td>\n",
       "      <td>True</td>\n",
       "      <td>False</td>\n",
       "      <td>False</td>\n",
       "      <td>False</td>\n",
       "      <td>False</td>\n",
       "      <td>...</td>\n",
       "      <td>False</td>\n",
       "      <td>False</td>\n",
       "      <td>False</td>\n",
       "      <td>False</td>\n",
       "      <td>1.0</td>\n",
       "      <td>0.0</td>\n",
       "      <td>True</td>\n",
       "      <td>True</td>\n",
       "      <td>22</td>\n",
       "      <td>1</td>\n",
       "    </tr>\n",
       "    <tr>\n",
       "      <th>3</th>\n",
       "      <td>False</td>\n",
       "      <td>False</td>\n",
       "      <td>False</td>\n",
       "      <td>False</td>\n",
       "      <td>False</td>\n",
       "      <td>False</td>\n",
       "      <td>True</td>\n",
       "      <td>True</td>\n",
       "      <td>False</td>\n",
       "      <td>False</td>\n",
       "      <td>...</td>\n",
       "      <td>False</td>\n",
       "      <td>False</td>\n",
       "      <td>False</td>\n",
       "      <td>False</td>\n",
       "      <td>0.0</td>\n",
       "      <td>0.0</td>\n",
       "      <td>False</td>\n",
       "      <td>True</td>\n",
       "      <td>79</td>\n",
       "      <td>1</td>\n",
       "    </tr>\n",
       "    <tr>\n",
       "      <th>4</th>\n",
       "      <td>False</td>\n",
       "      <td>False</td>\n",
       "      <td>False</td>\n",
       "      <td>False</td>\n",
       "      <td>False</td>\n",
       "      <td>True</td>\n",
       "      <td>False</td>\n",
       "      <td>False</td>\n",
       "      <td>False</td>\n",
       "      <td>False</td>\n",
       "      <td>...</td>\n",
       "      <td>False</td>\n",
       "      <td>False</td>\n",
       "      <td>False</td>\n",
       "      <td>False</td>\n",
       "      <td>1.0</td>\n",
       "      <td>0.0</td>\n",
       "      <td>True</td>\n",
       "      <td>True</td>\n",
       "      <td>17</td>\n",
       "      <td>1</td>\n",
       "    </tr>\n",
       "  </tbody>\n",
       "</table>\n",
       "<p>5 rows × 55 columns</p>\n",
       "</div>"
      ],
      "text/plain": [
       "      so     no   good   case  excellent  great   more   than     up  money  \\\n",
       "0   True   True  False  False      False  False  False  False  False  False   \n",
       "1  False  False   True   True       True  False  False  False  False  False   \n",
       "2  False  False  False  False      False   True  False  False  False  False   \n",
       "3  False  False  False  False      False  False   True   True  False  False   \n",
       "4  False  False  False  False      False   True  False  False  False  False   \n",
       "\n",
       "        ...        don't  service   used   ever  positive_count  \\\n",
       "0       ...        False    False  False  False             2.0   \n",
       "1       ...        False    False  False  False             1.0   \n",
       "2       ...        False    False  False  False             1.0   \n",
       "3       ...        False    False  False  False             0.0   \n",
       "4       ...        False    False  False  False             1.0   \n",
       "\n",
       "   negative_count  has_top_word  doesnt_have_other_top_word  char_count  \\\n",
       "0             2.0          True                        True          82   \n",
       "1             0.0         False                        True          27   \n",
       "2             0.0          True                        True          22   \n",
       "3             0.0         False                        True          79   \n",
       "4             0.0          True                        True          17   \n",
       "\n",
       "   sentence_count  \n",
       "0               1  \n",
       "1               1  \n",
       "2               1  \n",
       "3               1  \n",
       "4               1  \n",
       "\n",
       "[5 rows x 55 columns]"
      ]
     },
     "execution_count": 58,
     "metadata": {},
     "output_type": "execute_result"
    }
   ],
   "source": [
    "iter_2_keywords = np.append(iter_1_keywords, ['char_count', 'sentence_count'])\n",
    "sns.heatmap(df[iter_2_keywords].corr())\n",
    "plt.show()\n",
    "\n",
    "iter_2_data = df[iter_2_keywords]\n",
    "iter_2_target = df['Positive']\n",
    "\n",
    "iter_2_data.head()"
   ]
  },
  {
   "cell_type": "code",
   "execution_count": 54,
   "metadata": {},
   "outputs": [
    {
     "name": "stdout",
     "output_type": "stream",
     "text": [
      "Iteration #2 accuracy: 81.0%\n"
     ]
    }
   ],
   "source": [
    "bnb = BernoulliNB()\n",
    "bnb.fit(iter_2_data, iter_2_target)\n",
    "\n",
    "iter_2_predictions = bnb.predict(iter_2_data)\n",
    "iter_2_accuracy = ((iter_2_target == iter_2_predictions).sum()/iter_2_data.shape[0]) * 100\n",
    "print('Iteration #2 accuracy: {}%'.format(iter_2_accuracy))"
   ]
  },
  {
   "cell_type": "markdown",
   "metadata": {},
   "source": [
    "## Iteration 3\n",
    "\n",
    "number of exclamation points\n",
    "number of uppercase"
   ]
  },
  {
   "cell_type": "code",
   "execution_count": 59,
   "metadata": {},
   "outputs": [
    {
     "data": {
      "image/png": "[encoded data removed]",
      "text/plain": [
       "<matplotlib.figure.Figure at 0x10e8086d8>"
      ]
     },
     "metadata": {},
     "output_type": "display_data"
    },
    {
     "data": {
      "text/html": [
       "<div>\n",
       "<style scoped>\n",
       "    .dataframe tbody tr th:only-of-type {\n",
       "        vertical-align: middle;\n",
       "    }\n",
       "\n",
       "    .dataframe tbody tr th {\n",
       "        vertical-align: top;\n",
       "    }\n",
       "\n",
       "    .dataframe thead th {\n",
       "        text-align: right;\n",
       "    }\n",
       "</style>\n",
       "<table border=\"1\" class=\"dataframe\">\n",
       "  <thead>\n",
       "    <tr style=\"text-align: right;\">\n",
       "      <th></th>\n",
       "      <th>so</th>\n",
       "      <th>no</th>\n",
       "      <th>good</th>\n",
       "      <th>case</th>\n",
       "      <th>excellent</th>\n",
       "      <th>great</th>\n",
       "      <th>more</th>\n",
       "      <th>than</th>\n",
       "      <th>up</th>\n",
       "      <th>money</th>\n",
       "      <th>...</th>\n",
       "      <th>better</th>\n",
       "      <th>don't</th>\n",
       "      <th>service</th>\n",
       "      <th>used</th>\n",
       "      <th>ever</th>\n",
       "      <th>positive_count</th>\n",
       "      <th>negative_count</th>\n",
       "      <th>has_top_word</th>\n",
       "      <th>doesnt_have_other_top_word</th>\n",
       "      <th>exclamation_count</th>\n",
       "    </tr>\n",
       "  </thead>\n",
       "  <tbody>\n",
       "    <tr>\n",
       "      <th>0</th>\n",
       "      <td>True</td>\n",
       "      <td>True</td>\n",
       "      <td>False</td>\n",
       "      <td>False</td>\n",
       "      <td>False</td>\n",
       "      <td>False</td>\n",
       "      <td>False</td>\n",
       "      <td>False</td>\n",
       "      <td>False</td>\n",
       "      <td>False</td>\n",
       "      <td>...</td>\n",
       "      <td>False</td>\n",
       "      <td>False</td>\n",
       "      <td>False</td>\n",
       "      <td>False</td>\n",
       "      <td>False</td>\n",
       "      <td>2.0</td>\n",
       "      <td>2.0</td>\n",
       "      <td>True</td>\n",
       "      <td>True</td>\n",
       "      <td>0</td>\n",
       "    </tr>\n",
       "    <tr>\n",
       "      <th>1</th>\n",
       "      <td>False</td>\n",
       "      <td>False</td>\n",
       "      <td>True</td>\n",
       "      <td>True</td>\n",
       "      <td>True</td>\n",
       "      <td>False</td>\n",
       "      <td>False</td>\n",
       "      <td>False</td>\n",
       "      <td>False</td>\n",
       "      <td>False</td>\n",
       "      <td>...</td>\n",
       "      <td>False</td>\n",
       "      <td>False</td>\n",
       "      <td>False</td>\n",
       "      <td>False</td>\n",
       "      <td>False</td>\n",
       "      <td>1.0</td>\n",
       "      <td>0.0</td>\n",
       "      <td>False</td>\n",
       "      <td>True</td>\n",
       "      <td>0</td>\n",
       "    </tr>\n",
       "    <tr>\n",
       "      <th>2</th>\n",
       "      <td>False</td>\n",
       "      <td>False</td>\n",
       "      <td>False</td>\n",
       "      <td>False</td>\n",
       "      <td>False</td>\n",
       "      <td>True</td>\n",
       "      <td>False</td>\n",
       "      <td>False</td>\n",
       "      <td>False</td>\n",
       "      <td>False</td>\n",
       "      <td>...</td>\n",
       "      <td>False</td>\n",
       "      <td>False</td>\n",
       "      <td>False</td>\n",
       "      <td>False</td>\n",
       "      <td>False</td>\n",
       "      <td>1.0</td>\n",
       "      <td>0.0</td>\n",
       "      <td>True</td>\n",
       "      <td>True</td>\n",
       "      <td>0</td>\n",
       "    </tr>\n",
       "    <tr>\n",
       "      <th>3</th>\n",
       "      <td>False</td>\n",
       "      <td>False</td>\n",
       "      <td>False</td>\n",
       "      <td>False</td>\n",
       "      <td>False</td>\n",
       "      <td>False</td>\n",
       "      <td>True</td>\n",
       "      <td>True</td>\n",
       "      <td>False</td>\n",
       "      <td>False</td>\n",
       "      <td>...</td>\n",
       "      <td>False</td>\n",
       "      <td>False</td>\n",
       "      <td>False</td>\n",
       "      <td>False</td>\n",
       "      <td>False</td>\n",
       "      <td>0.0</td>\n",
       "      <td>0.0</td>\n",
       "      <td>False</td>\n",
       "      <td>True</td>\n",
       "      <td>2</td>\n",
       "    </tr>\n",
       "    <tr>\n",
       "      <th>4</th>\n",
       "      <td>False</td>\n",
       "      <td>False</td>\n",
       "      <td>False</td>\n",
       "      <td>False</td>\n",
       "      <td>False</td>\n",
       "      <td>True</td>\n",
       "      <td>False</td>\n",
       "      <td>False</td>\n",
       "      <td>False</td>\n",
       "      <td>False</td>\n",
       "      <td>...</td>\n",
       "      <td>False</td>\n",
       "      <td>False</td>\n",
       "      <td>False</td>\n",
       "      <td>False</td>\n",
       "      <td>False</td>\n",
       "      <td>1.0</td>\n",
       "      <td>0.0</td>\n",
       "      <td>True</td>\n",
       "      <td>True</td>\n",
       "      <td>0</td>\n",
       "    </tr>\n",
       "  </tbody>\n",
       "</table>\n",
       "<p>5 rows × 54 columns</p>\n",
       "</div>"
      ],
      "text/plain": [
       "      so     no   good   case  excellent  great   more   than     up  money  \\\n",
       "0   True   True  False  False      False  False  False  False  False  False   \n",
       "1  False  False   True   True       True  False  False  False  False  False   \n",
       "2  False  False  False  False      False   True  False  False  False  False   \n",
       "3  False  False  False  False      False  False   True   True  False  False   \n",
       "4  False  False  False  False      False   True  False  False  False  False   \n",
       "\n",
       "         ...          better  don't  service   used   ever  positive_count  \\\n",
       "0        ...           False  False    False  False  False             2.0   \n",
       "1        ...           False  False    False  False  False             1.0   \n",
       "2        ...           False  False    False  False  False             1.0   \n",
       "3        ...           False  False    False  False  False             0.0   \n",
       "4        ...           False  False    False  False  False             1.0   \n",
       "\n",
       "   negative_count  has_top_word  doesnt_have_other_top_word  exclamation_count  \n",
       "0             2.0          True                        True                  0  \n",
       "1             0.0         False                        True                  0  \n",
       "2             0.0          True                        True                  0  \n",
       "3             0.0         False                        True                  2  \n",
       "4             0.0          True                        True                  0  \n",
       "\n",
       "[5 rows x 54 columns]"
      ]
     },
     "execution_count": 59,
     "metadata": {},
     "output_type": "execute_result"
    }
   ],
   "source": [
    "df['exclamation_count'] = df['text'].str.count('!')\n",
    "\n",
    "iter_3_keywords = np.append(iter_1_keywords, ['exclamation_count'])\n",
    "sns.heatmap(df[iter_3_keywords].corr())\n",
    "plt.show()\n",
    "\n",
    "\n",
    "iter_3_data = df[iter_3_keywords]\n",
    "iter_3_target = df['Positive']\n",
    "\n",
    "iter_3_data.head()"
   ]
  },
  {
   "cell_type": "code",
   "execution_count": 60,
   "metadata": {},
   "outputs": [
    {
     "name": "stdout",
     "output_type": "stream",
     "text": [
      "Iteration #3 accuracy: 81.3%\n"
     ]
    }
   ],
   "source": [
    "bnb = BernoulliNB()\n",
    "bnb.fit(iter_3_data, iter_3_target)\n",
    "\n",
    "iter_3_predictions = bnb.predict(iter_3_data)\n",
    "iter_3_accuracy = ((iter_3_target == iter_3_predictions).sum()/iter_3_data.shape[0]) * 100\n",
    "print('Iteration #3 accuracy: {}%'.format(iter_3_accuracy))"
   ]
  },
  {
   "cell_type": "markdown",
   "metadata": {},
   "source": [
    "## Iteration 4"
   ]
  },
  {
   "cell_type": "code",
   "execution_count": null,
   "metadata": {},
   "outputs": [],
   "source": []
  },
  {
   "cell_type": "markdown",
   "metadata": {},
   "source": [
    "## Iteration 5"
   ]
  },
  {
   "cell_type": "code",
   "execution_count": null,
   "metadata": {},
   "outputs": [],
   "source": []
  },
  {
   "cell_type": "markdown",
   "metadata": {},
   "source": [
    "## Conclusion"
   ]
  },
  {
   "cell_type": "code",
   "execution_count": null,
   "metadata": {},
   "outputs": [],
   "source": []
  }
 ],
 "metadata": {
  "kernelspec": {
   "display_name": "Python 3",
   "language": "python",
   "name": "python3"
  },
  "language_info": {
   "codemirror_mode": {
    "name": "ipython",
    "version": 3
   },
   "file_extension": ".py",
   "mimetype": "text/x-python",
   "name": "python",
   "nbconvert_exporter": "python",
   "pygments_lexer": "ipython3",
   "version": "3.6.4"
  }
 },
 "nbformat": 4,
 "nbformat_minor": 2
}
