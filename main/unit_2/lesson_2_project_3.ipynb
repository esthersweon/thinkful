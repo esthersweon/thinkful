{
 "cells": [
  {
   "cell_type": "markdown",
   "metadata": {},
   "source": [
    "# Drill: Regression or classification\n",
    "\n",
    "- The amount a person will spend on a given site in the next 24 months.\n",
    "\n",
    "    Regression\n",
    "    \n",
    "\n",
    "- What color car someone is going to buy.\n",
    "\n",
    "    Classification\n",
    "    \n",
    "\n",
    "- How many children a family will have.\n",
    "\n",
    "    Regression or classification\n",
    "    \n",
    "\n",
    "- If someone will sign up for a service.\n",
    "\n",
    "    Classification\n",
    "    \n",
    "\n",
    "- The number of times someone will get sick in a year.\n",
    "\n",
    "    Regression or classification \n",
    "    \n",
    "\n",
    "- The probability someone will get sick in the next month.\n",
    "\n",
    "    Classification (using a classifier that assigns a probability for each category)\n",
    "    \n",
    "\n",
    "- Which medicine will work best for a given patient.\n",
    "\n",
    "    Classification"
   ]
  },
  {
   "cell_type": "code",
   "execution_count": null,
   "metadata": {},
   "outputs": [],
   "source": []
  }
 ],
 "metadata": {
  "kernelspec": {
   "display_name": "Python 3",
   "language": "python",
   "name": "python3"
  },
  "language_info": {
   "codemirror_mode": {
    "name": "ipython",
    "version": 3
   },
   "file_extension": ".py",
   "mimetype": "text/x-python",
   "name": "python",
   "nbconvert_exporter": "python",
   "pygments_lexer": "ipython3",
   "version": "3.6.4"
  }
 },
 "nbformat": 4,
 "nbformat_minor": 2
}
