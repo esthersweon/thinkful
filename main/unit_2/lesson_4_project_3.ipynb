{
 "cells": [
  {
   "cell_type": "code",
   "execution_count": 1,
   "metadata": {},
   "outputs": [
    {
     "data": {
      "text/html": [
       "\n",
       "    <script>\n",
       "        code_show=true; \n",
       "        function code_toggle() {\n",
       "            if (code_show){\n",
       "                $('div.input').hide();\n",
       "                $('button#code-toggle').text('Show Code');\n",
       "            } else {\n",
       "                $('div.input').show();\n",
       "                $('button#code-toggle').text('Hide Code');\n",
       "            }\n",
       "            code_show = !code_show\n",
       "        }\n",
       "    </script>\n",
       "\n",
       "    <button id=\"code-toggle\" onclick=\"javascript:code_toggle()\">\n",
       "        Hide Code\n",
       "    </button>\n"
      ],
      "text/plain": [
       "<IPython.core.display.HTML object>"
      ]
     },
     "execution_count": 1,
     "metadata": {},
     "output_type": "execute_result"
    }
   ],
   "source": [
    "from IPython.display import HTML\n",
    "\n",
    "HTML('''\n",
    "    <script>\n",
    "        code_show=true; \n",
    "        function code_toggle() {\n",
    "            if (code_show){\n",
    "                $('div.input').hide();\n",
    "                $('button#code-toggle').text('Show Code');\n",
    "            } else {\n",
    "                $('div.input').show();\n",
    "                $('button#code-toggle').text('Hide Code');\n",
    "            }\n",
    "            code_show = !code_show\n",
    "        }\n",
    "    </script>\n",
    "\n",
    "    <button id=\"code-toggle\" onclick=\"javascript:code_toggle()\">\n",
    "        Hide Code\n",
    "    </button>\n",
    "''')"
   ]
  },
  {
   "cell_type": "markdown",
   "metadata": {},
   "source": [
    "# Explanatory Power: Assumptions of Linear Regression"
   ]
  },
  {
   "cell_type": "code",
   "execution_count": 19,
   "metadata": {},
   "outputs": [],
   "source": [
    "import math\n",
    "import warnings\n",
    "\n",
    "from IPython.display import display\n",
    "from matplotlib import pyplot as plt\n",
    "import numpy as np\n",
    "import pandas as pd\n",
    "import seaborn as sns\n",
    "from sklearn import linear_model\n",
    "from scipy import stats\n",
    "\n",
    "# Display preferences.\n",
    "%matplotlib inline\n",
    "pd.options.display.float_format = '{:.3f}'.format\n",
    "\n",
    "# Suppress annoying harmless error.\n",
    "warnings.filterwarnings(\n",
    "    action=\"ignore\",\n",
    "    module=\"scipy\",\n",
    "    message=\"^internal gelsd\"\n",
    ")"
   ]
  },
  {
   "cell_type": "code",
   "execution_count": 3,
   "metadata": {},
   "outputs": [
    {
     "data": {
      "text/html": [
       "<div>\n",
       "<style scoped>\n",
       "    .dataframe tbody tr th:only-of-type {\n",
       "        vertical-align: middle;\n",
       "    }\n",
       "\n",
       "    .dataframe tbody tr th {\n",
       "        vertical-align: top;\n",
       "    }\n",
       "\n",
       "    .dataframe thead th {\n",
       "        text-align: right;\n",
       "    }\n",
       "</style>\n",
       "<table border=\"1\" class=\"dataframe\">\n",
       "  <thead>\n",
       "    <tr style=\"text-align: right;\">\n",
       "      <th></th>\n",
       "      <th>Unnamed: 0</th>\n",
       "      <th>TV</th>\n",
       "      <th>Radio</th>\n",
       "      <th>Newspaper</th>\n",
       "      <th>Sales</th>\n",
       "    </tr>\n",
       "  </thead>\n",
       "  <tbody>\n",
       "    <tr>\n",
       "      <th>0</th>\n",
       "      <td>1</td>\n",
       "      <td>230.100</td>\n",
       "      <td>37.800</td>\n",
       "      <td>69.200</td>\n",
       "      <td>22.100</td>\n",
       "    </tr>\n",
       "    <tr>\n",
       "      <th>1</th>\n",
       "      <td>2</td>\n",
       "      <td>44.500</td>\n",
       "      <td>39.300</td>\n",
       "      <td>45.100</td>\n",
       "      <td>10.400</td>\n",
       "    </tr>\n",
       "    <tr>\n",
       "      <th>2</th>\n",
       "      <td>3</td>\n",
       "      <td>17.200</td>\n",
       "      <td>45.900</td>\n",
       "      <td>69.300</td>\n",
       "      <td>9.300</td>\n",
       "    </tr>\n",
       "    <tr>\n",
       "      <th>3</th>\n",
       "      <td>4</td>\n",
       "      <td>151.500</td>\n",
       "      <td>41.300</td>\n",
       "      <td>58.500</td>\n",
       "      <td>18.500</td>\n",
       "    </tr>\n",
       "    <tr>\n",
       "      <th>4</th>\n",
       "      <td>5</td>\n",
       "      <td>180.800</td>\n",
       "      <td>10.800</td>\n",
       "      <td>58.400</td>\n",
       "      <td>12.900</td>\n",
       "    </tr>\n",
       "  </tbody>\n",
       "</table>\n",
       "</div>"
      ],
      "text/plain": [
       "   Unnamed: 0      TV  Radio  Newspaper  Sales\n",
       "0           1 230.100 37.800     69.200 22.100\n",
       "1           2  44.500 39.300     45.100 10.400\n",
       "2           3  17.200 45.900     69.300  9.300\n",
       "3           4 151.500 41.300     58.500 18.500\n",
       "4           5 180.800 10.800     58.400 12.900"
      ]
     },
     "metadata": {},
     "output_type": "display_data"
    },
    {
     "name": "stdout",
     "output_type": "stream",
     "text": [
      "\n",
      "Coefficients: \n",
      " [[0.04575482 0.18799423]]\n",
      "\n",
      "Intercept: \n",
      " [2.92109991]\n",
      "\n",
      "R-squared:\n",
      "0.8971942610828956\n"
     ]
    }
   ],
   "source": [
    "# Acquire, load, and preview the data.\n",
    "data = pd.read_csv('https://tf-curricula-prod.s3.amazonaws.com/data-science/Advertising.csv')\n",
    "display(data.head())\n",
    "\n",
    "# Instantiate and fit our model.\n",
    "regr = linear_model.LinearRegression()\n",
    "Y = data['Sales'].values.reshape(-1, 1)\n",
    "X = data[['TV','Radio']]\n",
    "regr.fit(X, Y)\n",
    "\n",
    "# Inspect the results.\n",
    "print('\\nCoefficients: \\n', regr.coef_)\n",
    "print('\\nIntercept: \\n', regr.intercept_)\n",
    "print('\\nR-squared:')\n",
    "print(regr.score(X, Y))"
   ]
  },
  {
   "cell_type": "markdown",
   "metadata": {},
   "source": [
    "## 4 Assumptions of Linear Regression\n",
    "\n",
    "- Linear relationship \n",
    "    – Inputs have linear relationship with the outcome\n",
    "- Multivariate normality \n",
    "    – Error (real outcomes minus predicted values) is normally distributed, i.e. there are no outlier errors that could potentially skew the data\n",
    "- Homoscedasticity \n",
    "    – Distribution of error terms should be consistent for all predicted values, i.e. variance in error shouldn't be much larger for large vs. small outcomes\n",
    "- Low Multicollinearity\n",
    "    - Features should be barely correlated, if at all (multicollinearity can cause the relationship between features and outcomes to be underestimated)"
   ]
  },
  {
   "cell_type": "code",
   "execution_count": 40,
   "metadata": {},
   "outputs": [
    {
     "data": {
      "image/png": "[encoded data removed]",
      "text/plain": [
       "<matplotlib.figure.Figure at 0x1a12724438>"
      ]
     },
     "metadata": {},
     "output_type": "display_data"
    }
   ],
   "source": [
    "plt.scatter(data['TV'], data['Sales']) # should sqrt the xs\n",
    "# plt.scatter(data['Radio'], data['Sales'])\n",
    "# plt.scatter(data['Newspaper'], data['Sales'])\n",
    "\n",
    "plt.title('How Ad Spend Affects Sales')\n",
    "plt.legend(['TV', 'Radio'])\n",
    "plt.xlabel('Ad Spend')\n",
    "plt.ylabel('Sales')\n",
    "\n",
    "plt.show()"
   ]
  },
  {
   "cell_type": "code",
   "execution_count": 5,
   "metadata": {},
   "outputs": [
    {
     "data": {
      "image/png": "[encoded data removed]",
      "text/plain": [
       "<matplotlib.figure.Figure at 0x1a086f4dd8>"
      ]
     },
     "metadata": {},
     "output_type": "display_data"
    }
   ],
   "source": [
    "# Extract predicted values\n",
    "predicted = regr.predict(X).ravel()\n",
    "actual = data['Sales']\n",
    "\n",
    "# Calculate the error / residual\n",
    "residual = actual - predicted\n",
    "\n",
    "# This looks concerning\n",
    "plt.hist(residual)\n",
    "plt.title('Residual counts')\n",
    "plt.xlabel('Residual')\n",
    "plt.ylabel('Count')\n",
    "plt.show()"
   ]
  },
  {
   "cell_type": "code",
   "execution_count": 6,
   "metadata": {},
   "outputs": [
    {
     "data": {
      "image/png": "[encoded data removed]",
      "text/plain": [
       "<matplotlib.figure.Figure at 0x1a086f4860>"
      ]
     },
     "metadata": {},
     "output_type": "display_data"
    }
   ],
   "source": [
    "# Also concerning\n",
    "plt.scatter(predicted, residual)\n",
    "plt.xlabel('Predicted')\n",
    "plt.ylabel('Residual')\n",
    "plt.axhline(y=0)\n",
    "plt.title('Residual vs. Predicted')\n",
    "plt.show()"
   ]
  },
  {
   "cell_type": "markdown",
   "metadata": {},
   "source": [
    "Your data has a problem with both heteroscedasticity and multivariate non-normality. How can you fix it?"
   ]
  },
  {
   "cell_type": "code",
   "execution_count": 43,
   "metadata": {},
   "outputs": [
    {
     "data": {
      "text/html": [
       "<div>\n",
       "<style scoped>\n",
       "    .dataframe tbody tr th:only-of-type {\n",
       "        vertical-align: middle;\n",
       "    }\n",
       "\n",
       "    .dataframe tbody tr th {\n",
       "        vertical-align: top;\n",
       "    }\n",
       "\n",
       "    .dataframe thead th {\n",
       "        text-align: right;\n",
       "    }\n",
       "</style>\n",
       "<table border=\"1\" class=\"dataframe\">\n",
       "  <thead>\n",
       "    <tr style=\"text-align: right;\">\n",
       "      <th></th>\n",
       "      <th>Unnamed: 0</th>\n",
       "      <th>TV</th>\n",
       "      <th>Radio</th>\n",
       "      <th>Newspaper</th>\n",
       "      <th>Sales</th>\n",
       "      <th>TV sqrt</th>\n",
       "      <th>Radio 0.7</th>\n",
       "      <th>Radio Boxcox</th>\n",
       "      <th>TV Boxcox</th>\n",
       "    </tr>\n",
       "  </thead>\n",
       "  <tbody>\n",
       "    <tr>\n",
       "      <th>0</th>\n",
       "      <td>1</td>\n",
       "      <td>230.100</td>\n",
       "      <td>37.800</td>\n",
       "      <td>69.200</td>\n",
       "      <td>22.100</td>\n",
       "      <td>15.169</td>\n",
       "      <td>12.713</td>\n",
       "      <td>13.653</td>\n",
       "      <td>71.495</td>\n",
       "    </tr>\n",
       "    <tr>\n",
       "      <th>1</th>\n",
       "      <td>2</td>\n",
       "      <td>44.500</td>\n",
       "      <td>39.300</td>\n",
       "      <td>45.100</td>\n",
       "      <td>10.400</td>\n",
       "      <td>6.671</td>\n",
       "      <td>13.064</td>\n",
       "      <td>14.025</td>\n",
       "      <td>20.558</td>\n",
       "    </tr>\n",
       "    <tr>\n",
       "      <th>2</th>\n",
       "      <td>3</td>\n",
       "      <td>17.200</td>\n",
       "      <td>45.900</td>\n",
       "      <td>69.300</td>\n",
       "      <td>9.300</td>\n",
       "      <td>4.147</td>\n",
       "      <td>14.564</td>\n",
       "      <td>15.600</td>\n",
       "      <td>9.577</td>\n",
       "    </tr>\n",
       "    <tr>\n",
       "      <th>3</th>\n",
       "      <td>4</td>\n",
       "      <td>151.500</td>\n",
       "      <td>41.300</td>\n",
       "      <td>58.500</td>\n",
       "      <td>18.500</td>\n",
       "      <td>12.309</td>\n",
       "      <td>13.526</td>\n",
       "      <td>14.512</td>\n",
       "      <td>52.316</td>\n",
       "    </tr>\n",
       "    <tr>\n",
       "      <th>4</th>\n",
       "      <td>5</td>\n",
       "      <td>180.800</td>\n",
       "      <td>10.800</td>\n",
       "      <td>58.400</td>\n",
       "      <td>12.900</td>\n",
       "      <td>13.446</td>\n",
       "      <td>5.289</td>\n",
       "      <td>5.423</td>\n",
       "      <td>59.721</td>\n",
       "    </tr>\n",
       "  </tbody>\n",
       "</table>\n",
       "</div>"
      ],
      "text/plain": [
       "   Unnamed: 0      TV  Radio  Newspaper  Sales  TV sqrt  Radio 0.7  \\\n",
       "0           1 230.100 37.800     69.200 22.100   15.169     12.713   \n",
       "1           2  44.500 39.300     45.100 10.400    6.671     13.064   \n",
       "2           3  17.200 45.900     69.300  9.300    4.147     14.564   \n",
       "3           4 151.500 41.300     58.500 18.500   12.309     13.526   \n",
       "4           5 180.800 10.800     58.400 12.900   13.446      5.289   \n",
       "\n",
       "   Radio Boxcox  TV Boxcox  \n",
       "0        13.653     71.495  \n",
       "1        14.025     20.558  \n",
       "2        15.600      9.577  \n",
       "3        14.512     52.316  \n",
       "4         5.423     59.721  "
      ]
     },
     "execution_count": 43,
     "metadata": {},
     "output_type": "execute_result"
    }
   ],
   "source": [
    "# Creating column with square-roots of inputs to get more linear relationship\n",
    "data = data[data['Radio'] > 0]\n",
    "data['TV sqrt'] = [math.sqrt(x) for x in data['TV']]\n",
    "xt, _ = stats.boxcox(data['Radio'])\n",
    "data['Radio Boxcox'] = xt\n",
    "\n",
    "xt2, _2 = stats.boxcox(data['TV'])\n",
    "data['TV Boxcox'] = xt2\n",
    "\n",
    "data.head()"
   ]
  },
  {
   "cell_type": "code",
   "execution_count": 44,
   "metadata": {},
   "outputs": [
    {
     "name": "stdout",
     "output_type": "stream",
     "text": [
      "\n",
      "Coefficients: \n",
      " [[0.16701453 0.57647476]]\n",
      "\n",
      "Intercept: \n",
      " [0.65467804]\n",
      "\n",
      "R-squared:\n",
      "0.9073269338529258\n"
     ]
    }
   ],
   "source": [
    "new_regr = linear_model.LinearRegression()\n",
    "new_Y = data['Sales'].values.reshape(-1, 1)\n",
    "new_X = data[['TV Boxcox','Radio Boxcox']]\n",
    "new_regr.fit(new_X, new_Y)\n",
    "\n",
    "# Inspect the results.\n",
    "print('\\nCoefficients: \\n', new_regr.coef_)\n",
    "print('\\nIntercept: \\n', new_regr.intercept_)\n",
    "print('\\nR-squared:')\n",
    "print(new_regr.score(new_X, new_Y))"
   ]
  },
  {
   "cell_type": "code",
   "execution_count": 46,
   "metadata": {},
   "outputs": [
    {
     "data": {
      "image/png": "[encoded data removed]",
      "text/plain": [
       "<matplotlib.figure.Figure at 0x1a12878898>"
      ]
     },
     "metadata": {},
     "output_type": "display_data"
    }
   ],
   "source": [
    "plt.scatter(data['TV Boxcox'], data['Sales']) # should sqrt the xs\n",
    "# plt.scatter([math.log(x) for x in data['Radio']], data['Sales'])\n",
    "# plt.scatter(data['Radio Boxcox'], data['Sales'])\n",
    "\n",
    "plt.title('How Ad Spend Affects Sales')\n",
    "plt.legend(['TV', 'Radio'])\n",
    "plt.xlabel('Ad Spend')\n",
    "plt.ylabel('Sales')\n",
    "\n",
    "plt.show()"
   ]
  },
  {
   "cell_type": "code",
   "execution_count": 31,
   "metadata": {},
   "outputs": [
    {
     "data": {
      "image/png": "[encoded data removed]",
      "text/plain": [
       "<matplotlib.figure.Figure at 0x1a11ec2320>"
      ]
     },
     "metadata": {},
     "output_type": "display_data"
    }
   ],
   "source": [
    "# Extract predicted values\n",
    "new_predicted = new_regr.predict(new_X).ravel()\n",
    "new_actual = data['Sales']\n",
    "\n",
    "# Calculate the error / residual\n",
    "new_residual = new_actual - new_predicted\n",
    "\n",
    "# This looks concerning\n",
    "plt.hist(new_residual)\n",
    "plt.title('Residual counts')\n",
    "plt.xlabel('Residual')\n",
    "plt.ylabel('Count')\n",
    "plt.show()"
   ]
  },
  {
   "cell_type": "code",
   "execution_count": 32,
   "metadata": {},
   "outputs": [
    {
     "data": {
      "image/png": "[encoded data removed]",
      "text/plain": [
       "<matplotlib.figure.Figure at 0x1a11d103c8>"
      ]
     },
     "metadata": {},
     "output_type": "display_data"
    }
   ],
   "source": [
    "# Also concerning\n",
    "plt.scatter(new_predicted, new_residual)\n",
    "plt.xlabel('Predicted')\n",
    "plt.ylabel('Residual')\n",
    "plt.axhline(y=0)\n",
    "plt.title('Residual vs. Predicted')\n",
    "plt.show()"
   ]
  },
  {
   "cell_type": "code",
   "execution_count": null,
   "metadata": {},
   "outputs": [],
   "source": []
  },
  {
   "cell_type": "code",
   "execution_count": null,
   "metadata": {},
   "outputs": [],
   "source": []
  }
 ],
 "metadata": {
  "kernelspec": {
   "display_name": "Python 3",
   "language": "python",
   "name": "python3"
  },
  "language_info": {
   "codemirror_mode": {
    "name": "ipython",
    "version": 3
   },
   "file_extension": ".py",
   "mimetype": "text/x-python",
   "name": "python",
   "nbconvert_exporter": "python",
   "pygments_lexer": "ipython3",
   "version": "3.6.4"
  }
 },
 "nbformat": 4,
 "nbformat_minor": 2
}
