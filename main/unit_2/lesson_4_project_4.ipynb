{
 "cells": [
  {
   "cell_type": "code",
   "execution_count": 1,
   "metadata": {},
   "outputs": [
    {
     "data": {
      "text/html": [
       "\n",
       "    <script>\n",
       "        code_show=true; \n",
       "        function code_toggle() {\n",
       "            if (code_show){\n",
       "                $('div.input').hide();\n",
       "                $('button#code-toggle').text('Show Code');\n",
       "            } else {\n",
       "                $('div.input').show();\n",
       "                $('button#code-toggle').text('Hide Code');\n",
       "            }\n",
       "            code_show = !code_show\n",
       "        }\n",
       "    </script>\n",
       "\n",
       "    <button id=\"code-toggle\" onclick=\"javascript:code_toggle()\">\n",
       "        Hide Code\n",
       "    </button>\n"
      ],
      "text/plain": [
       "<IPython.core.display.HTML object>"
      ]
     },
     "execution_count": 1,
     "metadata": {},
     "output_type": "execute_result"
    }
   ],
   "source": [
    "from IPython.display import HTML\n",
    "\n",
    "HTML('''\n",
    "    <script>\n",
    "        code_show=true; \n",
    "        function code_toggle() {\n",
    "            if (code_show){\n",
    "                $('div.input').hide();\n",
    "                $('button#code-toggle').text('Show Code');\n",
    "            } else {\n",
    "                $('div.input').show();\n",
    "                $('button#code-toggle').text('Hide Code');\n",
    "            }\n",
    "            code_show = !code_show\n",
    "        }\n",
    "    </script>\n",
    "\n",
    "    <button id=\"code-toggle\" onclick=\"javascript:code_toggle()\">\n",
    "        Hide Code\n",
    "    </button>\n",
    "''')"
   ]
  },
  {
   "cell_type": "markdown",
   "metadata": {},
   "source": [
    "# Challenge: Make Your Own Regression Model"
   ]
  },
  {
   "cell_type": "code",
   "execution_count": null,
   "metadata": {},
   "outputs": [],
   "source": []
  }
 ],
 "metadata": {
  "kernelspec": {
   "display_name": "Python 3",
   "language": "python",
   "name": "python3"
  },
  "language_info": {
   "codemirror_mode": {
    "name": "ipython",
    "version": 3
   },
   "file_extension": ".py",
   "mimetype": "text/x-python",
   "name": "python",
   "nbconvert_exporter": "python",
   "pygments_lexer": "ipython3",
   "version": "3.6.4"
  }
 },
 "nbformat": 4,
 "nbformat_minor": 2
}
