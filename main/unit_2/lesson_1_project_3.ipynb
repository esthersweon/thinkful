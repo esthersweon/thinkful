{
 "cells": [
  {
   "cell_type": "markdown",
   "metadata": {},
   "source": [
    "# Drill: Formulating Focused Research Questions\n",
    "\n",
    "## What is the 1994 rate of juvenile delinquency in the U.S.?\n",
    "\n",
    "Good!\n",
    "\n",
    "## What can we do to reduce juvenile delinquency in the U.S.?\n",
    "\n",
    "Bad! Could be revised to focus on the specific factors that may successfully contribute to reducing juvenile delinquency, e.g. \"Will investing in more after-school and community sports programs reduce the rate of juvenile delinquency in the U.S.?\"\n",
    "    \n",
    "## Does education play a role in reducing juvenile delinquents' return to crime?\n",
    "\n",
    "Bad! \"Education\" is too broad of a cause to accurately measure its effect on juvenile delinquency – this question's focus could be narrowed to \"Does involvement in after-school and community sports programs play a role in reducing juvenile delinquents' return to crime?\"    \n",
    "\n",
    "## How many customers does AT&T currently serve in Washington, DC?\n",
    "\n",
    "Good! \n",
    "    \n",
    "\n",
    "## What factors lead consumers to choose AT&T over other service providers?\n",
    "\n",
    "Good! \n",
    "\n",
    "\n",
    "## How can AT&T attract more customers?\n",
    "\n",
    "Bad! Attracting more customers is vague in that it could mean more inbound interest in the form of leads, more revenue in the form of profits over time, or simply higher numbers of enrollment. This research question could be revised to clarify this point and focus on what AT&T actually wants – e.g. \"What offerings could AT&T promote to convince interested customers to sign up and stay with the provider longer (i.e. optimize for long-term profit)?\"\n",
    "\n",
    "## Why did the Challenger Shuttle explode?\n",
    "\n",
    "Bad! This question is too broad to give any helpful first action forward. It could limit its scope by focusing on a specific domain or time period of the shuttle's construction and preparation – examples could be \"Were any aspects of the Challenger Shuttle's launch preparation likely to have introduced issues and contributed to the explosion?\" or \"Did any parts of the Challenger Shuttle's software malfunction during launch and contribute to the explosion?\"\n",
    "\n",
    "## Which genes are associated with increased risk of breast cancer?\n",
    "\n",
    "Good!\n",
    "\n",
    "## Is it better to read to children at night or in the morning?\n",
    "\n",
    "Bad! 'Better' is a general outcome that is neither quantifiable or particularly descriptive. A better research question might be \"Which group of children is more likely to read at or above their grade's reading level – those who are read to at night, or those who are read to in the morning?\"\n",
    "\n",
    "## How does Google’s search algorithm work?\n",
    "\n",
    "Bad! How an algorithm works is a broad question that does not lend itself to any focused actions for procuring the result. Narrowing the research question down to \"What metrics does Google's search algorithm use to evaluate search results, and how do they weigh these metrics to rank the results?\" could be more helpful. "
   ]
  },
  {
   "cell_type": "code",
   "execution_count": null,
   "metadata": {},
   "outputs": [],
   "source": []
  }
 ],
 "metadata": {
  "kernelspec": {
   "display_name": "Python 3",
   "language": "python",
   "name": "python3"
  },
  "language_info": {
   "codemirror_mode": {
    "name": "ipython",
    "version": 3
   },
   "file_extension": ".py",
   "mimetype": "text/x-python",
   "name": "python",
   "nbconvert_exporter": "python",
   "pygments_lexer": "ipython3",
   "version": "3.6.4"
  }
 },
 "nbformat": 4,
 "nbformat_minor": 2
}
