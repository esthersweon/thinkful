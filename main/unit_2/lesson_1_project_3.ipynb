{
 "cells": [
  {
   "cell_type": "markdown",
   "metadata": {},
   "source": [
    "# Drill: Formulating good research questions\n",
    "\n",
    "## What is the 1994 rate of juvenile delinquency in the U.S.?\n",
    "Good!\n",
    "\n",
    "## What can we do to reduce juvenile delinquency in the U.S.?\n",
    "\n",
    "Bad! Could be revised to focus more on specific factors that could contribute to juvenile delinquency, e.g. \"Will investing in more after-school programs and community sports teams reduce the rate of juvenile delinquency in the U.S.?\"\n",
    "    \n",
    "## Does education play a role in reducing juvenile delinquents' return to crime?\n",
    "\n",
    "Bad! \"Education\" is too broad of a cause to accurately measure its effect on juvenile delinquency – this question's focus could be narrowed to \"Does school attendance and involvement in after-school programs play a role in reducing juvenile delinquents' return to crime?\"    \n",
    "\n",
    "## How many customers does AT&T currently serve in Washington, DC?\n",
    "Good! \n",
    "    \n",
    "\n",
    "## What factors lead consumers to choose AT&T over other service providers?\n",
    "Good! \n",
    "\n",
    "## How can AT&T attract more customers?\n",
    "\n",
    "???\n",
    "\n",
    "## Why did the Challenger Shuttle explode?\n",
    "\n",
    "Bad!\n",
    "\n",
    "## Which genes are associated with increased risk of breast cancer?\n",
    "\n",
    "Bad! This research question has an anticipated answer (types of genes) that is not quantifiable – it could be revised to ask \"Which genes most often appear in patients who have breast cancer?\"\n",
    "\n",
    "## Is it better to read to children at night or in the morning?\n",
    "\n",
    "Bad! 'Better' is a very general outcome that is neither quantifiable or particularly descriptive. A better research question might be \"Which group of children is more likely to read at or above their grade's reading level – those who are read to at night, or those who are read to in the morning?\"\n",
    "\n",
    "## How does Google’s search algorithm work?\n",
    "\n",
    "Bad!"
   ]
  },
  {
   "cell_type": "code",
   "execution_count": null,
   "metadata": {},
   "outputs": [],
   "source": []
  }
 ],
 "metadata": {
  "kernelspec": {
   "display_name": "Python 3",
   "language": "python",
   "name": "python3"
  },
  "language_info": {
   "codemirror_mode": {
    "name": "ipython",
    "version": 3
   },
   "file_extension": ".py",
   "mimetype": "text/x-python",
   "name": "python",
   "nbconvert_exporter": "python",
   "pygments_lexer": "ipython3",
   "version": "3.6.4"
  }
 },
 "nbformat": 4,
 "nbformat_minor": 2
}
