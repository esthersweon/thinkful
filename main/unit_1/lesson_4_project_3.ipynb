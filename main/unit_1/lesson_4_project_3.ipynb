{
 "cells": [
  {
   "cell_type": "markdown",
   "metadata": {},
   "source": [
    "# DRILL: Am I Biased?\n",
    "\n",
    "For each of the following scenarios, call out the potential biases in the proposed experiment. Do your best to try to discover not only the bias, but the initial design. There is plenty of room for interpretation, so state the assumptions you're making.\n",
    "\n",
    "## You're testing advertising emails for a bathing suit company and you test one version of the email in February and the other in May.\n",
    "\n",
    "- Consumers may be more likely to purchase a bathing suit during one month over the other, regardless of the advertising email they receive (i.e. it is swimming weather in May, but not February). The makeup of the consumer base may also differ between the two months – e.g. consumers who live near the equator are more likely to be shopping year round, while those in the Northern or Southern Hemisphere are more likely to be shopping in one month over the other. \n",
    "\n",
    "## You open a clinic to treat anxiety and find that the people who visit show a higher rate of anxiety than the general population.\n",
    "\n",
    "- People who voluntarily go to a clinic that treats anxiety will likely be doing so because they themselves experience some form of anxiety (self-selection). As a result, this group will probably show a higher rate of anxiety than the general population. \n",
    "\n",
    "## You launch a new ad billboard based campaign and see an increase in website visits in the first week.\n",
    "\n",
    "- There may have been other marketing campaigns started around the same time that are responsible for the uptick in website visits. It may also be that you launched your billboard campaign during a week (e.g. the week before Christmas or Valentine's Day) when consumers are more likely to be shopping for your product anyways.\n",
    "\n",
    "## You launch a loyalty program but see no change in visits in the first week.\n",
    "\n",
    "- Your consumers may not know about your loyalty program – the fact that it exists, how to sign up for it, or how to use it. It may also be that you launched your loyalty campaign during a week when consumers are less likely to be shopping at your store anyways (e.g. bathing suit store in September)."
   ]
  },
  {
   "cell_type": "code",
   "execution_count": null,
   "metadata": {},
   "outputs": [],
   "source": []
  }
 ],
 "metadata": {
  "kernelspec": {
   "display_name": "Python 3",
   "language": "python",
   "name": "python3"
  },
  "language_info": {
   "codemirror_mode": {
    "name": "ipython",
    "version": 3
   },
   "file_extension": ".py",
   "mimetype": "text/x-python",
   "name": "python",
   "nbconvert_exporter": "python",
   "pygments_lexer": "ipython3",
   "version": "3.6.4"
  }
 },
 "nbformat": 4,
 "nbformat_minor": 2
}
