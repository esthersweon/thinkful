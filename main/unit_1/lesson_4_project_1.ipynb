{
 "cells": [
  {
   "cell_type": "markdown",
   "metadata": {},
   "source": [
    "# DRILL: Getting Testy\n",
    "\n",
    "Outline how you could use an A/B test to find an answer. Be sure to identify all five 5 components of an A/B test (2 versions, sample, hypothesis, outcomes of interest, other measured variables).\n",
    "\n",
    "## Does a new supplement help people sleep better?\n",
    "- **2 Versions**: Patients who get a placebo vs. patients who get a working supplement\n",
    "- **Sample**: Random sample of people who have trouble sleeping (ensure truly random re: age, gender, race, general health, etc.)\n",
    "- **Hypothesis**: People who take the new supplement will sleep better\n",
    "- **Outcomes of Interest**: Proportion of sleep time spent in shallow vs. REM vs. deep sleep\n",
    "- **Other Measured Variables**: Energy level throughout day, general mood upon waking up, depth of sleep (i.e. length of uninterrupted sleep)\n",
    "\n",
    "## Will new uniforms help a gym's business?\n",
    "- **2 Versions**: Customers who see employees wearing the old uniforms vs. customers who see employees wearing the new uniforms\n",
    "- **Sample**: Customers coming to the gym on a given weekday (e.g. Thursdays) with similar weather – will minimize the likelihood that other factors like that day's scheduled classes or weather are contributing to more or less gym patronage\n",
    "- **Hypothesis**: Customers who see employees wearing the new uniforms will be more likely to join and spend money at the gym.\n",
    "- **Outcomes of Interest**: The amount of money spent\n",
    "- **Other Measured Variables**: The time customers spend in the gym\n",
    "\n",
    "## Will a new homepage improve my online exotic pet rental business?\n",
    "- **2 Versions**: Website visitors who see the old landing page vs. website visitors who see the new landing page\n",
    "- **Sample**: Random sample of people who visit my site (perhaps homepage displays the new or old design on page load, with 50/50 probability)\n",
    "- **Hypothesis**: Website visitors who see the new homepage will be more likely to buy something from my business.\n",
    "- **Outcomes of Interest**: The amount of money spent by website visitors who come to the site via the homepage\n",
    "- **Other Measured Variables**: The total amount of time visitors spend on the site, the number of clicks visitors make before navigating away from the site, increase in revenue over the next month (to give time for visitors seeing the new homepage to convert, i.e. spend money)\n",
    "\n",
    "## If I put 'please read' in the email subject will more people read my emails?\n",
    "- **2 Versions**: People who receive an email with vs. without 'please read' in the subject line.\n",
    "- **Sample**: Random sample of everyone on my email list (ensure truly random re: length of time on list, age, gender, timezone, etc.)\n",
    "- **Hypothesis**: People who receive an email with 'please read' in the subject line will be mroe likely to open the email.\n",
    "- **Outcomes of Interest**: The click-through rate – the number of people who actually open the email\n",
    "- **Other Measured Variables**: The speed at which people open the two types of emails after receiving them, increase in click-through rate over the next 72 hours (to give more time for people to see and potentially open the email)"
   ]
  },
  {
   "cell_type": "code",
   "execution_count": null,
   "metadata": {},
   "outputs": [],
   "source": []
  }
 ],
 "metadata": {
  "kernelspec": {
   "display_name": "Python 3",
   "language": "python",
   "name": "python3"
  },
  "language_info": {
   "codemirror_mode": {
    "name": "ipython",
    "version": 3
   },
   "file_extension": ".py",
   "mimetype": "text/x-python",
   "name": "python",
   "nbconvert_exporter": "python",
   "pygments_lexer": "ipython3",
   "version": "3.6.4"
  }
 },
 "nbformat": 4,
 "nbformat_minor": 2
}
