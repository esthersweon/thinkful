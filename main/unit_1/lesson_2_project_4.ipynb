{
 "cells": [
  {
   "cell_type": "markdown",
   "metadata": {},
   "source": [
    "# Drills: Joins and CTEs"
   ]
  },
  {
   "cell_type": "markdown",
   "metadata": {},
   "source": [
    "## What are the three longest trips on rainy days?"
   ]
  },
  {
   "cell_type": "raw",
   "metadata": {},
   "source": [
    "SELECT\n",
    "    trips.trip_id, trips.start_station, trips.end_station, trips.duration, weather.Events\n",
    "FROM \n",
    "    trips\n",
    "JOIN\n",
    "    weather\n",
    "ON \n",
    "    weather.Date = DATE (trips.start_date) \n",
    "WHERE\n",
    "    weather.Events LIKE '%Rain%'\n",
    "GROUP BY \n",
    "\ttrips.trip_id\n",
    "ORDER BY \n",
    "    duration DESC\n",
    "LIMIT \n",
    "    3"
   ]
  },
  {
   "cell_type": "raw",
   "metadata": {},
   "source": [
    "\"1173890\"\t\"San Francisco Caltrain (Townsend at 4th)\"\t\"Grant Avenue at Columbus Avenue\"\t\"85900\"\t\"Rain\"\n",
    "\"1009870\"\t\"South Van Ness at Market\"\t\"South Van Ness at Market\"\t\"84349\"\t\"Rain\"\n",
    "\"1210487\"\t\"Palo Alto Caltrain Station\"\t\"Palo Alto Caltrain Station\"\t\"83915\"\t\"Rain\""
   ]
  },
  {
   "cell_type": "markdown",
   "metadata": {},
   "source": [
    "## Which station is empty most often?"
   ]
  },
  {
   "cell_type": "raw",
   "metadata": {},
   "source": [
    "SELECT \n",
    "    stations.name, COUNT(*) empty_count\n",
    "FROM \n",
    "    status\n",
    "JOIN \n",
    "    stations\n",
    "ON \n",
    "    status.station_id = stations.station_id\n",
    "WHERE \n",
    "    status.docks_available = 0\n",
    "GROUP BY \n",
    "    stations.name\n",
    "ORDER BY \n",
    "    empty_count DESC\n",
    "LIMIT 1"
   ]
  },
  {
   "cell_type": "raw",
   "metadata": {},
   "source": [
    "\"San Francisco Caltrain (Townsend at 4th)\"\t\"23450\""
   ]
  },
  {
   "cell_type": "markdown",
   "metadata": {},
   "source": [
    "## Return a list of stations with a count of number of trips starting at that station but ordered by dock count."
   ]
  },
  {
   "cell_type": "raw",
   "metadata": {},
   "source": [
    "SELECT \n",
    "    stations.name, stations.dockcount, COUNT(*)\n",
    "FROM \n",
    "    stations\n",
    "JOIN \n",
    "    trips\n",
    "ON \n",
    "    trips.start_station = stations.name\n",
    "GROUP BY \n",
    "    stations.name, stations.dockcount\n",
    "ORDER BY \n",
    "    stations.dockcount ASC"
   ]
  },
  {
   "cell_type": "raw",
   "metadata": {},
   "source": [
    "\"Castro Street and El Camino Real\"\t\"11\"\t\"1014\"\n",
    "\"Cowper at University\"\t\"11\"\t\"788\"\n",
    "\"Santa Clara at Almaden\"\t\"11\"\t\"1447\"\n",
    "\"University and Emerson\"\t\"11\"\t\"490\"\n",
    "\"2nd at South Park\"\t\"15\"\t\"7722\"\n",
    "\"5th at Howard\"\t\"15\"\t\"5436\"\n",
    "\"Broadway St at Battery St\"\t\"15\"\t\"5695\"\n",
    "\"California Ave Caltrain Station\"\t\"15\"\t\"392\"\n",
    "\"Charleston Park/ North Bayshore Area\"\t\"15\"\t\"343\"\n",
    "\"Clay at Battery\"\t\"15\"\t\"4357\"\n",
    "\"Commercial at Montgomery\"\t\"15\"\t\"4969\"\n",
    "\"Davis at Jackson\"\t\"15\"\t\"5240\"\n",
    "\"Embarcadero at Bryant\"\t\"15\"\t\"7714\"\n",
    "\"Embarcadero at Sansome\"\t\"15\"\t\"13424\"\n",
    "\"Embarcadero at Vallejo\"\t\"15\"\t\"4710\"\n",
    "\"Japantown\"\t\"15\"\t\"945\"\n",
    "\"Middlefield Light Rail Station\"\t\"15\"\t\"66\"\n",
    "\"Mountain View City Hall\"\t\"15\"\t\"1291\"\n",
    "\"Park at Olive\"\t\"15\"\t\"276\"\n",
    "\"Paseo de San Antonio\"\t\"15\"\t\"833\"\n",
    "\"Ryland Park\"\t\"15\"\t\"879\"\n",
    "\"SJSU - San Salvador at 9th\"\t\"15\"\t\"481\"\n",
    "\"San Antonio Shopping Center\"\t\"15\"\t\"559\"\n",
    "\"San Jose City Hall\"\t\"15\"\t\"518\"\n",
    "\"San Jose Civic Center\"\t\"15\"\t\"543\"\n",
    "\"San Pedro Square\"\t\"15\"\t\"1215\"\n",
    "\"San Salvador at 1st\"\t\"15\"\t\"540\"\n",
    "\"Santa Clara County Civic Center\"\t\"15\"\t\"420\"\n",
    "\"St James Park\"\t\"15\"\t\"694\"\n",
    "\"Townsend at 7th\"\t\"15\"\t\"11170\"\n",
    "\"2nd at Folsom\"\t\"19\"\t\"7464\"\n",
    "\"Adobe on Almaden\"\t\"19\"\t\"789\"\n",
    "\"Arena Green / SAP Center\"\t\"19\"\t\"547\"\n",
    "\"Beale at Market\"\t\"19\"\t\"7373\"\n",
    "\"Embarcadero at Folsom\"\t\"19\"\t\"7820\"\n",
    "\"Grant Avenue at Columbus Avenue\"\t\"19\"\t\"6735\"\n",
    "\"Howard at 2nd\"\t\"19\"\t\"7583\"\n",
    "\"MLK Library\"\t\"19\"\t\"630\"\n",
    "\"Market at 4th\"\t\"19\"\t\"7337\"\n",
    "\"Mechanics Plaza (Market at Battery)\"\t\"19\"\t\"5613\"\n",
    "\"Powell Street BART\"\t\"19\"\t\"6826\"\n",
    "\"Powell at Post (Union Square)\"\t\"19\"\t\"4488\"\n",
    "\"SJSU 4th at San Carlos\"\t\"19\"\t\"363\"\n",
    "\"San Francisco Caltrain (Townsend at 4th)\"\t\"19\"\t\"23591\"\n",
    "\"San Francisco City Hall\"\t\"19\"\t\"2195\"\n",
    "\"South Van Ness at Market\"\t\"19\"\t\"5398\"\n",
    "\"Spear at Folsom\"\t\"19\"\t\"5113\"\n",
    "\"Yerba Buena Center of the Arts (3rd @ Howard)\"\t\"19\"\t\"3460\"\n",
    "\"Civic Center BART (7th at Market)\"\t\"23\"\t\"5043\"\n",
    "\"Golden Gate at Polk\"\t\"23\"\t\"3309\"\n",
    "\"Harry Bridges Plaza (Ferry Building)\"\t\"23\"\t\"16128\"\n",
    "\"Mountain View Caltrain Station\"\t\"23\"\t\"2515\"\n",
    "\"Palo Alto Caltrain Station\"\t\"23\"\t\"1170\"\n",
    "\"San Antonio Caltrain Station\"\t\"23\"\t\"611\"\n",
    "\"San Francisco Caltrain 2 (330 Townsend)\"\t\"23\"\t\"22358\"\n",
    "\"Steuart at Market\"\t\"23\"\t\"13693\"\n",
    "\"Temporary Transbay Terminal (Howard at Beale)\"\t\"23\"\t\"13111\"\n",
    "\"2nd at Townsend\"\t\"27\"\t\"14099\"\n",
    "\"Market at 10th\"\t\"27\"\t\"9937\"\n",
    "\"Market at Sansome\"\t\"27\"\t\"10970\"\n",
    "\"San Jose Diridon Caltrain Station\"\t\"27\"\t\"4035\"\n",
    "\"5th St at Folsom St\"\t\"31\"\t\"173\"\n",
    "\"Cyril Magnin St at Ellis St\"\t\"35\"\t\"69\""
   ]
  },
  {
   "cell_type": "markdown",
   "metadata": {},
   "source": [
    "## (Challenge) What's the length of the longest trip for each day it rains anywhere?"
   ]
  },
  {
   "cell_type": "code",
   "execution_count": null,
   "metadata": {},
   "outputs": [],
   "source": [
    "SELECT\n",
    "    DATE(trips.start_date) trip_start_date, MAX(trips.duration) max_duration\n",
    "FROM \n",
    "    trips\n",
    "JOIN\n",
    "    weather\n",
    "ON \n",
    "    weather.Date = trip_start_date \n",
    "WHERE\n",
    "    weather.Events LIKE '%Rain%'\n",
    "GROUP BY\n",
    "    trip_start_date\n",
    "ORDER BY \n",
    "    MAX(trips.duration) DESC"
   ]
  },
  {
   "cell_type": "raw",
   "metadata": {},
   "source": [
    "\"2016-04-22\"\t\"85900\"\n",
    "\"2015-11-15\"\t\"84349\"\n",
    "\"2016-05-21\"\t\"83915\"\n",
    "\"2016-05-07\"\t\"82896\"\n",
    "\"2016-06-17\"\t\"81687\"\n",
    "\"2016-04-08\"\t\"78123\"\n",
    "\"2016-01-14\"\t\"76700\"\n",
    "\"2016-02-27\"\t\"74771\"\n",
    "\"2016-03-22\"\t\"67375\"\n",
    "\"2016-01-19\"\t\"64444\"\n",
    "\"2016-01-22\"\t\"62168\"\n",
    "\"2016-01-03\"\t\"61900\"\n",
    "\"2015-11-10\"\t\"61234\"\n",
    "\"2016-05-06\"\t\"59642\"\n",
    "\"2015-11-30\"\t\"58759\"\n",
    "\"2015-12-13\"\t\"57019\"\n",
    "\"2016-07-18\"\t\"52051\"\n",
    "\"2016-01-29\"\t\"51243\"\n",
    "\"2015-10-01\"\t\"51081\"\n",
    "\"2016-02-01\"\t\"50928\"\n",
    "\"2016-04-14\"\t\"50495\"\n",
    "\"2015-09-16\"\t\"50241\"\n",
    "\"2016-03-12\"\t\"46320\"\n",
    "\"2016-01-28\"\t\"44070\"\n",
    "\"2015-11-01\"\t\"43899\"\n",
    "\"2016-02-26\"\t\"43593\"\n",
    "\"2016-04-10\"\t\"43422\"\n",
    "\"2015-10-19\"\t\"41555\"\n",
    "\"2016-03-07\"\t\"41493\"\n",
    "\"2016-03-14\"\t\"41092\"\n",
    "\"2015-12-06\"\t\"39450\"\n",
    "\"2016-01-18\"\t\"38626\"\n",
    "\"2015-11-12\"\t\"37799\"\n",
    "\"2016-03-20\"\t\"36895\"\n",
    "\"2015-12-19\"\t\"33629\"\n",
    "\"2016-02-17\"\t\"31017\"\n",
    "\"2015-12-27\"\t\"30361\"\n",
    "\"2016-03-28\"\t\"30027\"\n",
    "\"2016-03-03\"\t\"29319\"\n",
    "\"2016-01-07\"\t\"28640\"\n",
    "\"2016-05-09\"\t\"28055\"\n",
    "\"2015-12-18\"\t\"27880\"\n",
    "\"2015-10-15\"\t\"27467\"\n",
    "\"2016-03-21\"\t\"27357\"\n",
    "\"2016-01-11\"\t\"26442\"\n",
    "\"2016-03-04\"\t\"26338\"\n",
    "\"2016-01-23\"\t\"25977\"\n",
    "\"2015-09-02\"\t\"25917\"\n",
    "\"2016-01-08\"\t\"25855\"\n",
    "\"2015-09-30\"\t\"25667\"\n",
    "\"2016-06-14\"\t\"25396\"\n",
    "\"2016-01-04\"\t\"25318\"\n",
    "\"2016-03-11\"\t\"24845\"\n",
    "\"2016-03-06\"\t\"24693\"\n",
    "\"2015-11-24\"\t\"22478\"\n",
    "\"2015-09-13\"\t\"21695\"\n",
    "\"2016-03-08\"\t\"21212\"\n",
    "\"2015-12-11\"\t\"19186\"\n",
    "\"2015-10-16\"\t\"19073\"\n",
    "\"2016-01-31\"\t\"18996\"\n",
    "\"2015-12-21\"\t\"18927\"\n",
    "\"2016-05-08\"\t\"18632\"\n",
    "\"2016-02-02\"\t\"18517\"\n",
    "\"2015-12-03\"\t\"16722\"\n",
    "\"2016-01-17\"\t\"15935\"\n",
    "\"2016-01-16\"\t\"14961\"\n",
    "\"2016-04-21\"\t\"14883\"\n",
    "\"2016-01-10\"\t\"14749\"\n",
    "\"2016-01-30\"\t\"14082\"\n",
    "\"2016-02-19\"\t\"13743\"\n",
    "\"2015-12-20\"\t\"13739\"\n",
    "\"2015-11-09\"\t\"12838\"\n",
    "\"2015-12-30\"\t\"12416\"\n",
    "\"2016-03-10\"\t\"12285\"\n",
    "\"2015-11-02\"\t\"12246\"\n",
    "\"2016-01-15\"\t\"11580\"\n",
    "\"2016-01-09\"\t\"11347\"\n",
    "\"2015-10-27\"\t\"11107\"\n",
    "\"2016-02-18\"\t\"9928\"\n",
    "\"2016-02-03\"\t\"9438\"\n",
    "\"2015-12-10\"\t\"8540\"\n",
    "\"2015-12-24\"\t\"8472\"\n",
    "\"2015-11-08\"\t\"7874\"\n",
    "\"2016-01-13\"\t\"7866\"\n",
    "\"2016-03-09\"\t\"7375\"\n",
    "\"2015-12-28\"\t\"7034\"\n",
    "\"2016-04-27\"\t\"6565\"\n",
    "\"2016-01-06\"\t\"6401\"\n",
    "\"2016-04-09\"\t\"6220\"\n",
    "\"2016-01-05\"\t\"5452\"\n",
    "\"2015-12-22\"\t\"3999\"\n",
    "\"2016-03-13\"\t\"3769\"\n",
    "\"2015-11-25\"\t\"3617\"\n",
    "\"2016-03-05\"\t\"1878\""
   ]
  }
 ],
 "metadata": {
  "kernelspec": {
   "display_name": "Python 3",
   "language": "python",
   "name": "python3"
  },
  "language_info": {
   "codemirror_mode": {
    "name": "ipython",
    "version": 3
   },
   "file_extension": ".py",
   "mimetype": "text/x-python",
   "name": "python",
   "nbconvert_exporter": "python",
   "pygments_lexer": "ipython3",
   "version": "3.6.4"
  }
 },
 "nbformat": 4,
 "nbformat_minor": 2
}
