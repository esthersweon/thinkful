{
 "cells": [
  {
   "cell_type": "markdown",
   "metadata": {},
   "source": [
    "# Drills: Joins and CTEs"
   ]
  },
  {
   "cell_type": "markdown",
   "metadata": {},
   "source": [
    "## What are the three longest trips on rainy days?"
   ]
  },
  {
   "cell_type": "markdown",
   "metadata": {},
   "source": [
    "SELECT *\n",
    "FROM weather\n",
    "JOIN trips\n",
    "ON CONVERT(varchar, '2017-08-25', 101);\n",
    "WHERE Events LIKE '%Rain%'"
   ]
  },
  {
   "cell_type": "markdown",
   "metadata": {},
   "source": [
    "## Which station is empty most often?"
   ]
  },
  {
   "cell_type": "code",
   "execution_count": null,
   "metadata": {},
   "outputs": [],
   "source": []
  },
  {
   "cell_type": "markdown",
   "metadata": {},
   "source": [
    "## Return a list of stations with a count of number of trips starting at that station but ordered by dock count."
   ]
  },
  {
   "cell_type": "raw",
   "metadata": {},
   "source": [
    "SELECT name, COUNT(*), dockcount\n",
    "FROM stations\n",
    "JOIN trips\n",
    "ON trips.start_station = stations.name\n",
    "GROUP BY stations.name\n",
    "ORDER BY stations.dockcount"
   ]
  },
  {
   "cell_type": "raw",
   "metadata": {},
   "source": [
    "\"Castro Street and El Camino Real\"\t\"1014\"\t\"11\"\n",
    "\"Cowper at University\"\t\"788\"\t\"11\"\n",
    "\"Santa Clara at Almaden\"\t\"1447\"\t\"11\"\n",
    "\"University and Emerson\"\t\"490\"\t\"11\"\n",
    "\"2nd at South Park\"\t\"7722\"\t\"15\"\n",
    "\"5th at Howard\"\t\"5436\"\t\"15\"\n",
    "\"Broadway St at Battery St\"\t\"5695\"\t\"15\"\n",
    "\"California Ave Caltrain Station\"\t\"392\"\t\"15\"\n",
    "\"Charleston Park/ North Bayshore Area\"\t\"343\"\t\"15\"\n",
    "\"Clay at Battery\"\t\"4357\"\t\"15\"\n",
    "\"Commercial at Montgomery\"\t\"4969\"\t\"15\"\n",
    "\"Davis at Jackson\"\t\"5240\"\t\"15\"\n",
    "\"Embarcadero at Bryant\"\t\"7714\"\t\"15\"\n",
    "\"Embarcadero at Sansome\"\t\"13424\"\t\"15\"\n",
    "\"Embarcadero at Vallejo\"\t\"4710\"\t\"15\"\n",
    "\"Japantown\"\t\"945\"\t\"15\"\n",
    "\"Middlefield Light Rail Station\"\t\"66\"\t\"15\"\n",
    "\"Mountain View City Hall\"\t\"1291\"\t\"15\"\n",
    "\"Park at Olive\"\t\"276\"\t\"15\"\n",
    "\"Paseo de San Antonio\"\t\"833\"\t\"15\"\n",
    "\"Ryland Park\"\t\"879\"\t\"15\"\n",
    "\"SJSU - San Salvador at 9th\"\t\"481\"\t\"15\"\n",
    "\"San Antonio Shopping Center\"\t\"559\"\t\"15\"\n",
    "\"San Jose City Hall\"\t\"518\"\t\"15\"\n",
    "\"San Jose Civic Center\"\t\"543\"\t\"15\"\n",
    "\"San Pedro Square\"\t\"1215\"\t\"15\"\n",
    "\"San Salvador at 1st\"\t\"540\"\t\"15\"\n",
    "\"Santa Clara County Civic Center\"\t\"420\"\t\"15\"\n",
    "\"St James Park\"\t\"694\"\t\"15\"\n",
    "\"Townsend at 7th\"\t\"11170\"\t\"15\"\n",
    "\"2nd at Folsom\"\t\"7464\"\t\"19\"\n",
    "\"Adobe on Almaden\"\t\"789\"\t\"19\"\n",
    "\"Arena Green / SAP Center\"\t\"547\"\t\"19\"\n",
    "\"Beale at Market\"\t\"7373\"\t\"19\"\n",
    "\"Embarcadero at Folsom\"\t\"7820\"\t\"19\"\n",
    "\"Grant Avenue at Columbus Avenue\"\t\"6735\"\t\"19\"\n",
    "\"Howard at 2nd\"\t\"7583\"\t\"19\"\n",
    "\"MLK Library\"\t\"630\"\t\"19\"\n",
    "\"Market at 4th\"\t\"7337\"\t\"19\"\n",
    "\"Mechanics Plaza (Market at Battery)\"\t\"5613\"\t\"19\"\n",
    "\"Powell Street BART\"\t\"6826\"\t\"19\"\n",
    "\"Powell at Post (Union Square)\"\t\"4488\"\t\"19\"\n",
    "\"SJSU 4th at San Carlos\"\t\"363\"\t\"19\"\n",
    "\"San Francisco Caltrain (Townsend at 4th)\"\t\"23591\"\t\"19\"\n",
    "\"San Francisco City Hall\"\t\"2195\"\t\"19\"\n",
    "\"South Van Ness at Market\"\t\"5398\"\t\"19\"\n",
    "\"Spear at Folsom\"\t\"5113\"\t\"19\"\n",
    "\"Yerba Buena Center of the Arts (3rd @ Howard)\"\t\"3460\"\t\"19\"\n",
    "\"Civic Center BART (7th at Market)\"\t\"5043\"\t\"23\"\n",
    "\"Golden Gate at Polk\"\t\"3309\"\t\"23\"\n",
    "\"Harry Bridges Plaza (Ferry Building)\"\t\"16128\"\t\"23\"\n",
    "\"Mountain View Caltrain Station\"\t\"2515\"\t\"23\"\n",
    "\"Palo Alto Caltrain Station\"\t\"1170\"\t\"23\"\n",
    "\"San Antonio Caltrain Station\"\t\"611\"\t\"23\"\n",
    "\"San Francisco Caltrain 2 (330 Townsend)\"\t\"22358\"\t\"23\"\n",
    "\"Steuart at Market\"\t\"13693\"\t\"23\"\n",
    "\"Temporary Transbay Terminal (Howard at Beale)\"\t\"13111\"\t\"23\"\n",
    "\"2nd at Townsend\"\t\"14099\"\t\"27\"\n",
    "\"Market at 10th\"\t\"9937\"\t\"27\"\n",
    "\"Market at Sansome\"\t\"10970\"\t\"27\"\n",
    "\"San Jose Diridon Caltrain Station\"\t\"4035\"\t\"27\"\n",
    "\"5th St at Folsom St\"\t\"173\"\t\"31\"\n",
    "\"Cyril Magnin St at Ellis St\"\t\"69\"\t\"35\""
   ]
  },
  {
   "cell_type": "markdown",
   "metadata": {},
   "source": [
    "## (Challenge) What's the length of the longest trip for each day it rains anywhere?"
   ]
  },
  {
   "cell_type": "code",
   "execution_count": null,
   "metadata": {},
   "outputs": [],
   "source": []
  }
 ],
 "metadata": {
  "kernelspec": {
   "display_name": "Python 3",
   "language": "python",
   "name": "python3"
  },
  "language_info": {
   "codemirror_mode": {
    "name": "ipython",
    "version": 3
   },
   "file_extension": ".py",
   "mimetype": "text/x-python",
   "name": "python",
   "nbconvert_exporter": "python",
   "pygments_lexer": "ipython3",
   "version": "3.6.4"
  }
 },
 "nbformat": 4,
 "nbformat_minor": 2
}
