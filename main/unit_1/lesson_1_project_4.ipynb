{
 "cells": [
  {
   "cell_type": "markdown",
   "metadata": {},
   "source": [
    "# Drill: What can data science do?\n",
    "\n",
    "Translate the series of questions below into a technical plan. Describe how you would make each question testable and translate it from a general question into something statistically rigorous. \n",
    "\n",
    "### You work at an e-commerce company that sells three goods: widgets, doodads, and fizzbangs. The head of advertising asks you which they should feature in their new advertising campaign. You have data on individual visitors' sessions (activity on a website, pageviews, and purchases), as well as whether or not those users converted from an advertisement for that session. You also have the cost and price information for the goods.\n",
    "\n",
    "- First, I would calculate which of the 3 goods has the highest profit margin (price - cost). Then, I would calculate what percentage of a good's purchases came via advertisement conversion (e.g. how successful widget ads are at convincing people to buy widgets). From this information, I could determine 1) which good is the most lucrative for the company per unit, and 2) which good has had the most success in inspiring purchases via advertisements. Using this information, I would recommend advertising the product that has the potential to bring in the most revenue via advertisements (i.e. profit margin * conversion rate).\n",
    "    \n",
    "    I would narrow the focus of the question to \"Which good would bring in the most revenue via advertisements?\"\n",
    "\n",
    "### You work at a web design company that offers to build websites for clients. Signups have slowed, and you are tasked with finding out why. The onboarding funnel has three steps: email and password signup, plan choice, and payment. On a user level you have information on what steps they have completed as well as timestamps for all of those events for the past 3 years. You also have information on marketing spend on a weekly level.\n",
    "\n",
    "- Assuming that none of the 3 onboarding funnel steps have changed (e.g. placement of the form / size of inputs, etc.), I would see if there were a correlation between marketing spend and the number of people who make it to the first onboarding step (email and password signup). \n",
    "    \n",
    "    If any of the 3 onboarding funnel steps HAVE changed, I would track the conversion rates for each step per week over the course of the past 3 years, to ensure the change did not discourage prospective users from going through the whole conversion funnel.\n",
    "    \n",
    "    I would narrow the focus of the question to \"Have changes in the website or fluctuations in marketing spend negatively affected the number of signups?\"\n",
    "\n",
    "### You work at a hotel website and currently the website ranks search results by price. For simplicity's sake, let's say it's a website for one city with 100 hotels. You are tasked with proposing a better ranking system. You have session information, price information for the hotels, and whether each hotel is currently available.\n",
    "\n",
    "- I am assuming that session information includes hotels booked by the site's users. \n",
    "    \n",
    "    Using the session information, I would first determine the price range within which a given user tends to book hotels. From there, I would provide personalized search results per user, with the most popular hotels in that user's price range (as determined by site-wide popularity) ranked highest. **- Add note about lower availability of hotel --> higher popularity (WEIGHT DIFFERENT FACTORS DIFFERENTLY - multiple factors for ranking higher)-**\n",
    "    \n",
    "    Those results would be followed by hotels in all other price ranges, also ranked by popularity. Hotels that are currently unavailable would be ranked the lowest (or perhaps not even shown at all for a search between two given dates), as they are not at all useful to a user searching for a reservation. \n",
    "    \n",
    "    I would narrow the focus of the question to \"Which hotels is a user most likely to book, given their and other customers' booking histories?\"\n",
    "\n",
    "\n",
    "### You work at a social network, and the management is worried about churn (users stopping using the product). You are tasked with finding out if their churn is atypical. You have three years of data for users with an entry for every time they've logged in, including the timestamp and length of session.\n",
    "\n",
    "- I would test user churn by calculating how users' 1) number of logins per month, and 2) total time spent logged in per month has changed over the course of 3 years. \n",
    "    \n",
    "    **Go into more granular unit of measurement – there may be churn at lower level (per time of day/day/per week); trends that may be hidden when simply looking at the trend per month; perhaps monthly churn hasn't changed, but churn has happened on weekdays during the day, etc.**\n",
    "    \n",
    "    I would narrow the focus of the question to \"Have users been engaging with the product more or less frequently and spent more or less time over the past 3 years?\" "
   ]
  },
  {
   "cell_type": "code",
   "execution_count": null,
   "metadata": {},
   "outputs": [],
   "source": []
  }
 ],
 "metadata": {
  "kernelspec": {
   "display_name": "Python 3",
   "language": "python",
   "name": "python3"
  },
  "language_info": {
   "codemirror_mode": {
    "name": "ipython",
    "version": 3
   },
   "file_extension": ".py",
   "mimetype": "text/x-python",
   "name": "python",
   "nbconvert_exporter": "python",
   "pygments_lexer": "ipython3",
   "version": "3.6.4"
  }
 },
 "nbformat": 4,
 "nbformat_minor": 2
}
