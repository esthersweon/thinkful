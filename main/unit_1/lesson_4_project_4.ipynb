{
 "cells": [
  {
   "cell_type": "markdown",
   "metadata": {},
   "source": [
    "# Challenge: Evaluate an experiment analysis\n",
    "\n",
    "Read the following descriptions of an experiment and its analysis, identify the flaws in each, and describe what you would do to correct them.\n",
    "\n",
    "## The Sith Lords are concerned that their recruiting slogan, \"Give In to Your Anger,\" isn't very effective. Darth Vader develops an alternative slogan, \"Together We Can Rule the Galaxy.\" They compare the slogans on two groups of 50 captured droids each. In one group, Emperor Palpatine delivers the \"Anger\" slogan. In the other, Darth Vader presents the \"Together\" slogan. 20 droids convert to the Dark Side after hearing Palpatine's slogan, while only 5 droids convert after hearing Vader's. The Sith's data scientist concludes that \"Anger\" is a more effective slogan and should continue to be used.\n",
    "\n",
    "- **Assumptions**: The two groups of captured droids are relatively similar (e.g. circumstances of capture, how long they've been in captivity, age, etc.)\n",
    "- **Flaws**: These slogans are not being tested on willing recruits, but rather on captured droids – this circumstance may very well have a bearing on whether the droids relate more to 'Give In To Your Anger' (an angry slogan) vs 'Together We Can Rule the Galaxy' (a collaborative one). The slogan is also delivered to the 2 groups by 2 different people, so it is possible that the person delivering the slogan accounts for the conversion difference – not the persuasiveness of the slogan itself.\n",
    "- **Corrections**: Find groups of prospective recruits with limited prior contact with the Siths (i.e. not just captured by them in a potentially violent or traumatizing way) to test these recruiting slogans. Assign either Emperor Palpatine or Darth Vader to deliver both slogans. \n",
    "\n",
    "\n",
    "## In the past, the Jedi have had difficulty with public relations. They send two envoys, Jar Jar Binks and Mace Windu, to four friendly and four unfriendly planets respectively, with the goal of promoting favorable feelings toward the Jedi. Upon their return, the envoys learn that Jar Jar was much more effective than Windu: Over 75% said their attitudes became more favorable after speaking with Jar Jar, while only 65% said the same concerning Windu. The Jedi choose Jar Jar to be their representative in the future.\n",
    "\n",
    "- **Assumptions**: All eight planets have roughly the same number of citizens. Jar Jar and Windu have the same resources and follow the same general strategies on their respective campaigns to promote favorable feelings toward the Jedi. \n",
    "- **Flaws**: Since Jar Jar is assigned the four friendly planets, it is more likely that he will have greater success promoting favorable feelings than Windu, who was assigned the four unfriendly planets. \n",
    "- **Corrections**: Assign both Jar Jar and Windu two friendly planets and two unfriendly planets. \n",
    "\n",
    "\n",
    "## A company with work sites in five different countries has sent you data on employee satisfaction rates for workers in Human Resources and workers in Information Technology. Most HR workers are concentrated in three of the countries, while IT workers are equally distributed across worksites. The company requests a report on satisfaction for each job type. You calculate average job satisfaction for HR and for IT and present the report.\n",
    "\n",
    "- **Assumptions**: Every employee has a clear and consistent understanding of the satisfaction rating system. Every employee has equal time and access to take this satisfaction survey. These satisfaction surveys are completely anonymous. The report does not distinguish between worksites.\n",
    "- **Flaws**: It is likely there are significantly more IT workers than HR workers (considering usual corporate structure and the fact that IT workers are present across all worksites) – this will potentially create more variance in the satisfaction numbers for HR workers. It also means a single HR employee's input may have a larger impact on the company's average than a single IT employee's input would. Secondly, job satisfaction may be linked to the location of a worksite or the ability of an employee to transfer to another location - the job satisfaction of HR workers may be artificially higher or lower than that of IT workers because they are not in all the same locations and do not have access to opportunities in the same locations as their IT counterparts. \n",
    "- **Corrections**: Ensure the report samples the same number of HR and IT employees (preferably per worksite tested). Make sure the final report explicitly differentiates between average job satisfaction (for HR and IT employees) per worksite. \n",
    "\n",
    "\n",
    "## When people install the Happy Days Fitness Tracker app, they are asked to \"opt in\" to a data collection scheme where their level of physical activity data is automatically sent to the company for product research purposes. During your interview with the company, they tell you that the app is very effective because after installing the app, the data show that people's activity levels rise steadily.\n",
    "\n",
    "- **Assumptions**: Users know how to use the app. Users also understand what it means to contribute to a data collection scheme. Users must be notified if their data is being collected.\n",
    "- **Flaws**: People who are ambivalent or neutral about participating in this data collection scheme will not make the effort to opt in, and consequently their data will not be collected. People who are more willing to actively decide to share their physical activity data are probably much more likely to be physically active users, and/or more likely to take their physical activity and progress seriously. Furthermore, younger people may be more trustful of technology and more open to sharing their data; the same younger people mays also be more likely to be physically healthy and active. \n",
    "- **Corrections**: Change the process so that users must actively 'opt out' of the data collection scheme – this will likely result in a higher number and wider variety of users (the default is now to participate in the data collection scheme – only people who actively decide to withold informationn will be missing from the collected dataset).\n",
    "\n",
    "\n",
    "## To prevent cheating, a teacher writes three versions of a test. She stacks the three versions together, first all copies of Version A, then all copies of Version B, then all copies of Version C. As students arrive for the exam, each student takes a test. When grading the test, the teacher finds that students who took Version B scored higher than students who took either Version A or Version C. She concludes from this that Version B is easier, and discards it.\n",
    "\n",
    "- **Assumptions**: Students are allowed to arrive in whatever order the like for the exam. Students can also sit wherever they like after taking a test.\n",
    "- **Flaws**: Since the tests are not shuffled, it is possible that students who wanted to cheat could arrive at the same time to raise the odds of them receiving the same test. Since they can seat themselves wherever they'd like, they could sit together to better facilitate cheating off each other.\n",
    "- **Corrections**: I would shuffle the tests and randomly assign student seats on the morning of the exam. I would hand the shuffled tests out once all students have arrived in the classroom, in the order that they are sitting in the classroom.\n"
   ]
  },
  {
   "cell_type": "code",
   "execution_count": null,
   "metadata": {},
   "outputs": [],
   "source": []
  }
 ],
 "metadata": {
  "kernelspec": {
   "display_name": "Python 3",
   "language": "python",
   "name": "python3"
  },
  "language_info": {
   "codemirror_mode": {
    "name": "ipython",
    "version": 3
   },
   "file_extension": ".py",
   "mimetype": "text/x-python",
   "name": "python",
   "nbconvert_exporter": "python",
   "pygments_lexer": "ipython3",
   "version": "3.6.4"
  }
 },
 "nbformat": 4,
 "nbformat_minor": 2
}
