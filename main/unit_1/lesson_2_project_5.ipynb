{
 "cells": [
  {
   "cell_type": "markdown",
   "metadata": {},
   "source": [
    "# Challenge: Airbnb cities"
   ]
  },
  {
   "cell_type": "markdown",
   "metadata": {},
   "source": [
    "## What's the most expensive listing? What else can you tell me about the listing?\n",
    "\n",
    "The most expensive listing is a test booking (has a name of 'test do not book') – it is listed as costing $9996/night.\n",
    "\n",
    "The most expensive real listing is Kevin's 'Cozy One Bedroom by Union Square' in the Downtown/Civic Center area that costs $999/night and has a 1-night minimum stay. The renter has access to the entire home/apartment."
   ]
  },
  {
   "cell_type": "raw",
   "metadata": {},
   "source": [
    "SELECT \n",
    "    *\n",
    "FROM \n",
    "    listings\n",
    "ORDER BY \n",
    "    price DESC\n",
    "LIMIT \n",
    "    2"
   ]
  },
  {
   "cell_type": "markdown",
   "metadata": {},
   "source": [
    "## What neighborhoods seem to be the most popular?\n",
    "\n",
    "The Mission, Western Addition, and Castro/Upper Market neighborhoods seem to be the most popular, as calculated by each neighborhood's total number of reviews and the number of reviews per month."
   ]
  },
  {
   "cell_type": "raw",
   "metadata": {},
   "source": [
    "SELECT \n",
    "    neighbourhood, SUM(number_of_reviews) total_reviews, SUM(reviews_per_month) total_reviews_per_month\n",
    "FROM \n",
    "    listings \n",
    "GROUP BY\n",
    "    neighbourhood\n",
    "ORDER BY \n",
    "    total_reviews DESC, total_reviews_per_month DESC\n",
    "LIMIT \n",
    "    3"
   ]
  },
  {
   "cell_type": "markdown",
   "metadata": {},
   "source": [
    "## What time of year is the cheapest time to go to your city? What about the busiest?"
   ]
  },
  {
   "cell_type": "raw",
   "metadata": {},
   "source": [
    "SELECT \n",
    "\tstrftime('%m', date) month,\n",
    "    AVG(listings.price) avg_prices\n",
    "FROM \n",
    "\tcalendar\n",
    "JOIN \n",
    "\tlistings\n",
    "ON \n",
    "\tcalendar.listing_id = listings.id\n",
    "GROUP BY \n",
    "    month\n",
    "ORDER BY \n",
    "    avg_prices ASC\n",
    "LIMIT 1"
   ]
  },
  {
   "cell_type": "raw",
   "metadata": {},
   "source": [
    "SELECT \n",
    "\tstrftime('%m', date) month, \n",
    "    COUNT(listing_id) num_bookings\n",
    "FROM \n",
    "\tcalendar\n",
    "JOIN \n",
    "\tlistings\n",
    "ON \n",
    "\tcalendar.listing_id = listings.id\n",
    "GROUP BY \n",
    "    month\n",
    "ORDER BY \n",
    "    num_bookings DESC\n",
    "LIMIT 1"
   ]
  }
 ],
 "metadata": {
  "kernelspec": {
   "display_name": "Python 3",
   "language": "python",
   "name": "python3"
  },
  "language_info": {
   "codemirror_mode": {
    "name": "ipython",
    "version": 3
   },
   "file_extension": ".py",
   "mimetype": "text/x-python",
   "name": "python",
   "nbconvert_exporter": "python",
   "pygments_lexer": "ipython3",
   "version": "3.6.4"
  }
 },
 "nbformat": 4,
 "nbformat_minor": 2
}
