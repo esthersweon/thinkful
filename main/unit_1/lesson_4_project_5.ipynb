{
 "cells": [
  {
   "cell_type": "markdown",
   "metadata": {},
   "source": [
    "# DRILL: Make a quick RFC"
   ]
  },
  {
   "cell_type": "markdown",
   "metadata": {},
   "source": [
    "## Problem\n",
    "\n",
    "How can a university increase students' job fair attendance? More students attending the job fair will attract more employers in the future. Higher student and employer attendance will result in more hired students, and consequently a better reputation and continued donations and grants for the university. In randomly conducted on-campus surveys, several students admitted they did not feel ready to attend job fairs by the time they rolled around (students did not have interview materials prepared).\n",
    "\n",
    "## Potential Solution\n",
    "\n",
    "Hosting career-focused workshops to help students prepare their interview materials in the weeks leading up to a job fair will increase students' attendance.\n",
    "\n",
    "## Testing the Solution\n",
    "\n",
    "Describe the design of the experiment, the analysis plan, and set benchmarks:\n",
    "\n",
    "Create two groups of students for the experiments, making sure both are relatively representative of the larger school population (e.g. age, race, gender, area of study, socioeconomic background, etc.) and are relatively similar to each other.\n",
    "\n",
    "Both groups will receive all necessary information about the next job fair (when and where it will be held, what materials to bring, etc.). Invite only one of the two groups of students to career-focused workshops in the month leading up to the job fair – roughly one workshop per week for 4 weeks. This is an A/B test (i.e. attending workshops vs. not). On the day of the job fair, we will compute the attendance level among students of both groups to see if attending the workshops helped students feel more prepared to meet with employers and thus more likely to show up. \n",
    "\n",
    "Conduct this experiment a few times with different sets of A/B student groups throughout a school year, as there are multiple job fairs held throughout one school year. If the experiment shows that job fair attendance increases by at least 15% among workshop attendees, conclude that the career workshops are effective and offer them to all students on campus for the following school year. If campus-wide job fair attendance in the next school year does not increase at all, or decreases, discontinue the workshops. If campus-wide job fair attendance increases, but by less than 15%, observe for one more school year before deciding. If attendance does not increase by at least 15% with another year, discontinue the workshops."
   ]
  },
  {
   "cell_type": "code",
   "execution_count": null,
   "metadata": {},
   "outputs": [],
   "source": []
  }
 ],
 "metadata": {
  "kernelspec": {
   "display_name": "Python 3",
   "language": "python",
   "name": "python3"
  },
  "language_info": {
   "codemirror_mode": {
    "name": "ipython",
    "version": 3
   },
   "file_extension": ".py",
   "mimetype": "text/x-python",
   "name": "python",
   "nbconvert_exporter": "python",
   "pygments_lexer": "ipython3",
   "version": "3.6.4"
  }
 },
 "nbformat": 4,
 "nbformat_minor": 2
}
