{
 "cells": [
  {
   "cell_type": "markdown",
   "metadata": {},
   "source": [
    "# Drills: Select, From, Where\n",
    "\n",
    "### Write SQL queries to return:\n",
    "\n",
    "- The ID's and durations for all trips of duration greater than 500, ordered by duration"
   ]
  },
  {
   "cell_type": "raw",
   "metadata": {},
   "source": [
    "SELECT \n",
    "    trip_id, \n",
    "    duration\n",
    "FROM \n",
    "    trips\n",
    "WHERE \n",
    "    duration > 500\n",
    "ORDER BY duration DESC"
   ]
  },
  {
   "cell_type": "markdown",
   "metadata": {},
   "source": [
    "- Every column of the stations table for station id 84"
   ]
  },
  {
   "cell_type": "raw",
   "metadata": {},
   "source": [
    "SELECT \n",
    "    * \n",
    "FROM \n",
    "    stations\n",
    "WHERE \n",
    "    station_id = 84"
   ]
  },
  {
   "cell_type": "markdown",
   "metadata": {},
   "source": [
    "- The min temperatures of all the occurrences of rain in zip 94301"
   ]
  },
  {
   "cell_type": "raw",
   "metadata": {},
   "source": [
    "SELECT \n",
    "    MinTemperatureF\n",
    "FROM \n",
    "    weather\n",
    "WHERE \n",
    "\tEvents LIKE '%Rain%' AND\n",
    "    ZIP = 94301"
   ]
  }
 ],
 "metadata": {
  "kernelspec": {
   "display_name": "Python 3",
   "language": "python",
   "name": "python3"
  },
  "language_info": {
   "codemirror_mode": {
    "name": "ipython",
    "version": 3
   },
   "file_extension": ".py",
   "mimetype": "text/x-python",
   "name": "python",
   "nbconvert_exporter": "python",
   "pygments_lexer": "ipython3",
   "version": "3.6.4"
  }
 },
 "nbformat": 4,
 "nbformat_minor": 2
}
