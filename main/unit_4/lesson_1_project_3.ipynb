{
 "cells": [
  {
   "cell_type": "markdown",
   "metadata": {},
   "source": [
    "# Drill: Unsupervised or supervised?\n",
    "\n",
    "For each of these scenarios, decide if you could use supervised or unsupervised techniques, or both:\n",
    "\n",
    "- Define the likelihood that an individual will contract a specific disease\n",
    "    - Supervised (data probably has features and outcome data)\n",
    "    \n",
    "    \n",
    "- Translate a set of images into variables for modeling\n",
    "    - Unsupervised (no outcome data – i.e. no one right \"answer\" for the variable an image should be translated into)\n",
    "    \n",
    "    \n",
    "- An ecommerce company wants to identify power users\n",
    "    - Supervised (if company has specific parameters to define \"power user\" that exist in data)\n",
    "    - Unsupervised (if there is no outcome data – i.e. may be no straightforward, predetermined way to identify a \"power user\")\n",
    "    \n",
    "    \n",
    "- That same company wants to see shopping patterns in users\n",
    "    - Unsupervised (no outcome data – i.e. no one \"answer\" company is driving at)\n",
    "    \n",
    "    \n",
    "- You want to reduce the number of variables inputting into your random forest model\n",
    "    - Unsupervised (PCA) to prepare data in a supervised model"
   ]
  },
  {
   "cell_type": "code",
   "execution_count": null,
   "metadata": {},
   "outputs": [],
   "source": []
  }
 ],
 "metadata": {
  "kernelspec": {
   "display_name": "Python 3",
   "language": "python",
   "name": "python3"
  },
  "language_info": {
   "codemirror_mode": {
    "name": "ipython",
    "version": 3
   },
   "file_extension": ".py",
   "mimetype": "text/x-python",
   "name": "python",
   "nbconvert_exporter": "python",
   "pygments_lexer": "ipython3",
   "version": "3.6.5"
  }
 },
 "nbformat": 4,
 "nbformat_minor": 2
}
