{
 "cells": [
  {
   "cell_type": "markdown",
   "metadata": {},
   "source": [
    "# Unsupervised Capstone"
   ]
  },
  {
   "cell_type": "code",
   "execution_count": 1,
   "metadata": {},
   "outputs": [
    {
     "name": "stdout",
     "output_type": "stream",
     "text": [
      "(7197, 14)\n",
      "['track_name', 'size_bytes', 'price', 'rating_count_tot', 'rating_count_ver', 'user_rating', 'user_rating_ver', 'ver', 'cont_rating', 'prime_genre', 'sup_devices.num', 'ipadSc_urls.num', 'lang.num', 'vpp_lic']\n"
     ]
    },
    {
     "data": {
      "text/html": [
       "<div>\n",
       "<style scoped>\n",
       "    .dataframe tbody tr th:only-of-type {\n",
       "        vertical-align: middle;\n",
       "    }\n",
       "\n",
       "    .dataframe tbody tr th {\n",
       "        vertical-align: top;\n",
       "    }\n",
       "\n",
       "    .dataframe thead th {\n",
       "        text-align: right;\n",
       "    }\n",
       "</style>\n",
       "<table border=\"1\" class=\"dataframe\">\n",
       "  <thead>\n",
       "    <tr style=\"text-align: right;\">\n",
       "      <th></th>\n",
       "      <th>track_name</th>\n",
       "      <th>size_bytes</th>\n",
       "      <th>price</th>\n",
       "      <th>rating_count_tot</th>\n",
       "      <th>rating_count_ver</th>\n",
       "      <th>user_rating</th>\n",
       "      <th>user_rating_ver</th>\n",
       "      <th>ver</th>\n",
       "      <th>cont_rating</th>\n",
       "      <th>prime_genre</th>\n",
       "      <th>sup_devices.num</th>\n",
       "      <th>ipadSc_urls.num</th>\n",
       "      <th>lang.num</th>\n",
       "      <th>vpp_lic</th>\n",
       "    </tr>\n",
       "  </thead>\n",
       "  <tbody>\n",
       "    <tr>\n",
       "      <th>1</th>\n",
       "      <td>PAC-MAN Premium</td>\n",
       "      <td>100788224</td>\n",
       "      <td>3.99</td>\n",
       "      <td>21292</td>\n",
       "      <td>26</td>\n",
       "      <td>4.0</td>\n",
       "      <td>4.5</td>\n",
       "      <td>6.3.5</td>\n",
       "      <td>4+</td>\n",
       "      <td>Games</td>\n",
       "      <td>38</td>\n",
       "      <td>5</td>\n",
       "      <td>10</td>\n",
       "      <td>1</td>\n",
       "    </tr>\n",
       "    <tr>\n",
       "      <th>2</th>\n",
       "      <td>Evernote - stay organized</td>\n",
       "      <td>158578688</td>\n",
       "      <td>0.00</td>\n",
       "      <td>161065</td>\n",
       "      <td>26</td>\n",
       "      <td>4.0</td>\n",
       "      <td>3.5</td>\n",
       "      <td>8.2.2</td>\n",
       "      <td>4+</td>\n",
       "      <td>Productivity</td>\n",
       "      <td>37</td>\n",
       "      <td>5</td>\n",
       "      <td>23</td>\n",
       "      <td>1</td>\n",
       "    </tr>\n",
       "    <tr>\n",
       "      <th>3</th>\n",
       "      <td>WeatherBug - Local Weather, Radar, Maps, Alerts</td>\n",
       "      <td>100524032</td>\n",
       "      <td>0.00</td>\n",
       "      <td>188583</td>\n",
       "      <td>2822</td>\n",
       "      <td>3.5</td>\n",
       "      <td>4.5</td>\n",
       "      <td>5.0.0</td>\n",
       "      <td>4+</td>\n",
       "      <td>Weather</td>\n",
       "      <td>37</td>\n",
       "      <td>5</td>\n",
       "      <td>3</td>\n",
       "      <td>1</td>\n",
       "    </tr>\n",
       "    <tr>\n",
       "      <th>4</th>\n",
       "      <td>eBay: Best App to Buy, Sell, Save! Online Shop...</td>\n",
       "      <td>128512000</td>\n",
       "      <td>0.00</td>\n",
       "      <td>262241</td>\n",
       "      <td>649</td>\n",
       "      <td>4.0</td>\n",
       "      <td>4.5</td>\n",
       "      <td>5.10.0</td>\n",
       "      <td>12+</td>\n",
       "      <td>Shopping</td>\n",
       "      <td>37</td>\n",
       "      <td>5</td>\n",
       "      <td>9</td>\n",
       "      <td>1</td>\n",
       "    </tr>\n",
       "    <tr>\n",
       "      <th>5</th>\n",
       "      <td>Bible</td>\n",
       "      <td>92774400</td>\n",
       "      <td>0.00</td>\n",
       "      <td>985920</td>\n",
       "      <td>5320</td>\n",
       "      <td>4.5</td>\n",
       "      <td>5.0</td>\n",
       "      <td>7.5.1</td>\n",
       "      <td>4+</td>\n",
       "      <td>Reference</td>\n",
       "      <td>37</td>\n",
       "      <td>5</td>\n",
       "      <td>45</td>\n",
       "      <td>1</td>\n",
       "    </tr>\n",
       "  </tbody>\n",
       "</table>\n",
       "</div>"
      ],
      "text/plain": [
       "                                          track_name  size_bytes  price  \\\n",
       "1                                    PAC-MAN Premium   100788224   3.99   \n",
       "2                          Evernote - stay organized   158578688   0.00   \n",
       "3    WeatherBug - Local Weather, Radar, Maps, Alerts   100524032   0.00   \n",
       "4  eBay: Best App to Buy, Sell, Save! Online Shop...   128512000   0.00   \n",
       "5                                              Bible    92774400   0.00   \n",
       "\n",
       "   rating_count_tot  rating_count_ver  user_rating  user_rating_ver     ver  \\\n",
       "1             21292                26          4.0              4.5   6.3.5   \n",
       "2            161065                26          4.0              3.5   8.2.2   \n",
       "3            188583              2822          3.5              4.5   5.0.0   \n",
       "4            262241               649          4.0              4.5  5.10.0   \n",
       "5            985920              5320          4.5              5.0   7.5.1   \n",
       "\n",
       "  cont_rating   prime_genre  sup_devices.num  ipadSc_urls.num  lang.num  \\\n",
       "1          4+         Games               38                5        10   \n",
       "2          4+  Productivity               37                5        23   \n",
       "3          4+       Weather               37                5         3   \n",
       "4         12+      Shopping               37                5         9   \n",
       "5          4+     Reference               37                5        45   \n",
       "\n",
       "   vpp_lic  \n",
       "1        1  \n",
       "2        1  \n",
       "3        1  \n",
       "4        1  \n",
       "5        1  "
      ]
     },
     "execution_count": 1,
     "metadata": {},
     "output_type": "execute_result"
    }
   ],
   "source": [
    "import pandas as pd\n",
    "import numpy as np\n",
    "from langdetect import detect\n",
    "import unicodedata as ud\n",
    "import matplotlib.pyplot as plt\n",
    "from sklearn.cluster import KMeans\n",
    "from sklearn.cluster import MiniBatchKMeans\n",
    "from sklearn.cluster import MeanShift, estimate_bandwidth\n",
    "from sklearn.decomposition import PCA\n",
    "from sklearn.preprocessing import normalize\n",
    "\n",
    "raw_data = pd.read_csv('./applestore.csv', index_col=0)\n",
    "raw_data.drop(columns=['id', 'currency'], inplace=True)\n",
    "print(raw_data.shape)\n",
    "print(list(raw_data.columns))\n",
    "raw_data.head()"
   ]
  },
  {
   "cell_type": "code",
   "execution_count": 2,
   "metadata": {},
   "outputs": [
    {
     "data": {
      "text/plain": [
       "1    4575\n",
       "2    1367\n",
       "3     735\n",
       "Name: prime_genre, dtype: int64"
      ]
     },
     "execution_count": 2,
     "metadata": {},
     "output_type": "execute_result"
    }
   ],
   "source": [
    "latin_letters= {}\n",
    "\n",
    "def is_latin(uchr):\n",
    "    try: return latin_letters[uchr]\n",
    "    except KeyError:\n",
    "         return latin_letters.setdefault(uchr, 'LATIN' in ud.name(uchr))\n",
    "\n",
    "def only_roman_chars(unistr):\n",
    "    return all(is_latin(uchr)\n",
    "        for uchr in unistr\n",
    "           if uchr.isalpha())\n",
    "\n",
    "def get_lang(x):\n",
    "    if len(x.strip()) == 0:\n",
    "        return None\n",
    "    elif only_roman_chars(x):\n",
    "        return 1\n",
    "    else:\n",
    "        try:\n",
    "            lang = detect(x)\n",
    "            return 1 if lang == 'en' else 2\n",
    "        except:\n",
    "            return None\n",
    "\n",
    "def get_rating(x):\n",
    "    if x == '4+':\n",
    "        return 1\n",
    "    elif x == '9+':\n",
    "        return 2\n",
    "    elif x == '12+':\n",
    "        return 3\n",
    "    elif x == '17+':\n",
    "        return 4\n",
    "\n",
    "hobby_genres = ['Sports', 'Photo & Video', 'Book', 'Games', 'Music']\n",
    "lifestyle_genres = ['News', 'Lifestyle', 'Health & Fitness', 'Food & Drink', 'Shopping', 'Travel', 'Entertainment', 'Social Networking']\n",
    "utility_genres = ['Productivity', 'Weather', 'Finance', 'Utilities', 'Navigation', 'Medical', 'Reference']\n",
    "other_genres = ['Education', 'Business', 'Catalogs']\n",
    "\n",
    "def get_prime_genre(genre):\n",
    "    if genre in hobby_genres:\n",
    "        return 1\n",
    "    elif genre in lifestyle_genres:\n",
    "        return 2\n",
    "    elif genre in utility_genres:\n",
    "        return 3\n",
    "    elif genre in other_genres:\n",
    "        return 0\n",
    "\n",
    "df = raw_data.copy()\n",
    "\n",
    "df['lang'] = df['track_name'].apply(get_lang)\n",
    "df['prime_genre'] = df['prime_genre'].apply(get_prime_genre)\n",
    "df['cont_rating'] = df['cont_rating'].apply(get_rating)\n",
    "\n",
    "df = df[df['prime_genre'] != 0]\n",
    "df['prime_genre'].value_counts()"
   ]
  },
  {
   "cell_type": "code",
   "execution_count": 3,
   "metadata": {},
   "outputs": [
    {
     "name": "stdout",
     "output_type": "stream",
     "text": [
      "track_name - 6675 uniq vals\n",
      "size_bytes - 6603 uniq vals\n",
      "price - 33 uniq vals\n",
      "rating_count_tot - 3072 uniq vals\n",
      "rating_count_ver - 1119 uniq vals\n",
      "user_rating - 10 uniq vals\n",
      "user_rating_ver - 10 uniq vals\n",
      "ver - 1540 uniq vals\n",
      "cont_rating - 4 uniq vals\n",
      "prime_genre - 3 uniq vals\n",
      "sup_devices.num - 20 uniq vals\n",
      "ipadSc_urls.num - 6 uniq vals\n",
      "lang.num - 57 uniq vals\n",
      "vpp_lic - 2 uniq vals\n",
      "lang - 2 uniq vals\n"
     ]
    }
   ],
   "source": [
    "for col in df.columns:\n",
    "    uniq_vals = len(df[col].unique())\n",
    "    print(col, '-', uniq_vals, 'uniq vals')"
   ]
  },
  {
   "cell_type": "code",
   "execution_count": 4,
   "metadata": {},
   "outputs": [
    {
     "name": "stdout",
     "output_type": "stream",
     "text": [
      "size_bytes - Avg: 201779103.11 ; Median: 96720896.0\n",
      "price - Avg: 1.54 ; Median: 0.0\n",
      "rating_count_tot - Avg: 13701.61 ; Median: 325.0\n",
      "user_rating - Avg: 3.54 ; Median: 4.0\n",
      "ipadSc_urls.num - Avg: 3.66 ; Median: 5.0\n",
      "lang.num - Avg: 5.27 ; Median: 1.0\n"
     ]
    },
    {
     "data": {
      "image/png": "[encoded data removed]",
      "text/plain": [
       "<Figure size 2160x360 with 6 Axes>"
      ]
     },
     "metadata": {},
     "output_type": "display_data"
    }
   ],
   "source": [
    "continuous_cols = ['size_bytes', 'price', 'rating_count_tot', 'user_rating', 'ipadSc_urls.num', 'lang.num']\n",
    "\n",
    "plt.figure(figsize=(30,5))\n",
    "\n",
    "for idx, col in enumerate(continuous_cols):\n",
    "    plt.subplot(1, 6, idx + 1)\n",
    "    plt.hist(df[col], bins=40)\n",
    "    plt.title(col)\n",
    "    print(col, '- Avg:', round(df[col].mean(), 2), '; Median:', round(df[col].median(), 2))\n",
    "\n",
    "plt.show()"
   ]
  },
  {
   "cell_type": "code",
   "execution_count": 5,
   "metadata": {},
   "outputs": [
    {
     "data": {
      "image/png": "[encoded data removed]",
      "text/plain": [
       "<Figure size 2160x360 with 6 Axes>"
      ]
     },
     "metadata": {},
     "output_type": "display_data"
    }
   ],
   "source": [
    "plt.figure(figsize=(30,5))\n",
    "\n",
    "for idx, col in enumerate(continuous_cols):\n",
    "    plt.subplot(1, 6, idx + 1)\n",
    "    plt.boxplot(df[col])\n",
    "    plt.title(col)\n",
    "\n",
    "plt.show()"
   ]
  },
  {
   "cell_type": "code",
   "execution_count": 6,
   "metadata": {},
   "outputs": [
    {
     "data": {
      "text/html": [
       "<div>\n",
       "<style scoped>\n",
       "    .dataframe tbody tr th:only-of-type {\n",
       "        vertical-align: middle;\n",
       "    }\n",
       "\n",
       "    .dataframe tbody tr th {\n",
       "        vertical-align: top;\n",
       "    }\n",
       "\n",
       "    .dataframe thead th {\n",
       "        text-align: right;\n",
       "    }\n",
       "</style>\n",
       "<table border=\"1\" class=\"dataframe\">\n",
       "  <thead>\n",
       "    <tr style=\"text-align: right;\">\n",
       "      <th></th>\n",
       "      <th>size_bytes</th>\n",
       "      <th>price</th>\n",
       "      <th>rating_count_tot</th>\n",
       "      <th>user_rating</th>\n",
       "      <th>cont_rating</th>\n",
       "      <th>prime_genre</th>\n",
       "      <th>sup_devices.num</th>\n",
       "      <th>ipadSc_urls.num</th>\n",
       "      <th>lang.num</th>\n",
       "      <th>lang</th>\n",
       "      <th>up_to_v_1</th>\n",
       "      <th>improving_rating</th>\n",
       "    </tr>\n",
       "  </thead>\n",
       "  <tbody>\n",
       "    <tr>\n",
       "      <th>1</th>\n",
       "      <td>100788224</td>\n",
       "      <td>3.99</td>\n",
       "      <td>21292</td>\n",
       "      <td>4.0</td>\n",
       "      <td>1</td>\n",
       "      <td>1</td>\n",
       "      <td>38</td>\n",
       "      <td>5</td>\n",
       "      <td>10</td>\n",
       "      <td>1</td>\n",
       "      <td>0</td>\n",
       "      <td>True</td>\n",
       "    </tr>\n",
       "    <tr>\n",
       "      <th>2</th>\n",
       "      <td>158578688</td>\n",
       "      <td>0.00</td>\n",
       "      <td>161065</td>\n",
       "      <td>4.0</td>\n",
       "      <td>1</td>\n",
       "      <td>3</td>\n",
       "      <td>37</td>\n",
       "      <td>5</td>\n",
       "      <td>23</td>\n",
       "      <td>1</td>\n",
       "      <td>0</td>\n",
       "      <td>False</td>\n",
       "    </tr>\n",
       "    <tr>\n",
       "      <th>3</th>\n",
       "      <td>100524032</td>\n",
       "      <td>0.00</td>\n",
       "      <td>188583</td>\n",
       "      <td>3.5</td>\n",
       "      <td>1</td>\n",
       "      <td>3</td>\n",
       "      <td>37</td>\n",
       "      <td>5</td>\n",
       "      <td>3</td>\n",
       "      <td>1</td>\n",
       "      <td>0</td>\n",
       "      <td>True</td>\n",
       "    </tr>\n",
       "    <tr>\n",
       "      <th>4</th>\n",
       "      <td>128512000</td>\n",
       "      <td>0.00</td>\n",
       "      <td>262241</td>\n",
       "      <td>4.0</td>\n",
       "      <td>3</td>\n",
       "      <td>2</td>\n",
       "      <td>37</td>\n",
       "      <td>5</td>\n",
       "      <td>9</td>\n",
       "      <td>1</td>\n",
       "      <td>0</td>\n",
       "      <td>True</td>\n",
       "    </tr>\n",
       "    <tr>\n",
       "      <th>5</th>\n",
       "      <td>92774400</td>\n",
       "      <td>0.00</td>\n",
       "      <td>985920</td>\n",
       "      <td>4.5</td>\n",
       "      <td>1</td>\n",
       "      <td>3</td>\n",
       "      <td>37</td>\n",
       "      <td>5</td>\n",
       "      <td>45</td>\n",
       "      <td>1</td>\n",
       "      <td>0</td>\n",
       "      <td>True</td>\n",
       "    </tr>\n",
       "  </tbody>\n",
       "</table>\n",
       "</div>"
      ],
      "text/plain": [
       "   size_bytes  price  rating_count_tot  user_rating  cont_rating  prime_genre  \\\n",
       "1   100788224   3.99             21292          4.0            1            1   \n",
       "2   158578688   0.00            161065          4.0            1            3   \n",
       "3   100524032   0.00            188583          3.5            1            3   \n",
       "4   128512000   0.00            262241          4.0            3            2   \n",
       "5    92774400   0.00            985920          4.5            1            3   \n",
       "\n",
       "   sup_devices.num  ipadSc_urls.num  lang.num  lang  up_to_v_1  \\\n",
       "1               38                5        10     1          0   \n",
       "2               37                5        23     1          0   \n",
       "3               37                5         3     1          0   \n",
       "4               37                5         9     1          0   \n",
       "5               37                5        45     1          0   \n",
       "\n",
       "   improving_rating  \n",
       "1              True  \n",
       "2             False  \n",
       "3              True  \n",
       "4              True  \n",
       "5              True  "
      ]
     },
     "execution_count": 6,
     "metadata": {},
     "output_type": "execute_result"
    }
   ],
   "source": [
    "df['major_v'] = df['ver'].str.extract('(\\d+)', expand=False).str.split('.').apply(lambda x:x[0])\n",
    "df['major_v'] = pd.to_numeric(df['major_v'], errors='coerce').fillna(0).astype(np.int64)\n",
    "\n",
    "df['up_to_v_1'] = df['major_v'].apply(lambda x: 1 if x <= 1 else 0)\n",
    "\n",
    "df['improving_rating'] = df['user_rating_ver'] > df['user_rating']\n",
    "\n",
    "df.drop(columns=['ver', 'track_name', 'major_v', 'rating_count_ver', 'user_rating_ver', 'vpp_lic'], inplace=True)\n",
    "df.head()"
   ]
  },
  {
   "cell_type": "code",
   "execution_count": 7,
   "metadata": {},
   "outputs": [],
   "source": [
    "# cols_to_dummify = ['cont_rating', 'free', 'lang', 'prime_genre', 'up_to_v_1', 'high_rating_count_tot', 'high_user_rating']\n",
    "\n",
    "# plt.figure(figsize=(30,5))\n",
    "# for idx, col in enumerate(cols_to_dummify):\n",
    "#     plt.subplot(1, 6, idx + 1)\n",
    "#     plt.hist(df[col], histtype = 'bar', bins=10)\n",
    "#     plt.title(col)\n",
    "    \n",
    "#     dummies = pd.get_dummies(df[col], prefix=col)\n",
    "#     df = pd.concat([df.drop(col, axis=1), dummies], axis=1)\n",
    "\n",
    "# plt.show()"
   ]
  },
  {
   "cell_type": "code",
   "execution_count": 8,
   "metadata": {},
   "outputs": [
    {
     "name": "stdout",
     "output_type": "stream",
     "text": [
      "6677 rows; 10 columns\n",
      "['size_bytes', 'price', 'rating_count_tot', 'user_rating', 'lang.num', 'cont_rating', 'improving_rating', 'lang', 'prime_genre', 'up_to_v_1']\n"
     ]
    },
    {
     "data": {
      "text/html": [
       "<div>\n",
       "<style scoped>\n",
       "    .dataframe tbody tr th:only-of-type {\n",
       "        vertical-align: middle;\n",
       "    }\n",
       "\n",
       "    .dataframe tbody tr th {\n",
       "        vertical-align: top;\n",
       "    }\n",
       "\n",
       "    .dataframe thead th {\n",
       "        text-align: right;\n",
       "    }\n",
       "</style>\n",
       "<table border=\"1\" class=\"dataframe\">\n",
       "  <thead>\n",
       "    <tr style=\"text-align: right;\">\n",
       "      <th></th>\n",
       "      <th>size_bytes</th>\n",
       "      <th>price</th>\n",
       "      <th>rating_count_tot</th>\n",
       "      <th>user_rating</th>\n",
       "      <th>lang.num</th>\n",
       "      <th>cont_rating</th>\n",
       "      <th>improving_rating</th>\n",
       "      <th>lang</th>\n",
       "      <th>prime_genre</th>\n",
       "      <th>up_to_v_1</th>\n",
       "    </tr>\n",
       "  </thead>\n",
       "  <tbody>\n",
       "    <tr>\n",
       "      <th>1</th>\n",
       "      <td>1.000000</td>\n",
       "      <td>3.958796e-08</td>\n",
       "      <td>0.000211</td>\n",
       "      <td>3.968718e-08</td>\n",
       "      <td>9.921794e-08</td>\n",
       "      <td>1</td>\n",
       "      <td>True</td>\n",
       "      <td>1</td>\n",
       "      <td>1</td>\n",
       "      <td>0</td>\n",
       "    </tr>\n",
       "    <tr>\n",
       "      <th>2</th>\n",
       "      <td>0.999999</td>\n",
       "      <td>0.000000e+00</td>\n",
       "      <td>0.001016</td>\n",
       "      <td>2.522406e-08</td>\n",
       "      <td>1.450383e-07</td>\n",
       "      <td>1</td>\n",
       "      <td>False</td>\n",
       "      <td>1</td>\n",
       "      <td>3</td>\n",
       "      <td>0</td>\n",
       "    </tr>\n",
       "    <tr>\n",
       "      <th>3</th>\n",
       "      <td>0.999998</td>\n",
       "      <td>0.000000e+00</td>\n",
       "      <td>0.001876</td>\n",
       "      <td>3.481748e-08</td>\n",
       "      <td>2.984356e-08</td>\n",
       "      <td>1</td>\n",
       "      <td>True</td>\n",
       "      <td>1</td>\n",
       "      <td>3</td>\n",
       "      <td>0</td>\n",
       "    </tr>\n",
       "    <tr>\n",
       "      <th>4</th>\n",
       "      <td>0.999998</td>\n",
       "      <td>0.000000e+00</td>\n",
       "      <td>0.002041</td>\n",
       "      <td>3.112543e-08</td>\n",
       "      <td>7.003222e-08</td>\n",
       "      <td>3</td>\n",
       "      <td>True</td>\n",
       "      <td>1</td>\n",
       "      <td>2</td>\n",
       "      <td>0</td>\n",
       "    </tr>\n",
       "    <tr>\n",
       "      <th>5</th>\n",
       "      <td>0.999944</td>\n",
       "      <td>0.000000e+00</td>\n",
       "      <td>0.010626</td>\n",
       "      <td>4.850202e-08</td>\n",
       "      <td>4.850202e-07</td>\n",
       "      <td>1</td>\n",
       "      <td>True</td>\n",
       "      <td>1</td>\n",
       "      <td>3</td>\n",
       "      <td>0</td>\n",
       "    </tr>\n",
       "  </tbody>\n",
       "</table>\n",
       "</div>"
      ],
      "text/plain": [
       "   size_bytes         price  rating_count_tot   user_rating      lang.num  \\\n",
       "1    1.000000  3.958796e-08          0.000211  3.968718e-08  9.921794e-08   \n",
       "2    0.999999  0.000000e+00          0.001016  2.522406e-08  1.450383e-07   \n",
       "3    0.999998  0.000000e+00          0.001876  3.481748e-08  2.984356e-08   \n",
       "4    0.999998  0.000000e+00          0.002041  3.112543e-08  7.003222e-08   \n",
       "5    0.999944  0.000000e+00          0.010626  4.850202e-08  4.850202e-07   \n",
       "\n",
       "   cont_rating  improving_rating  lang  prime_genre  up_to_v_1  \n",
       "1            1              True     1            1          0  \n",
       "2            1             False     1            3          0  \n",
       "3            1              True     1            3          0  \n",
       "4            3              True     1            2          0  \n",
       "5            1              True     1            3          0  "
      ]
     },
     "execution_count": 8,
     "metadata": {},
     "output_type": "execute_result"
    }
   ],
   "source": [
    "cols_to_norm = continuous_cols\n",
    "\n",
    "# Normalize data before clustering\n",
    "df = df.dropna(subset=cols_to_norm)\n",
    "\n",
    "cluster_df = df.copy()\n",
    "cluster_df[cols_to_norm] = normalize(cluster_df[cols_to_norm])\n",
    "    \n",
    "cluster_df = pd.concat([cluster_df[cols_to_norm], cluster_df[cluster_df.columns.difference(cols_to_norm)]], axis=1)\n",
    "\n",
    "cluster_df.drop(columns=['ipadSc_urls.num', 'sup_devices.num'], inplace=True)\n",
    "print(cluster_df.shape[0], 'rows;', cluster_df.shape[1], 'columns')\n",
    "print(list(cluster_df.columns))\n",
    "\n",
    "cluster_df.head()\n",
    "\n",
    "# fewer and more powerful features\n",
    "# minimize dummies \n",
    "# just have genre column with 1, 2, 3, 4 for different genres\n",
    "\n",
    "# genre "
   ]
  },
  {
   "cell_type": "code",
   "execution_count": 9,
   "metadata": {},
   "outputs": [
    {
     "data": {
      "image/png": "[encoded data removed]",
      "text/plain": [
       "<Figure size 432x288 with 1 Axes>"
      ]
     },
     "metadata": {},
     "output_type": "display_data"
    }
   ],
   "source": [
    "pca_2 = PCA(2).fit_transform(cluster_df)\n",
    "kmeans_2_pred = KMeans(n_clusters=2, random_state=10).fit_predict(pca_2)\n",
    "\n",
    "plt.scatter(pca_2[:, 0], pca_2[:, 1], c=kmeans_2_pred)\n",
    "plt.show()"
   ]
  },
  {
   "cell_type": "code",
   "execution_count": 10,
   "metadata": {},
   "outputs": [
    {
     "data": {
      "image/png": "[encoded data removed]",
      "text/plain": [
       "<Figure size 432x288 with 1 Axes>"
      ]
     },
     "metadata": {},
     "output_type": "display_data"
    }
   ],
   "source": [
    "kmeans_4_pred = KMeans(n_clusters=4, random_state=10).fit_predict(pca_2)\n",
    "\n",
    "plt.scatter(pca_2[:, 0], pca_2[:, 1], c=kmeans_4_pred)\n",
    "plt.show()"
   ]
  },
  {
   "cell_type": "code",
   "execution_count": 11,
   "metadata": {},
   "outputs": [
    {
     "name": "stdout",
     "output_type": "stream",
     "text": [
      "Comparing k-means and mini batch k-means solutions:\n",
      "col_0    0    1     2    3\n",
      "row_0                     \n",
      "0      576    0     0    0\n",
      "1        0  841     0  290\n",
      "2        0    0     0  625\n",
      "3      807    0     0    0\n",
      "4        0  933     0    0\n",
      "5        0    0  2605    0\n"
     ]
    },
    {
     "data": {
      "image/png": "[encoded data removed]",
      "text/plain": [
       "<Figure size 432x288 with 1 Axes>"
      ]
     },
     "metadata": {},
     "output_type": "display_data"
    }
   ],
   "source": [
    "minibatchkmeans = MiniBatchKMeans(init='random', n_clusters=4, batch_size=200)\n",
    "minibatchkmeans.fit(pca_2)\n",
    "\n",
    "# Add the new predicted cluster memberships to the data frame.\n",
    "mini_pred = minibatchkmeans.predict(pca_2)\n",
    "\n",
    "# Check the MiniBatch model against our earlier one.\n",
    "print('Comparing k-means and mini batch k-means solutions:')\n",
    "print(pd.crosstab(mini_pred, kmeans_4_pred))\n",
    "\n",
    "plt.scatter(pca_2[:, 0], pca_2[:, 1], c=mini_pred)\n",
    "plt.show()"
   ]
  },
  {
   "cell_type": "code",
   "execution_count": 12,
   "metadata": {},
   "outputs": [
    {
     "data": {
      "image/png": "[encoded data removed]",
      "text/plain": [
       "<Figure size 432x288 with 1 Axes>"
      ]
     },
     "metadata": {},
     "output_type": "display_data"
    }
   ],
   "source": [
    "bandwidth = estimate_bandwidth(pca_2, quantile=0.2, n_samples=500)\n",
    "\n",
    "ms = MeanShift(bandwidth=bandwidth, bin_seeding=True)\n",
    "ms_pred = ms.fit_predict(pca_2)\n",
    "\n",
    "plt.scatter(pca_2[:, 0], pca_2[:, 1], c=ms_pred)\n",
    "plt.show()"
   ]
  },
  {
   "cell_type": "code",
   "execution_count": 13,
   "metadata": {},
   "outputs": [],
   "source": [
    "df['kmeans_4_pred'] = kmeans_4_pred"
   ]
  },
  {
   "cell_type": "code",
   "execution_count": 14,
   "metadata": {},
   "outputs": [
    {
     "name": "stderr",
     "output_type": "stream",
     "text": [
      "/anaconda3/lib/python3.6/site-packages/pandas/core/series.py:850: FutureWarning: \n",
      "Passing list-likes to .loc or [] with any missing label will raise\n",
      "KeyError in the future, you can use .reindex() as an alternative.\n",
      "\n",
      "See the documentation here:\n",
      "https://pandas.pydata.org/pandas-docs/stable/indexing.html#deprecate-loc-reindex-listlike\n",
      "  return self.loc[key]\n"
     ]
    },
    {
     "data": {
      "image/png": "[encoded data removed]",
      "text/plain": [
       "<Figure size 2160x360 with 6 Axes>"
      ]
     },
     "metadata": {},
     "output_type": "display_data"
    },
    {
     "data": {
      "image/png": "[encoded data removed]",
      "text/plain": [
       "<Figure size 2160x360 with 6 Axes>"
      ]
     },
     "metadata": {},
     "output_type": "display_data"
    }
   ],
   "source": [
    "cluster_1 = df[df['kmeans_4_pred'] == 0].loc[:, df.columns != 'kmeans_4_pred']\n",
    "cluster_2 = df[df['kmeans_4_pred'] == 1].loc[:, df.columns != 'kmeans_4_pred']\n",
    "cluster_3 = df[df['kmeans_4_pred'] == 2].loc[:, df.columns != 'kmeans_4_pred']\n",
    "cluster_4 = df[df['kmeans_4_pred'] == 3].loc[:, df.columns != 'kmeans_4_pred']\n",
    "all_clusters = [cluster_1, cluster_2, cluster_3, cluster_4]\n",
    "\n",
    "# MEDIANS\n",
    "clusters_medians_df = pd.DataFrame()\n",
    "for idx, cluster in enumerate(all_clusters):\n",
    "    for col in cluster.columns:\n",
    "        clusters_medians_df.at[idx, col] = cluster[col].median()\n",
    "\n",
    "cols_to_compare = ['price', 'user_rating', 'user_rating_ver', 'ipadSc_urls.num', 'lang.num']\n",
    "\n",
    "f, axes = plt.subplots(1, len(all_clusters), sharey=True, figsize=(30, 5))\n",
    "\n",
    "for rowIdx in range(len(all_clusters)):\n",
    "    cluster = clusters_medians_df.iloc[rowIdx,:]\n",
    "    axes[rowIdx].bar(cluster[cols_to_compare].index, height=cluster[cols_to_compare])\n",
    "\n",
    "    for tick in axes[rowIdx].get_xticklabels():\n",
    "        tick.set_rotation(90)\n",
    "    \n",
    "plt.show()\n",
    "\n",
    "# MEANS\n",
    "clusters_means_df = pd.DataFrame()\n",
    "for idx, cluster in enumerate(all_clusters):\n",
    "    for col in cluster.columns:\n",
    "        clusters_means_df.at[idx, col] = cluster[col].mean()\n",
    "\n",
    "cols_to_compare = ['price', 'user_rating', 'user_rating_ver', 'ipadSc_urls.num', 'lang.num']\n",
    "\n",
    "f, axes = plt.subplots(1, len(all_clusters), sharey=True, figsize=(30, 5))\n",
    "\n",
    "for rowIdx in range(len(all_clusters)):\n",
    "    cluster = clusters_means_df.iloc[rowIdx,:]\n",
    "    axes[rowIdx].bar(cluster[cols_to_compare].index, height=cluster[cols_to_compare], color='orange')\n",
    "\n",
    "    for tick in axes[rowIdx].get_xticklabels():\n",
    "        tick.set_rotation(90)\n",
    "    \n",
    "plt.show()"
   ]
  },
  {
   "cell_type": "code",
   "execution_count": 15,
   "metadata": {},
   "outputs": [
    {
     "ename": "KeyError",
     "evalue": "'free'",
     "output_type": "error",
     "traceback": [
      "\u001b[0;31m---------------------------------------------------------------------------\u001b[0m",
      "\u001b[0;31mKeyError\u001b[0m                                  Traceback (most recent call last)",
      "\u001b[0;32m/anaconda3/lib/python3.6/site-packages/pandas/core/indexes/base.py\u001b[0m in \u001b[0;36mget_loc\u001b[0;34m(self, key, method, tolerance)\u001b[0m\n\u001b[1;32m   3062\u001b[0m             \u001b[0;32mtry\u001b[0m\u001b[0;34m:\u001b[0m\u001b[0;34m\u001b[0m\u001b[0m\n\u001b[0;32m-> 3063\u001b[0;31m                 \u001b[0;32mreturn\u001b[0m \u001b[0mself\u001b[0m\u001b[0;34m.\u001b[0m\u001b[0m_engine\u001b[0m\u001b[0;34m.\u001b[0m\u001b[0mget_loc\u001b[0m\u001b[0;34m(\u001b[0m\u001b[0mkey\u001b[0m\u001b[0;34m)\u001b[0m\u001b[0;34m\u001b[0m\u001b[0m\n\u001b[0m\u001b[1;32m   3064\u001b[0m             \u001b[0;32mexcept\u001b[0m \u001b[0mKeyError\u001b[0m\u001b[0;34m:\u001b[0m\u001b[0;34m\u001b[0m\u001b[0m\n",
      "\u001b[0;32mpandas/_libs/index.pyx\u001b[0m in \u001b[0;36mpandas._libs.index.IndexEngine.get_loc\u001b[0;34m()\u001b[0m\n",
      "\u001b[0;32mpandas/_libs/index.pyx\u001b[0m in \u001b[0;36mpandas._libs.index.IndexEngine.get_loc\u001b[0;34m()\u001b[0m\n",
      "\u001b[0;32mpandas/_libs/hashtable_class_helper.pxi\u001b[0m in \u001b[0;36mpandas._libs.hashtable.PyObjectHashTable.get_item\u001b[0;34m()\u001b[0m\n",
      "\u001b[0;32mpandas/_libs/hashtable_class_helper.pxi\u001b[0m in \u001b[0;36mpandas._libs.hashtable.PyObjectHashTable.get_item\u001b[0;34m()\u001b[0m\n",
      "\u001b[0;31mKeyError\u001b[0m: 'free'",
      "\nDuring handling of the above exception, another exception occurred:\n",
      "\u001b[0;31mKeyError\u001b[0m                                  Traceback (most recent call last)",
      "\u001b[0;32m<ipython-input-15-4a1de6c2e252>\u001b[0m in \u001b[0;36m<module>\u001b[0;34m()\u001b[0m\n\u001b[1;32m      6\u001b[0m \u001b[0;32mfor\u001b[0m \u001b[0midx\u001b[0m\u001b[0;34m,\u001b[0m \u001b[0mcol\u001b[0m \u001b[0;32min\u001b[0m \u001b[0menumerate\u001b[0m\u001b[0;34m(\u001b[0m\u001b[0mcols_1\u001b[0m\u001b[0;34m)\u001b[0m\u001b[0;34m:\u001b[0m\u001b[0;34m\u001b[0m\u001b[0m\n\u001b[1;32m      7\u001b[0m     \u001b[0mplt\u001b[0m\u001b[0;34m.\u001b[0m\u001b[0msubplot\u001b[0m\u001b[0;34m(\u001b[0m\u001b[0;36m1\u001b[0m\u001b[0;34m,\u001b[0m \u001b[0;36m8\u001b[0m\u001b[0;34m,\u001b[0m \u001b[0midx\u001b[0m \u001b[0;34m+\u001b[0m \u001b[0;36m1\u001b[0m\u001b[0;34m)\u001b[0m\u001b[0;34m\u001b[0m\u001b[0m\n\u001b[0;32m----> 8\u001b[0;31m     \u001b[0mplt\u001b[0m\u001b[0;34m.\u001b[0m\u001b[0mbar\u001b[0m\u001b[0;34m(\u001b[0m\u001b[0mclusters_medians_df\u001b[0m\u001b[0;34m.\u001b[0m\u001b[0mindex\u001b[0m\u001b[0;34m,\u001b[0m \u001b[0mheight\u001b[0m\u001b[0;34m=\u001b[0m\u001b[0mclusters_medians_df\u001b[0m\u001b[0;34m[\u001b[0m\u001b[0mcol\u001b[0m\u001b[0;34m]\u001b[0m\u001b[0;34m)\u001b[0m\u001b[0;34m\u001b[0m\u001b[0m\n\u001b[0m\u001b[1;32m      9\u001b[0m     \u001b[0mplt\u001b[0m\u001b[0;34m.\u001b[0m\u001b[0mtitle\u001b[0m\u001b[0;34m(\u001b[0m\u001b[0mcol\u001b[0m\u001b[0;34m)\u001b[0m\u001b[0;34m\u001b[0m\u001b[0m\n\u001b[1;32m     10\u001b[0m \u001b[0mplt\u001b[0m\u001b[0;34m.\u001b[0m\u001b[0mshow\u001b[0m\u001b[0;34m(\u001b[0m\u001b[0;34m)\u001b[0m\u001b[0;34m\u001b[0m\u001b[0m\n",
      "\u001b[0;32m/anaconda3/lib/python3.6/site-packages/pandas/core/frame.py\u001b[0m in \u001b[0;36m__getitem__\u001b[0;34m(self, key)\u001b[0m\n\u001b[1;32m   2683\u001b[0m             \u001b[0;32mreturn\u001b[0m \u001b[0mself\u001b[0m\u001b[0;34m.\u001b[0m\u001b[0m_getitem_multilevel\u001b[0m\u001b[0;34m(\u001b[0m\u001b[0mkey\u001b[0m\u001b[0;34m)\u001b[0m\u001b[0;34m\u001b[0m\u001b[0m\n\u001b[1;32m   2684\u001b[0m         \u001b[0;32melse\u001b[0m\u001b[0;34m:\u001b[0m\u001b[0;34m\u001b[0m\u001b[0m\n\u001b[0;32m-> 2685\u001b[0;31m             \u001b[0;32mreturn\u001b[0m \u001b[0mself\u001b[0m\u001b[0;34m.\u001b[0m\u001b[0m_getitem_column\u001b[0m\u001b[0;34m(\u001b[0m\u001b[0mkey\u001b[0m\u001b[0;34m)\u001b[0m\u001b[0;34m\u001b[0m\u001b[0m\n\u001b[0m\u001b[1;32m   2686\u001b[0m \u001b[0;34m\u001b[0m\u001b[0m\n\u001b[1;32m   2687\u001b[0m     \u001b[0;32mdef\u001b[0m \u001b[0m_getitem_column\u001b[0m\u001b[0;34m(\u001b[0m\u001b[0mself\u001b[0m\u001b[0;34m,\u001b[0m \u001b[0mkey\u001b[0m\u001b[0;34m)\u001b[0m\u001b[0;34m:\u001b[0m\u001b[0;34m\u001b[0m\u001b[0m\n",
      "\u001b[0;32m/anaconda3/lib/python3.6/site-packages/pandas/core/frame.py\u001b[0m in \u001b[0;36m_getitem_column\u001b[0;34m(self, key)\u001b[0m\n\u001b[1;32m   2690\u001b[0m         \u001b[0;31m# get column\u001b[0m\u001b[0;34m\u001b[0m\u001b[0;34m\u001b[0m\u001b[0m\n\u001b[1;32m   2691\u001b[0m         \u001b[0;32mif\u001b[0m \u001b[0mself\u001b[0m\u001b[0;34m.\u001b[0m\u001b[0mcolumns\u001b[0m\u001b[0;34m.\u001b[0m\u001b[0mis_unique\u001b[0m\u001b[0;34m:\u001b[0m\u001b[0;34m\u001b[0m\u001b[0m\n\u001b[0;32m-> 2692\u001b[0;31m             \u001b[0;32mreturn\u001b[0m \u001b[0mself\u001b[0m\u001b[0;34m.\u001b[0m\u001b[0m_get_item_cache\u001b[0m\u001b[0;34m(\u001b[0m\u001b[0mkey\u001b[0m\u001b[0;34m)\u001b[0m\u001b[0;34m\u001b[0m\u001b[0m\n\u001b[0m\u001b[1;32m   2693\u001b[0m \u001b[0;34m\u001b[0m\u001b[0m\n\u001b[1;32m   2694\u001b[0m         \u001b[0;31m# duplicate columns & possible reduce dimensionality\u001b[0m\u001b[0;34m\u001b[0m\u001b[0;34m\u001b[0m\u001b[0m\n",
      "\u001b[0;32m/anaconda3/lib/python3.6/site-packages/pandas/core/generic.py\u001b[0m in \u001b[0;36m_get_item_cache\u001b[0;34m(self, item)\u001b[0m\n\u001b[1;32m   2484\u001b[0m         \u001b[0mres\u001b[0m \u001b[0;34m=\u001b[0m \u001b[0mcache\u001b[0m\u001b[0;34m.\u001b[0m\u001b[0mget\u001b[0m\u001b[0;34m(\u001b[0m\u001b[0mitem\u001b[0m\u001b[0;34m)\u001b[0m\u001b[0;34m\u001b[0m\u001b[0m\n\u001b[1;32m   2485\u001b[0m         \u001b[0;32mif\u001b[0m \u001b[0mres\u001b[0m \u001b[0;32mis\u001b[0m \u001b[0;32mNone\u001b[0m\u001b[0;34m:\u001b[0m\u001b[0;34m\u001b[0m\u001b[0m\n\u001b[0;32m-> 2486\u001b[0;31m             \u001b[0mvalues\u001b[0m \u001b[0;34m=\u001b[0m \u001b[0mself\u001b[0m\u001b[0;34m.\u001b[0m\u001b[0m_data\u001b[0m\u001b[0;34m.\u001b[0m\u001b[0mget\u001b[0m\u001b[0;34m(\u001b[0m\u001b[0mitem\u001b[0m\u001b[0;34m)\u001b[0m\u001b[0;34m\u001b[0m\u001b[0m\n\u001b[0m\u001b[1;32m   2487\u001b[0m             \u001b[0mres\u001b[0m \u001b[0;34m=\u001b[0m \u001b[0mself\u001b[0m\u001b[0;34m.\u001b[0m\u001b[0m_box_item_values\u001b[0m\u001b[0;34m(\u001b[0m\u001b[0mitem\u001b[0m\u001b[0;34m,\u001b[0m \u001b[0mvalues\u001b[0m\u001b[0;34m)\u001b[0m\u001b[0;34m\u001b[0m\u001b[0m\n\u001b[1;32m   2488\u001b[0m             \u001b[0mcache\u001b[0m\u001b[0;34m[\u001b[0m\u001b[0mitem\u001b[0m\u001b[0;34m]\u001b[0m \u001b[0;34m=\u001b[0m \u001b[0mres\u001b[0m\u001b[0;34m\u001b[0m\u001b[0m\n",
      "\u001b[0;32m/anaconda3/lib/python3.6/site-packages/pandas/core/internals.py\u001b[0m in \u001b[0;36mget\u001b[0;34m(self, item, fastpath)\u001b[0m\n\u001b[1;32m   4113\u001b[0m \u001b[0;34m\u001b[0m\u001b[0m\n\u001b[1;32m   4114\u001b[0m             \u001b[0;32mif\u001b[0m \u001b[0;32mnot\u001b[0m \u001b[0misna\u001b[0m\u001b[0;34m(\u001b[0m\u001b[0mitem\u001b[0m\u001b[0;34m)\u001b[0m\u001b[0;34m:\u001b[0m\u001b[0;34m\u001b[0m\u001b[0m\n\u001b[0;32m-> 4115\u001b[0;31m                 \u001b[0mloc\u001b[0m \u001b[0;34m=\u001b[0m \u001b[0mself\u001b[0m\u001b[0;34m.\u001b[0m\u001b[0mitems\u001b[0m\u001b[0;34m.\u001b[0m\u001b[0mget_loc\u001b[0m\u001b[0;34m(\u001b[0m\u001b[0mitem\u001b[0m\u001b[0;34m)\u001b[0m\u001b[0;34m\u001b[0m\u001b[0m\n\u001b[0m\u001b[1;32m   4116\u001b[0m             \u001b[0;32melse\u001b[0m\u001b[0;34m:\u001b[0m\u001b[0;34m\u001b[0m\u001b[0m\n\u001b[1;32m   4117\u001b[0m                 \u001b[0mindexer\u001b[0m \u001b[0;34m=\u001b[0m \u001b[0mnp\u001b[0m\u001b[0;34m.\u001b[0m\u001b[0marange\u001b[0m\u001b[0;34m(\u001b[0m\u001b[0mlen\u001b[0m\u001b[0;34m(\u001b[0m\u001b[0mself\u001b[0m\u001b[0;34m.\u001b[0m\u001b[0mitems\u001b[0m\u001b[0;34m)\u001b[0m\u001b[0;34m)\u001b[0m\u001b[0;34m[\u001b[0m\u001b[0misna\u001b[0m\u001b[0;34m(\u001b[0m\u001b[0mself\u001b[0m\u001b[0;34m.\u001b[0m\u001b[0mitems\u001b[0m\u001b[0;34m)\u001b[0m\u001b[0;34m]\u001b[0m\u001b[0;34m\u001b[0m\u001b[0m\n",
      "\u001b[0;32m/anaconda3/lib/python3.6/site-packages/pandas/core/indexes/base.py\u001b[0m in \u001b[0;36mget_loc\u001b[0;34m(self, key, method, tolerance)\u001b[0m\n\u001b[1;32m   3063\u001b[0m                 \u001b[0;32mreturn\u001b[0m \u001b[0mself\u001b[0m\u001b[0;34m.\u001b[0m\u001b[0m_engine\u001b[0m\u001b[0;34m.\u001b[0m\u001b[0mget_loc\u001b[0m\u001b[0;34m(\u001b[0m\u001b[0mkey\u001b[0m\u001b[0;34m)\u001b[0m\u001b[0;34m\u001b[0m\u001b[0m\n\u001b[1;32m   3064\u001b[0m             \u001b[0;32mexcept\u001b[0m \u001b[0mKeyError\u001b[0m\u001b[0;34m:\u001b[0m\u001b[0;34m\u001b[0m\u001b[0m\n\u001b[0;32m-> 3065\u001b[0;31m                 \u001b[0;32mreturn\u001b[0m \u001b[0mself\u001b[0m\u001b[0;34m.\u001b[0m\u001b[0m_engine\u001b[0m\u001b[0;34m.\u001b[0m\u001b[0mget_loc\u001b[0m\u001b[0;34m(\u001b[0m\u001b[0mself\u001b[0m\u001b[0;34m.\u001b[0m\u001b[0m_maybe_cast_indexer\u001b[0m\u001b[0;34m(\u001b[0m\u001b[0mkey\u001b[0m\u001b[0;34m)\u001b[0m\u001b[0;34m)\u001b[0m\u001b[0;34m\u001b[0m\u001b[0m\n\u001b[0m\u001b[1;32m   3066\u001b[0m \u001b[0;34m\u001b[0m\u001b[0m\n\u001b[1;32m   3067\u001b[0m         \u001b[0mindexer\u001b[0m \u001b[0;34m=\u001b[0m \u001b[0mself\u001b[0m\u001b[0;34m.\u001b[0m\u001b[0mget_indexer\u001b[0m\u001b[0;34m(\u001b[0m\u001b[0;34m[\u001b[0m\u001b[0mkey\u001b[0m\u001b[0;34m]\u001b[0m\u001b[0;34m,\u001b[0m \u001b[0mmethod\u001b[0m\u001b[0;34m=\u001b[0m\u001b[0mmethod\u001b[0m\u001b[0;34m,\u001b[0m \u001b[0mtolerance\u001b[0m\u001b[0;34m=\u001b[0m\u001b[0mtolerance\u001b[0m\u001b[0;34m)\u001b[0m\u001b[0;34m\u001b[0m\u001b[0m\n",
      "\u001b[0;32mpandas/_libs/index.pyx\u001b[0m in \u001b[0;36mpandas._libs.index.IndexEngine.get_loc\u001b[0;34m()\u001b[0m\n",
      "\u001b[0;32mpandas/_libs/index.pyx\u001b[0m in \u001b[0;36mpandas._libs.index.IndexEngine.get_loc\u001b[0;34m()\u001b[0m\n",
      "\u001b[0;32mpandas/_libs/hashtable_class_helper.pxi\u001b[0m in \u001b[0;36mpandas._libs.hashtable.PyObjectHashTable.get_item\u001b[0;34m()\u001b[0m\n",
      "\u001b[0;32mpandas/_libs/hashtable_class_helper.pxi\u001b[0m in \u001b[0;36mpandas._libs.hashtable.PyObjectHashTable.get_item\u001b[0;34m()\u001b[0m\n",
      "\u001b[0;31mKeyError\u001b[0m: 'free'"
     ]
    },
    {
     "data": {
      "image/png": "[encoded data removed]",
      "text/plain": [
       "<Figure size 2160x360 with 7 Axes>"
      ]
     },
     "metadata": {},
     "output_type": "display_data"
    }
   ],
   "source": [
    "# MEDIANS\n",
    "plt.figure(figsize=(30,5))\n",
    "\n",
    "cols_1 = ['size_bytes', 'price', 'rating_count_tot', 'user_rating', 'ipadSc_urls.num', 'lang.num', 'free', 'cont_rating']\n",
    "\n",
    "for idx, col in enumerate(cols_1):\n",
    "    plt.subplot(1, 8, idx + 1)\n",
    "    plt.bar(clusters_medians_df.index, height=clusters_medians_df[col])\n",
    "    plt.title(col)\n",
    "plt.show()\n",
    "\n",
    "# MEANS\n",
    "plt.figure(figsize=(30,5))\n",
    "\n",
    "for idx, col in enumerate(cols_1):\n",
    "    plt.subplot(1, 8, idx + 1)\n",
    "    plt.bar(clusters_means_df.index, height=clusters_means_df[col], color='orange')\n",
    "    plt.title(col)\n",
    "plt.show()"
   ]
  },
  {
   "cell_type": "code",
   "execution_count": null,
   "metadata": {},
   "outputs": [],
   "source": [
    "cols_2 = ['prime_genre', 'free', 'cont_rating']\n",
    "\n",
    "# MEDIANS\n",
    "plt.figure(figsize=(30,5))\n",
    "\n",
    "for idx, col in enumerate(cols_2):\n",
    "    plt.subplot(1, 5, idx + 1)\n",
    "    plt.bar(clusters_medians_df.index, height=clusters_medians_df[col])\n",
    "    plt.title(col)\n",
    "plt.show()\n",
    "\n",
    "# MEANS\n",
    "plt.figure(figsize=(30,5))\n",
    "\n",
    "for idx, col in enumerate(cols_2):\n",
    "    plt.subplot(1, 5, idx + 1)\n",
    "    plt.bar(clusters_means_df.index, height=clusters_means_df[col], color='orange')\n",
    "    plt.title(col)\n",
    "plt.show()"
   ]
  },
  {
   "cell_type": "code",
   "execution_count": null,
   "metadata": {},
   "outputs": [],
   "source": [
    "clusters_medians_df"
   ]
  },
  {
   "cell_type": "code",
   "execution_count": null,
   "metadata": {},
   "outputs": [],
   "source": [
    "clusters_means_df"
   ]
  },
  {
   "cell_type": "code",
   "execution_count": null,
   "metadata": {},
   "outputs": [],
   "source": [
    "for col in clusters_medians_df:\n",
    "    print(col)\n",
    "    for group in range(6):\n",
    "        mean = round(clusters_means_df.iloc[group][col], 2)\n",
    "        med = round(clusters_medians_df.iloc[group][col], 2)\n",
    "        print('   Group', group + 1, '– Avg:', mean, 'Median:', med)"
   ]
  },
  {
   "cell_type": "markdown",
   "metadata": {},
   "source": [
    "## Conclusion\n",
    "\n",
    "Looking at the 6 clusters that appear in my data, I can start differentiating them from each other based on the features I selected. I can roughly characterize the groups as such: \n",
    "\n",
    "- Group 1 \n",
    "    - Infrequently & Highly Rated\n",
    "    - Affordable\n",
    "    - Large\n",
    "    - Hobby & Lifestyle Apps\n",
    "- Group 2 \n",
    "    - Infrequently & Lowly Rated\n",
    "    - Mostly Free\n",
    "    - Smallest\n",
    "    - Most Age-Restricted\n",
    "    - Social & Utility Apps\n",
    "- Group 3 \n",
    "    - Frequently & Highly Rated\n",
    "    - Most Multi-Language\n",
    "    - Most Age-Inclusive \n",
    "    - Utility Apps\n",
    "- Group 4 \n",
    "    - Mid-Rated Lifestyle Apps\n",
    "- Group 5 \n",
    "    - Frequently & Lowly Rated\n",
    "    - Mostly Free\n",
    "    - Smallest\n",
    "    - Lifestyle Apps\n",
    "- Group 6 \n",
    "    - Infrequently & Mid-Rated\n",
    "    - Expensive\n",
    "    - Large\n",
    "    - Hobby Apps"
   ]
  },
  {
   "cell_type": "code",
   "execution_count": null,
   "metadata": {},
   "outputs": [],
   "source": []
  }
 ],
 "metadata": {
  "kernelspec": {
   "display_name": "Python 3",
   "language": "python",
   "name": "python3"
  },
  "language_info": {
   "codemirror_mode": {
    "name": "ipython",
    "version": 3
   },
   "file_extension": ".py",
   "mimetype": "text/x-python",
   "name": "python",
   "nbconvert_exporter": "python",
   "pygments_lexer": "ipython3",
   "version": "3.6.5"
  }
 },
 "nbformat": 4,
 "nbformat_minor": 2
}
