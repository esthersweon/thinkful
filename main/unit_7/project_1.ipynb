{
 "cells": [
  {
   "cell_type": "markdown",
   "metadata": {},
   "source": [
    "# Final Capstone Proposal\n",
    "\n",
    "Clarify what you’re looking to build, as well as get feedback on that objective before committing the full time it would take to build it.\n",
    "\n",
    "- __What is the problem you are attempting to solve?__\n",
    "    \n",
    "    Grocery stores must manually tape a barcode to their produce (which may or may not stay on), or have their cashiers memorize particular items' codes, in order for produce to be rung up properly. For self-checkout customers, they have to go through the hassle of looking the items' codes up in the store inventory, and there is nothing saying that they will choose correctly.\n",
    "\n",
    "- __How is your solution valuable?__\n",
    "    \n",
    "    Grocery stores could use this technology to identify items being scanned. This can save cashiers time, and prevent customers from selecting an incorrect code – both of which would save the grocery store money.\n",
    "    \n",
    "- __What is your data source and how will you access it?__\n",
    "\n",
    "    There is a Kaggle dataset of fruit images for classification that I can use as a starting point. If desired, I can also supplement this with vegetable images from Google Images search.\n",
    "\n",
    "- __What techniques from the course do you anticipate using?__\n",
    "\n",
    "    I plan on using deep-learning techniques (i.e. neural networks via Keras / TensorFlow) to categorize these images into their respective categories.\n",
    "\n",
    "- __What do you anticipate to be the biggest challenge you’ll face?__\n",
    "\n",
    "    I haven't worked extensively with image data before, or with Keras, so there will be a steep learning curve. I believe that I will have to do a lot of independent research in order to learn best practices for tuning a neural network. "
   ]
  },
  {
   "cell_type": "code",
   "execution_count": null,
   "metadata": {},
   "outputs": [],
   "source": []
  }
 ],
 "metadata": {
  "kernelspec": {
   "display_name": "Python 3",
   "language": "python",
   "name": "python3"
  },
  "language_info": {
   "codemirror_mode": {
    "name": "ipython",
    "version": 3
   },
   "file_extension": ".py",
   "mimetype": "text/x-python",
   "name": "python",
   "nbconvert_exporter": "python",
   "pygments_lexer": "ipython3",
   "version": "3.6.5"
  }
 },
 "nbformat": 4,
 "nbformat_minor": 2
}
