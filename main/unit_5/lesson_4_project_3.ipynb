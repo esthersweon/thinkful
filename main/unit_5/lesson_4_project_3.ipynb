{
 "cells": [
  {
   "cell_type": "markdown",
   "metadata": {},
   "source": [
    "# DRILL: When to use surveys\n",
    "State whether a survey would be the best option for answering each of the following questions.\n",
    "\n",
    "- Popularity of various Uber drivers. \n",
    "\n",
    "    A survey would not be the best option, because surveys have voluntary response bias. People are more likely to complete a customer satisfaction survey, for example, if they have very strong feelings about their experience, whether very positive or negative. People who feel lukewarm about their experience are less likely to spend the energy to register their opinion. Providing incentives to complete a survey if that is your only option could help combat this bias.\n",
    "    \n",
    "    \n",
    "- A grocery store wants to know how much people like strawberry, chocolate, and vanilla ice cream. \n",
    "\n",
    "    A survey would work fine, especially since it seems like it will be a short one, but it may be more effective to simply monitor strawberry, chocolate, and vanilla ice cream sales. People are notoriously bad at predicting what they are going to do in the future, so asking them what they plan on buying in a survey may not be as reliable as observing what they actually buy.\n",
    "    \n",
    "    \n",
    "- Trojan wants to know whether their condoms are more popular among straight people or gay people. \n",
    "    \n",
    "    Survey would be a good option – they can get info on topics too private to study behaviorally (i.e. sex).\n",
    "    \n",
    "- Recently, rental rates for HappyCars have increased by 30%, which is quite unusual.  You want to find out why this is happening and how to keep the increase going. \n",
    "\n",
    "    This question seems too broad and unfocused to adequately be addressed by a survey. A survey that sought to suss out the reasons for this increase would likely be very long (be a high \"cost\" to respondents), which would have the counterproductive effect of using up respondents' goodwill towards the company.\n",
    "    \n",
    "\n",
    "- Assessing the success rate of a new advertising campaign. \n",
    "\n",
    "    This question seems too broad to adequately be addressed by a survey. Furthermore, administering a survey to customers would open the study up to voluntary response bias (you would only get very positive or very negative feedback), as well as inaccurate self-reporting (customers may think the ad campaign was a success, but not buy anything – or they may think it was a failure, but actually buy something after all). If a company wants to assess the success rate of its new ad campaign, it might be easier, faster, and more reliable to simply observe any changes in its sales figures after the campaign. \n",
    "\n",
    "\n",
    "- Measuring the effect of nurse/patient ratio on patient recovery rates in hospital wards.\n",
    "\n",
    "    A survey seems completely unnecessary for this question, as patient recovery rates can likely be observed behaviorally much more easily and reliably than via administering surveys to patients (i.e. looking at the admission and discharge dates, nurse/patient ratio, etc.).\n"
   ]
  },
  {
   "cell_type": "code",
   "execution_count": null,
   "metadata": {},
   "outputs": [],
   "source": []
  }
 ],
 "metadata": {
  "kernelspec": {
   "display_name": "Python 3",
   "language": "python",
   "name": "python3"
  },
  "language_info": {
   "codemirror_mode": {
    "name": "ipython",
    "version": 3
   },
   "file_extension": ".py",
   "mimetype": "text/x-python",
   "name": "python",
   "nbconvert_exporter": "python",
   "pygments_lexer": "ipython3",
   "version": "3.6.5"
  }
 },
 "nbformat": 4,
 "nbformat_minor": 2
}
