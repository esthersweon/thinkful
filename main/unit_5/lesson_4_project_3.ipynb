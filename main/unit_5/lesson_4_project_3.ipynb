{
 "cells": [
  {
   "cell_type": "markdown",
   "metadata": {},
   "source": [
    "# DRILL: When to use surveys\n",
    "State whether a survey would be the best option for answering each of the following questions.\n",
    "\n",
    "- Popularity of various Uber drivers. \n",
    "- A grocery store wants to know how much people like strawberry, chocolate, and vanilla ice cream. \n",
    "- Trojan wants to know whether their condoms are more popular among straight people or gay people. \n",
    "- Recently, rental rates for HappyCars have increased by 30%, which is quite unusual. \n",
    "- You want to find out why this is happening and how to keep the increase going. \n",
    "- Assessing the success rate of a new advertising campaign. \n",
    "- Measuring the effect of nurse/patient ratio on patient recovery rates in hospital wards."
   ]
  },
  {
   "cell_type": "code",
   "execution_count": null,
   "metadata": {},
   "outputs": [],
   "source": []
  }
 ],
 "metadata": {
  "kernelspec": {
   "display_name": "Python 3",
   "language": "python",
   "name": "python3"
  },
  "language_info": {
   "codemirror_mode": {
    "name": "ipython",
    "version": 3
   },
   "file_extension": ".py",
   "mimetype": "text/x-python",
   "name": "python",
   "nbconvert_exporter": "python",
   "pygments_lexer": "ipython3",
   "version": "3.6.5"
  }
 },
 "nbformat": 4,
 "nbformat_minor": 2
}
