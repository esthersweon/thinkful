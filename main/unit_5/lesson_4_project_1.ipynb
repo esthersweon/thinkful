{
 "cells": [
  {
   "cell_type": "markdown",
   "metadata": {},
   "source": [
    "# DRILL: Question Design\n",
    "\n",
    "For each of the following, indicate the best question type to use and why.\n",
    "\n",
    "- __Age__\n",
    "\n",
    "    - Multiple choice (multiple age ranges) - choose one\n",
    "    - Options are mutually exclusive (one cannot be more than 1 age)\n",
    "\n",
    "\n",
    "- __Gender__\n",
    "    \n",
    "    - Multiple choice – choose one\n",
    "    - Options are mutually exclusive (one cannot be more than 1 type of gender)\n",
    "\n",
    "\n",
    "- __Income__\n",
    "\n",
    "    - Multiple choice (multiple income ranges) – choose one\n",
    "    - Options are mutually exclusive (one cannot belong to more than 1 income range)\n",
    "    \n",
    "    \n",
    "- __Opinions about dish soap__\n",
    "\n",
    "    - Write-in / Free response\n",
    "    - Free responses allow for unanticipated and open-ended responses from survey takers\n",
    "    \n",
    "\n",
    "- __Brand of dish soap used__\n",
    "\n",
    "    - Multiple choice – choose many\n",
    "    - Multiple options exist, and they are not mutually exclusive (one can use more than 1 brand of dish soap)\n",
    "\n",
    "\n",
    "- __Preference for dish soap brand (Cleany, Sudsy, DeGreaser, Pinesoft)__\n",
    "\n",
    "    - Ranking or Rating scale\n",
    "    - Both types of questions assess the degree to which a user prefers a particular brand (former forces ranked order, latter focuses more on nuance and relative preferences – e.g. Cleany is better than Sudsy, vs. Cleany is a 5 and Sudsy is a 1)\n",
    "    \n",
    "    \n",
    "- __Positive vs negative feelings about dish soap__\n",
    "\n",
    "    - Yes / No question or Write-in / Free response\n",
    "    - Yes / No question would filter out those who do not like dish soap at all, if your survey is intended for just those who generally like and use dish soap\n",
    "    - Write-in / Free response would be able to suss out the more nuanced details of users' positive and negative feelings"
   ]
  },
  {
   "cell_type": "markdown",
   "metadata": {},
   "source": [
    "# DRILL: Fix the flaw\n",
    "\n",
    "Here is a [link](https://action.donaldjtrump.com/mainstream-media-accountability-survey/) to a Mainstream Media Accountability Survey sent to the public by the Trump Administration in February 2017. \n",
    "\n",
    "__Select 5 questions you believe can be improved.__ \n",
    "\n",
    "__Describe the flaw you see and write an improved version of the question.__ For example, if the original question is:\n",
    "\n",
    "\"Americans are not fully aware just how much waste there is in the federal government.\" \n",
    "- Yes \n",
    "- No \n",
    "- No Opinion\n",
    "\n",
    "The flaw is that this is a loaded question that presupposes the respondent agrees that there is waste in the federal government. To ask this question in a less-biased way, it would need to be converted to 2 questions:\n",
    "\n",
    "\"Select the option that describes your opinion of how the federal government handles money:\"\n",
    "- Wastefully\n",
    "- Efficiently\n",
    "- No Opinion\n",
    "\n",
    "IF they selected \"Wastefully\", then, \"Describe American public opinion about government waste.\"\n",
    "- 0 (Unaware) \n",
    "- 1 \n",
    "- 2 (Somewhat Aware) \n",
    "- 3 \n",
    "- 4 (Fully Aware)\n",
    "\n",
    "For each revised question, your version should attempt to get an unbiased picture of the respondent's opinion on the issue."
   ]
  },
  {
   "cell_type": "markdown",
   "metadata": {},
   "source": [
    "1. \"On which issues does the mainstream media do the worst job of representing President Trump? (Select as many that apply.)\"\n",
    "2. \"Do you feel that the media is too eager to slur conservatives with baseless accusations of racism and sexism?\"\n",
    "3. \"Do you believe the media fails to report on Democrats’ scandals?\"\n",
    "4. \"Do you believe the media is biased when it covers President Trump’s restriction on immigration from countries compromised by radical Islamic terrorism?\""
   ]
  }
 ],
 "metadata": {
  "kernelspec": {
   "display_name": "Python 3",
   "language": "python",
   "name": "python3"
  },
  "language_info": {
   "codemirror_mode": {
    "name": "ipython",
    "version": 3
   },
   "file_extension": ".py",
   "mimetype": "text/x-python",
   "name": "python",
   "nbconvert_exporter": "python",
   "pygments_lexer": "ipython3",
   "version": "3.6.5"
  }
 },
 "nbformat": 4,
 "nbformat_minor": 2
}
