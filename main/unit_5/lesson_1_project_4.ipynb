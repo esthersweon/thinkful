{
 "cells": [
  {
   "cell_type": "markdown",
   "metadata": {},
   "source": [
    "# Project Euler"
   ]
  },
  {
   "cell_type": "markdown",
   "metadata": {},
   "source": [
    "## 1"
   ]
  },
  {
   "cell_type": "code",
   "execution_count": 1,
   "metadata": {},
   "outputs": [
    {
     "data": {
      "text/plain": [
       "233168"
      ]
     },
     "execution_count": 1,
     "metadata": {},
     "output_type": "execute_result"
    }
   ],
   "source": [
    "def sum_multiples_3_or_5(num_max):\n",
    "    total = 0\n",
    "    for num in range(1, num_max):\n",
    "        if num % 3 == 0 or num % 5 == 0:\n",
    "            total += num\n",
    "    return total\n",
    "\n",
    "sum_multiples_3_or_5(1000)"
   ]
  },
  {
   "cell_type": "markdown",
   "metadata": {},
   "source": [
    "## 2"
   ]
  },
  {
   "cell_type": "code",
   "execution_count": 2,
   "metadata": {},
   "outputs": [
    {
     "data": {
      "text/plain": [
       "4613732"
      ]
     },
     "execution_count": 2,
     "metadata": {},
     "output_type": "execute_result"
    }
   ],
   "source": [
    "def sum_even_fibonacci(num_max):\n",
    "    current_max = 0\n",
    "    total = 0\n",
    "    fib_seq = []\n",
    "    while current_max < num_max:\n",
    "        if len(fib_seq) == 0:\n",
    "            new_num = 1\n",
    "        elif len(fib_seq) == 1:\n",
    "            new_num = 2\n",
    "        else:\n",
    "            first_idx = len(fib_seq) - 2\n",
    "            second_idx = len(fib_seq) - 1\n",
    "            new_num = fib_seq[first_idx] + fib_seq[second_idx]\n",
    "\n",
    "        fib_seq.append(new_num)\n",
    "        current_max = new_num\n",
    "        \n",
    "        if new_num % 2 == 0:\n",
    "            total += new_num\n",
    "                \n",
    "    return total\n",
    "\n",
    "sum_even_fibonacci(4000000)"
   ]
  },
  {
   "cell_type": "markdown",
   "metadata": {},
   "source": [
    "## 3"
   ]
  },
  {
   "cell_type": "code",
   "execution_count": 3,
   "metadata": {},
   "outputs": [
    {
     "data": {
      "text/plain": [
       "6857"
      ]
     },
     "execution_count": 3,
     "metadata": {},
     "output_type": "execute_result"
    }
   ],
   "source": [
    "import math\n",
    "def is_prime(num):\n",
    "    for factor in range(2, num):\n",
    "        if num % factor == 0:\n",
    "            return False\n",
    "    return True\n",
    "\n",
    "def filter_out_prime_multiples(initial_arr, current_idx):\n",
    "    factor = initial_arr[current_idx]\n",
    "    old_len = len(initial_arr)\n",
    "\n",
    "    new_arr = list(filter(lambda x: x == factor or x % factor != 0, initial_arr))\n",
    "    new_len = len(new_arr)\n",
    "    \n",
    "    current_idx += 1\n",
    "\n",
    "    if old_len != new_len and current_idx < len(new_arr):\n",
    "        return filter_out_prime_multiples(new_arr, current_idx)\n",
    "    else:\n",
    "        return new_arr\n",
    "    \n",
    "\n",
    "def largest_prime_factor(num):\n",
    "    max_factor = math.floor(math.sqrt(num))\n",
    "    \n",
    "    relevant_factors = [2] + list(range(3, max_factor, 2))\n",
    "    all_factors = filter_out_prime_multiples(relevant_factors, 1)\n",
    "    for factor in reversed(all_factors):\n",
    "        if num % factor == 0:\n",
    "            return factor\n",
    "    return None\n",
    "\n",
    "largest_prime_factor(600851475143)"
   ]
  },
  {
   "cell_type": "markdown",
   "metadata": {},
   "source": [
    "## 4"
   ]
  },
  {
   "cell_type": "code",
   "execution_count": 4,
   "metadata": {},
   "outputs": [
    {
     "data": {
      "text/plain": [
       "906609"
      ]
     },
     "execution_count": 4,
     "metadata": {},
     "output_type": "execute_result"
    }
   ],
   "source": [
    "def largest_3_digit_prod_palindrome():\n",
    "    current_max = 0\n",
    "    for num1 in reversed(range(100, 1000)):\n",
    "        for num2 in reversed(range(100, 1000)):\n",
    "            prod = num1 * num2\n",
    "            if str(prod) == ''.join(reversed(str(prod))) and prod > current_max:\n",
    "                current_max = prod\n",
    "    return current_max\n",
    "\n",
    "largest_3_digit_prod_palindrome()"
   ]
  },
  {
   "cell_type": "markdown",
   "metadata": {},
   "source": [
    "## 5"
   ]
  },
  {
   "cell_type": "code",
   "execution_count": 5,
   "metadata": {},
   "outputs": [
    {
     "data": {
      "text/plain": [
       "232792560"
      ]
     },
     "execution_count": 5,
     "metadata": {},
     "output_type": "execute_result"
    }
   ],
   "source": [
    "def smallest_multiple(min_num, max_num):\n",
    "    smallest_possible = max_num\n",
    "    all_divisible = False\n",
    "    \n",
    "    while not all_divisible:\n",
    "        all_divisible = True\n",
    "        \n",
    "        for factor in range(min_num, max_num + 1):\n",
    "            if smallest_possible % factor != 0:\n",
    "                all_divisible = False\n",
    "                smallest_possible += 1\n",
    "                break\n",
    "            \n",
    "    return smallest_possible\n",
    "\n",
    "smallest_multiple(1, 20)"
   ]
  },
  {
   "cell_type": "markdown",
   "metadata": {},
   "source": [
    "## 6"
   ]
  },
  {
   "cell_type": "code",
   "execution_count": 6,
   "metadata": {},
   "outputs": [
    {
     "data": {
      "text/plain": [
       "25164150"
      ]
     },
     "execution_count": 6,
     "metadata": {},
     "output_type": "execute_result"
    }
   ],
   "source": [
    "from functools import reduce\n",
    "\n",
    "def sum_squares(max_num):\n",
    "    total = 0\n",
    "    for num in range(1, max_num + 1):\n",
    "        total += num ** 2\n",
    "    return total\n",
    "\n",
    "def square_sums(max_num):\n",
    "    the_sum = reduce((lambda x, y: x + y), list(range(1, max_num + 1)))\n",
    "    return the_sum ** 2\n",
    "\n",
    "def diff_between_sum_squares_square_sums(max_num):\n",
    "    return square_sums(max_num) - sum_squares(max_num)\n",
    "    \n",
    "diff_between_sum_squares_square_sums(100)"
   ]
  },
  {
   "cell_type": "markdown",
   "metadata": {},
   "source": [
    "## 7"
   ]
  },
  {
   "cell_type": "code",
   "execution_count": 7,
   "metadata": {},
   "outputs": [
    {
     "data": {
      "text/plain": [
       "104743"
      ]
     },
     "execution_count": 7,
     "metadata": {},
     "output_type": "execute_result"
    }
   ],
   "source": [
    "def nth_prime(num):\n",
    "    primes = []\n",
    "    starting_factor = 2\n",
    "    \n",
    "    while len(primes) < num:\n",
    "        if is_prime(starting_factor):\n",
    "            primes.append(starting_factor)\n",
    "        starting_factor += 1\n",
    "    \n",
    "    return primes[-1]\n",
    "\n",
    "nth_prime(10001)"
   ]
  },
  {
   "cell_type": "markdown",
   "metadata": {},
   "source": [
    "## 8"
   ]
  },
  {
   "cell_type": "code",
   "execution_count": 8,
   "metadata": {},
   "outputs": [
    {
     "data": {
      "text/plain": [
       "23514624000"
      ]
     },
     "execution_count": 8,
     "metadata": {},
     "output_type": "execute_result"
    }
   ],
   "source": [
    "def largest_prod_in_series(series_len, num):\n",
    "    max_prod = 0\n",
    "    max_series = ''\n",
    "    for start_idx in range(0, len(str(num)) - 13):\n",
    "        series = str(num)[start_idx:start_idx + 13]\n",
    "        new_prod = reduce((lambda x, y: x * y), list(map((lambda x: int(x)), list(series))))\n",
    "        if new_prod > max_prod:\n",
    "            max_prod = new_prod\n",
    "            max_series = series\n",
    "    return max_prod\n",
    "\n",
    "largest_prod_in_series(13, 7316717653133062491922511967442657474235534919493496983520312774506326239578318016984801869478851843858615607891129494954595017379583319528532088055111254069874715852386305071569329096329522744304355766896648950445244523161731856403098711121722383113622298934233803081353362766142828064444866452387493035890729629049156044077239071381051585930796086670172427121883998797908792274921901699720888093776657273330010533678812202354218097512545405947522435258490771167055601360483958644670632441572215539753697817977846174064955149290862569321978468622482839722413756570560574902614079729686524145351004748216637048440319989000889524345065854122758866688116427171479924442928230863465674813919123162824586178664583591245665294765456828489128831426076900422421902267105562632111110937054421750694165896040807198403850962455444362981230987879927244284909188845801561660979191338754992005240636899125607176060588611646710940507754100225698315520005593572972571636269561882670428252483600823257530420752963450)"
   ]
  },
  {
   "cell_type": "markdown",
   "metadata": {},
   "source": [
    "## 9"
   ]
  },
  {
   "cell_type": "code",
   "execution_count": 9,
   "metadata": {},
   "outputs": [
    {
     "data": {
      "text/plain": [
       "31875000"
      ]
     },
     "execution_count": 9,
     "metadata": {},
     "output_type": "execute_result"
    }
   ],
   "source": [
    "def pythag_triplet(total):\n",
    "    for a in range(1, total):\n",
    "        for b in range(2, total):\n",
    "            for c in range(3, total):\n",
    "                if (a ** 2) + (b ** 2) == (c ** 2) and a + b + c == total:\n",
    "                    return a * b * c\n",
    "\n",
    "pythag_triplet(1000)"
   ]
  },
  {
   "cell_type": "markdown",
   "metadata": {},
   "source": [
    "## 10"
   ]
  },
  {
   "cell_type": "code",
   "execution_count": null,
   "metadata": {},
   "outputs": [],
   "source": [
    "def sum_primes(max_num):\n",
    "    total = 0\n",
    "    all_factors = [2] + list(range(3, max_num, 2))\n",
    "    for factor in all_factors:\n",
    "        if is_prime(factor):\n",
    "            total += factor\n",
    "    return total\n",
    "\n",
    "sum_primes(2000000)"
   ]
  }
 ],
 "metadata": {
  "kernelspec": {
   "display_name": "Python 3",
   "language": "python",
   "name": "python3"
  },
  "language_info": {
   "codemirror_mode": {
    "name": "ipython",
    "version": 3
   },
   "file_extension": ".py",
   "mimetype": "text/x-python",
   "name": "python",
   "nbconvert_exporter": "python",
   "pygments_lexer": "ipython3",
   "version": "3.6.5"
  }
 },
 "nbformat": 4,
 "nbformat_minor": 2
}
