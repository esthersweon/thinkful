{
 "cells": [
  {
   "cell_type": "markdown",
   "metadata": {},
   "source": [
    "# Sort in 60 Minutes\n",
    "\n",
    "Implement selection sort in Python."
   ]
  },
  {
   "cell_type": "code",
   "execution_count": 1,
   "metadata": {},
   "outputs": [],
   "source": [
    "import time\n",
    "import random\n",
    "\n",
    "random.seed(a=100)\n",
    "\n",
    "short_list = list(random.sample(range(1000000), 10))\n",
    "long_list = list(random.sample(range(1000000), 10000))"
   ]
  },
  {
   "cell_type": "code",
   "execution_count": 48,
   "metadata": {},
   "outputs": [
    {
     "name": "stdout",
     "output_type": "stream",
     "text": [
      "original list: [4, 2, 1, 9, 5, 0, 7]\n",
      "switching 0 & 4\n",
      "new list: [0, 2, 1, 9, 5, 4, 7] \n",
      "\n",
      "original list: [0, 2, 1, 9, 5, 4, 7]\n",
      "switching 1 & 2\n",
      "new list: [0, 1, 2, 9, 5, 4, 7] \n",
      "\n",
      "original list: [0, 1, 2, 9, 5, 4, 7]\n",
      "switching 4 & 9\n",
      "new list: [0, 1, 2, 4, 5, 9, 7] \n",
      "\n",
      "original list: [0, 1, 2, 4, 5, 9, 7]\n",
      "switching 7 & 9\n",
      "new list: [0, 1, 2, 4, 5, 7, 9] \n",
      "\n"
     ]
    },
    {
     "data": {
      "text/plain": [
       "[0, 1, 2, 4, 5, 7, 9]"
      ]
     },
     "execution_count": 48,
     "metadata": {},
     "output_type": "execute_result"
    }
   ],
   "source": [
    "def selection_sort(my_list):\n",
    "    copied_list = my_list.copy()\n",
    "    for marker_idx in range(0, len(my_list)):\n",
    "        marker_val = my_list[marker_idx]\n",
    "        current_min_idx = marker_idx\n",
    "        \n",
    "        for idx in range(marker_idx + 1, len(my_list)):\n",
    "            if my_list[idx] < my_list[current_min_idx]:\n",
    "                current_min_idx = idx\n",
    "                \n",
    "        if current_min_idx != marker_idx:\n",
    "            print('original list:', my_list)\n",
    "            print('switching', my_list[current_min_idx], '&', my_list[marker_idx])\n",
    "            my_list[marker_idx] = my_list[current_min_idx]\n",
    "            my_list[current_min_idx] = marker_val\n",
    "            print('new list:', my_list, '\\n')\n",
    "            \n",
    "    return my_list\n",
    "\n",
    "selection_sort([4, 2, 1, 9, 5, 0, 7])"
   ]
  },
  {
   "cell_type": "markdown",
   "metadata": {},
   "source": [
    "## Evaluating Selection Sort\n",
    "\n",
    "How does selection sort compare in sorting our short and long lists? Can you figure out why it runs faster or slower than our other sorting algorithms?"
   ]
  },
  {
   "cell_type": "code",
   "execution_count": 49,
   "metadata": {},
   "outputs": [
    {
     "name": "stdout",
     "output_type": "stream",
     "text": [
      "original list: [152745, 481850, 477025, 997948, 808225, 183236, 739784, 412125, 767514, 366725]\n",
      "switching 183236 & 481850\n",
      "new list: [152745, 183236, 477025, 997948, 808225, 481850, 739784, 412125, 767514, 366725] \n",
      "\n",
      "original list: [152745, 183236, 477025, 997948, 808225, 481850, 739784, 412125, 767514, 366725]\n",
      "switching 366725 & 477025\n",
      "new list: [152745, 183236, 366725, 997948, 808225, 481850, 739784, 412125, 767514, 477025] \n",
      "\n",
      "original list: [152745, 183236, 366725, 997948, 808225, 481850, 739784, 412125, 767514, 477025]\n",
      "switching 412125 & 997948\n",
      "new list: [152745, 183236, 366725, 412125, 808225, 481850, 739784, 997948, 767514, 477025] \n",
      "\n",
      "original list: [152745, 183236, 366725, 412125, 808225, 481850, 739784, 997948, 767514, 477025]\n",
      "switching 477025 & 808225\n",
      "new list: [152745, 183236, 366725, 412125, 477025, 481850, 739784, 997948, 767514, 808225] \n",
      "\n",
      "original list: [152745, 183236, 366725, 412125, 477025, 481850, 739784, 997948, 767514, 808225]\n",
      "switching 767514 & 997948\n",
      "new list: [152745, 183236, 366725, 412125, 477025, 481850, 739784, 767514, 997948, 808225] \n",
      "\n",
      "original list: [152745, 183236, 366725, 412125, 477025, 481850, 739784, 767514, 997948, 808225]\n",
      "switching 808225 & 997948\n",
      "new list: [152745, 183236, 366725, 412125, 477025, 481850, 739784, 767514, 808225, 997948] \n",
      "\n",
      "--- 0.002215862274169922 seconds ---\n"
     ]
    }
   ],
   "source": [
    "start_time = time.time()\n",
    "selection_sort(short_list)\n",
    "print(\"--- %s seconds ---\" % (time.time() - start_time))"
   ]
  },
  {
   "cell_type": "code",
   "execution_count": 50,
   "metadata": {},
   "outputs": [
    {
     "name": "stderr",
     "output_type": "stream",
     "text": [
      "IOPub data rate exceeded.\n",
      "The notebook server will temporarily stop sending output\n",
      "to the client in order to avoid crashing it.\n",
      "To change this limit, set the config variable\n",
      "`--NotebookApp.iopub_data_rate_limit`.\n",
      "\n",
      "Current values:\n",
      "NotebookApp.iopub_data_rate_limit=1000000.0 (bytes/sec)\n",
      "NotebookApp.rate_limit_window=3.0 (secs)\n",
      "\n"
     ]
    }
   ],
   "source": [
    "start_time = time.time()\n",
    "selection_sort(long_list)\n",
    "print(\"--- %s seconds ---\" % (time.time() - start_time))"
   ]
  },
  {
   "cell_type": "markdown",
   "metadata": {},
   "source": [
    "This algorithm runs slower than our merge sort algorithm because it has a runtime of $\\mathcal{O}(n^2)$ (in contrast with merge sort's $\\mathcal{O}(n\\log{}n)$. It runs at a similar runtime to our insertion sort algorithm, because insertion sort also has a runtime of $\\mathcal{O}(n^2)$."
   ]
  },
  {
   "cell_type": "code",
   "execution_count": null,
   "metadata": {},
   "outputs": [],
   "source": []
  }
 ],
 "metadata": {
  "kernelspec": {
   "display_name": "Python 3",
   "language": "python",
   "name": "python3"
  },
  "language_info": {
   "codemirror_mode": {
    "name": "ipython",
    "version": 3
   },
   "file_extension": ".py",
   "mimetype": "text/x-python",
   "name": "python",
   "nbconvert_exporter": "python",
   "pygments_lexer": "ipython3",
   "version": "3.6.5"
  }
 },
 "nbformat": 4,
 "nbformat_minor": 2
}
