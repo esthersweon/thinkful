{
 "cells": [
  {
   "cell_type": "markdown",
   "metadata": {},
   "source": [
    "# Trees\n",
    "\n",
    "Implement a binary tree, which is filled with 15 pieces of random data. "
   ]
  },
  {
   "cell_type": "code",
   "execution_count": 125,
   "metadata": {},
   "outputs": [
    {
     "name": "stdout",
     "output_type": "stream",
     "text": [
      "LEVEL: 0\n",
      "   node vals: [1]\n",
      "LEVEL: 1\n",
      "   node vals: [5, 3]\n",
      "LEVEL: 2\n",
      "   node vals: [6, 7, 1, 7]\n"
     ]
    }
   ],
   "source": [
    "import math\n",
    "\n",
    "class Node:\n",
    "    def __init__(self, val):\n",
    "        self.left = None\n",
    "        self.right = None\n",
    "        self.val = val\n",
    "\n",
    "class BinaryTree:\n",
    "    def __init__(self, vals):\n",
    "        self.vals = vals\n",
    "        self.root = None\n",
    "        self.num_levels = math.ceil(math.log(len(self.vals) + 1, 2))\n",
    "        \n",
    "        for nth_level in range(0, self.num_levels):\n",
    "            start_idx = 2 ** nth_level - 1\n",
    "            end_idx = 2 ** (nth_level + 1) - 1\n",
    "            self.add_nodes_at_level(nth_level, self.vals[start_idx:end_idx])\n",
    "    \n",
    "    def add_nodes_at_level(self, nth_level, vals):\n",
    "        if nth_level == 0:\n",
    "            self.root = Node(vals[0])\n",
    "        elif nth_level == 1:\n",
    "            self.root.left = Node(vals[0])\n",
    "            self.root.right = Node(vals[1])\n",
    "        elif nth_level == 2:\n",
    "            self.root.left.left = Node(vals[0])\n",
    "            self.root.left.right = Node(vals[1])\n",
    "            self.root.right.left = Node(vals[2])\n",
    "            self.root.right.right = Node(vals[3])\n",
    "        elif nth_level == 3:\n",
    "            # TODO: to get all vals indices – for idx in range(0, 2**nth_level):\n",
    "            # TODO: find a way to store chain of attributes as predicate (nested loops)\n",
    "            \n",
    "            # for a in ['left', 'right']:\n",
    "            #    for b in ['left', 'right']:\n",
    "            #       for c in ['left', 'right']:\n",
    "            #          if len(vals) > 0:\n",
    "            #             self.root[a][b][c] = Node(vals[0])\n",
    "            #             vals.pop(0)\n",
    "            \n",
    "            self.root.left.left.left = Node(vals[0])\n",
    "            self.root.left.left.right = Node(vals[1])\n",
    "            self.root.left.right.left = Node(vals[2])\n",
    "            self.root.left.right.right = Node(vals[3])\n",
    "            self.root.right.left.left = Node(vals[4])\n",
    "            self.root.right.left.right = Node(vals[5])\n",
    "            self.root.right.right.left = Node(vals[6])\n",
    "            self.root.right.right.right = Node(vals[7])\n",
    "    \n",
    "    def print(self):\n",
    "        for nth_level in range(0, self.num_levels):\n",
    "            start_idx = 2 ** nth_level - 1\n",
    "            end_idx = 2 ** (nth_level + 1) - 1\n",
    "            self.print_nodes_at_level(nth_level, self.vals[start_idx:end_idx])\n",
    "                \n",
    "    def print_nodes_at_level(self, nth_level, vals):\n",
    "        print('LEVEL:', nth_level)\n",
    "        print('   node vals:', vals)\n",
    "\n",
    "my_binary_tree = BinaryTree([1, 5, 3, 6, 7, 1, 7])\n",
    "my_binary_tree.print()"
   ]
  },
  {
   "cell_type": "markdown",
   "metadata": {},
   "source": [
    "## Breadth-First Traversal\n",
    "\n",
    "Write a program to traverse the tree using a breadth first traversal. If you want additional practice, try other forms of traversal."
   ]
  }
 ],
 "metadata": {
  "kernelspec": {
   "display_name": "Python 3",
   "language": "python",
   "name": "python3"
  },
  "language_info": {
   "codemirror_mode": {
    "name": "ipython",
    "version": 3
   },
   "file_extension": ".py",
   "mimetype": "text/x-python",
   "name": "python",
   "nbconvert_exporter": "python",
   "pygments_lexer": "ipython3",
   "version": "3.6.5"
  }
 },
 "nbformat": 4,
 "nbformat_minor": 2
}
